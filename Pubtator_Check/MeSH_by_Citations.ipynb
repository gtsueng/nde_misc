{
 "cells": [
  {
   "cell_type": "markdown",
   "id": "f41ef82d",
   "metadata": {},
   "source": [
    "## Developing a training dataset for Topic Category classifications\n",
    "\n",
    "MeSH to EDAM Topic mappings can be found here: https://bioportal.bioontology.org/mappings/EDAM?target=https%3A%2F%2Fdata.bioontology.org%2Fontologies%2FMESH\n",
    "\n",
    "Unfortunately, there does not appear to be a clean way to pull this data programmatically, so we'll just manually copy/paste it from the website into a tab delimited file and go from there.\n",
    "\n",
    "To develop the training dataset, \n",
    "1. Pull all MeSH terms associated with a dataset, via a dataset's citation PMID\n",
    "2. Map MeSH terms to EDAM Topics\n",
    "\n",
    "If the training dataset is not comprehensive enough, consider:\n",
    "1. Pull the MeSH mappings of EDAM Topics\n",
    "2. For each mapping, pull 500 titles and abstracts from PubMed and use that as the traininig data"
   ]
  },
  {
   "cell_type": "code",
   "execution_count": 1,
   "id": "038bdb65",
   "metadata": {},
   "outputs": [
    {
     "name": "stderr",
     "output_type": "stream",
     "text": [
      "* Owlready2 * Warning: optimized Cython parser module 'owlready2_optimized' is not available, defaulting to slower Python implementation\n",
      "\n",
      "Warning: SQLite3 version 3.40.0 and 3.41.2 have huge performance regressions; please install version 3.41.1 or 3.42!\n",
      "\n",
      "C:\\Users\\gtsueng\\Anaconda3\\envs\\nde\\lib\\site-packages\\pydantic\\_internal\\_config.py:317: UserWarning: Valid config keys have changed in V2:\n",
      "* 'underscore_attrs_are_private' has been removed\n",
      "  warnings.warn(message, UserWarning)\n"
     ]
    }
   ],
   "source": [
    "from Bio import Entrez\n",
    "from Bio import Medline\n",
    "import requests\n",
    "import pandas as pd\n",
    "import text2term\n"
   ]
  },
  {
   "cell_type": "code",
   "execution_count": 5,
   "id": "c9d41c64",
   "metadata": {},
   "outputs": [],
   "source": [
    "Entrez.email = \"your email here\""
   ]
  },
  {
   "cell_type": "code",
   "execution_count": 2,
   "id": "8cbfe587",
   "metadata": {},
   "outputs": [
    {
     "name": "stdout",
     "output_type": "stream",
     "text": [
      "                   _id                                        description  \\\n",
      "0  OMICSDI_PRJNA775608  Alveolar epithelial glycocalyx degradation med...   \n",
      "1   OMICSDI_PRJNA74531  Streptococcus agalactiae STIR-CD-17 Genome seq...   \n",
      "\n",
      "                                                name      pmid  \n",
      "0  Alveolar epithelial glycocalyx degradation med...  34874923  \n",
      "1                Streptococcus agalactiae STIR-CD-17  23105075  \n"
     ]
    },
    {
     "name": "stderr",
     "output_type": "stream",
     "text": [
      "C:\\Users\\gtsueng\\AppData\\Local\\Temp\\ipykernel_17584\\1639919178.py:2: DtypeWarning: Columns (4) have mixed types. Specify dtype option on import or set low_memory=False.\n",
      "  citationdf = pd.read_csv(citation_file, delimiter='\\t',header=0,index_col=0)\n"
     ]
    }
   ],
   "source": [
    "citation_file = 'data/citation_df_clean.tsv'\n",
    "citationdf = pd.read_csv(citation_file, delimiter='\\t',header=0,index_col=0)\n",
    "print(citationdf.head(n=2))"
   ]
  },
  {
   "cell_type": "code",
   "execution_count": 3,
   "id": "5b8d65a3",
   "metadata": {},
   "outputs": [
    {
     "name": "stdout",
     "output_type": "stream",
     "text": [
      "34874923\n"
     ]
    }
   ],
   "source": [
    "test_pmid = citationdf.iloc[0]['pmid']\n",
    "print(test_pmid)"
   ]
  },
  {
   "cell_type": "code",
   "execution_count": 6,
   "id": "f354c3a4",
   "metadata": {},
   "outputs": [],
   "source": [
    "handle = Entrez.efetch(db=\"pubmed\", id=test_pmid, rettype=\"medline\", retmode=\"text\")\n",
    "records = Medline.parse(handle) ##parses pubmed entry for that ID and records the author\n",
    "for record in records:\n",
    "    MESHSet = record.get(\"MH\",\"?\") #writes the record to a list called MH\n",
    "    "
   ]
  },
  {
   "cell_type": "code",
   "execution_count": 7,
   "id": "fcf44bef",
   "metadata": {},
   "outputs": [
    {
     "name": "stdout",
     "output_type": "stream",
     "text": [
      "2023-10-12 11:11:11 INFO [text2term.term_collector]: Loading ontology https://data.bioontology.org/ontologies/EDAMT/download?apikey=8b5b7825-538d-40e0-9e9e-5ab9274a9aeb&download_format=rdf...\n",
      "2023-10-12 11:11:12 INFO [text2term.term_collector]: ...done (ontology loading time: 0.83s)\n",
      "2023-10-12 11:11:12 INFO [text2term.term_collector]: Collecting ontology term details...\n",
      "2023-10-12 11:11:13 INFO [text2term.term_collector]: ...done: collected 272 ontology terms (collection time: 1.22s)\n"
     ]
    },
    {
     "data": {
      "text/plain": [
       "<text2term.onto_cache.OntologyCache at 0x19704c33fd0>"
      ]
     },
     "execution_count": 7,
     "metadata": {},
     "output_type": "execute_result"
    }
   ],
   "source": [
    "text2term.cache_ontology(\"https://data.bioontology.org/ontologies/EDAMT/download?apikey=8b5b7825-538d-40e0-9e9e-5ab9274a9aeb&download_format=rdf\", \"EDAMT\")"
   ]
  },
  {
   "cell_type": "code",
   "execution_count": 8,
   "id": "b246eca0",
   "metadata": {},
   "outputs": [
    {
     "name": "stdout",
     "output_type": "stream",
     "text": [
      "2023-10-12 11:11:33 INFO [text2term.tfidf_mapper]: Mapping 2 source terms...\n",
      "2023-10-12 11:11:33 INFO [text2term.tfidf_mapper]: ...against 226 ontology terms (363 labels/synonyms)\n",
      "2023-10-12 11:11:44 INFO [text2term.tfidf_mapper]: ...done (mapping time: 11.45s seconds)\n",
      "                               Source Term ID       Source Term  \\\n",
      "0  http://ccb.hms.harvard.edu/t2t/R4Kdt82v5Ef  acute bronchitis   \n",
      "\n",
      "        Mapped Term Label Mapped Term CURIE  \\\n",
      "0  Critical care medicine   EDAM.TOPIC:3403   \n",
      "\n",
      "                      Mapped Term IRI  Mapping Score  Tags  \n",
      "0  http://edamontology.org/topic_3403          0.462  None  \n"
     ]
    }
   ],
   "source": [
    "df1 = text2term.map_terms([\"asthma\", \"acute bronchitis\"], \"EDAMT\", use_cache=True)\n",
    "print(df1)"
   ]
  },
  {
   "cell_type": "code",
   "execution_count": 9,
   "id": "54bfbd9d",
   "metadata": {},
   "outputs": [
    {
     "name": "stdout",
     "output_type": "stream",
     "text": [
      "2023-10-12 11:15:30 INFO [text2term.tfidf_mapper]: Mapping 17 source terms...\n",
      "2023-10-12 11:15:30 INFO [text2term.tfidf_mapper]: ...against 226 ontology terms (363 labels/synonyms)\n",
      "2023-10-12 11:15:30 INFO [text2term.tfidf_mapper]: ...done (mapping time: 0.06s seconds)\n",
      "                                Source Term ID  \\\n",
      "0   http://ccb.hms.harvard.edu/t2t/R84GM5W24Ap   \n",
      "1   http://ccb.hms.harvard.edu/t2t/R84GM5W24Ap   \n",
      "2   http://ccb.hms.harvard.edu/t2t/R84GM5W24Ap   \n",
      "3   http://ccb.hms.harvard.edu/t2t/R9gTWbnWbyz   \n",
      "4   http://ccb.hms.harvard.edu/t2t/RF6HnvUi6Wa   \n",
      "5   http://ccb.hms.harvard.edu/t2t/R5HU4YdZkbe   \n",
      "6   http://ccb.hms.harvard.edu/t2t/R5HU4YdZkbe   \n",
      "7   http://ccb.hms.harvard.edu/t2t/R5HU4YdZkbe   \n",
      "8   http://ccb.hms.harvard.edu/t2t/R7dSudQvDDQ   \n",
      "9   http://ccb.hms.harvard.edu/t2t/R7dSudQvDDQ   \n",
      "10  http://ccb.hms.harvard.edu/t2t/R7dSudQvDDQ   \n",
      "11  http://ccb.hms.harvard.edu/t2t/RAqRerDDpmi   \n",
      "12  http://ccb.hms.harvard.edu/t2t/RAqRerDDpmi   \n",
      "13  http://ccb.hms.harvard.edu/t2t/RAqRerDDpmi   \n",
      "14  http://ccb.hms.harvard.edu/t2t/RBGjhzrLjEE   \n",
      "15  http://ccb.hms.harvard.edu/t2t/RBXSoi5pfqp   \n",
      "16  http://ccb.hms.harvard.edu/t2t/RBXSoi5pfqp   \n",
      "17  http://ccb.hms.harvard.edu/t2t/RBXSoi5pfqp   \n",
      "18  http://ccb.hms.harvard.edu/t2t/RJbDtgvVKwy   \n",
      "19  http://ccb.hms.harvard.edu/t2t/R5JQpbW32uL   \n",
      "20  http://ccb.hms.harvard.edu/t2t/RBkAthsZTcv   \n",
      "21  http://ccb.hms.harvard.edu/t2t/R5rKVDceU6x   \n",
      "22  http://ccb.hms.harvard.edu/t2t/RJGS43SkEAV   \n",
      "23  http://ccb.hms.harvard.edu/t2t/RgrfDMJNk7x   \n",
      "\n",
      "                                          Source Term  \\\n",
      "0      Alveolar Epithelial Cells,metabolism,pathology   \n",
      "1      Alveolar Epithelial Cells,metabolism,pathology   \n",
      "2      Alveolar Epithelial Cells,metabolism,pathology   \n",
      "3                                             Animals   \n",
      "4                                 Duration of Therapy   \n",
      "5                              Glycocalyx,*metabolism   \n",
      "6                              Glycocalyx,*metabolism   \n",
      "7                              Glycocalyx,*metabolism   \n",
      "8             *Glycosaminoglycans,analysis,metabolism   \n",
      "9             *Glycosaminoglycans,analysis,metabolism   \n",
      "10            *Glycosaminoglycans,analysis,metabolism   \n",
      "11    Lung Diseases, Interstitial,etiology,metabolism   \n",
      "12    Lung Diseases, Interstitial,etiology,metabolism   \n",
      "13    Lung Diseases, Interstitial,etiology,metabolism   \n",
      "14                                               Mice   \n",
      "15                          Predictive Value of Tests   \n",
      "16                          Predictive Value of Tests   \n",
      "17                          Predictive Value of Tests   \n",
      "18                                          Prognosis   \n",
      "19  *Pulmonary Atelectasis,diagnosis,etiology,prev...   \n",
      "20                         Reproducibility of Results   \n",
      "21    Respiration, Artificial,adverse effects,methods   \n",
      "22  *Respiratory Distress Syndrome,diagnosis,etiol...   \n",
      "23                                        Sex Factors   \n",
      "\n",
      "                             Mapped Term Label Mapped Term CURIE  \\\n",
      "0                                    Pathology   EDAM.TOPIC:0634   \n",
      "1                                 Cell biology   EDAM.TOPIC:2229   \n",
      "2                           Metabolic pathways   EDAM.TOPIC:0753   \n",
      "3                    Laboratory animal science   EDAM.TOPIC:3386   \n",
      "4                 Data curation and annotation   EDAM.TOPIC:0219   \n",
      "5                                  Metabolites   EDAM.TOPIC:0079   \n",
      "6                 Endocrinology and metabolism   EDAM.TOPIC:3407   \n",
      "7                                 Metabolomics   EDAM.TOPIC:3172   \n",
      "8                                Data analysis   EDAM.TOPIC:3365   \n",
      "9                                          DNA   EDAM.TOPIC:0654   \n",
      "10                                    Proteins   EDAM.TOPIC:0078   \n",
      "11                                   Pathology   EDAM.TOPIC:0634   \n",
      "12                               Rare diseases   EDAM.TOPIC:3325   \n",
      "13                Endocrinology and metabolism   EDAM.TOPIC:3407   \n",
      "14                                Microbiology   EDAM.TOPIC:3301   \n",
      "15                        Structure prediction   EDAM.TOPIC:0082   \n",
      "16                Protein structure prediction   EDAM.TOPIC:0172   \n",
      "17           Nucleic acid structure prediction   EDAM.TOPIC:0173   \n",
      "18                                    Proteins   EDAM.TOPIC:0078   \n",
      "19                        Respiratory medicine   EDAM.TOPIC:3322   \n",
      "20                         Reproductive health   EDAM.TOPIC:3420   \n",
      "21                        Respiratory medicine   EDAM.TOPIC:3322   \n",
      "22                        Respiratory medicine   EDAM.TOPIC:3322   \n",
      "23  Transcription factors and regulatory sites   EDAM.TOPIC:0749   \n",
      "\n",
      "                       Mapped Term IRI  Mapping Score  Tags  \n",
      "0   http://edamontology.org/topic_0634          0.447  None  \n",
      "1   http://edamontology.org/topic_2229          0.314  None  \n",
      "2   http://edamontology.org/topic_0753          0.301  None  \n",
      "3   http://edamontology.org/topic_3386          0.433  None  \n",
      "4   http://edamontology.org/topic_0219          0.313  None  \n",
      "5   http://edamontology.org/topic_0079          0.380  None  \n",
      "6   http://edamontology.org/topic_3407          0.372  None  \n",
      "7   http://edamontology.org/topic_3172          0.325  None  \n",
      "8   http://edamontology.org/topic_3365          0.383  None  \n",
      "9   http://edamontology.org/topic_0654          0.364  None  \n",
      "10  http://edamontology.org/topic_0078          0.360  None  \n",
      "11  http://edamontology.org/topic_0634          0.488  None  \n",
      "12  http://edamontology.org/topic_3325          0.377  None  \n",
      "13  http://edamontology.org/topic_3407          0.300  None  \n",
      "14  http://edamontology.org/topic_3301          0.300  None  \n",
      "15  http://edamontology.org/topic_0082          0.374  None  \n",
      "16  http://edamontology.org/topic_0172          0.345  None  \n",
      "17  http://edamontology.org/topic_0173          0.329  None  \n",
      "18  http://edamontology.org/topic_0078          0.305  None  \n",
      "19  http://edamontology.org/topic_3322          0.402  None  \n",
      "20  http://edamontology.org/topic_3420          0.380  None  \n",
      "21  http://edamontology.org/topic_3322          0.324  None  \n",
      "22  http://edamontology.org/topic_3322          0.478  None  \n",
      "23  http://edamontology.org/topic_0749          0.441  None  \n"
     ]
    }
   ],
   "source": [
    "meshtest = [x.replace('/',',') for x in MESHSet]\n",
    "dftest = text2term.map_terms(meshtest,\"EDAMT\", use_cache=True)\n",
    "print(dftest)"
   ]
  },
  {
   "cell_type": "code",
   "execution_count": 12,
   "id": "89d4d002",
   "metadata": {},
   "outputs": [
    {
     "name": "stdout",
     "output_type": "stream",
     "text": [
      "                               Source Term ID  \\\n",
      "0  http://ccb.hms.harvard.edu/t2t/R84GM5W24Ap   \n",
      "\n",
      "                                      Source Term Mapped Term Label  \\\n",
      "0  Alveolar Epithelial Cells,metabolism,pathology         Pathology   \n",
      "\n",
      "  Mapped Term CURIE                     Mapped Term IRI  Mapping Score  Tags  \n",
      "0   EDAM.TOPIC:0634  http://edamontology.org/topic_0634          0.447  None  \n"
     ]
    }
   ],
   "source": [
    "print(dftest.head(n=1))"
   ]
  },
  {
   "cell_type": "code",
   "execution_count": null,
   "id": "f6a04feb",
   "metadata": {},
   "outputs": [],
   "source": [
    "def retrieve_mesh_by_pmids(PMIDList):\n",
    "    print(datetime.datetime.now().time())\n",
    "    meshdf = pd.DataFrame(columns=['pmid','Source Term ID','Source Term','Mapped Term Label',\n",
    "                                   'Mapped Term CURIE','Mapped Term IRI','Mapping Score','Tags']\n",
    "    PMIDFails = []\n",
    "    for PMID in PMIDList: #iterates through the PMID list\n",
    "        try:\n",
    "            #print('fetching authors for: '+str(PMID))\n",
    "            handle = Entrez.efetch(db=\"pubmed\", id=PMID, rettype=\"medline\", retmode=\"text\")\n",
    "            records = Medline.parse(handle) ##parses pubmed entry for that ID and records the author\n",
    "            for record in records:\n",
    "                meshset = record.get(\"MH\",\"?\") \n",
    "                tempmesh = [x.replace('/',',') for x in meshSet]\n",
    "                tempdf = text2term.map_terms(tempmesh,\"EDAMT\", use_cache=True)\n",
    "                tempdf['pmid'] = PMID\n",
    "                \n",
    "        except:\n",
    "            PMIDFails.append(PMID)\n",
    "            print(\"pmid not found: \",PMID)\n",
    "\n",
    "    print(datetime.datetime.now().time())\n",
    "    return(PublicationDF,author_df,PMIDFails)"
   ]
  }
 ],
 "metadata": {
  "kernelspec": {
   "display_name": "Python 3 (ipykernel)",
   "language": "python",
   "name": "python3"
  },
  "language_info": {
   "codemirror_mode": {
    "name": "ipython",
    "version": 3
   },
   "file_extension": ".py",
   "mimetype": "text/x-python",
   "name": "python",
   "nbconvert_exporter": "python",
   "pygments_lexer": "ipython3",
   "version": "3.10.10"
  }
 },
 "nbformat": 4,
 "nbformat_minor": 5
}
