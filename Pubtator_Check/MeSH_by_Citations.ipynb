{
 "cells": [
  {
   "cell_type": "markdown",
   "id": "f41ef82d",
   "metadata": {},
   "source": [
    "## Developing a training dataset for Topic Category classifications\n",
    "\n",
    "MeSH to EDAM Topic mappings can be found here: https://bioportal.bioontology.org/mappings/EDAM?target=https%3A%2F%2Fdata.bioontology.org%2Fontologies%2FMESH\n",
    "\n",
    "Unfortunately, there does not appear to be a clean way to pull this data programmatically, so we'll just manually copy/paste it from the website into a tab delimited file and go from there.\n",
    "\n",
    "To develop the training dataset, \n",
    "1. Pull all MeSH terms associated with a dataset, via a dataset's citation PMID\n",
    "2. Map MeSH terms to EDAM Topics\n",
    "\n",
    "If the training dataset is not comprehensive enough, consider:\n",
    "1. Pull the MeSH mappings of EDAM Topics\n",
    "2. For each mapping, pull 500 titles and abstracts from PubMed and use that as the traininig data"
   ]
  },
  {
   "cell_type": "code",
   "execution_count": 43,
   "id": "038bdb65",
   "metadata": {},
   "outputs": [],
   "source": [
    "from Bio import Entrez\n",
    "from Bio import Medline\n",
    "import requests\n",
    "import pandas as pd\n",
    "import text2term\n",
    "from datetime import datetime\n",
    "import time\n",
    "import os"
   ]
  },
  {
   "cell_type": "code",
   "execution_count": 11,
   "id": "c9d41c64",
   "metadata": {},
   "outputs": [],
   "source": [
    "Entrez.email = \"your email here\""
   ]
  },
  {
   "cell_type": "code",
   "execution_count": 2,
   "id": "8cbfe587",
   "metadata": {},
   "outputs": [
    {
     "name": "stdout",
     "output_type": "stream",
     "text": [
      "                   _id                                        description  \\\n",
      "0  OMICSDI_PRJNA775608  Alveolar epithelial glycocalyx degradation med...   \n",
      "1   OMICSDI_PRJNA74531  Streptococcus agalactiae STIR-CD-17 Genome seq...   \n",
      "\n",
      "                                                name      pmid  \n",
      "0  Alveolar epithelial glycocalyx degradation med...  34874923  \n",
      "1                Streptococcus agalactiae STIR-CD-17  23105075  \n"
     ]
    },
    {
     "name": "stderr",
     "output_type": "stream",
     "text": [
      "C:\\Users\\gtsueng\\AppData\\Local\\Temp\\ipykernel_17584\\1639919178.py:2: DtypeWarning: Columns (4) have mixed types. Specify dtype option on import or set low_memory=False.\n",
      "  citationdf = pd.read_csv(citation_file, delimiter='\\t',header=0,index_col=0)\n"
     ]
    }
   ],
   "source": [
    "citation_file = 'data/citation_df_clean.tsv'\n",
    "citationdf = pd.read_csv(citation_file, delimiter='\\t',header=0,index_col=0)\n",
    "print(citationdf.head(n=2))"
   ]
  },
  {
   "cell_type": "code",
   "execution_count": 8,
   "id": "b0519fee",
   "metadata": {},
   "outputs": [],
   "source": [
    "pmidfile = pd.read_csv('data/pmids.csv', delimiter='\\t',header=0)\n",
    "pmidlist = pmidfile['Abstract'].tolist()"
   ]
  },
  {
   "cell_type": "code",
   "execution_count": 4,
   "id": "5b8d65a3",
   "metadata": {},
   "outputs": [
    {
     "name": "stdout",
     "output_type": "stream",
     "text": [
      "21406103\n"
     ]
    }
   ],
   "source": [
    "#test_pmid = citationdf.iloc[0]['pmid']\n",
    "test_pmid = \"21406103\"\n",
    "print(test_pmid)"
   ]
  },
  {
   "cell_type": "code",
   "execution_count": 5,
   "id": "f354c3a4",
   "metadata": {},
   "outputs": [
    {
     "name": "stdout",
     "output_type": "stream",
     "text": [
      "['Arabidopsis/*genetics/metabolism', 'Arabidopsis Proteins/*genetics', 'Gene Expression Profiling', 'Gene Expression Regulation, Plant', 'Gene Regulatory Networks', 'Hemoglobins/*genetics', 'Nitric Oxide/metabolism', 'Oligonucleotide Array Sequence Analysis', 'Oxidative Stress', 'Oxygen/metabolism', 'Plants, Genetically Modified/genetics/metabolism', 'Promoter Regions, Genetic', 'RNA, Plant/genetics', 'Seeds/genetics/*metabolism', 'Stress, Physiological']\n"
     ]
    }
   ],
   "source": [
    "handle = Entrez.efetch(db=\"pubmed\", id=test_pmid, rettype=\"medline\", retmode=\"text\")\n",
    "records = Medline.parse(handle) ##parses pubmed entry for that ID and records the author\n",
    "for record in records:\n",
    "    MESHSet = record.get(\"MH\",\"?\") #writes the record to a list called MH\n",
    "    print(MESHSet)\n",
    "    "
   ]
  },
  {
   "cell_type": "code",
   "execution_count": 17,
   "id": "ad4bc912",
   "metadata": {},
   "outputs": [
    {
     "ename": "NameError",
     "evalue": "name 'meshSet' is not defined",
     "output_type": "error",
     "traceback": [
      "\u001b[1;31m---------------------------------------------------------------------------\u001b[0m",
      "\u001b[1;31mNameError\u001b[0m                                 Traceback (most recent call last)",
      "Cell \u001b[1;32mIn[17], line 9\u001b[0m\n\u001b[0;32m      7\u001b[0m \u001b[38;5;28;01mfor\u001b[39;00m record \u001b[38;5;129;01min\u001b[39;00m records:\n\u001b[0;32m      8\u001b[0m     meshset \u001b[38;5;241m=\u001b[39m record\u001b[38;5;241m.\u001b[39mget(\u001b[38;5;124m\"\u001b[39m\u001b[38;5;124mMH\u001b[39m\u001b[38;5;124m\"\u001b[39m,\u001b[38;5;124m\"\u001b[39m\u001b[38;5;124m?\u001b[39m\u001b[38;5;124m\"\u001b[39m) \n\u001b[1;32m----> 9\u001b[0m     tempmesh \u001b[38;5;241m=\u001b[39m [x\u001b[38;5;241m.\u001b[39mreplace(\u001b[38;5;124m'\u001b[39m\u001b[38;5;124m/\u001b[39m\u001b[38;5;124m'\u001b[39m,\u001b[38;5;124m'\u001b[39m\u001b[38;5;124m,\u001b[39m\u001b[38;5;124m'\u001b[39m)\u001b[38;5;241m.\u001b[39mreplace(\u001b[38;5;124m\"\u001b[39m\u001b[38;5;124m*\u001b[39m\u001b[38;5;124m\"\u001b[39m,\u001b[38;5;124m\"\u001b[39m\u001b[38;5;124m\"\u001b[39m) \u001b[38;5;28;01mfor\u001b[39;00m x \u001b[38;5;129;01min\u001b[39;00m \u001b[43mmeshSet\u001b[49m]\n\u001b[0;32m     10\u001b[0m     meshlist\u001b[38;5;241m.\u001b[39mappend({\u001b[38;5;124m'\u001b[39m\u001b[38;5;124mpmid\u001b[39m\u001b[38;5;124m'\u001b[39m:PMID, \u001b[38;5;124m'\u001b[39m\u001b[38;5;124mmesh\u001b[39m\u001b[38;5;124m'\u001b[39m:tempmesh})\n\u001b[0;32m     11\u001b[0m     \u001b[38;5;28mprint\u001b[39m(PMID)\n",
      "\u001b[1;31mNameError\u001b[0m: name 'meshSet' is not defined"
     ]
    }
   ],
   "source": [
    "meshlist = []\n",
    "PMIDFails = []\n",
    "for PMID in pmidlist: #iterates through the PMID list\n",
    "    #print('fetching authors for: '+str(PMID))\n",
    "    handle = Entrez.efetch(db=\"pubmed\", id=PMID, rettype=\"medline\", retmode=\"text\")\n",
    "    records = Medline.parse(handle) ##parses pubmed entry for that ID and records the author\n",
    "    for record in records:\n",
    "        meshset = record.get(\"MH\",\"?\") \n",
    "        tempmesh = [x.replace('/',',').replace(\"*\",\"\") for x in meshset]\n",
    "        meshlist.append({'pmid':PMID, 'mesh':tempmesh})\n",
    "        print(PMID)\n",
    "    time.sleep(0.5)"
   ]
  },
  {
   "cell_type": "code",
   "execution_count": 20,
   "id": "33f484de",
   "metadata": {},
   "outputs": [
    {
     "name": "stdout",
     "output_type": "stream",
     "text": [
      "14:42:10.831540\n",
      "14:43:50.066549\n"
     ]
    }
   ],
   "source": [
    "def retrieve_mesh_by_pmids(PMIDList):\n",
    "    print(datetime.now().time())\n",
    "    meshlist = []\n",
    "    PMIDFails = []\n",
    "    for PMID in PMIDList: #iterates through the PMID list\n",
    "        try:\n",
    "            #print('fetching authors for: '+str(PMID))\n",
    "            handle = Entrez.efetch(db=\"pubmed\", id=PMID, rettype=\"medline\", retmode=\"text\")\n",
    "            records = Medline.parse(handle) ##parses pubmed entry for that ID and records the author\n",
    "            for record in records:\n",
    "                meshset = record.get(\"MH\",\"?\") \n",
    "                tempmesh = [x.replace('/',',').replace(\"*\",\" \") for x in meshset]\n",
    "                for eachterm in tempmesh:\n",
    "                    if ',' not in eachterm:\n",
    "                        meshlist.append({'pmid':PMID, 'mesh':eachterm})\n",
    "                    else:\n",
    "                        termlist = eachterm.split(',')\n",
    "                        for cleanterm in termlist:\n",
    "                            meshlist.append({'pmid':PMID, 'mesh':cleanterm.strip()})               \n",
    "        except:\n",
    "            PMIDFails.append(PMID)\n",
    "            print(\"pmid not found: \",PMID)\n",
    "        time.sleep(0.5)\n",
    "    print(datetime.now().time())\n",
    "    return(meshlist)\n",
    "\n",
    "meshlist = retrieve_mesh_by_pmids(pmidlist)"
   ]
  },
  {
   "cell_type": "code",
   "execution_count": 35,
   "id": "92ef11ce",
   "metadata": {},
   "outputs": [
    {
     "name": "stdout",
     "output_type": "stream",
     "text": [
      "       pmid                                               mesh\n",
      "0  32483332  Clustered Regularly Interspaced Short Palindro...\n",
      "1  32483332                                           genetics\n",
      "796\n",
      "2023-12-12 15:13:20 INFO [text2term.t2t]: Loading cached ontology from: cache\\EDAM\\EDAM-term-details.pickle\n",
      "2023-12-12 15:13:20 INFO [text2term.t2t]: Filtered ontology terms to those of type: class\n",
      "2023-12-12 15:13:20 INFO [text2term.t2t]: Mapping 796 source terms to EDAM\n",
      "2023-12-12 15:13:20 INFO [text2term.t2t]: ...done (mapping time: 0.30s seconds)\n",
      "                                  Source Term ID                  Source Term  \\\n",
      "746   http://ccb.hms.harvard.edu/t2t/RKBkQcZLJym                     virology   \n",
      "87    http://ccb.hms.harvard.edu/t2t/R5H5PuHskrh               ultrastructure   \n",
      "117   http://ccb.hms.harvard.edu/t2t/RHYGKwKez4t                     toxicity   \n",
      "200   http://ccb.hms.harvard.edu/t2t/RDeMxMfqDkW                      therapy   \n",
      "721   http://ccb.hms.harvard.edu/t2t/R3dS7P5wJji                      surgery   \n",
      "883   http://ccb.hms.harvard.edu/t2t/R7GCxZEHRHb  statistics & numerical data   \n",
      "1193  http://ccb.hms.harvard.edu/t2t/R9noVX8wYYK                    secondary   \n",
      "1108  http://ccb.hms.harvard.edu/t2t/RB2Xvs8gxKJ         prevention & control   \n",
      "1001  http://ccb.hms.harvard.edu/t2t/R3T9cUrPhbk              physiopathology   \n",
      "99    http://ccb.hms.harvard.edu/t2t/RAXCEN7kXtQ                   physiology   \n",
      "\n",
      "            Mapped Term Label    Mapped Term CURIE  \\\n",
      "746                  Virology      EDAM.TOPIC:0781   \n",
      "87                  Structure       EDAM.DATA:0883   \n",
      "117                Toxicology      EDAM.TOPIC:2840   \n",
      "200                Thermo RAW     EDAM.FORMAT:3712   \n",
      "721                   Surgery      EDAM.TOPIC:3421   \n",
      "883   Statistical calculation  EDAM.OPERATION:2238   \n",
      "1193      Secondary structure       EDAM.DATA:2081   \n",
      "1108   Quality control report       EDAM.DATA:3914   \n",
      "1001               Physiology      EDAM.TOPIC:3300   \n",
      "99                 Physiology      EDAM.TOPIC:3300   \n",
      "\n",
      "                             Mapped Term IRI  Mapping Score  Tags  \n",
      "746       http://edamontology.org/topic_0781          0.993  None  \n",
      "87         http://edamontology.org/data_0883          0.724  None  \n",
      "117       http://edamontology.org/topic_2840          0.553  None  \n",
      "200      http://edamontology.org/format_3712          0.357  None  \n",
      "721       http://edamontology.org/topic_3421          0.994  None  \n",
      "883   http://edamontology.org/operation_2238          0.492  None  \n",
      "1193       http://edamontology.org/data_2081          0.784  None  \n",
      "1108       http://edamontology.org/data_3914          0.464  None  \n",
      "1001      http://edamontology.org/topic_3300          0.658  None  \n",
      "99        http://edamontology.org/topic_3300          0.994  None  \n"
     ]
    }
   ],
   "source": [
    "meshdf = pd.DataFrame(meshlist)\n",
    "print(meshdf.head(n=2))\n",
    "meshlist_4_t2t = meshdf['mesh'].unique().tolist()\n",
    "print(len(meshlist_4_t2t))\n",
    "df1 = text2term.map_terms(meshlist_4_t2t, \"EDAM\", use_cache=True)\n",
    "df1.sort_values(['Source Term','Mapping Score'],ascending=[False,False],inplace=True)\n",
    "df2 = df1.drop_duplicates('Source Term',keep='first')\n",
    "print(df2.head(n=10))"
   ]
  },
  {
   "cell_type": "code",
   "execution_count": 45,
   "id": "c2b39692",
   "metadata": {},
   "outputs": [
    {
     "name": "stdout",
     "output_type": "stream",
     "text": [
      "                                  Source Term ID            Source Term  \\\n",
      "746   http://ccb.hms.harvard.edu/t2t/RKBkQcZLJym               virology   \n",
      "721   http://ccb.hms.harvard.edu/t2t/R3dS7P5wJji                surgery   \n",
      "99    http://ccb.hms.harvard.edu/t2t/RAXCEN7kXtQ             physiology   \n",
      "313   http://ccb.hms.harvard.edu/t2t/RJvZaGZrSEx           pharmacology   \n",
      "106   http://ccb.hms.harvard.edu/t2t/RB9oAjeSd8a              pathology   \n",
      "...                                          ...                    ...   \n",
      "1561  http://ccb.hms.harvard.edu/t2t/RFmN5rcdQkP        Gene Expression   \n",
      "920   http://ccb.hms.harvard.edu/t2t/R7fyQiZy3Mn        DNA Replication   \n",
      "1577  http://ccb.hms.harvard.edu/t2t/R5CTPtzqDfE        DNA Methylation   \n",
      "472   http://ccb.hms.harvard.edu/t2t/R6HtqgnjfRT   Alternative Splicing   \n",
      "405   http://ccb.hms.harvard.edu/t2t/RBSmDqmscW2            Agriculture   \n",
      "\n",
      "                      Mapped Term Label Mapped Term CURIE  \\\n",
      "746                            Virology   EDAM.TOPIC:0781   \n",
      "721                             Surgery   EDAM.TOPIC:3421   \n",
      "99                           Physiology   EDAM.TOPIC:3300   \n",
      "313                        Pharmacology   EDAM.TOPIC:0202   \n",
      "106                           Pathology   EDAM.TOPIC:0634   \n",
      "...                                 ...               ...   \n",
      "1561                    Gene expression   EDAM.TOPIC:0203   \n",
      "920   DNA replication and recombination   EDAM.TOPIC:3127   \n",
      "1577                    DNA methylation   EDAM.TOPIC:3171   \n",
      "472                        RNA splicing   EDAM.TOPIC:3320   \n",
      "405                Agricultural science   EDAM.TOPIC:3810   \n",
      "\n",
      "                         Mapped Term IRI  Mapping Score  Tags  \n",
      "746   http://edamontology.org/topic_0781          0.993  None  \n",
      "721   http://edamontology.org/topic_3421          0.994  None  \n",
      "99    http://edamontology.org/topic_3300          0.994  None  \n",
      "313   http://edamontology.org/topic_0202          0.985  None  \n",
      "106   http://edamontology.org/topic_0634          0.995  None  \n",
      "...                                  ...            ...   ...  \n",
      "1561  http://edamontology.org/topic_0203          0.997  None  \n",
      "920   http://edamontology.org/topic_3127          0.739  None  \n",
      "1577  http://edamontology.org/topic_3171          0.995  None  \n",
      "472   http://edamontology.org/topic_3320          0.995  None  \n",
      "405   http://edamontology.org/topic_3810          0.717  None  \n",
      "\n",
      "[101 rows x 7 columns]\n"
     ]
    }
   ],
   "source": [
    "df3 = df2.loc[df2['Mapped Term CURIE'].astype(str).str.contains('TOPIC')]\n",
    "#print(len(df3))\n",
    "#print(df3.head(n=10))\n",
    "df_thresh_70 = df3.loc[df3['Mapping Score']>=0.7]\n",
    "print(df_thresh_70)\n",
    "df3.to_csv(os.path.join('data','mesh_t2t_no_threshhold.tsv'),sep='\\t',header=True)\n"
   ]
  },
  {
   "cell_type": "code",
   "execution_count": 51,
   "id": "7cbab289",
   "metadata": {},
   "outputs": [
    {
     "name": "stdout",
     "output_type": "stream",
     "text": [
      "                                 Source Term ID Source Term Mapped Term Label  \\\n",
      "746  http://ccb.hms.harvard.edu/t2t/RKBkQcZLJym    virology          Virology   \n",
      "117  http://ccb.hms.harvard.edu/t2t/RHYGKwKez4t    toxicity        Toxicology   \n",
      "\n",
      "    Mapped Term CURIE                     Mapped Term IRI  Mapping Score  \\\n",
      "746   EDAM.TOPIC:0781  http://edamontology.org/topic_0781          0.993   \n",
      "117   EDAM.TOPIC:2840  http://edamontology.org/topic_2840          0.553   \n",
      "\n",
      "     Tags match  \n",
      "746   NaN  good  \n",
      "117   NaN    ok  \n",
      "Mean match\n",
      "good    0.829730\n",
      "ok      0.566939\n",
      "Name: Mapping Score, dtype: float64\n",
      "Max match\n",
      "good    0.999\n",
      "ok      0.893\n",
      "Name: Mapping Score, dtype: float64\n",
      "Min match\n",
      "good    0.304\n",
      "ok      0.335\n",
      "Name: Mapping Score, dtype: float64\n"
     ]
    }
   ],
   "source": [
    "df4 = pd.read_csv(os.path.join('data','mesh_t2t_no_threshhold_checked.tsv'),delimiter='\\t',header=0, index_col=0)\n",
    "print(df4.head(n=2))\n",
    "df5 = df4.loc[df4['match']!='bad']\n",
    "print('Mean',df5.groupby('match')['Mapping Score'].mean())\n",
    "print('Max',df5.groupby('match')['Mapping Score'].max())\n",
    "print('Min',df5.groupby('match')['Mapping Score'].min())"
   ]
  },
  {
   "cell_type": "code",
   "execution_count": 59,
   "id": "c9a090d3",
   "metadata": {},
   "outputs": [
    {
     "name": "stdout",
     "output_type": "stream",
     "text": [
      "976\n",
      "       pmid      mesh Source Term                              Source Term ID  \\\n",
      "0  32483332  genetics    genetics  http://ccb.hms.harvard.edu/t2t/RCfTRcoJghm   \n",
      "1  32483332  genetics    genetics  http://ccb.hms.harvard.edu/t2t/RCfTRcoJghm   \n",
      "\n",
      "  Mapped Term Label Mapped Term CURIE                     Mapped Term IRI  \\\n",
      "0          Genetics   EDAM.TOPIC:3053  http://edamontology.org/topic_3053   \n",
      "1          Genetics   EDAM.TOPIC:3053  http://edamontology.org/topic_3053   \n",
      "\n",
      "   Mapping Score  Tags match  \n",
      "0          0.998   NaN  good  \n",
      "1          0.998   NaN  good  \n",
      "582\n",
      "175\n",
      "        pmid Mapped Term Label                     Mapped Term IRI  counts\n",
      "3   11530848      Mice or rats  http://edamontology.org/topic_0213       2\n",
      "5   11530848        Physiology  http://edamontology.org/topic_3300       2\n",
      "11  12536215          Genetics  http://edamontology.org/topic_3053       4\n",
      "13  15656970       Arabidopsis  http://edamontology.org/topic_0786       2\n",
      "15  15656970          Genetics  http://edamontology.org/topic_3053       8\n",
      "17  15656970     Plant biology  http://edamontology.org/topic_0780       4\n",
      "23  15937132  DNA polymorphism  http://edamontology.org/topic_2885       2\n",
      "24  15937132          Genetics  http://edamontology.org/topic_3053       2\n",
      "26  15937132     Plant biology  http://edamontology.org/topic_0780       2\n",
      "29  16307366         Chemistry  http://edamontology.org/topic_3314       2\n"
     ]
    }
   ],
   "source": [
    "meshdf['Source Term'] = meshdf['mesh']\n",
    "#print(meshdf.head(n=2))\n",
    "meshmapped = meshdf.merge(df5,on=['Source Term'],how = 'inner')\n",
    "print(len(meshmapped))\n",
    "print(meshmapped.head(n=2))\n",
    "unique_matches = meshmapped.groupby(['pmid','Mapped Term Label','Mapped Term IRI']).size().reset_index(name='counts')\n",
    "print(len(unique_matches))\n",
    "priority_matches = unique_matches.loc[unique_matches['counts']>1]\n",
    "print(len(priority_matches))\n",
    "print(priority_matches.head(n=10))"
   ]
  },
  {
   "cell_type": "code",
   "execution_count": 31,
   "id": "fcf44bef",
   "metadata": {},
   "outputs": [
    {
     "name": "stdout",
     "output_type": "stream",
     "text": [
      "2023-12-12 15:03:34 INFO [text2term.term_collector]: Loading ontology https://data.bioontology.org/ontologies/EDAM/download?apikey=8b5b7825-538d-40e0-9e9e-5ab9274a9aeb&download_format=rdf...\n",
      "2023-12-12 15:03:36 INFO [text2term.term_collector]: ...done (ontology loading time: 1.80s)\n",
      "2023-12-12 15:03:36 INFO [text2term.term_collector]: Collecting ontology term details...\n",
      "2023-12-12 15:03:37 INFO [text2term.term_collector]: ...done: collected 3588 ontology terms (collection time: 0.72s)\n",
      "2023-12-12 15:03:37 INFO [text2term.t2t]: Filtered ontology terms to those of type: any\n",
      "2023-12-12 15:03:37 INFO [text2term.t2t]: Caching ontology https://data.bioontology.org/ontologies/EDAM/download?apikey=8b5b7825-538d-40e0-9e9e-5ab9274a9aeb&download_format=rdf to: cache\\EDAM\n"
     ]
    },
    {
     "data": {
      "text/plain": [
       "<text2term.onto_cache.OntologyCache at 0x1bfaf012c50>"
      ]
     },
     "execution_count": 31,
     "metadata": {},
     "output_type": "execute_result"
    }
   ],
   "source": [
    "text2term.cache_ontology(\"https://data.bioontology.org/ontologies/EDAM/download?apikey=8b5b7825-538d-40e0-9e9e-5ab9274a9aeb&download_format=rdf\", \"EDAM\")"
   ]
  },
  {
   "cell_type": "code",
   "execution_count": 33,
   "id": "b246eca0",
   "metadata": {},
   "outputs": [
    {
     "name": "stdout",
     "output_type": "stream",
     "text": [
      "2023-12-12 15:10:03 INFO [text2term.t2t]: Loading cached ontology from: cache\\EDAM\\EDAM-term-details.pickle\n",
      "2023-12-12 15:10:03 INFO [text2term.t2t]: Filtered ontology terms to those of type: class\n",
      "2023-12-12 15:10:03 INFO [text2term.t2t]: Mapping 2 source terms to EDAM\n",
      "2023-12-12 15:10:03 INFO [text2term.t2t]: ...done (mapping time: 0.30s seconds)\n",
      "                               Source Term ID Source Term  \\\n",
      "0  http://ccb.hms.harvard.edu/t2t/REhvV6wpwrf    Virology   \n",
      "1  http://ccb.hms.harvard.edu/t2t/REhvV6wpwrf    Virology   \n",
      "2  http://ccb.hms.harvard.edu/t2t/REhvV6wpwrf    Virology   \n",
      "3  http://ccb.hms.harvard.edu/t2t/R7BTYkJ4dcF  metabolism   \n",
      "4  http://ccb.hms.harvard.edu/t2t/R7BTYkJ4dcF  metabolism   \n",
      "5  http://ccb.hms.harvard.edu/t2t/R7BTYkJ4dcF  metabolism   \n",
      "\n",
      "              Mapped Term Label Mapped Term CURIE  \\\n",
      "0                      Virology   EDAM.TOPIC:0781   \n",
      "1        Urology and nephrology   EDAM.TOPIC:3422   \n",
      "2                       Biology   EDAM.TOPIC:3070   \n",
      "3               Drug metabolism   EDAM.TOPIC:3375   \n",
      "4                   Metabolites   EDAM.TOPIC:0079   \n",
      "5  Endocrinology and metabolism   EDAM.TOPIC:3407   \n",
      "\n",
      "                      Mapped Term IRI  Mapping Score  Tags  \n",
      "0  http://edamontology.org/topic_0781          0.975  None  \n",
      "1  http://edamontology.org/topic_3422          0.570  None  \n",
      "2  http://edamontology.org/topic_3070          0.516  None  \n",
      "3  http://edamontology.org/topic_3375          0.808  None  \n",
      "4  http://edamontology.org/topic_0079          0.685  None  \n",
      "5  http://edamontology.org/topic_3407          0.621  None  \n"
     ]
    }
   ],
   "source": [
    "df2 = text2term.map_terms([\"Virology\", \"metabolism\"], \"EDAM\", use_cache=True)\n",
    "print(df2)"
   ]
  },
  {
   "cell_type": "code",
   "execution_count": 9,
   "id": "54bfbd9d",
   "metadata": {},
   "outputs": [
    {
     "name": "stdout",
     "output_type": "stream",
     "text": [
      "2023-10-12 11:15:30 INFO [text2term.tfidf_mapper]: Mapping 17 source terms...\n",
      "2023-10-12 11:15:30 INFO [text2term.tfidf_mapper]: ...against 226 ontology terms (363 labels/synonyms)\n",
      "2023-10-12 11:15:30 INFO [text2term.tfidf_mapper]: ...done (mapping time: 0.06s seconds)\n",
      "                                Source Term ID  \\\n",
      "0   http://ccb.hms.harvard.edu/t2t/R84GM5W24Ap   \n",
      "1   http://ccb.hms.harvard.edu/t2t/R84GM5W24Ap   \n",
      "2   http://ccb.hms.harvard.edu/t2t/R84GM5W24Ap   \n",
      "3   http://ccb.hms.harvard.edu/t2t/R9gTWbnWbyz   \n",
      "4   http://ccb.hms.harvard.edu/t2t/RF6HnvUi6Wa   \n",
      "5   http://ccb.hms.harvard.edu/t2t/R5HU4YdZkbe   \n",
      "6   http://ccb.hms.harvard.edu/t2t/R5HU4YdZkbe   \n",
      "7   http://ccb.hms.harvard.edu/t2t/R5HU4YdZkbe   \n",
      "8   http://ccb.hms.harvard.edu/t2t/R7dSudQvDDQ   \n",
      "9   http://ccb.hms.harvard.edu/t2t/R7dSudQvDDQ   \n",
      "10  http://ccb.hms.harvard.edu/t2t/R7dSudQvDDQ   \n",
      "11  http://ccb.hms.harvard.edu/t2t/RAqRerDDpmi   \n",
      "12  http://ccb.hms.harvard.edu/t2t/RAqRerDDpmi   \n",
      "13  http://ccb.hms.harvard.edu/t2t/RAqRerDDpmi   \n",
      "14  http://ccb.hms.harvard.edu/t2t/RBGjhzrLjEE   \n",
      "15  http://ccb.hms.harvard.edu/t2t/RBXSoi5pfqp   \n",
      "16  http://ccb.hms.harvard.edu/t2t/RBXSoi5pfqp   \n",
      "17  http://ccb.hms.harvard.edu/t2t/RBXSoi5pfqp   \n",
      "18  http://ccb.hms.harvard.edu/t2t/RJbDtgvVKwy   \n",
      "19  http://ccb.hms.harvard.edu/t2t/R5JQpbW32uL   \n",
      "20  http://ccb.hms.harvard.edu/t2t/RBkAthsZTcv   \n",
      "21  http://ccb.hms.harvard.edu/t2t/R5rKVDceU6x   \n",
      "22  http://ccb.hms.harvard.edu/t2t/RJGS43SkEAV   \n",
      "23  http://ccb.hms.harvard.edu/t2t/RgrfDMJNk7x   \n",
      "\n",
      "                                          Source Term  \\\n",
      "0      Alveolar Epithelial Cells,metabolism,pathology   \n",
      "1      Alveolar Epithelial Cells,metabolism,pathology   \n",
      "2      Alveolar Epithelial Cells,metabolism,pathology   \n",
      "3                                             Animals   \n",
      "4                                 Duration of Therapy   \n",
      "5                              Glycocalyx,*metabolism   \n",
      "6                              Glycocalyx,*metabolism   \n",
      "7                              Glycocalyx,*metabolism   \n",
      "8             *Glycosaminoglycans,analysis,metabolism   \n",
      "9             *Glycosaminoglycans,analysis,metabolism   \n",
      "10            *Glycosaminoglycans,analysis,metabolism   \n",
      "11    Lung Diseases, Interstitial,etiology,metabolism   \n",
      "12    Lung Diseases, Interstitial,etiology,metabolism   \n",
      "13    Lung Diseases, Interstitial,etiology,metabolism   \n",
      "14                                               Mice   \n",
      "15                          Predictive Value of Tests   \n",
      "16                          Predictive Value of Tests   \n",
      "17                          Predictive Value of Tests   \n",
      "18                                          Prognosis   \n",
      "19  *Pulmonary Atelectasis,diagnosis,etiology,prev...   \n",
      "20                         Reproducibility of Results   \n",
      "21    Respiration, Artificial,adverse effects,methods   \n",
      "22  *Respiratory Distress Syndrome,diagnosis,etiol...   \n",
      "23                                        Sex Factors   \n",
      "\n",
      "                             Mapped Term Label Mapped Term CURIE  \\\n",
      "0                                    Pathology   EDAM.TOPIC:0634   \n",
      "1                                 Cell biology   EDAM.TOPIC:2229   \n",
      "2                           Metabolic pathways   EDAM.TOPIC:0753   \n",
      "3                    Laboratory animal science   EDAM.TOPIC:3386   \n",
      "4                 Data curation and annotation   EDAM.TOPIC:0219   \n",
      "5                                  Metabolites   EDAM.TOPIC:0079   \n",
      "6                 Endocrinology and metabolism   EDAM.TOPIC:3407   \n",
      "7                                 Metabolomics   EDAM.TOPIC:3172   \n",
      "8                                Data analysis   EDAM.TOPIC:3365   \n",
      "9                                          DNA   EDAM.TOPIC:0654   \n",
      "10                                    Proteins   EDAM.TOPIC:0078   \n",
      "11                                   Pathology   EDAM.TOPIC:0634   \n",
      "12                               Rare diseases   EDAM.TOPIC:3325   \n",
      "13                Endocrinology and metabolism   EDAM.TOPIC:3407   \n",
      "14                                Microbiology   EDAM.TOPIC:3301   \n",
      "15                        Structure prediction   EDAM.TOPIC:0082   \n",
      "16                Protein structure prediction   EDAM.TOPIC:0172   \n",
      "17           Nucleic acid structure prediction   EDAM.TOPIC:0173   \n",
      "18                                    Proteins   EDAM.TOPIC:0078   \n",
      "19                        Respiratory medicine   EDAM.TOPIC:3322   \n",
      "20                         Reproductive health   EDAM.TOPIC:3420   \n",
      "21                        Respiratory medicine   EDAM.TOPIC:3322   \n",
      "22                        Respiratory medicine   EDAM.TOPIC:3322   \n",
      "23  Transcription factors and regulatory sites   EDAM.TOPIC:0749   \n",
      "\n",
      "                       Mapped Term IRI  Mapping Score  Tags  \n",
      "0   http://edamontology.org/topic_0634          0.447  None  \n",
      "1   http://edamontology.org/topic_2229          0.314  None  \n",
      "2   http://edamontology.org/topic_0753          0.301  None  \n",
      "3   http://edamontology.org/topic_3386          0.433  None  \n",
      "4   http://edamontology.org/topic_0219          0.313  None  \n",
      "5   http://edamontology.org/topic_0079          0.380  None  \n",
      "6   http://edamontology.org/topic_3407          0.372  None  \n",
      "7   http://edamontology.org/topic_3172          0.325  None  \n",
      "8   http://edamontology.org/topic_3365          0.383  None  \n",
      "9   http://edamontology.org/topic_0654          0.364  None  \n",
      "10  http://edamontology.org/topic_0078          0.360  None  \n",
      "11  http://edamontology.org/topic_0634          0.488  None  \n",
      "12  http://edamontology.org/topic_3325          0.377  None  \n",
      "13  http://edamontology.org/topic_3407          0.300  None  \n",
      "14  http://edamontology.org/topic_3301          0.300  None  \n",
      "15  http://edamontology.org/topic_0082          0.374  None  \n",
      "16  http://edamontology.org/topic_0172          0.345  None  \n",
      "17  http://edamontology.org/topic_0173          0.329  None  \n",
      "18  http://edamontology.org/topic_0078          0.305  None  \n",
      "19  http://edamontology.org/topic_3322          0.402  None  \n",
      "20  http://edamontology.org/topic_3420          0.380  None  \n",
      "21  http://edamontology.org/topic_3322          0.324  None  \n",
      "22  http://edamontology.org/topic_3322          0.478  None  \n",
      "23  http://edamontology.org/topic_0749          0.441  None  \n"
     ]
    }
   ],
   "source": [
    "meshtest = [x.replace('/',',') for x in MESHSet]\n",
    "dftest = text2term.map_terms(meshtest,\"EDAMT\", use_cache=True)\n",
    "print(dftest)"
   ]
  },
  {
   "cell_type": "code",
   "execution_count": 12,
   "id": "89d4d002",
   "metadata": {},
   "outputs": [
    {
     "name": "stdout",
     "output_type": "stream",
     "text": [
      "                               Source Term ID  \\\n",
      "0  http://ccb.hms.harvard.edu/t2t/R84GM5W24Ap   \n",
      "\n",
      "                                      Source Term Mapped Term Label  \\\n",
      "0  Alveolar Epithelial Cells,metabolism,pathology         Pathology   \n",
      "\n",
      "  Mapped Term CURIE                     Mapped Term IRI  Mapping Score  Tags  \n",
      "0   EDAM.TOPIC:0634  http://edamontology.org/topic_0634          0.447  None  \n"
     ]
    }
   ],
   "source": [
    "print(dftest.head(n=1))"
   ]
  },
  {
   "cell_type": "code",
   "execution_count": null,
   "id": "f6a04feb",
   "metadata": {},
   "outputs": [],
   "source": [
    "def retrieve_mesh_by_pmids(PMIDList):\n",
    "    print(datetime.datetime.now().time())\n",
    "    meshdf = pd.DataFrame(columns=['pmid','Source Term ID','Source Term','Mapped Term Label',\n",
    "                                   'Mapped Term CURIE','Mapped Term IRI','Mapping Score','Tags']\n",
    "    PMIDFails = []\n",
    "    for PMID in PMIDList: #iterates through the PMID list\n",
    "        try:\n",
    "            #print('fetching authors for: '+str(PMID))\n",
    "            handle = Entrez.efetch(db=\"pubmed\", id=PMID, rettype=\"medline\", retmode=\"text\")\n",
    "            records = Medline.parse(handle) ##parses pubmed entry for that ID and records the author\n",
    "            for record in records:\n",
    "                meshset = record.get(\"MH\",\"?\") \n",
    "                tempmesh = [x.replace('/',',').replace(\"*\",\"\") for x in meshSet]\n",
    "                tempdf = text2term.map_terms(tempmesh,\"EDAMT\", use_cache=True)\n",
    "                tempdf['pmid'] = PMID\n",
    "                \n",
    "        except:\n",
    "            PMIDFails.append(PMID)\n",
    "            print(\"pmid not found: \",PMID)\n",
    "\n",
    "    print(datetime.datetime.now().time())\n",
    "    return(PublicationDF,author_df,PMIDFails)"
   ]
  }
 ],
 "metadata": {
  "kernelspec": {
   "display_name": "Python 3 (ipykernel)",
   "language": "python",
   "name": "python3"
  },
  "language_info": {
   "codemirror_mode": {
    "name": "ipython",
    "version": 3
   },
   "file_extension": ".py",
   "mimetype": "text/x-python",
   "name": "python",
   "nbconvert_exporter": "python",
   "pygments_lexer": "ipython3",
   "version": "3.10.10"
  }
 },
 "nbformat": 4,
 "nbformat_minor": 5
}
