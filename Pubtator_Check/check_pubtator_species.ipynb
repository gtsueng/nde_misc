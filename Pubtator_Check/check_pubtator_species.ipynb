{
 "cells": [
  {
   "cell_type": "markdown",
   "id": "6987d7f3",
   "metadata": {},
   "source": [
    "## Inspect whether it is suitable/reasonable to use Pubtator species annotations from cited manuscripts for a dataset\n",
    "\n",
    "Only a small subset of dataset records in NDE have values for the 'species' or 'infectiousAgent' fields. Many datasets have values for the 'citation' field. Pubtator allows [FTP downloads](https://ftp.ncbi.nlm.nih.gov/pub/lu/PubTatorCentral/) of taxonomic extractions/annotations by PMID. Can this approach be used to extrapolate this information for a dataset citing a PMID?\n",
    "\n",
    "About the pubtator file: Each file contains five columns as shown in below:\n",
    "0.   PMID:       PubMed abstract identifier\n",
    "1.  Type:       i.e., gene, disease, chemical, species, and mutation\n",
    "2.  Concept ID: Corresponding database identifier (e.g., NCBIGene ID, MESH ID)\n",
    "3.   Mentions:   Bio-concept mentions corresponding to the PubMed abstract\n",
    "4.  Resource:   Various manually annotated resources are included in the files (e.g., MeSH and gene2pubmed)\n",
    "\n",
    "\n",
    "**Tested*\n",
    "1. pull all records with a citation pmid\n",
    "2. explode the dataframe to have only single value pmid instead of list pmids\n",
    "3. load the Pubtator extracted species dataframe\n",
    "4. get the intersect of the dataframes\n",
    "5. Quick manual inspection for accuracy\n",
    "  * Observations from quick manual inspection:\n",
    "    - Pubtator annotates the entire manuscript which may include derived plant products as reagents in figures. This is a problematic source of error as the taxonomic ID of a reagent is irrelevant\n",
    "6. Keep only taxon that have terms found in the dataset description (see potential improvements)\n",
    "\n",
    "**Potential improvements**\n",
    "- Throw out any identified species that are not mentioned in the dataset name or description. Since Pubtator gives the actual text that was mapped to an NCBI Taxon ID, a check can be performed to see if a taxa appears in the description or not and to throw it out if it doesn't.\n",
    "- Note that since NCBI GEO and OMICS-DI have duplicate records, matching the name field, and comparing the lengths of the description fields will allow us to investigate whether the description field is better from GEO\n",
    "  - If GEO does have better descriptions than its OMICS-DI duplicate, then a species may successfully map to the GEO version but fail in matching the OMICS-DI version\n",
    "  \n",
    "**Potential other applications**\n",
    "Pubtator also has disease extraction, however, they align to MeSH which is not a true disease ontology. Pubtator disease annotations can similarly be downloaded and the extracted disease terms for a pmid can be checked against a dataset description for the dataset citing that pmid. Once the healthconditions are obtained, they can be normalized using the Translator KPs."
   ]
  },
  {
   "cell_type": "code",
   "execution_count": 2,
   "id": "75166082",
   "metadata": {},
   "outputs": [],
   "source": [
    "import pandas as pd\n",
    "from pandas import read_csv\n",
    "import requests\n",
    "import json\n",
    "import time\n",
    "import math"
   ]
  },
  {
   "cell_type": "code",
   "execution_count": 103,
   "id": "4f32679e",
   "metadata": {},
   "outputs": [],
   "source": [
    "def extract_pmid(pmid_dict):\n",
    "    try:\n",
    "        pmid = str(pmid_dict['pmid'])\n",
    "    except:\n",
    "        pmid = pmid_dict.replace('{pmid: ','').replace('}','')\n",
    "    return pmid\n",
    "\n",
    "def confirm_result(row):\n",
    "    truthcheck = []\n",
    "    try:\n",
    "        taxalist = row['taxname'].split('|')\n",
    "        for eachtaxon in taxalist:\n",
    "            if eachtaxon in row['description']:\n",
    "                truthcheck.append('found')\n",
    "            else:\n",
    "                truthcheck.append('false')\n",
    "        if 'found' in truthcheck:\n",
    "            return 'yes'\n",
    "        else:\n",
    "            return 'no'\n",
    "    except:\n",
    "        return 'no'"
   ]
  },
  {
   "cell_type": "markdown",
   "id": "9555bc25",
   "metadata": {},
   "source": [
    "### Fetch minimal metadata from only records with a citation pmid"
   ]
  },
  {
   "cell_type": "code",
   "execution_count": 74,
   "id": "559a22ff",
   "metadata": {},
   "outputs": [
    {
     "name": "stdout",
     "output_type": "stream",
     "text": [
      "CPU times: total: 125 ms\n",
      "Wall time: 1.07 s\n"
     ]
    }
   ],
   "source": [
    "%%time\n",
    "\n",
    "## Perform the initial query\n",
    "\n",
    "query_url = 'https://api.data.niaid.nih.gov/v1/query?q=_exists_:citation.pmid&fields=_id,name,description,citation.pmid&fetch_all=true'\n",
    "r = requests.get(query_url)\n",
    "cleanr = json.loads(r.text)\n",
    "hits = cleanr['hits']\n",
    "#print(len(cleanr['hits']))\n",
    "df1 = pd.DataFrame(cleanr['hits'])\n",
    "scroll_id = cleanr['_scroll_id']\n",
    "total_hits = cleanr['total']"
   ]
  },
  {
   "cell_type": "code",
   "execution_count": 15,
   "id": "f91655c0",
   "metadata": {},
   "outputs": [
    {
     "name": "stdout",
     "output_type": "stream",
     "text": [
      "2000\n",
      "3000\n",
      "4000\n",
      "5000\n",
      "6000\n",
      "7000\n",
      "8000\n",
      "9000\n",
      "10000\n",
      "11000\n",
      "12000\n",
      "13000\n",
      "14000\n",
      "15000\n",
      "16000\n",
      "17000\n",
      "18000\n",
      "19000\n",
      "20000\n",
      "21000\n",
      "22000\n",
      "23000\n",
      "24000\n",
      "25000\n",
      "26000\n",
      "27000\n",
      "28000\n",
      "29000\n",
      "30000\n",
      "31000\n",
      "32000\n",
      "33000\n",
      "34000\n",
      "35000\n",
      "36000\n",
      "37000\n",
      "38000\n",
      "39000\n",
      "40000\n",
      "41000\n",
      "42000\n",
      "43000\n",
      "44000\n",
      "45000\n",
      "46000\n",
      "47000\n",
      "48000\n",
      "49000\n",
      "50000\n",
      "51000\n",
      "52000\n",
      "53000\n",
      "54000\n",
      "55000\n",
      "56000\n",
      "57000\n",
      "58000\n",
      "59000\n",
      "60000\n",
      "61000\n",
      "62000\n",
      "63000\n",
      "64000\n",
      "65000\n",
      "66000\n",
      "67000\n",
      "68000\n",
      "69000\n",
      "70000\n",
      "71000\n",
      "72000\n",
      "73000\n",
      "74000\n",
      "75000\n",
      "76000\n",
      "77000\n",
      "78000\n",
      "79000\n",
      "80000\n",
      "81000\n",
      "82000\n",
      "83000\n",
      "84000\n",
      "85000\n",
      "86000\n",
      "87000\n",
      "88000\n",
      "89000\n",
      "90000\n",
      "91000\n",
      "92000\n",
      "93000\n",
      "94000\n",
      "95000\n",
      "96000\n",
      "97000\n",
      "98000\n",
      "99000\n",
      "100000\n",
      "101000\n",
      "102000\n",
      "103000\n",
      "104000\n",
      "105000\n",
      "106000\n",
      "107000\n",
      "108000\n",
      "109000\n",
      "110000\n",
      "111000\n",
      "112000\n",
      "113000\n",
      "114000\n",
      "115000\n",
      "116000\n",
      "117000\n",
      "118000\n",
      "119000\n",
      "120000\n",
      "121000\n",
      "122000\n",
      "123000\n",
      "124000\n",
      "125000\n",
      "126000\n",
      "127000\n",
      "128000\n",
      "129000\n",
      "130000\n",
      "131000\n",
      "132000\n",
      "133000\n",
      "134000\n",
      "135000\n",
      "136000\n",
      "137000\n",
      "138000\n",
      "139000\n",
      "140000\n",
      "141000\n",
      "142000\n",
      "143000\n",
      "144000\n",
      "145000\n",
      "146000\n",
      "147000\n",
      "148000\n",
      "149000\n",
      "150000\n",
      "151000\n",
      "152000\n",
      "153000\n",
      "154000\n",
      "155000\n",
      "156000\n",
      "157000\n",
      "158000\n",
      "159000\n",
      "160000\n",
      "161000\n",
      "162000\n",
      "163000\n",
      "164000\n",
      "165000\n",
      "166000\n",
      "167000\n",
      "168000\n",
      "169000\n",
      "170000\n",
      "171000\n",
      "172000\n",
      "173000\n",
      "174000\n",
      "175000\n",
      "176000\n",
      "177000\n",
      "178000\n",
      "179000\n",
      "180000\n",
      "181000\n",
      "182000\n",
      "183000\n",
      "184000\n",
      "185000\n",
      "186000\n",
      "187000\n",
      "188000\n",
      "189000\n",
      "190000\n",
      "191000\n",
      "192000\n",
      "193000\n",
      "194000\n",
      "195000\n",
      "196000\n",
      "197000\n",
      "198000\n",
      "199000\n",
      "200000\n",
      "201000\n",
      "202000\n",
      "203000\n",
      "204000\n",
      "205000\n",
      "206000\n",
      "207000\n",
      "208000\n",
      "209000\n",
      "210000\n",
      "211000\n",
      "212000\n",
      "213000\n",
      "214000\n",
      "215000\n",
      "216000\n",
      "217000\n",
      "218000\n",
      "219000\n",
      "220000\n",
      "221000\n",
      "222000\n",
      "223000\n",
      "224000\n",
      "225000\n",
      "226000\n",
      "227000\n",
      "228000\n",
      "229000\n",
      "230000\n",
      "231000\n",
      "232000\n",
      "233000\n",
      "234000\n",
      "235000\n",
      "236000\n",
      "237000\n",
      "238000\n",
      "239000\n",
      "240000\n",
      "241000\n",
      "242000\n",
      "243000\n",
      "244000\n",
      "245000\n",
      "246000\n",
      "247000\n",
      "248000\n",
      "249000\n",
      "250000\n",
      "251000\n",
      "252000\n",
      "253000\n",
      "254000\n",
      "255000\n",
      "256000\n",
      "257000\n",
      "258000\n",
      "259000\n",
      "260000\n",
      "261000\n",
      "262000\n",
      "263000\n",
      "264000\n",
      "265000\n",
      "266000\n",
      "267000\n",
      "268000\n",
      "269000\n",
      "270000\n",
      "271000\n",
      "272000\n",
      "273000\n",
      "274000\n",
      "274648\n"
     ]
    },
    {
     "ename": "KeyError",
     "evalue": "'_scroll_id'",
     "output_type": "error",
     "traceback": [
      "\u001b[1;31m---------------------------------------------------------------------------\u001b[0m",
      "\u001b[1;31mKeyError\u001b[0m                                  Traceback (most recent call last)",
      "File \u001b[1;32m<timed exec>:7\u001b[0m\n",
      "\u001b[1;31mKeyError\u001b[0m: '_scroll_id'"
     ]
    }
   ],
   "source": [
    "%%time\n",
    "## Scroll to get all the results\n",
    "\n",
    "i = 0\n",
    "#k = 3 \n",
    "k = math.ceil(total_hits/1000)\n",
    "while i < k:\n",
    "    r2 = requests.get(f'https://api.data.niaid.nih.gov/v1/query?scroll_id={scroll_id}')\n",
    "    tmp = json.loads(r2.text)\n",
    "    scroll_id = tmp['_scroll_id']\n",
    "    tmpdf = pd.DataFrame(tmp['hits'])\n",
    "    df1 = pd.concat((df1,tmpdf),ignore_index=True)\n",
    "    #print(len(df1))\n",
    "    i = i+1\n",
    "    time.sleep(0.25)"
   ]
  },
  {
   "cell_type": "code",
   "execution_count": 16,
   "id": "e2be04ec",
   "metadata": {},
   "outputs": [
    {
     "name": "stdout",
     "output_type": "stream",
     "text": [
      "                   _id  _score                citation  \\\n",
      "0  OMICSDI_PRJNA775608     1.0  [{'pmid': '34874923'}]   \n",
      "1   OMICSDI_PRJNA74531     1.0  [{'pmid': '23105075'}]   \n",
      "2  OMICSDI_PRJNA754436     1.0  [{'pmid': '34793837'}]   \n",
      "\n",
      "                                         description  \\\n",
      "0  Alveolar epithelial glycocalyx degradation med...   \n",
      "1  Streptococcus agalactiae STIR-CD-17 Genome seq...   \n",
      "2  CRISPR-Cas9 generated SARM1 knockout and epito...   \n",
      "\n",
      "                                                name _ignored  \n",
      "0  Alveolar epithelial glycocalyx degradation med...      NaN  \n",
      "1                Streptococcus agalactiae STIR-CD-17      NaN  \n",
      "2  CRISPR-Cas9 generated SARM1 knockout and epito...      NaN  \n"
     ]
    }
   ],
   "source": [
    "## inspect the results\n",
    "print(df1.head(n=3))"
   ]
  },
  {
   "cell_type": "code",
   "execution_count": 42,
   "id": "ff14c32a",
   "metadata": {},
   "outputs": [
    {
     "name": "stdout",
     "output_type": "stream",
     "text": [
      "274648 284631 282321\n",
      "                   _id                                        description  \\\n",
      "0  OMICSDI_PRJNA775608  Alveolar epithelial glycocalyx degradation med...   \n",
      "1   OMICSDI_PRJNA74531  Streptococcus agalactiae STIR-CD-17 Genome seq...   \n",
      "\n",
      "                                                name      pmid  \n",
      "0  Alveolar epithelial glycocalyx degradation med...  34874923  \n",
      "1                Streptococcus agalactiae STIR-CD-17  23105075  \n"
     ]
    }
   ],
   "source": [
    "#### save the raw results\n",
    "#df1.to_csv('data/citation_df_raw.tsv',sep='\\t',header=0)\n",
    "\n",
    "#### Clean up the results (since a single record may have multiple citations)\n",
    "df2 = df1.explode('citation')\n",
    "df3 = df2[['_id','citation','description','name']].copy()\n",
    "df3.dropna(inplace=True)\n",
    "print(len(df1),len(df2),len(df3))\n",
    "df3['pmid'] = df3['citation'].apply(lambda x: extract_pmid(x))\n",
    "df3.drop('citation',axis=1,inplace=True)\n",
    "print(df3.head(n=2))"
   ]
  },
  {
   "cell_type": "code",
   "execution_count": 43,
   "id": "75929837",
   "metadata": {},
   "outputs": [],
   "source": [
    "#### save the clean results\n",
    "#df3.to_csv('data/citation_df_clean.tsv',sep='\\t',header=True)"
   ]
  },
  {
   "cell_type": "markdown",
   "id": "2742c6a9",
   "metadata": {},
   "source": [
    "### Use the citation pmids to pull species for those pmids from a pubtator export"
   ]
  },
  {
   "cell_type": "code",
   "execution_count": null,
   "id": "64e632a3",
   "metadata": {},
   "outputs": [],
   "source": [
    "df3 = read_csv('data/citation_df_clean.tsv',delimiter='\\t',header=0,index_col=0)"
   ]
  },
  {
   "cell_type": "code",
   "execution_count": 61,
   "id": "4181f56f",
   "metadata": {},
   "outputs": [
    {
     "name": "stdout",
     "output_type": "stream",
     "text": [
      "123965 123964 1\n"
     ]
    }
   ],
   "source": [
    "pmidlist = df3['pmid'].unique().tolist()\n",
    "pmidintlist = []\n",
    "faillist = []\n",
    "for pmid in pmidlist:\n",
    "    try:\n",
    "        pmidintlist.append(int(pmid))\n",
    "    except:\n",
    "        faillist.append(pmid)\n",
    "\n",
    "print(len(pmidlist), len(pmidintlist),len(faillist))"
   ]
  },
  {
   "cell_type": "code",
   "execution_count": 63,
   "id": "a65631fa",
   "metadata": {},
   "outputs": [
    {
     "name": "stdout",
     "output_type": "stream",
     "text": [
      "675978\n",
      "CPU times: total: 7min 18s\n",
      "Wall time: 7min 21s\n"
     ]
    }
   ],
   "source": [
    "%%time\n",
    "#### chunk the read of the input (turn it into a generator and iterate through it)\n",
    "#### Only keep the species info from pubtator for pmids that have an NDE citation pmid match\n",
    "speciesdf = pd.read_csv('data/species2pubtatorcentral.txt',delimiter='\\t',\n",
    "                        usecols=[0,2,3], names=['pmid','taxid','taxname'], header=None, chunksize=20000)\n",
    "savedata = pd.DataFrame(columns=['pmid','taxid','taxname'])\n",
    "for adf in speciesdf:\n",
    "    tmpdf = adf.loc[adf['pmid'].isin(pmidlist)]\n",
    "    tmpdf2 = adf.loc[adf['pmid'].isin(pmidintlist)]\n",
    "    if len(tmpdf)>0:\n",
    "        savedata = pd.concat((savedata,tmpdf),ignore_index=True)\n",
    "    elif len(tmpdf2)>0:\n",
    "        savedata = pd.concat((savedata,tmpdf2),ignore_index=True)\n",
    "\n",
    "print(len(savedata))"
   ]
  },
  {
   "cell_type": "code",
   "execution_count": 65,
   "id": "7b7caa59",
   "metadata": {},
   "outputs": [],
   "source": [
    "#### export the results so we don't have to do that again\n",
    "savedata.to_csv('data/pmids_cited_taxa.tsv',sep='\\t',header=0)"
   ]
  },
  {
   "cell_type": "markdown",
   "id": "fbd649a3",
   "metadata": {},
   "source": [
    "### Merge the NDE data (with citation pmids) with the Pubtator results "
   ]
  },
  {
   "cell_type": "code",
   "execution_count": 91,
   "id": "61321945",
   "metadata": {},
   "outputs": [
    {
     "name": "stdout",
     "output_type": "stream",
     "text": [
      "1645100\n"
     ]
    }
   ],
   "source": [
    "#### Get rid of any duplication that was introduced as an artifact of the merging process\n",
    "savedata['pmid'] = savedata['pmid'].astype(str)\n",
    "merged_df = df3.merge(savedata,on='pmid',how='inner')\n",
    "merged_df.drop_duplicates(keep='first',inplace=True)\n",
    "print(len(merged_df))"
   ]
  },
  {
   "cell_type": "code",
   "execution_count": 92,
   "id": "7f5220ad",
   "metadata": {},
   "outputs": [
    {
     "name": "stdout",
     "output_type": "stream",
     "text": [
      "                   _id                                        description  \\\n",
      "0  OMICSDI_PRJNA775608  Alveolar epithelial glycocalyx degradation med...   \n",
      "1  OMICSDI_PRJNA775608  Alveolar epithelial glycocalyx degradation med...   \n",
      "\n",
      "                                                name      pmid  taxid  \\\n",
      "0  Alveolar epithelial glycocalyx degradation med...  34874923   4081   \n",
      "1  Alveolar epithelial glycocalyx degradation med...  34874923  10090   \n",
      "\n",
      "                               taxname  \n",
      "0              Lycopersicon esculentum  \n",
      "1  mice|Mice|Murine|Mouse|murine|mouse  \n"
     ]
    }
   ],
   "source": [
    "#### Inspect the results\n",
    "test_df = merged_df.head(n=20).copy()\n",
    "print(test_df.head(n=2))"
   ]
  },
  {
   "cell_type": "markdown",
   "id": "dc67079a",
   "metadata": {},
   "source": [
    "Pubtator will identify species in the full body of the paper for the pmid. This can include species that were used as reagents in the methodology (for example, Lycopersicon esculentum refers to some sort of tomato extract or protein that was mentioned ina figure). To ensure we only include species that were mentioned in the dataset, keep only taxa where at least one of the taxaname was mentioned in the record name or description\n",
    "\n",
    "### Filter out species not mentioned in the record"
   ]
  },
  {
   "cell_type": "code",
   "execution_count": 98,
   "id": "8a5db4d2",
   "metadata": {},
   "outputs": [
    {
     "name": "stdout",
     "output_type": "stream",
     "text": [
      "                   _id                                        description  \\\n",
      "0  OMICSDI_PRJNA775608  Alveolar epithelial glycocalyx degradation med...   \n",
      "1  OMICSDI_PRJNA775608  Alveolar epithelial glycocalyx degradation med...   \n",
      "2  OMICSDI_PRJNA775608  Alveolar epithelial glycocalyx degradation med...   \n",
      "3  OMICSDI_PRJNA775608  Alveolar epithelial glycocalyx degradation med...   \n",
      "4  OMICSDI_PRJNA775608  Alveolar epithelial glycocalyx degradation med...   \n",
      "5  OMICSDI_PRJNA775608  Alveolar epithelial glycocalyx degradation med...   \n",
      "6        GEO_GSE186705  Acute Respiratory Distress Syndrome (ARDS) is ...   \n",
      "7        GEO_GSE186705  Acute Respiratory Distress Syndrome (ARDS) is ...   \n",
      "8        GEO_GSE186705  Acute Respiratory Distress Syndrome (ARDS) is ...   \n",
      "9        GEO_GSE186705  Acute Respiratory Distress Syndrome (ARDS) is ...   \n",
      "\n",
      "                                                name      pmid    taxid  \\\n",
      "0  Alveolar epithelial glycocalyx degradation med...  34874923     4081   \n",
      "1  Alveolar epithelial glycocalyx degradation med...  34874923    10090   \n",
      "2  Alveolar epithelial glycocalyx degradation med...  34874923     9606   \n",
      "3  Alveolar epithelial glycocalyx degradation med...  34874923    11309   \n",
      "4  Alveolar epithelial glycocalyx degradation med...  34874923      984   \n",
      "5  Alveolar epithelial glycocalyx degradation med...  34874923  2697049   \n",
      "6  Alveolar epithelial glycocalyx degradation med...  34874923     4081   \n",
      "7  Alveolar epithelial glycocalyx degradation med...  34874923    10090   \n",
      "8  Alveolar epithelial glycocalyx degradation med...  34874923     9606   \n",
      "9  Alveolar epithelial glycocalyx degradation med...  34874923    11309   \n",
      "\n",
      "                                             taxname text match?  \n",
      "0                            Lycopersicon esculentum          no  \n",
      "1                mice|Mice|Murine|Mouse|murine|mouse          no  \n",
      "2  human|women|humans|Patients|Participants|parti...          no  \n",
      "3                influenza virus|Influenza|influenza          no  \n",
      "4                           Flavobacterium heparinum          no  \n",
      "5  severe acute respiratory syndrome coronavirus ...          no  \n",
      "6                            Lycopersicon esculentum          no  \n",
      "7                mice|Mice|Murine|Mouse|murine|mouse         yes  \n",
      "8  human|women|humans|Patients|Participants|parti...         yes  \n",
      "9                influenza virus|Influenza|influenza          no  \n"
     ]
    }
   ],
   "source": [
    "#### Test the function for doing so\n",
    "\n",
    "test_df['text match?'] = test_df.apply(lambda row: confirm_result(row), axis=1)\n",
    "print(test_df.head(n=10))"
   ]
  },
  {
   "cell_type": "code",
   "execution_count": 104,
   "id": "9bb7ccf7",
   "metadata": {},
   "outputs": [],
   "source": [
    "#### Apply the function to determine if a record had a term that matched with at least one of the taxa names\n",
    "\n",
    "merged_df['text match?'] = merged_df.apply(lambda row: confirm_result(row), axis=1)"
   ]
  },
  {
   "cell_type": "code",
   "execution_count": 105,
   "id": "7d286041",
   "metadata": {},
   "outputs": [
    {
     "name": "stdout",
     "output_type": "stream",
     "text": [
      "233789\n"
     ]
    }
   ],
   "source": [
    "#### Filter out the ones that didn't\n",
    "\n",
    "good_df = merged_df.loc[merged_df['text match?']=='yes']\n",
    "print(len(good_df))"
   ]
  },
  {
   "cell_type": "code",
   "execution_count": 107,
   "id": "8f8d184c",
   "metadata": {},
   "outputs": [
    {
     "name": "stdout",
     "output_type": "stream",
     "text": [
      "                    _id                                        description  \\\n",
      "7         GEO_GSE186705  Acute Respiratory Distress Syndrome (ARDS) is ...   \n",
      "8         GEO_GSE186705  Acute Respiratory Distress Syndrome (ARDS) is ...   \n",
      "12   OMICSDI_PRJNA74531  Streptococcus agalactiae STIR-CD-17 Genome seq...   \n",
      "13  OMICSDI_PRJNA754436  CRISPR-Cas9 generated SARM1 knockout and epito...   \n",
      "14        GEO_GSE182091  The aim of this study was initially to determi...   \n",
      "\n",
      "                                                 name      pmid  taxid  \\\n",
      "7   Alveolar epithelial glycocalyx degradation med...  34874923  10090   \n",
      "8   Alveolar epithelial glycocalyx degradation med...  34874923   9606   \n",
      "12                Streptococcus agalactiae STIR-CD-17  23105075   1311   \n",
      "13  CRISPR-Cas9 generated SARM1 knockout and epito...  34793837  10090   \n",
      "14  CRISPR-Cas9 generated SARM1 knockout and epito...  34793837  10090   \n",
      "\n",
      "                                              taxname text match?  \n",
      "7                 mice|Mice|Murine|Mouse|murine|mouse         yes  \n",
      "8   human|women|humans|Patients|Participants|parti...         yes  \n",
      "12             Streptococcus agalactiae|S. agalactiae         yes  \n",
      "13                                  mice|Murine|mouse         yes  \n",
      "14                                  mice|Murine|mouse         yes  \n"
     ]
    }
   ],
   "source": [
    "#### Inspect the resulting table\n",
    "print(good_df.head(n=5))"
   ]
  },
  {
   "cell_type": "code",
   "execution_count": 109,
   "id": "bedad0ca",
   "metadata": {},
   "outputs": [],
   "source": [
    "#### Export the results so we don't have to do that again\n",
    "good_df.to_csv('data/taxa_found.tsv',sep='\\t',header=0)"
   ]
  },
  {
   "cell_type": "markdown",
   "id": "bf6465dd",
   "metadata": {},
   "source": [
    "## Checking Metadata differences between OMICS-DI and GEO\n",
    "\n",
    "1. Compare lengths of names and descriptions\n",
    "2. For duplicate records in this sample, pull 'species', 'measurementTechnique', and 'infectiousAgent' fields to compare the data from the two repos"
   ]
  },
  {
   "cell_type": "code",
   "execution_count": 3,
   "id": "48efcc22",
   "metadata": {},
   "outputs": [
    {
     "name": "stderr",
     "output_type": "stream",
     "text": [
      "C:\\Users\\gtsueng\\AppData\\Local\\Temp\\ipykernel_2404\\3461289109.py:1: DtypeWarning: Columns (4) have mixed types. Specify dtype option on import or set low_memory=False.\n",
      "  df3 = read_csv('data/citation_df_clean.tsv',delimiter='\\t',header=0,index_col=0)\n"
     ]
    }
   ],
   "source": [
    "df3 = read_csv('data/citation_df_clean.tsv',delimiter='\\t',header=0,index_col=0)"
   ]
  },
  {
   "cell_type": "code",
   "execution_count": 3,
   "id": "ff3bfc45",
   "metadata": {},
   "outputs": [
    {
     "name": "stdout",
     "output_type": "stream",
     "text": [
      "                   _id                                        description  \\\n",
      "0  OMICSDI_PRJNA775608  Alveolar epithelial glycocalyx degradation med...   \n",
      "1   OMICSDI_PRJNA74531  Streptococcus agalactiae STIR-CD-17 Genome seq...   \n",
      "\n",
      "                                                name      pmid  \n",
      "0  Alveolar epithelial glycocalyx degradation med...  34874923  \n",
      "1                Streptococcus agalactiae STIR-CD-17  23105075  \n"
     ]
    }
   ],
   "source": [
    "print(df3.head(n=2))"
   ]
  },
  {
   "cell_type": "code",
   "execution_count": 4,
   "id": "c3cbc83a",
   "metadata": {},
   "outputs": [
    {
     "name": "stdout",
     "output_type": "stream",
     "text": [
      "57686\n"
     ]
    }
   ],
   "source": [
    "#### Find duplicate records\n",
    "## Since each record has a unique id, if we group by the name and citation pmid, we'll find duplicate records\n",
    "df3['pmid'] = df3['pmid'].astype(str)\n",
    "df3_counts = df3.groupby(['name','pmid']).size().reset_index(name='counts')\n",
    "rep_subset = df3_counts.loc[df3_counts['counts']>1]\n",
    "print(len(rep_subset))"
   ]
  },
  {
   "cell_type": "code",
   "execution_count": 5,
   "id": "5ab7bf87",
   "metadata": {},
   "outputs": [
    {
     "name": "stdout",
     "output_type": "stream",
     "text": [
      "55654 44000\n"
     ]
    }
   ],
   "source": [
    "#### Check to see if the number of unique names matches that of the number of unique citation records\n",
    "## Note, it does not. There are more unique names than pmids, therefore, some datasets cite the same pmid\n",
    "unique_names = rep_subset['name'].unique().tolist()\n",
    "unique_pmids = rep_subset['pmid'].unique().tolist()\n",
    "print(len(unique_names),len(unique_pmids))"
   ]
  },
  {
   "cell_type": "code",
   "execution_count": 6,
   "id": "da57ea6e",
   "metadata": {},
   "outputs": [
    {
     "name": "stdout",
     "output_type": "stream",
     "text": [
      "                                                     name      pmid  counts\n",
      "136334                                       Mus musculus  34830319      48\n",
      "186788  The relationship betweem bacterial community s...  28018299      43\n",
      "14441                                Arabidopsis thaliana  15656970      38\n",
      "101028                                       Homo sapiens  28888135      26\n",
      "93001                                        Homo sapiens  12704389      25\n"
     ]
    }
   ],
   "source": [
    "#### Check to see if there are replicates (multiples of more than 2) \n",
    "print(df3_counts.sort_values('counts',ascending=False).head(n=5))"
   ]
  },
  {
   "cell_type": "code",
   "execution_count": 7,
   "id": "712844f4",
   "metadata": {},
   "outputs": [
    {
     "name": "stdout",
     "output_type": "stream",
     "text": [
      "                                                name      pmid  counts  \\\n",
      "0  'Bois noir' phytoplasma induces significant re...  19799775       2   \n",
      "1  'Bois noir' phytoplasma induces significant re...  19799775       2   \n",
      "2  (1) Murine CD4 T cells: naïve vs peptide treat...  21490154       2   \n",
      "3  (1) Murine CD4 T cells: naïve vs peptide treat...  21490154       2   \n",
      "4  (2-Benzimidazolyl)acetonitrile derivative for ...  30466066       2   \n",
      "5  (2-Benzimidazolyl)acetonitrile derivative for ...  30466066       2   \n",
      "\n",
      "                    _id                                        description  \n",
      "0  OMICSDI_E-GEOD-10906  Transcriptional profiling of Vitis vinifera cv...  \n",
      "1          GEO_GSE10906  Transcriptional profiling of Vitis vinifera cv...  \n",
      "2      OMICSDI_GSE26908  (1) Transcriptional profiling of mouse CD4 T c...  \n",
      "3          GEO_GSE26908  (1) Transcriptional profiling of mouse CD4 T c...  \n",
      "4     OMICSDI_GSE115918  Natural chemical modifications to 5-formylurac...  \n",
      "5         GEO_GSE115918  Natural chemical modifications to 5-formylurac...  \n"
     ]
    }
   ],
   "source": [
    "#### Using only name and pmid can result in multiple replicates. These may need special handling\n",
    "#### The issue of replicates may be due to both OMICS-DI ingestion of GEO and versioning\n",
    "#### First address the duplicates only as these will likely be due to OMICS-DI ingestion of GEO\n",
    "\n",
    "\n",
    "dup_freq_subset = rep_subset.loc[rep_subset['counts']<3]\n",
    "dup_subset = dup_freq_subset.merge(df3,on=['name','pmid'],how='left')\n",
    "print(dup_subset.head(n=6))"
   ]
  },
  {
   "cell_type": "code",
   "execution_count": 8,
   "id": "dda8897d",
   "metadata": {},
   "outputs": [
    {
     "name": "stdout",
     "output_type": "stream",
     "text": [
      "                                              name      pmid  counts  \\\n",
      "49476                        Human Leukocytes SAGE  10419873       2   \n",
      "49856   Human mammary epithelium and breast cancer  10430922       2   \n",
      "22197                Diffuse large B-cell lymphoma  10676951       2   \n",
      "65516      NCI cDNA microarray-human 60 cell lines  10700174       2   \n",
      "104861           snf/swi mutants of S. cerevisiae.  10725359       2   \n",
      "\n",
      "             GEO_id                                           GEO_desc  \n",
      "49476   GEO_GSE5833  This series represents the human leukocyte SAG...  \n",
      "49856     GEO_GSE53  Distinctive gene expression patterns in human ...  \n",
      "22197     GEO_GSE60  Diffuse large B-cell lymphoma (DLBCL), the mos...  \n",
      "65516   GEO_GSE2003  We used cDNA microarrays to explore the variat...  \n",
      "104861    GEO_GSE21  The Saccharomyces cerevisiae Snf/Swi complex h...  \n",
      "===================\n",
      "                                              name      pmid  counts  \\\n",
      "49477                        Human Leukocytes SAGE  10419873       2   \n",
      "49857   Human mammary epithelium and breast cancer  10430922       2   \n",
      "22196                Diffuse large B-cell lymphoma  10676951       2   \n",
      "49641                      Human cancer cell lines  10700174       2   \n",
      "104860           snf/swi mutants of S. cerevisiae.  10725359       2   \n",
      "\n",
      "                 OMICS_id                                         OMICS_desc  \n",
      "49477     OMICSDI_GSE5833  This series represents the human leukocyte SAG...  \n",
      "49857   OMICSDI_E-GEOD-53  Distinctive gene expression patterns in human ...  \n",
      "22196   OMICSDI_E-GEOD-60  Diffuse large B-cell lymphoma (DLBCL), the mos...  \n",
      "49641       OMICSDI_GSE59  We used cDNA microarrays to explore the variat...  \n",
      "104860      OMICSDI_GSE21  The Saccharomyces cerevisiae Snf/Swi complex h...  \n",
      "===================\n",
      "                                         name      pmid  counts       GEO_id  \\\n",
      "0                       Human Leukocytes SAGE  10419873       2  GEO_GSE5833   \n",
      "1  Human mammary epithelium and breast cancer  10430922       2    GEO_GSE53   \n",
      "\n",
      "                                            GEO_desc           OMICS_id  \\\n",
      "0  This series represents the human leukocyte SAG...    OMICSDI_GSE5833   \n",
      "1  Distinctive gene expression patterns in human ...  OMICSDI_E-GEOD-53   \n",
      "\n",
      "                                          OMICS_desc  \n",
      "0  This series represents the human leukocyte SAG...  \n",
      "1  Distinctive gene expression patterns in human ...  \n"
     ]
    }
   ],
   "source": [
    "#### Get pairs of ids\n",
    "## Sort the data frame by pmid (to get pairs), then by _id (to ensure orderting)\n",
    "## Generate one dataframe by dropping duplicates (subset pmid, keeping first)\n",
    "## Generate second dataframe by dropping duplicates (subset pmid, keeping list)\n",
    "## Merge the two to get pairs of data\n",
    "\n",
    "dup_subset.sort_values(by=['pmid','_id'], inplace=True)\n",
    "keep_first = dup_subset.drop_duplicates(subset='pmid',keep='first').copy()\n",
    "keep_last = dup_subset.drop_duplicates(subset='pmid',keep='last').copy()\n",
    "keep_first.rename(columns={'_id':'GEO_id','description':'GEO_desc'},inplace=True)\n",
    "keep_last.rename(columns={'_id':'OMICS_id','description':'OMICS_desc'},inplace=True)\n",
    "print(keep_first.head(n=5))\n",
    "print(\"===================\")\n",
    "print(keep_last.head(n=5))\n",
    "print(\"===================\")\n",
    "clean_dup_df = keep_first.merge(keep_last,on=['name','pmid','counts'],how='inner')\n",
    "print(clean_dup_df.head(n=2))"
   ]
  },
  {
   "cell_type": "code",
   "execution_count": 9,
   "id": "a0c9c554",
   "metadata": {},
   "outputs": [],
   "source": [
    "def compare_desc_length(row):\n",
    "    if row['GEO_desc_len'] > row['OMICS_desc_len']:\n",
    "        compare_result = 'GEO longer'\n",
    "    elif row['GEO_desc_len'] < row['OMICS_desc_len']:\n",
    "        compare_result = 'OMICS longer'\n",
    "    elif row['GEO_desc_len'] == row['OMICS_desc_len']:\n",
    "        compare_result = 'same length'\n",
    "    return compare_result"
   ]
  },
  {
   "cell_type": "code",
   "execution_count": 10,
   "id": "0d304bb3",
   "metadata": {},
   "outputs": [
    {
     "name": "stdout",
     "output_type": "stream",
     "text": [
      "                                         name      pmid  counts       GEO_id  \\\n",
      "0                       Human Leukocytes SAGE  10419873       2  GEO_GSE5833   \n",
      "1  Human mammary epithelium and breast cancer  10430922       2    GEO_GSE53   \n",
      "\n",
      "                                            GEO_desc           OMICS_id  \\\n",
      "0  This series represents the human leukocyte SAG...    OMICSDI_GSE5833   \n",
      "1  Distinctive gene expression patterns in human ...  OMICSDI_E-GEOD-53   \n",
      "\n",
      "                                          OMICS_desc  GEO_desc_len  \\\n",
      "0  This series represents the human leukocyte SAG...           107   \n",
      "1  Distinctive gene expression patterns in human ...          1496   \n",
      "\n",
      "   OMICS_desc_len       compare  \n",
      "0             502  OMICS longer  \n",
      "1            1482    GEO longer  \n"
     ]
    }
   ],
   "source": [
    "## compare lengths of descriptions\n",
    "clean_dup_df['GEO_desc_len'] = clean_dup_df['GEO_desc'].str.len()\n",
    "clean_dup_df['OMICS_desc_len'] = clean_dup_df['OMICS_desc'].str.len()\n",
    "clean_dup_df['compare'] = clean_dup_df.apply(lambda row : compare_desc_length(row), axis = 1)\n",
    "print(clean_dup_df.head(n=2))"
   ]
  },
  {
   "cell_type": "code",
   "execution_count": 11,
   "id": "8bc4606f",
   "metadata": {},
   "outputs": [
    {
     "name": "stdout",
     "output_type": "stream",
     "text": [
      "GEO_GSE5833 This series represents the human leukocyte SAGE library collection. Keywords: Human Leukocytes, Blood, SAGE\n",
      "================================\n",
      "OMICSDI_GSE5833 This series represents the human leukocyte SAGE library collection. Keywords: Human Leukocytes, Blood, SAGE Overall design: Leukocytes are classified as myelocytic or lymphocytic, and each class of leukocytes consists of several types of cells that have different phenotypes and different roles. To define the gene expression in these cells, we have performed SAGE using human leukocytes and have provided the gene database for these cells not only at the resting stage but also at the activated stage.\n"
     ]
    }
   ],
   "source": [
    "print(clean_dup_df.iloc[0]['GEO_id'],clean_dup_df.iloc[0]['GEO_desc'])\n",
    "print('================================')\n",
    "print(clean_dup_df.iloc[0]['OMICS_id'],clean_dup_df.iloc[0]['OMICS_desc'])"
   ]
  },
  {
   "cell_type": "markdown",
   "id": "88d02968",
   "metadata": {},
   "source": [
    "### Summary of comparison of duplicate descriptions"
   ]
  },
  {
   "cell_type": "code",
   "execution_count": 16,
   "id": "5bbdb902",
   "metadata": {},
   "outputs": [
    {
     "name": "stdout",
     "output_type": "stream",
     "text": [
      "compare\n",
      "GEO longer      11858\n",
      "OMICS longer    22661\n",
      "same length       520\n",
      "dtype: int64\n",
      "replicates (>3):  378\n",
      "triplicates (=3):  4757\n",
      "duplicates (=2):  52551\n"
     ]
    }
   ],
   "source": [
    "summarydf = clean_dup_df.groupby('compare').size()\n",
    "print(summarydf)\n",
    "\n",
    "rep_freq_subset = rep_subset.loc[rep_subset['counts']>3].copy()\n",
    "trip_freq_subset = rep_subset.loc[rep_subset['counts']==3].copy()\n",
    "\n",
    "print(\"replicates (>3): \", len(rep_freq_subset))\n",
    "print(\"triplicates (=3): \",len(trip_freq_subset))\n",
    "print(\"duplicates (=2): \", len(dup_freq_subset))"
   ]
  },
  {
   "cell_type": "markdown",
   "id": "888e53e9",
   "metadata": {},
   "source": [
    "Issue of replicates and triplicates seems to primarily be due to the use of a species name as the name of the dataset. These types of datasets are likely to cite the same PMID paper describing the species and may consist of wholly different datasets based on the descriptions"
   ]
  },
  {
   "cell_type": "markdown",
   "id": "194a16b9",
   "metadata": {},
   "source": [
    "### Investigate source of triplicate records"
   ]
  },
  {
   "cell_type": "code",
   "execution_count": 25,
   "id": "63c027a1",
   "metadata": {},
   "outputs": [
    {
     "name": "stdout",
     "output_type": "stream",
     "text": [
      "                                                   name      pmid  counts  \\\n",
      "663                                   Rattus norvegicus  11158336       3   \n",
      "664                                   Rattus norvegicus  11158336       3   \n",
      "665                                   Rattus norvegicus  11158336       3   \n",
      "840                            Saccharomyces cerevisiae  12524544       3   \n",
      "841                            Saccharomyces cerevisiae  12524544       3   \n",
      "842                            Saccharomyces cerevisiae  12524544       3   \n",
      "744                              Bacillus_anthracis_CGH  12721629       3   \n",
      "745                              Bacillus_anthracis_CGH  12721629       3   \n",
      "746                              Bacillus_anthracis_CGH  12721629       3   \n",
      "153                                        Mus musculus  12819134       3   \n",
      "154                                        Mus musculus  12819134       3   \n",
      "155                                        Mus musculus  12819134       3   \n",
      "165                                        Homo sapiens  14695408       3   \n",
      "166                                        Homo sapiens  14695408       3   \n",
      "167                                        Homo sapiens  14695408       3   \n",
      "645                                     Vibrio cholerae  14983042       3   \n",
      "646                                     Vibrio cholerae  14983042       3   \n",
      "647                                     Vibrio cholerae  14983042       3   \n",
      "1581  Cross-species Detection in Barley1 GeneChip Array  15020760       3   \n",
      "1582  Cross-species Detection in Barley1 GeneChip Array  15020760       3   \n",
      "1583  Cross-species Detection in Barley1 GeneChip Array  15020760       3   \n",
      "\n",
      "      name_length                   _id  \\\n",
      "663            17    OMICSDI_PRJNA87763   \n",
      "664            17    OMICSDI_PRJNA87771   \n",
      "665            17    OMICSDI_PRJNA87759   \n",
      "840            24    OMICSDI_PRJNA84471   \n",
      "841            24    OMICSDI_PRJNA85491   \n",
      "842            24    OMICSDI_PRJNA85493   \n",
      "744            22    OMICSDI_E-GEOD-341   \n",
      "745            22            GEO_GSE341   \n",
      "746            22    OMICSDI_PRJNA84823   \n",
      "153            12   OMICSDI_PRJNA104925   \n",
      "154            12   OMICSDI_PRJNA104927   \n",
      "155            12   OMICSDI_PRJNA104923   \n",
      "165            12    OMICSDI_PRJNA87699   \n",
      "166            12    OMICSDI_PRJNA87701   \n",
      "167            12    OMICSDI_PRJNA87703   \n",
      "645            15   OMICSDI_PRJNA104793   \n",
      "646            15   OMICSDI_PRJNA104787   \n",
      "647            15   OMICSDI_PRJNA104785   \n",
      "1581           49  OMICSDI_E-GEOD-33391   \n",
      "1582           49   OMICSDI_PRJNA149123   \n",
      "1583           49          GEO_GSE33391   \n",
      "\n",
      "                                            description  \n",
      "663                              GH inj old liver (1-7)  \n",
      "664                    GH inj old male rat muscle (1-3)  \n",
      "665                                 effect of age liver  \n",
      "840   zzYra1 co-IPed RNA vs. zzMex67 co-IPed RNA (zz...  \n",
      "841   zzMex67 co-IPed RNA vs. zz co-IPed RNA (zzMex6...  \n",
      "842   zzYra1 co-IPed RNA vs. zz co-IPed RNA (zzYra1I...  \n",
      "744   Analysis of genomic content of closely related...  \n",
      "745   Analysis of genomic content of closely related...  \n",
      "746                              Bacillus_anthracis_CGH  \n",
      "153                            BMM_BalbC_LPS_timecourse  \n",
      "154                          BMM_C3H/HeJ_LPS_timecourse  \n",
      "155                          BMM_C3H/ARC_LPS_timecourse  \n",
      "165                                 MRI-no-lytic-lesion  \n",
      "166                                    MRI-lytic-lesion  \n",
      "167                      MRI lytic and no lytic lesions  \n",
      "645                                       Chitin sensor  \n",
      "646                               Crab shell attachment  \n",
      "647                    Chitin oligosaccharide induction  \n",
      "1581  This study was conducted to evaluate the effic...  \n",
      "1582  Cross-species Detection in Barley1 GeneChip Array  \n",
      "1583  This study was conducted to evaluate the effic...  \n"
     ]
    }
   ],
   "source": [
    "\n",
    "trip_subset = trip_freq_subset.merge(df3,on=['name','pmid'],how='left')\n",
    "trip_subset.sort_values(by=['pmid','name'],inplace=True)\n",
    "trip_subset.to_csv('data/triplicates_by_name_and_pmid.tsv', sep='\\t',header=True)\n",
    "print(trip_subset.head(n=21))"
   ]
  },
  {
   "cell_type": "markdown",
   "id": "0d52a6d0",
   "metadata": {},
   "source": [
    "Triplicates appear to be mostly having the same issue with replicates, but with occasional duplicates mixed in where the name of the duplicates is short and simple enough to get mixed in with other unrelated records with matching names"
   ]
  },
  {
   "cell_type": "markdown",
   "id": "fd53f88c",
   "metadata": {},
   "source": [
    "### Identify a heuristic for ommitting replicates based on name length or match to a species name"
   ]
  },
  {
   "cell_type": "code",
   "execution_count": 18,
   "id": "51206072",
   "metadata": {},
   "outputs": [
    {
     "name": "stdout",
     "output_type": "stream",
     "text": [
      "replicates:  min:  12 max:  176 mean:  74.33068783068784\n",
      "triplicates:  min:  5 max:  249 mean:  92.59701492537313\n",
      "duplicates:  min:  2 max:  255 mean:  91.43451123670339\n"
     ]
    },
    {
     "name": "stderr",
     "output_type": "stream",
     "text": [
      "C:\\Users\\gtsueng\\AppData\\Local\\Temp\\ipykernel_2404\\2291798142.py:16: SettingWithCopyWarning: \n",
      "A value is trying to be set on a copy of a slice from a DataFrame.\n",
      "Try using .loc[row_indexer,col_indexer] = value instead\n",
      "\n",
      "See the caveats in the documentation: https://pandas.pydata.org/pandas-docs/stable/user_guide/indexing.html#returning-a-view-versus-a-copy\n",
      "  dup_freq_subset['name_length'] = dup_freq_subset['name'].str.len()\n",
      "C:\\Users\\gtsueng\\AppData\\Local\\Temp\\ipykernel_2404\\2291798142.py:17: SettingWithCopyWarning: \n",
      "A value is trying to be set on a copy of a slice from a DataFrame\n",
      "\n",
      "See the caveats in the documentation: https://pandas.pydata.org/pandas-docs/stable/user_guide/indexing.html#returning-a-view-versus-a-copy\n",
      "  dup_freq_subset.sort_values(by='name_length',ascending=True,inplace=True)\n"
     ]
    }
   ],
   "source": [
    "### Inspecting name lengths\n",
    "rep_freq_subset['name_length'] = rep_freq_subset['name'].str.len()\n",
    "rep_freq_subset.sort_values(by='name_length',ascending=True,inplace=True)\n",
    "rep_name_mean = rep_freq_subset['name_length'].mean()\n",
    "rep_name_min = rep_freq_subset['name_length'].min() \n",
    "rep_name_max = rep_freq_subset['name_length'].max()\n",
    "print(\"replicates: \", \"min: \", rep_name_min, \"max: \", rep_name_max, \"mean: \", rep_name_mean)\n",
    "\n",
    "trip_freq_subset['name_length'] = trip_freq_subset['name'].str.len()\n",
    "trip_freq_subset.sort_values(by='name_length',ascending=True,inplace=True)\n",
    "trip_name_mean = trip_freq_subset['name_length'].mean()\n",
    "trip_name_min = trip_freq_subset['name_length'].min() \n",
    "trip_name_max = trip_freq_subset['name_length'].max()\n",
    "print(\"triplicates: \", \"min: \", trip_name_min, \"max: \", trip_name_max, \"mean: \", trip_name_mean)\n",
    "\n",
    "dup_freq_subset['name_length'] = dup_freq_subset['name'].str.len()\n",
    "dup_freq_subset.sort_values(by='name_length',ascending=True,inplace=True)\n",
    "dup_name_mean = dup_freq_subset['name_length'].mean()\n",
    "dup_name_min = dup_freq_subset['name_length'].min() \n",
    "dup_name_max = dup_freq_subset['name_length'].max()\n",
    "print(\"duplicates: \", \"min: \", dup_name_min, \"max: \", dup_name_max, \"mean: \", dup_name_mean)"
   ]
  },
  {
   "cell_type": "code",
   "execution_count": 19,
   "id": "b06939f2",
   "metadata": {},
   "outputs": [
    {
     "name": "stdout",
     "output_type": "stream",
     "text": [
      "                name      pmid  counts  name_length\n",
      "135193  Mus musculus  28385888      14           12\n",
      "99065   Homo sapiens  26385698       4           12\n",
      "99099   Homo sapiens  26416749       4           12\n",
      "          name      pmid  counts  name_length\n",
      "180591   Tbx-2  34819350       3            5\n",
      "16988   BCL11B  28232744       3            6\n",
      "113934  Jmjd1c  26878175       3            6\n",
      "       name      pmid  counts  name_length\n",
      "119628   MP  12704389       2            2\n",
      "636     58C  25159868       2            3\n",
      "137522  NBS  25159868       2            3\n"
     ]
    }
   ],
   "source": [
    "print(rep_freq_subset.head(n=3))\n",
    "\n",
    "print(trip_freq_subset.head(n=3))\n",
    "\n",
    "print(dup_freq_subset.head(n=3))"
   ]
  },
  {
   "cell_type": "code",
   "execution_count": 20,
   "id": "cbf8c4d8",
   "metadata": {},
   "outputs": [
    {
     "name": "stdout",
     "output_type": "stream",
     "text": [
      "reps at 25 :                                  name      pmid  counts  name_length\n",
      "176656    Synechocystis sp. PCC 6803  17910763       5           26\n",
      "142794   Oryza sativa Japonica Group  23180784       7           27\n",
      "39666   Corynebacterium glutamicum R  29148103       4           28\n",
      "trips at 25 :                                name      pmid  counts  name_length\n",
      "169229  Simplified ChIP-exo assays  30030442       3           26\n",
      "212890  marine sediment metagenome  25916483       3           26\n",
      "17088   BET bromodomain inhibition  28515341       3           26\n",
      "trips at 25 :                                name      pmid  counts  name_length\n",
      "10423   Alpha-factor block-release   9843569       2           26\n",
      "136868  Mycobacterium tuberculosis  23222129       2           26\n",
      "188602  Time-ChIP in ESCs and NSCs  27304074       2           26\n",
      "reps at 50 :                                                       name      pmid  counts  \\\n",
      "197187  Transcriptional responses to macrophage phagoc...  34903044       6   \n",
      "48589   Direct induction of retinal ganglion cell-like...  33096050       4   \n",
      "144096  PML is a ROS sensor activating p53 upon oxidat...  28931625       4   \n",
      "\n",
      "        name_length  \n",
      "197187           52  \n",
      "48589            54  \n",
      "144096           56  \n",
      "trips at 50 :                                                       name      pmid  counts  \\\n",
      "75405   Gene expression pattern of primed human neutro...  35443164       3   \n",
      "189876  Transcript profiling in WT and CRTC3 KO A375 c...  34010639       3   \n",
      "118865  M. tuberculosis-M. bovis transcriptional compa...  17433778       3   \n",
      "\n",
      "        name_length  \n",
      "75405            51  \n",
      "189876           51  \n",
      "118865           51  \n",
      "trips at 50 :                                                       name      pmid  counts  \\\n",
      "213055  miR-200c induction in Met-1 mammary carcionma ...  34045467       2   \n",
      "62696   Expression data from LSK WT, GMP WT and GMP Nc...  21562564       2   \n",
      "126672  Mnase-Seq study of Arabidopsis thaliana mutant...  29048607       2   \n",
      "\n",
      "        name_length  \n",
      "213055           51  \n",
      "62696            51  \n",
      "126672           51  \n",
      "reps at 75 :                                                       name      pmid  counts  \\\n",
      "205219  Urinary exosomal small non-coding RNA expressi...  32191585       4   \n",
      "120834  Mapping the Degradable Kinome: A Resource for ...  33275901      12   \n",
      "116850  Linking chromatin acylation mark-defined prote...  36868209       5   \n",
      "\n",
      "        name_length  \n",
      "205219           76  \n",
      "120834           76  \n",
      "116850           76  \n",
      "trips at 75 :                                                       name      pmid  counts  \\\n",
      "9645    Age and Sex Influence the Hippocampal Response...  31278440       3   \n",
      "152876  R-loops and PRC1 repress Polycomb-target genes...  30709709       3   \n",
      "21568   CHRAC/ACF Contribute to the Repressive Ground ...  30456345       3   \n",
      "\n",
      "        name_length  \n",
      "9645             76  \n",
      "152876           76  \n",
      "21568            76  \n",
      "trips at 75 :                                                       name      pmid  counts  \\\n",
      "45734   Detection of cryptic unstable transcripts asso...  31740578       2   \n",
      "114807  Knockout mice reveal key roles for claudin-18 ...  24588076       2   \n",
      "55854   Effects of the antibacterial compund Allicin f...  27008862       2   \n",
      "\n",
      "        name_length  \n",
      "45734            76  \n",
      "114807           76  \n",
      "55854            76  \n",
      "reps at 90 :                                                       name      pmid  counts  \\\n",
      "173472  Spatiotemporal single-cell analysis of gene ex...  32066983       5   \n",
      "148911  Primary human lung fibroblast cells transcript...  34051754       4   \n",
      "205600  Vaccine-elicited CD4 T cells prevent the delet...  34772811       4   \n",
      "\n",
      "        name_length  \n",
      "173472           91  \n",
      "148911           91  \n",
      "205600           91  \n",
      "trips at 90 :                                                      name      pmid  counts  \\\n",
      "53291  Early-life exposure to genistein alters glucoc...  29624291       3   \n",
      "34481  Comparative analysis of gene expression of SLC...  30670494       3   \n",
      "36307  Comparison of methods for the characterization...  31367240       3   \n",
      "\n",
      "       name_length  \n",
      "53291           91  \n",
      "34481           91  \n",
      "36307           91  \n",
      "trips at 90 :                                                       name      pmid  counts  \\\n",
      "1564    A Chinese hamster transcription start site atl...  34268494       2   \n",
      "189600  Tracing pluripotency of human early embryos an...  23934149       2   \n",
      "139055  Neutrophils oppose uterine epithelial carcinog...  26678340       2   \n",
      "\n",
      "        name_length  \n",
      "1564             91  \n",
      "189600           91  \n",
      "139055           91  \n"
     ]
    },
    {
     "name": "stderr",
     "output_type": "stream",
     "text": [
      "C:\\Users\\gtsueng\\AppData\\Local\\Temp\\ipykernel_2404\\2259630521.py:5: SettingWithCopyWarning: \n",
      "A value is trying to be set on a copy of a slice from a DataFrame\n",
      "\n",
      "See the caveats in the documentation: https://pandas.pydata.org/pandas-docs/stable/user_guide/indexing.html#returning-a-view-versus-a-copy\n",
      "  tmprepdf.sort_values('name_length',ascending=True,inplace=True)\n",
      "C:\\Users\\gtsueng\\AppData\\Local\\Temp\\ipykernel_2404\\2259630521.py:8: SettingWithCopyWarning: \n",
      "A value is trying to be set on a copy of a slice from a DataFrame\n",
      "\n",
      "See the caveats in the documentation: https://pandas.pydata.org/pandas-docs/stable/user_guide/indexing.html#returning-a-view-versus-a-copy\n",
      "  tmptripdf.sort_values('name_length',ascending=True,inplace=True)\n",
      "C:\\Users\\gtsueng\\AppData\\Local\\Temp\\ipykernel_2404\\2259630521.py:11: SettingWithCopyWarning: \n",
      "A value is trying to be set on a copy of a slice from a DataFrame\n",
      "\n",
      "See the caveats in the documentation: https://pandas.pydata.org/pandas-docs/stable/user_guide/indexing.html#returning-a-view-versus-a-copy\n",
      "  tmpdupdf.sort_values('name_length',ascending=True,inplace=True)\n",
      "C:\\Users\\gtsueng\\AppData\\Local\\Temp\\ipykernel_2404\\2259630521.py:5: SettingWithCopyWarning: \n",
      "A value is trying to be set on a copy of a slice from a DataFrame\n",
      "\n",
      "See the caveats in the documentation: https://pandas.pydata.org/pandas-docs/stable/user_guide/indexing.html#returning-a-view-versus-a-copy\n",
      "  tmprepdf.sort_values('name_length',ascending=True,inplace=True)\n",
      "C:\\Users\\gtsueng\\AppData\\Local\\Temp\\ipykernel_2404\\2259630521.py:8: SettingWithCopyWarning: \n",
      "A value is trying to be set on a copy of a slice from a DataFrame\n",
      "\n",
      "See the caveats in the documentation: https://pandas.pydata.org/pandas-docs/stable/user_guide/indexing.html#returning-a-view-versus-a-copy\n",
      "  tmptripdf.sort_values('name_length',ascending=True,inplace=True)\n",
      "C:\\Users\\gtsueng\\AppData\\Local\\Temp\\ipykernel_2404\\2259630521.py:11: SettingWithCopyWarning: \n",
      "A value is trying to be set on a copy of a slice from a DataFrame\n",
      "\n",
      "See the caveats in the documentation: https://pandas.pydata.org/pandas-docs/stable/user_guide/indexing.html#returning-a-view-versus-a-copy\n",
      "  tmpdupdf.sort_values('name_length',ascending=True,inplace=True)\n",
      "C:\\Users\\gtsueng\\AppData\\Local\\Temp\\ipykernel_2404\\2259630521.py:5: SettingWithCopyWarning: \n",
      "A value is trying to be set on a copy of a slice from a DataFrame\n",
      "\n",
      "See the caveats in the documentation: https://pandas.pydata.org/pandas-docs/stable/user_guide/indexing.html#returning-a-view-versus-a-copy\n",
      "  tmprepdf.sort_values('name_length',ascending=True,inplace=True)\n",
      "C:\\Users\\gtsueng\\AppData\\Local\\Temp\\ipykernel_2404\\2259630521.py:8: SettingWithCopyWarning: \n",
      "A value is trying to be set on a copy of a slice from a DataFrame\n",
      "\n",
      "See the caveats in the documentation: https://pandas.pydata.org/pandas-docs/stable/user_guide/indexing.html#returning-a-view-versus-a-copy\n",
      "  tmptripdf.sort_values('name_length',ascending=True,inplace=True)\n",
      "C:\\Users\\gtsueng\\AppData\\Local\\Temp\\ipykernel_2404\\2259630521.py:11: SettingWithCopyWarning: \n",
      "A value is trying to be set on a copy of a slice from a DataFrame\n",
      "\n",
      "See the caveats in the documentation: https://pandas.pydata.org/pandas-docs/stable/user_guide/indexing.html#returning-a-view-versus-a-copy\n",
      "  tmpdupdf.sort_values('name_length',ascending=True,inplace=True)\n",
      "C:\\Users\\gtsueng\\AppData\\Local\\Temp\\ipykernel_2404\\2259630521.py:5: SettingWithCopyWarning: \n",
      "A value is trying to be set on a copy of a slice from a DataFrame\n",
      "\n",
      "See the caveats in the documentation: https://pandas.pydata.org/pandas-docs/stable/user_guide/indexing.html#returning-a-view-versus-a-copy\n",
      "  tmprepdf.sort_values('name_length',ascending=True,inplace=True)\n",
      "C:\\Users\\gtsueng\\AppData\\Local\\Temp\\ipykernel_2404\\2259630521.py:8: SettingWithCopyWarning: \n",
      "A value is trying to be set on a copy of a slice from a DataFrame\n",
      "\n",
      "See the caveats in the documentation: https://pandas.pydata.org/pandas-docs/stable/user_guide/indexing.html#returning-a-view-versus-a-copy\n",
      "  tmptripdf.sort_values('name_length',ascending=True,inplace=True)\n",
      "C:\\Users\\gtsueng\\AppData\\Local\\Temp\\ipykernel_2404\\2259630521.py:11: SettingWithCopyWarning: \n",
      "A value is trying to be set on a copy of a slice from a DataFrame\n",
      "\n",
      "See the caveats in the documentation: https://pandas.pydata.org/pandas-docs/stable/user_guide/indexing.html#returning-a-view-versus-a-copy\n",
      "  tmpdupdf.sort_values('name_length',ascending=True,inplace=True)\n"
     ]
    }
   ],
   "source": [
    "cutoff_test = [25, 50, 75, 90]\n",
    "\n",
    "for eachcutoff in cutoff_test:\n",
    "    tmprepdf = rep_freq_subset.loc[rep_freq_subset['name_length']>eachcutoff]\n",
    "    tmprepdf.sort_values('name_length',ascending=True,inplace=True)\n",
    "    print(\"reps at \"+str(eachcutoff),\": \",tmprepdf.head(n=3))\n",
    "    tmptripdf = trip_freq_subset.loc[trip_freq_subset['name_length']>eachcutoff]\n",
    "    tmptripdf.sort_values('name_length',ascending=True,inplace=True)\n",
    "    print(\"trips at \"+str(eachcutoff),\": \",tmptripdf.head(n=3))\n",
    "    tmpdupdf = dup_freq_subset.loc[dup_freq_subset['name_length']>eachcutoff]\n",
    "    tmpdupdf.sort_values('name_length',ascending=True,inplace=True)\n",
    "    print(\"trips at \"+str(eachcutoff),\": \",tmpdupdf.head(n=3))"
   ]
  },
  {
   "cell_type": "code",
   "execution_count": 21,
   "id": "6c4e46ff",
   "metadata": {},
   "outputs": [
    {
     "name": "stdout",
     "output_type": "stream",
     "text": [
      "                   _id                                        description  \\\n",
      "0  OMICSDI_PRJNA775608  Alveolar epithelial glycocalyx degradation med...   \n",
      "1   OMICSDI_PRJNA74531  Streptococcus agalactiae STIR-CD-17 Genome seq...   \n",
      "\n",
      "                                                name      pmid  \n",
      "0  Alveolar epithelial glycocalyx degradation med...  34874923  \n",
      "1                Streptococcus agalactiae STIR-CD-17  23105075  \n",
      "813\n"
     ]
    }
   ],
   "source": [
    "print(df3.head(n=2))\n",
    "replicatesdf = df3.merge(tmprepdf, on=['name','pmid'], how='inner')\n",
    "print(len(replicatesdf))"
   ]
  },
  {
   "cell_type": "code",
   "execution_count": null,
   "id": "33f9e0d2",
   "metadata": {},
   "outputs": [],
   "source": []
  }
 ],
 "metadata": {
  "kernelspec": {
   "display_name": "Python 3 (ipykernel)",
   "language": "python",
   "name": "python3"
  },
  "language_info": {
   "codemirror_mode": {
    "name": "ipython",
    "version": 3
   },
   "file_extension": ".py",
   "mimetype": "text/x-python",
   "name": "python",
   "nbconvert_exporter": "python",
   "pygments_lexer": "ipython3",
   "version": "3.10.10"
  }
 },
 "nbformat": 4,
 "nbformat_minor": 5
}
