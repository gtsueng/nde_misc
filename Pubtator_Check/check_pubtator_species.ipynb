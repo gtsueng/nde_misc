{
 "cells": [
  {
   "cell_type": "markdown",
   "id": "6987d7f3",
   "metadata": {},
   "source": [
    "## Inspect whether it is suitable/reasonable to use Pubtator species annotations from cited manuscripts for a dataset\n",
    "\n",
    "Only a small subset of dataset records in NDE have values for the 'species' or 'infectiousAgent' fields. Many datasets have values for the 'citation' field. Pubtator allows [FTP downloads](https://ftp.ncbi.nlm.nih.gov/pub/lu/PubTatorCentral/) of taxonomic extractions/annotations by PMID. Can this approach be used to extrapolate this information for a dataset citing a PMID?\n",
    "\n",
    "About the pubtator file: Each file contains five columns as shown in below:\n",
    "0.   PMID:       PubMed abstract identifier\n",
    "1.  Type:       i.e., gene, disease, chemical, species, and mutation\n",
    "2.  Concept ID: Corresponding database identifier (e.g., NCBIGene ID, MESH ID)\n",
    "3.   Mentions:   Bio-concept mentions corresponding to the PubMed abstract\n",
    "4.  Resource:   Various manually annotated resources are included in the files (e.g., MeSH and gene2pubmed)\n",
    "\n",
    "\n",
    "**Tested*\n",
    "1. pull all records with a citation pmid\n",
    "2. explode the dataframe to have only single value pmid instead of list pmids\n",
    "3. load the Pubtator extracted species dataframe\n",
    "4. get the intersect of the dataframes\n",
    "5. Quick manual inspection for accuracy\n",
    "  * Observations from quick manual inspection:\n",
    "    - Pubtator annotates the entire manuscript which may include derived plant products as reagents in figures. This is a problematic source of error as the taxonomic ID of a reagent is irrelevant\n",
    "6. Keep only taxon that have terms found in the dataset description (see potential improvements)\n",
    "\n",
    "**Potential improvements**\n",
    "- Throw out any identified species that are not mentioned in the dataset name or description. Since Pubtator gives the actual text that was mapped to an NCBI Taxon ID, a check can be performed to see if a taxa appears in the description or not and to throw it out if it doesn't.\n",
    "- Note that since NCBI GEO and OMICS-DI have duplicate records, matching the name field, and comparing the lengths of the description fields will allow us to investigate whether the description field is better from GEO\n",
    "  - If GEO does have better descriptions than its OMICS-DI duplicate, then a species may successfully map to the GEO version but fail in matching the OMICS-DI version\n",
    "  \n",
    "**Potential other applications**\n",
    "Pubtator also has disease extraction, however, they align to MeSH which is not a true disease ontology. Pubtator disease annotations can similarly be downloaded and the extracted disease terms for a pmid can be checked against a dataset description for the dataset citing that pmid. Once the healthconditions are obtained, they can be normalized using the Translator KPs."
   ]
  },
  {
   "cell_type": "code",
   "execution_count": 2,
   "id": "75166082",
   "metadata": {},
   "outputs": [],
   "source": [
    "import pandas as pd\n",
    "from pandas import read_csv\n",
    "import requests\n",
    "import json\n",
    "import time\n",
    "import math"
   ]
  },
  {
   "cell_type": "code",
   "execution_count": 103,
   "id": "4f32679e",
   "metadata": {},
   "outputs": [],
   "source": [
    "def extract_pmid(pmid_dict):\n",
    "    try:\n",
    "        pmid = str(pmid_dict['pmid'])\n",
    "    except:\n",
    "        pmid = pmid_dict.replace('{pmid: ','').replace('}','')\n",
    "    return pmid\n",
    "\n",
    "def confirm_result(row):\n",
    "    truthcheck = []\n",
    "    try:\n",
    "        taxalist = row['taxname'].split('|')\n",
    "        for eachtaxon in taxalist:\n",
    "            if eachtaxon in row['description']:\n",
    "                truthcheck.append('found')\n",
    "            else:\n",
    "                truthcheck.append('false')\n",
    "        if 'found' in truthcheck:\n",
    "            return 'yes'\n",
    "        else:\n",
    "            return 'no'\n",
    "    except:\n",
    "        return 'no'"
   ]
  },
  {
   "cell_type": "markdown",
   "id": "9555bc25",
   "metadata": {},
   "source": [
    "### Fetch minimal metadata from only records with a citation pmid"
   ]
  },
  {
   "cell_type": "code",
   "execution_count": 74,
   "id": "559a22ff",
   "metadata": {},
   "outputs": [
    {
     "name": "stdout",
     "output_type": "stream",
     "text": [
      "CPU times: total: 125 ms\n",
      "Wall time: 1.07 s\n"
     ]
    }
   ],
   "source": [
    "%%time\n",
    "\n",
    "## Perform the initial query\n",
    "\n",
    "query_url = 'https://api.data.niaid.nih.gov/v1/query?q=_exists_:citation.pmid&fields=_id,name,description,citation.pmid&fetch_all=true'\n",
    "r = requests.get(query_url)\n",
    "cleanr = json.loads(r.text)\n",
    "hits = cleanr['hits']\n",
    "#print(len(cleanr['hits']))\n",
    "df1 = pd.DataFrame(cleanr['hits'])\n",
    "scroll_id = cleanr['_scroll_id']\n",
    "total_hits = cleanr['total']"
   ]
  },
  {
   "cell_type": "code",
   "execution_count": 15,
   "id": "f91655c0",
   "metadata": {},
   "outputs": [
    {
     "name": "stdout",
     "output_type": "stream",
     "text": [
      "2000\n",
      "3000\n",
      "4000\n",
      "5000\n",
      "6000\n",
      "7000\n",
      "8000\n",
      "9000\n",
      "10000\n",
      "11000\n",
      "12000\n",
      "13000\n",
      "14000\n",
      "15000\n",
      "16000\n",
      "17000\n",
      "18000\n",
      "19000\n",
      "20000\n",
      "21000\n",
      "22000\n",
      "23000\n",
      "24000\n",
      "25000\n",
      "26000\n",
      "27000\n",
      "28000\n",
      "29000\n",
      "30000\n",
      "31000\n",
      "32000\n",
      "33000\n",
      "34000\n",
      "35000\n",
      "36000\n",
      "37000\n",
      "38000\n",
      "39000\n",
      "40000\n",
      "41000\n",
      "42000\n",
      "43000\n",
      "44000\n",
      "45000\n",
      "46000\n",
      "47000\n",
      "48000\n",
      "49000\n",
      "50000\n",
      "51000\n",
      "52000\n",
      "53000\n",
      "54000\n",
      "55000\n",
      "56000\n",
      "57000\n",
      "58000\n",
      "59000\n",
      "60000\n",
      "61000\n",
      "62000\n",
      "63000\n",
      "64000\n",
      "65000\n",
      "66000\n",
      "67000\n",
      "68000\n",
      "69000\n",
      "70000\n",
      "71000\n",
      "72000\n",
      "73000\n",
      "74000\n",
      "75000\n",
      "76000\n",
      "77000\n",
      "78000\n",
      "79000\n",
      "80000\n",
      "81000\n",
      "82000\n",
      "83000\n",
      "84000\n",
      "85000\n",
      "86000\n",
      "87000\n",
      "88000\n",
      "89000\n",
      "90000\n",
      "91000\n",
      "92000\n",
      "93000\n",
      "94000\n",
      "95000\n",
      "96000\n",
      "97000\n",
      "98000\n",
      "99000\n",
      "100000\n",
      "101000\n",
      "102000\n",
      "103000\n",
      "104000\n",
      "105000\n",
      "106000\n",
      "107000\n",
      "108000\n",
      "109000\n",
      "110000\n",
      "111000\n",
      "112000\n",
      "113000\n",
      "114000\n",
      "115000\n",
      "116000\n",
      "117000\n",
      "118000\n",
      "119000\n",
      "120000\n",
      "121000\n",
      "122000\n",
      "123000\n",
      "124000\n",
      "125000\n",
      "126000\n",
      "127000\n",
      "128000\n",
      "129000\n",
      "130000\n",
      "131000\n",
      "132000\n",
      "133000\n",
      "134000\n",
      "135000\n",
      "136000\n",
      "137000\n",
      "138000\n",
      "139000\n",
      "140000\n",
      "141000\n",
      "142000\n",
      "143000\n",
      "144000\n",
      "145000\n",
      "146000\n",
      "147000\n",
      "148000\n",
      "149000\n",
      "150000\n",
      "151000\n",
      "152000\n",
      "153000\n",
      "154000\n",
      "155000\n",
      "156000\n",
      "157000\n",
      "158000\n",
      "159000\n",
      "160000\n",
      "161000\n",
      "162000\n",
      "163000\n",
      "164000\n",
      "165000\n",
      "166000\n",
      "167000\n",
      "168000\n",
      "169000\n",
      "170000\n",
      "171000\n",
      "172000\n",
      "173000\n",
      "174000\n",
      "175000\n",
      "176000\n",
      "177000\n",
      "178000\n",
      "179000\n",
      "180000\n",
      "181000\n",
      "182000\n",
      "183000\n",
      "184000\n",
      "185000\n",
      "186000\n",
      "187000\n",
      "188000\n",
      "189000\n",
      "190000\n",
      "191000\n",
      "192000\n",
      "193000\n",
      "194000\n",
      "195000\n",
      "196000\n",
      "197000\n",
      "198000\n",
      "199000\n",
      "200000\n",
      "201000\n",
      "202000\n",
      "203000\n",
      "204000\n",
      "205000\n",
      "206000\n",
      "207000\n",
      "208000\n",
      "209000\n",
      "210000\n",
      "211000\n",
      "212000\n",
      "213000\n",
      "214000\n",
      "215000\n",
      "216000\n",
      "217000\n",
      "218000\n",
      "219000\n",
      "220000\n",
      "221000\n",
      "222000\n",
      "223000\n",
      "224000\n",
      "225000\n",
      "226000\n",
      "227000\n",
      "228000\n",
      "229000\n",
      "230000\n",
      "231000\n",
      "232000\n",
      "233000\n",
      "234000\n",
      "235000\n",
      "236000\n",
      "237000\n",
      "238000\n",
      "239000\n",
      "240000\n",
      "241000\n",
      "242000\n",
      "243000\n",
      "244000\n",
      "245000\n",
      "246000\n",
      "247000\n",
      "248000\n",
      "249000\n",
      "250000\n",
      "251000\n",
      "252000\n",
      "253000\n",
      "254000\n",
      "255000\n",
      "256000\n",
      "257000\n",
      "258000\n",
      "259000\n",
      "260000\n",
      "261000\n",
      "262000\n",
      "263000\n",
      "264000\n",
      "265000\n",
      "266000\n",
      "267000\n",
      "268000\n",
      "269000\n",
      "270000\n",
      "271000\n",
      "272000\n",
      "273000\n",
      "274000\n",
      "274648\n"
     ]
    },
    {
     "ename": "KeyError",
     "evalue": "'_scroll_id'",
     "output_type": "error",
     "traceback": [
      "\u001b[1;31m---------------------------------------------------------------------------\u001b[0m",
      "\u001b[1;31mKeyError\u001b[0m                                  Traceback (most recent call last)",
      "File \u001b[1;32m<timed exec>:7\u001b[0m\n",
      "\u001b[1;31mKeyError\u001b[0m: '_scroll_id'"
     ]
    }
   ],
   "source": [
    "%%time\n",
    "## Scroll to get all the results\n",
    "\n",
    "i = 0\n",
    "#k = 3 \n",
    "k = math.ceil(total_hits/1000)\n",
    "while i < k:\n",
    "    r2 = requests.get(f'https://api.data.niaid.nih.gov/v1/query?scroll_id={scroll_id}')\n",
    "    tmp = json.loads(r2.text)\n",
    "    scroll_id = tmp['_scroll_id']\n",
    "    tmpdf = pd.DataFrame(tmp['hits'])\n",
    "    df1 = pd.concat((df1,tmpdf),ignore_index=True)\n",
    "    #print(len(df1))\n",
    "    i = i+1\n",
    "    time.sleep(0.25)"
   ]
  },
  {
   "cell_type": "code",
   "execution_count": 16,
   "id": "e2be04ec",
   "metadata": {},
   "outputs": [
    {
     "name": "stdout",
     "output_type": "stream",
     "text": [
      "                   _id  _score                citation  \\\n",
      "0  OMICSDI_PRJNA775608     1.0  [{'pmid': '34874923'}]   \n",
      "1   OMICSDI_PRJNA74531     1.0  [{'pmid': '23105075'}]   \n",
      "2  OMICSDI_PRJNA754436     1.0  [{'pmid': '34793837'}]   \n",
      "\n",
      "                                         description  \\\n",
      "0  Alveolar epithelial glycocalyx degradation med...   \n",
      "1  Streptococcus agalactiae STIR-CD-17 Genome seq...   \n",
      "2  CRISPR-Cas9 generated SARM1 knockout and epito...   \n",
      "\n",
      "                                                name _ignored  \n",
      "0  Alveolar epithelial glycocalyx degradation med...      NaN  \n",
      "1                Streptococcus agalactiae STIR-CD-17      NaN  \n",
      "2  CRISPR-Cas9 generated SARM1 knockout and epito...      NaN  \n"
     ]
    }
   ],
   "source": [
    "## inspect the results\n",
    "print(df1.head(n=3))"
   ]
  },
  {
   "cell_type": "code",
   "execution_count": 42,
   "id": "ff14c32a",
   "metadata": {},
   "outputs": [
    {
     "name": "stdout",
     "output_type": "stream",
     "text": [
      "274648 284631 282321\n",
      "                   _id                                        description  \\\n",
      "0  OMICSDI_PRJNA775608  Alveolar epithelial glycocalyx degradation med...   \n",
      "1   OMICSDI_PRJNA74531  Streptococcus agalactiae STIR-CD-17 Genome seq...   \n",
      "\n",
      "                                                name      pmid  \n",
      "0  Alveolar epithelial glycocalyx degradation med...  34874923  \n",
      "1                Streptococcus agalactiae STIR-CD-17  23105075  \n"
     ]
    }
   ],
   "source": [
    "#### save the raw results\n",
    "#df1.to_csv('data/citation_df_raw.tsv',sep='\\t',header=0)\n",
    "\n",
    "#### Clean up the results (since a single record may have multiple citations)\n",
    "df2 = df1.explode('citation')\n",
    "df3 = df2[['_id','citation','description','name']].copy()\n",
    "df3.dropna(inplace=True)\n",
    "print(len(df1),len(df2),len(df3))\n",
    "df3['pmid'] = df3['citation'].apply(lambda x: extract_pmid(x))\n",
    "df3.drop('citation',axis=1,inplace=True)\n",
    "print(df3.head(n=2))"
   ]
  },
  {
   "cell_type": "code",
   "execution_count": 43,
   "id": "75929837",
   "metadata": {},
   "outputs": [],
   "source": [
    "#### save the clean results\n",
    "#df3.to_csv('data/citation_df_clean.tsv',sep='\\t',header=True)"
   ]
  },
  {
   "cell_type": "markdown",
   "id": "2742c6a9",
   "metadata": {},
   "source": [
    "### Use the citation pmids to pull species for those pmids from a pubtator export"
   ]
  },
  {
   "cell_type": "code",
   "execution_count": null,
   "id": "64e632a3",
   "metadata": {},
   "outputs": [],
   "source": [
    "df3 = read_csv('data/citation_df_clean.tsv',delimiter='\\t',header=0,index_col=0)"
   ]
  },
  {
   "cell_type": "code",
   "execution_count": 61,
   "id": "4181f56f",
   "metadata": {},
   "outputs": [
    {
     "name": "stdout",
     "output_type": "stream",
     "text": [
      "123965 123964 1\n"
     ]
    }
   ],
   "source": [
    "pmidlist = df3['pmid'].unique().tolist()\n",
    "pmidintlist = []\n",
    "faillist = []\n",
    "for pmid in pmidlist:\n",
    "    try:\n",
    "        pmidintlist.append(int(pmid))\n",
    "    except:\n",
    "        faillist.append(pmid)\n",
    "\n",
    "print(len(pmidlist), len(pmidintlist),len(faillist))"
   ]
  },
  {
   "cell_type": "code",
   "execution_count": 63,
   "id": "a65631fa",
   "metadata": {},
   "outputs": [
    {
     "name": "stdout",
     "output_type": "stream",
     "text": [
      "675978\n",
      "CPU times: total: 7min 18s\n",
      "Wall time: 7min 21s\n"
     ]
    }
   ],
   "source": [
    "%%time\n",
    "#### chunk the read of the input (turn it into a generator and iterate through it)\n",
    "#### Only keep the species info from pubtator for pmids that have an NDE citation pmid match\n",
    "speciesdf = pd.read_csv('data/species2pubtatorcentral.txt',delimiter='\\t',\n",
    "                        usecols=[0,2,3], names=['pmid','taxid','taxname'], header=None, chunksize=20000)\n",
    "savedata = pd.DataFrame(columns=['pmid','taxid','taxname'])\n",
    "for adf in speciesdf:\n",
    "    tmpdf = adf.loc[adf['pmid'].isin(pmidlist)]\n",
    "    tmpdf2 = adf.loc[adf['pmid'].isin(pmidintlist)]\n",
    "    if len(tmpdf)>0:\n",
    "        savedata = pd.concat((savedata,tmpdf),ignore_index=True)\n",
    "    elif len(tmpdf2)>0:\n",
    "        savedata = pd.concat((savedata,tmpdf2),ignore_index=True)\n",
    "\n",
    "print(len(savedata))"
   ]
  },
  {
   "cell_type": "code",
   "execution_count": 65,
   "id": "7b7caa59",
   "metadata": {},
   "outputs": [],
   "source": [
    "#### export the results so we don't have to do that again\n",
    "savedata.to_csv('data/pmids_cited_taxa.tsv',sep='\\t',header=0)"
   ]
  },
  {
   "cell_type": "markdown",
   "id": "fbd649a3",
   "metadata": {},
   "source": [
    "### Merge the NDE data (with citation pmids) with the Pubtator results "
   ]
  },
  {
   "cell_type": "code",
   "execution_count": 91,
   "id": "61321945",
   "metadata": {},
   "outputs": [
    {
     "name": "stdout",
     "output_type": "stream",
     "text": [
      "1645100\n"
     ]
    }
   ],
   "source": [
    "#### Get rid of any duplication that was introduced as an artifact of the merging process\n",
    "savedata['pmid'] = savedata['pmid'].astype(str)\n",
    "merged_df = df3.merge(savedata,on='pmid',how='inner')\n",
    "merged_df.drop_duplicates(keep='first',inplace=True)\n",
    "print(len(merged_df))"
   ]
  },
  {
   "cell_type": "code",
   "execution_count": 92,
   "id": "7f5220ad",
   "metadata": {},
   "outputs": [
    {
     "name": "stdout",
     "output_type": "stream",
     "text": [
      "                   _id                                        description  \\\n",
      "0  OMICSDI_PRJNA775608  Alveolar epithelial glycocalyx degradation med...   \n",
      "1  OMICSDI_PRJNA775608  Alveolar epithelial glycocalyx degradation med...   \n",
      "\n",
      "                                                name      pmid  taxid  \\\n",
      "0  Alveolar epithelial glycocalyx degradation med...  34874923   4081   \n",
      "1  Alveolar epithelial glycocalyx degradation med...  34874923  10090   \n",
      "\n",
      "                               taxname  \n",
      "0              Lycopersicon esculentum  \n",
      "1  mice|Mice|Murine|Mouse|murine|mouse  \n"
     ]
    }
   ],
   "source": [
    "#### Inspect the results\n",
    "test_df = merged_df.head(n=20).copy()\n",
    "print(test_df.head(n=2))"
   ]
  },
  {
   "cell_type": "markdown",
   "id": "dc67079a",
   "metadata": {},
   "source": [
    "Pubtator will identify species in the full body of the paper for the pmid. This can include species that were used as reagents in the methodology (for example, Lycopersicon esculentum refers to some sort of tomato extract or protein that was mentioned ina figure). To ensure we only include species that were mentioned in the dataset, keep only taxa where at least one of the taxaname was mentioned in the record name or description\n",
    "\n",
    "### Filter out species not mentioned in the record"
   ]
  },
  {
   "cell_type": "code",
   "execution_count": 98,
   "id": "8a5db4d2",
   "metadata": {},
   "outputs": [
    {
     "name": "stdout",
     "output_type": "stream",
     "text": [
      "                   _id                                        description  \\\n",
      "0  OMICSDI_PRJNA775608  Alveolar epithelial glycocalyx degradation med...   \n",
      "1  OMICSDI_PRJNA775608  Alveolar epithelial glycocalyx degradation med...   \n",
      "2  OMICSDI_PRJNA775608  Alveolar epithelial glycocalyx degradation med...   \n",
      "3  OMICSDI_PRJNA775608  Alveolar epithelial glycocalyx degradation med...   \n",
      "4  OMICSDI_PRJNA775608  Alveolar epithelial glycocalyx degradation med...   \n",
      "5  OMICSDI_PRJNA775608  Alveolar epithelial glycocalyx degradation med...   \n",
      "6        GEO_GSE186705  Acute Respiratory Distress Syndrome (ARDS) is ...   \n",
      "7        GEO_GSE186705  Acute Respiratory Distress Syndrome (ARDS) is ...   \n",
      "8        GEO_GSE186705  Acute Respiratory Distress Syndrome (ARDS) is ...   \n",
      "9        GEO_GSE186705  Acute Respiratory Distress Syndrome (ARDS) is ...   \n",
      "\n",
      "                                                name      pmid    taxid  \\\n",
      "0  Alveolar epithelial glycocalyx degradation med...  34874923     4081   \n",
      "1  Alveolar epithelial glycocalyx degradation med...  34874923    10090   \n",
      "2  Alveolar epithelial glycocalyx degradation med...  34874923     9606   \n",
      "3  Alveolar epithelial glycocalyx degradation med...  34874923    11309   \n",
      "4  Alveolar epithelial glycocalyx degradation med...  34874923      984   \n",
      "5  Alveolar epithelial glycocalyx degradation med...  34874923  2697049   \n",
      "6  Alveolar epithelial glycocalyx degradation med...  34874923     4081   \n",
      "7  Alveolar epithelial glycocalyx degradation med...  34874923    10090   \n",
      "8  Alveolar epithelial glycocalyx degradation med...  34874923     9606   \n",
      "9  Alveolar epithelial glycocalyx degradation med...  34874923    11309   \n",
      "\n",
      "                                             taxname text match?  \n",
      "0                            Lycopersicon esculentum          no  \n",
      "1                mice|Mice|Murine|Mouse|murine|mouse          no  \n",
      "2  human|women|humans|Patients|Participants|parti...          no  \n",
      "3                influenza virus|Influenza|influenza          no  \n",
      "4                           Flavobacterium heparinum          no  \n",
      "5  severe acute respiratory syndrome coronavirus ...          no  \n",
      "6                            Lycopersicon esculentum          no  \n",
      "7                mice|Mice|Murine|Mouse|murine|mouse         yes  \n",
      "8  human|women|humans|Patients|Participants|parti...         yes  \n",
      "9                influenza virus|Influenza|influenza          no  \n"
     ]
    }
   ],
   "source": [
    "#### Test the function for doing so\n",
    "\n",
    "test_df['text match?'] = test_df.apply(lambda row: confirm_result(row), axis=1)\n",
    "print(test_df.head(n=10))"
   ]
  },
  {
   "cell_type": "code",
   "execution_count": 104,
   "id": "9bb7ccf7",
   "metadata": {},
   "outputs": [],
   "source": [
    "#### Apply the function to determine if a record had a term that matched with at least one of the taxa names\n",
    "\n",
    "merged_df['text match?'] = merged_df.apply(lambda row: confirm_result(row), axis=1)"
   ]
  },
  {
   "cell_type": "code",
   "execution_count": 105,
   "id": "7d286041",
   "metadata": {},
   "outputs": [
    {
     "name": "stdout",
     "output_type": "stream",
     "text": [
      "233789\n"
     ]
    }
   ],
   "source": [
    "#### Filter out the ones that didn't\n",
    "\n",
    "good_df = merged_df.loc[merged_df['text match?']=='yes']\n",
    "print(len(good_df))"
   ]
  },
  {
   "cell_type": "code",
   "execution_count": 107,
   "id": "8f8d184c",
   "metadata": {},
   "outputs": [
    {
     "name": "stdout",
     "output_type": "stream",
     "text": [
      "                    _id                                        description  \\\n",
      "7         GEO_GSE186705  Acute Respiratory Distress Syndrome (ARDS) is ...   \n",
      "8         GEO_GSE186705  Acute Respiratory Distress Syndrome (ARDS) is ...   \n",
      "12   OMICSDI_PRJNA74531  Streptococcus agalactiae STIR-CD-17 Genome seq...   \n",
      "13  OMICSDI_PRJNA754436  CRISPR-Cas9 generated SARM1 knockout and epito...   \n",
      "14        GEO_GSE182091  The aim of this study was initially to determi...   \n",
      "\n",
      "                                                 name      pmid  taxid  \\\n",
      "7   Alveolar epithelial glycocalyx degradation med...  34874923  10090   \n",
      "8   Alveolar epithelial glycocalyx degradation med...  34874923   9606   \n",
      "12                Streptococcus agalactiae STIR-CD-17  23105075   1311   \n",
      "13  CRISPR-Cas9 generated SARM1 knockout and epito...  34793837  10090   \n",
      "14  CRISPR-Cas9 generated SARM1 knockout and epito...  34793837  10090   \n",
      "\n",
      "                                              taxname text match?  \n",
      "7                 mice|Mice|Murine|Mouse|murine|mouse         yes  \n",
      "8   human|women|humans|Patients|Participants|parti...         yes  \n",
      "12             Streptococcus agalactiae|S. agalactiae         yes  \n",
      "13                                  mice|Murine|mouse         yes  \n",
      "14                                  mice|Murine|mouse         yes  \n"
     ]
    }
   ],
   "source": [
    "#### Inspect the resulting table\n",
    "print(good_df.head(n=5))"
   ]
  },
  {
   "cell_type": "code",
   "execution_count": 109,
   "id": "bedad0ca",
   "metadata": {},
   "outputs": [],
   "source": [
    "#### Export the results so we don't have to do that again\n",
    "good_df.to_csv('data/taxa_found.tsv',sep='\\t',header=0)"
   ]
  }
 ],
 "metadata": {
  "kernelspec": {
   "display_name": "Python 3 (ipykernel)",
   "language": "python",
   "name": "python3"
  },
  "language_info": {
   "codemirror_mode": {
    "name": "ipython",
    "version": 3
   },
   "file_extension": ".py",
   "mimetype": "text/x-python",
   "name": "python",
   "nbconvert_exporter": "python",
   "pygments_lexer": "ipython3",
   "version": "3.10.10"
  }
 },
 "nbformat": 4,
 "nbformat_minor": 5
}
