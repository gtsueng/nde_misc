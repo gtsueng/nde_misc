{
 "cells": [
  {
   "cell_type": "markdown",
   "id": "7371c75e",
   "metadata": {},
   "source": [
    "## Inspect metadata variability for standardized property fields\n",
    "\n",
    "Determine the number of *types* of species, infectiousAgent, and healthCondition values to see how augmentation affects them."
   ]
  },
  {
   "cell_type": "code",
   "execution_count": 1,
   "id": "229adc6d",
   "metadata": {},
   "outputs": [],
   "source": [
    "import pandas as pd\n",
    "from pandas import read_csv\n",
    "import requests\n",
    "import json\n",
    "import time\n",
    "import math\n",
    "import pickle\n",
    "import os\n",
    "import ast ## Only needed to convert string to dict where json.loads fails\n",
    "from datetime import datetime"
   ]
  },
  {
   "cell_type": "markdown",
   "id": "58486563",
   "metadata": {},
   "source": [
    "### Get the data and save it"
   ]
  },
  {
   "cell_type": "code",
   "execution_count": 2,
   "id": "fcc946b0",
   "metadata": {},
   "outputs": [],
   "source": [
    "def parse_id(query_type,nesteddict):\n",
    "    if isinstance(nesteddict,dict):\n",
    "        tmpdict = nesteddict\n",
    "    elif isinstance(nesteddict,str):\n",
    "        try:\n",
    "            tmpdict = json.loads(nesteddict)\n",
    "        except:\n",
    "            tmpdict = {'failed':nesteddict}\n",
    "    if 'identifier' in tmpdict.keys():\n",
    "        if query_type == 'species':\n",
    "            curie = 'NCBITAXON:'+str(tmpdict['identifier'])\n",
    "        elif query_type == 'infectiousAgent':\n",
    "            curie = 'NCBITAXON:'+str(tmpdict['identifier'])\n",
    "        elif query_type == 'healthCondition':\n",
    "            curie = str(tmpdict['inDefinedTermSet'])+str(tmpdict['identifier'])\n",
    "    else:\n",
    "        curie = -1\n",
    "    return curie"
   ]
  },
  {
   "cell_type": "code",
   "execution_count": 3,
   "id": "5d66cc54",
   "metadata": {},
   "outputs": [],
   "source": [
    "def get_property_vals(query_type,api):\n",
    "    ## Perform the initial query\n",
    "    if api == 'staging':\n",
    "        baseurl = 'api-staging.data.niaid.nih.gov/v1/'\n",
    "    elif api == 'prod':\n",
    "        baseurl = 'api.data.niaid.nih.gov/v1/'\n",
    "    query_url = f'https://{baseurl}query?q=_exists_:{query_type}&fields=_id,{query_type}&fetch_all=true'\n",
    "    r = requests.get(query_url)\n",
    "    cleanr = json.loads(r.text)\n",
    "    hits = cleanr['hits']\n",
    "    #print(len(cleanr['hits']))\n",
    "    df1 = pd.DataFrame(cleanr['hits'])\n",
    "    scroll_id = cleanr['_scroll_id']\n",
    "    total_hits = cleanr['total']\n",
    "    print(datetime.now(),': ',query_type,'on',api,'has', total_hits,'total_hits')\n",
    "    i = 0\n",
    "    k = math.ceil(total_hits/1000)\n",
    "    while i < k:\n",
    "        r2 = requests.get(f'https://{baseurl}query?scroll_id={scroll_id}')\n",
    "        if r2.status_code == 200:\n",
    "            tmp = json.loads(r2.text)\n",
    "            tmpdf = pd.DataFrame(tmp['hits'])\n",
    "            df1 = pd.concat((df1,tmpdf),ignore_index=True)\n",
    "            i = i+1\n",
    "            try:\n",
    "                scroll_id = tmp['_scroll_id']\n",
    "            except:\n",
    "                print('records fetched: ',len(df1))\n",
    "                return df1\n",
    "            time.sleep(0.10)\n",
    "    return df1"
   ]
  },
  {
   "cell_type": "code",
   "execution_count": 4,
   "id": "31975042",
   "metadata": {},
   "outputs": [],
   "source": [
    "def process_and_export(query_type,api,df1):\n",
    "    querytime = datetime.strftime(datetime.now(),'%Y-%m-%d')\n",
    "    processboom = df1.explode(query_type)\n",
    "    processboom['CURIE'] = processboom.apply(lambda row: parse_id(query_type,row[query_type]),axis=1)\n",
    "    cleandf = processboom[['_id','CURIE']].copy()\n",
    "    with open(os.path.join('data',f'{querytime}_{query_type}_{api}_results.pickle'),'wb') as dumpfile:\n",
    "        pickle.dump(cleandf,dumpfile)\n",
    "    histogram = cleandf.groupby('CURIE').size().reset_index(name='counts')\n",
    "    histogram.to_csv(os.path.join('data',f'{querytime}_{query_type}_{api}_histogram.tsv'),sep='\\t',header=True)\n",
    "    return cleandf"
   ]
  },
  {
   "cell_type": "code",
   "execution_count": 9,
   "id": "5dc5e078",
   "metadata": {},
   "outputs": [],
   "source": [
    "def dump_data():\n",
    "    querytime = datetime.strftime(datetime.now(),'%Y-%m-%d')\n",
    "    apilist = ['staging','prod']\n",
    "    querylist = ['healthCondition','species','infectiousAgent']\n",
    "    statslist = []\n",
    "    for query_type in querylist:\n",
    "        for api in apilist:\n",
    "            df1 = get_property_vals(query_type,api)\n",
    "            cleandf = process_and_export(query_type,api,df1)\n",
    "            tmpdict = {'property':query_type,'API':api,\n",
    "                       'total_records':len(cleandf['_id'].unique().tolist()),\n",
    "                       'unique_vals': len(cleandf['CURIE'].unique().tolist())}\n",
    "            statslist.append(tmpdict)\n",
    "    statsdf = pd.DataFrame(statslist)\n",
    "    statsdf.to_csv(os.path.join('data',f'{querytime}_property_stats.tsv'),sep='\\t',header=True)"
   ]
  },
  {
   "cell_type": "code",
   "execution_count": 10,
   "id": "942f9888",
   "metadata": {},
   "outputs": [
    {
     "name": "stdout",
     "output_type": "stream",
     "text": [
      "2024-09-16 12:47:38.877718 :  infectiousAgent on staging has 444196 total_hits\n"
     ]
    },
    {
     "ename": "KeyError",
     "evalue": "'hits'",
     "output_type": "error",
     "traceback": [
      "\u001b[1;31m---------------------------------------------------------------------------\u001b[0m",
      "\u001b[1;31mKeyError\u001b[0m                                  Traceback (most recent call last)",
      "File \u001b[1;32m<timed eval>:1\u001b[0m\n",
      "Cell \u001b[1;32mIn[9], line 10\u001b[0m, in \u001b[0;36mdump_data\u001b[1;34m()\u001b[0m\n\u001b[0;32m      8\u001b[0m \u001b[38;5;28;01mfor\u001b[39;00m query_type \u001b[38;5;129;01min\u001b[39;00m querylist:\n\u001b[0;32m      9\u001b[0m     \u001b[38;5;28;01mfor\u001b[39;00m api \u001b[38;5;129;01min\u001b[39;00m apilist:\n\u001b[1;32m---> 10\u001b[0m         df1 \u001b[38;5;241m=\u001b[39m \u001b[43mget_property_vals\u001b[49m\u001b[43m(\u001b[49m\u001b[43mquery_type\u001b[49m\u001b[43m,\u001b[49m\u001b[43mapi\u001b[49m\u001b[43m)\u001b[49m\n\u001b[0;32m     11\u001b[0m         cleandf \u001b[38;5;241m=\u001b[39m process_and_export(query_type,api,df1)\n\u001b[0;32m     12\u001b[0m         tmpdict \u001b[38;5;241m=\u001b[39m {\u001b[38;5;124m'\u001b[39m\u001b[38;5;124mproperty\u001b[39m\u001b[38;5;124m'\u001b[39m:query_type,\u001b[38;5;124m'\u001b[39m\u001b[38;5;124mAPI\u001b[39m\u001b[38;5;124m'\u001b[39m:api,\n\u001b[0;32m     13\u001b[0m                    \u001b[38;5;124m'\u001b[39m\u001b[38;5;124mtotal_records\u001b[39m\u001b[38;5;124m'\u001b[39m:\u001b[38;5;28mlen\u001b[39m(cleandf[\u001b[38;5;124m'\u001b[39m\u001b[38;5;124m_id\u001b[39m\u001b[38;5;124m'\u001b[39m]\u001b[38;5;241m.\u001b[39munique()\u001b[38;5;241m.\u001b[39mtolist()),\n\u001b[0;32m     14\u001b[0m                    \u001b[38;5;124m'\u001b[39m\u001b[38;5;124munique_vals\u001b[39m\u001b[38;5;124m'\u001b[39m: \u001b[38;5;28mlen\u001b[39m(cleandf[\u001b[38;5;124m'\u001b[39m\u001b[38;5;124mCURIE\u001b[39m\u001b[38;5;124m'\u001b[39m]\u001b[38;5;241m.\u001b[39munique()\u001b[38;5;241m.\u001b[39mtolist())}\n",
      "Cell \u001b[1;32mIn[3], line 21\u001b[0m, in \u001b[0;36mget_property_vals\u001b[1;34m(query_type, api)\u001b[0m\n\u001b[0;32m     19\u001b[0m r2 \u001b[38;5;241m=\u001b[39m requests\u001b[38;5;241m.\u001b[39mget(\u001b[38;5;124mf\u001b[39m\u001b[38;5;124m'\u001b[39m\u001b[38;5;124mhttps://\u001b[39m\u001b[38;5;132;01m{\u001b[39;00mbaseurl\u001b[38;5;132;01m}\u001b[39;00m\u001b[38;5;124mquery?scroll_id=\u001b[39m\u001b[38;5;132;01m{\u001b[39;00mscroll_id\u001b[38;5;132;01m}\u001b[39;00m\u001b[38;5;124m'\u001b[39m)\n\u001b[0;32m     20\u001b[0m tmp \u001b[38;5;241m=\u001b[39m json\u001b[38;5;241m.\u001b[39mloads(r2\u001b[38;5;241m.\u001b[39mtext)\n\u001b[1;32m---> 21\u001b[0m tmpdf \u001b[38;5;241m=\u001b[39m pd\u001b[38;5;241m.\u001b[39mDataFrame(\u001b[43mtmp\u001b[49m\u001b[43m[\u001b[49m\u001b[38;5;124;43m'\u001b[39;49m\u001b[38;5;124;43mhits\u001b[39;49m\u001b[38;5;124;43m'\u001b[39;49m\u001b[43m]\u001b[49m)\n\u001b[0;32m     22\u001b[0m df1 \u001b[38;5;241m=\u001b[39m pd\u001b[38;5;241m.\u001b[39mconcat((df1,tmpdf),ignore_index\u001b[38;5;241m=\u001b[39m\u001b[38;5;28;01mTrue\u001b[39;00m)\n\u001b[0;32m     23\u001b[0m i \u001b[38;5;241m=\u001b[39m i\u001b[38;5;241m+\u001b[39m\u001b[38;5;241m1\u001b[39m\n",
      "\u001b[1;31mKeyError\u001b[0m: 'hits'"
     ]
    }
   ],
   "source": [
    "%%time\n",
    "dump_data()\n"
   ]
  },
  {
   "cell_type": "code",
   "execution_count": null,
   "id": "b21d4d29",
   "metadata": {},
   "outputs": [],
   "source": [
    "## for troubleshooting"
   ]
  },
  {
   "cell_type": "code",
   "execution_count": null,
   "id": "e54016a4",
   "metadata": {},
   "outputs": [],
   "source": [
    "%%time\n",
    "\n",
    "## Perform the initial query\n",
    "querytime = datetime.strftime(datetime.now(),'%Y-%m-%d')\n",
    "query_type = 'infectiousAgent'\n",
    "#query_url = 'https://api.data.niaid.nih.gov/v1/query?q=_exists_:species&fields=_id,name,species&fetch_all=true'\n",
    "query_url = f'https://api-staging.data.niaid.nih.gov/v1/query?q=_exists_:{query_type}&fields=_id,name,{query_type}&fetch_all=true'\n",
    "r = requests.get(query_url)\n",
    "cleanr = json.loads(r.text)\n",
    "hits = cleanr['hits']\n",
    "#print(len(cleanr['hits']))\n",
    "df1 = pd.DataFrame(cleanr['hits'])\n",
    "scroll_id = cleanr['_scroll_id']\n",
    "total_hits = cleanr['total']\n",
    "print(total_hits)"
   ]
  },
  {
   "cell_type": "code",
   "execution_count": null,
   "id": "23cfeb40",
   "metadata": {},
   "outputs": [],
   "source": [
    "%%time\n",
    "## Scroll to get all the results\n",
    "\n",
    "i = 0\n",
    "#k = 3 \n",
    "k = math.ceil(total_hits/1000)\n",
    "while i < k:\n",
    "    #r2 = requests.get(f'https://api.data.niaid.nih.gov/v1/query?scroll_id={scroll_id}')\n",
    "    r2 = requests.get(f'https://api-staging.data.niaid.nih.gov/v1/query?scroll_id={scroll_id}')\n",
    "    tmp = json.loads(r2.text)\n",
    "    scroll_id = tmp['_scroll_id']\n",
    "    tmpdf = pd.DataFrame(tmp['hits'])\n",
    "    df1 = pd.concat((df1,tmpdf),ignore_index=True)\n",
    "    #print(len(df1))\n",
    "    i = i+1\n",
    "    time.sleep(0.25)"
   ]
  },
  {
   "cell_type": "code",
   "execution_count": null,
   "id": "9a0de029",
   "metadata": {},
   "outputs": [],
   "source": [
    "%%time\n",
    "\n",
    "print(querytime)\n",
    "query_type = 'species'\n",
    "api = 'staging'\n",
    "df1 = get_property_vals(query_type,api)"
   ]
  },
  {
   "cell_type": "code",
   "execution_count": null,
   "id": "43ca5fa1",
   "metadata": {},
   "outputs": [],
   "source": [
    "process_and_export(df1)"
   ]
  }
 ],
 "metadata": {
  "kernelspec": {
   "display_name": "Python 3 (ipykernel)",
   "language": "python",
   "name": "python3"
  },
  "language_info": {
   "codemirror_mode": {
    "name": "ipython",
    "version": 3
   },
   "file_extension": ".py",
   "mimetype": "text/x-python",
   "name": "python",
   "nbconvert_exporter": "python",
   "pygments_lexer": "ipython3",
   "version": "3.10.10"
  }
 },
 "nbformat": 4,
 "nbformat_minor": 5
}
