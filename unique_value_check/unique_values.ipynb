{
 "cells": [
  {
   "cell_type": "markdown",
   "id": "7371c75e",
   "metadata": {},
   "source": [
    "## Inspect metadata variability for standardized property fields\n",
    "\n",
    "Determine the number of *types* of species, infectiousAgent, and healthCondition values to see how augmentation affects them."
   ]
  },
  {
   "cell_type": "code",
   "execution_count": 1,
   "id": "229adc6d",
   "metadata": {},
   "outputs": [],
   "source": [
    "import pandas as pd\n",
    "from pandas import read_csv\n",
    "import requests\n",
    "import json\n",
    "import time\n",
    "import math\n",
    "import pickle\n",
    "import os\n",
    "import ast ## Only needed to convert string to dict where json.loads fails\n",
    "from datetime import datetime"
   ]
  },
  {
   "cell_type": "markdown",
   "id": "58486563",
   "metadata": {},
   "source": [
    "### Get the data and save it"
   ]
  },
  {
   "cell_type": "code",
   "execution_count": 29,
   "id": "fcc946b0",
   "metadata": {},
   "outputs": [],
   "source": [
    "def parse_id(query_type,nesteddict):\n",
    "    if isinstance(nesteddict,dict):\n",
    "        tmpdict = nesteddict\n",
    "    elif isinstance(nesteddict,str):\n",
    "        try:\n",
    "            tmpdict = json.loads(nesteddict)\n",
    "        except:\n",
    "            tmpdict = {'failed':nesteddict}\n",
    "    if 'identifier' in tmpdict.keys():\n",
    "        if query_type == 'species':\n",
    "            curie = 'NCBITAXON:'+str(tmpdict['identifier'])\n",
    "        elif query_type == 'infectiousAgent':\n",
    "            curie = 'NCBITAXON:'+str(tmpdict['identifier'])\n",
    "        elif query_type == 'healthCondition':\n",
    "            curie = str(tmpdict['inDefinedTermSet'])+str(tmpdict['identifier'])\n",
    "    else:\n",
    "        curie = -1\n",
    "    return curie"
   ]
  },
  {
   "cell_type": "code",
   "execution_count": 30,
   "id": "5d66cc54",
   "metadata": {},
   "outputs": [],
   "source": [
    "def get_property_vals(query_type,api):\n",
    "    ## Perform the initial query\n",
    "    if api == 'staging':\n",
    "        baseurl = 'api-staging.data.niaid.nih.gov/v1/'\n",
    "    elif api == 'prod':\n",
    "        baseurl = 'api.data.niaid.nih.gov/v1/'\n",
    "    query_url = f'https://{baseurl}query?q=_exists_:{query_type}&fields=_id,{query_type}&fetch_all=true'\n",
    "    r = requests.get(query_url)\n",
    "    cleanr = json.loads(r.text)\n",
    "    hits = cleanr['hits']\n",
    "    #print(len(cleanr['hits']))\n",
    "    df1 = pd.DataFrame(cleanr['hits'])\n",
    "    scroll_id = cleanr['_scroll_id']\n",
    "    total_hits = cleanr['total']\n",
    "    print(datetime.now(),': ',query_type,'on',api,'has', total_hits,'total_hits')\n",
    "    i = 0\n",
    "    k = math.ceil(total_hits/1000)\n",
    "    while i < k:\n",
    "        r2 = requests.get(f'https://{baseurl}query?scroll_id={scroll_id}')\n",
    "        tmp = json.loads(r2.text)\n",
    "        tmpdf = pd.DataFrame(tmp['hits'])\n",
    "        df1 = pd.concat((df1,tmpdf),ignore_index=True)\n",
    "        i = i+1\n",
    "        try:\n",
    "            scroll_id = tmp['_scroll_id']\n",
    "        except:\n",
    "            print('records fetched: ',len(df1))\n",
    "            return df1\n",
    "        time.sleep(0.10)\n",
    "    return df1"
   ]
  },
  {
   "cell_type": "code",
   "execution_count": 31,
   "id": "31975042",
   "metadata": {},
   "outputs": [],
   "source": [
    "def process_and_export(query_type,api,df1):\n",
    "    querytime = datetime.strftime(datetime.now(),'%Y-%m-%d')\n",
    "    processboom = df1.explode(query_type)\n",
    "    processboom['CURIE'] = processboom.apply(lambda row: parse_id(query_type,row[query_type]),axis=1)\n",
    "    cleandf = processboom[['_id','CURIE']].copy()\n",
    "    with open(os.path.join('data',f'{querytime}_{query_type}_{api}_results.pickle'),'wb') as dumpfile:\n",
    "        pickle.dump(cleandf,dumpfile)\n",
    "    histogram = cleandf.groupby('CURIE').size().reset_index(name='counts')\n",
    "    histogram.to_csv(os.path.join('data',f'{querytime}_{query_type}_{api}_histogram.tsv'),sep='\\t',header=True)\n",
    "    return cleandf"
   ]
  },
  {
   "cell_type": "code",
   "execution_count": 32,
   "id": "5dc5e078",
   "metadata": {},
   "outputs": [],
   "source": [
    "def dump_data():\n",
    "    querytime = datetime.strftime(datetime.now(),'%Y-%m-%d')\n",
    "    apilist = ['staging','prod']\n",
    "    querylist = ['healthCondition','species','infectiousAgent']\n",
    "    statslist = []\n",
    "    for query_type in querylist:\n",
    "        for api in apilist:\n",
    "            df1 = get_property_vals(query_type,api)\n",
    "            cleandf = process_and_export(query_type,api,df1)\n",
    "            tmpdict = {'property':query_type,'API':api,\n",
    "                       'total_records':len(cleandf['_id'].unique().tolist()),\n",
    "                       'unique_vals': len(cleandf['CURIE'].unique().tolist())}\n",
    "            statslist.append(tmpdict)\n",
    "    statsdf = pd.DataFrame(statslist)\n",
    "    statsdf.to_csv(os.path.join('data',f'{querytime}_property_stats.tsv'),sep='\\t',header=True)"
   ]
  },
  {
   "cell_type": "code",
   "execution_count": 33,
   "id": "942f9888",
   "metadata": {},
   "outputs": [
    {
     "name": "stdout",
     "output_type": "stream",
     "text": [
      "2024-01-11 11:19:40.768413 :  healthCondition on staging has 115649 total_hits\n",
      "2024-01-11 11:21:23.383713 :  healthCondition on prod has 7188 total_hits\n",
      "2024-01-11 11:21:31.662703 :  species on staging has 201225 total_hits\n",
      "2024-01-11 11:23:52.262744 :  species on prod has 200837 total_hits\n",
      "2024-01-11 11:26:16.747453 :  infectiousAgent on staging has 6097 total_hits\n",
      "2024-01-11 11:26:25.373730 :  infectiousAgent on prod has 5011 total_hits\n",
      "CPU times: total: 58.8 s\n",
      "Wall time: 6min 51s\n"
     ]
    }
   ],
   "source": [
    "%%time\n",
    "dump_data()\n"
   ]
  },
  {
   "cell_type": "code",
   "execution_count": null,
   "id": "b21d4d29",
   "metadata": {},
   "outputs": [],
   "source": [
    "## for troubleshooting"
   ]
  },
  {
   "cell_type": "code",
   "execution_count": null,
   "id": "e54016a4",
   "metadata": {},
   "outputs": [],
   "source": [
    "%%time\n",
    "\n",
    "## Perform the initial query\n",
    "querytime = datetime.strftime(datetime.now(),'%Y-%m-%d')\n",
    "query_type = 'infectiousAgent'\n",
    "#query_url = 'https://api.data.niaid.nih.gov/v1/query?q=_exists_:species&fields=_id,name,species&fetch_all=true'\n",
    "query_url = f'https://api-staging.data.niaid.nih.gov/v1/query?q=_exists_:{query_type}&fields=_id,name,{query_type}&fetch_all=true'\n",
    "r = requests.get(query_url)\n",
    "cleanr = json.loads(r.text)\n",
    "hits = cleanr['hits']\n",
    "#print(len(cleanr['hits']))\n",
    "df1 = pd.DataFrame(cleanr['hits'])\n",
    "scroll_id = cleanr['_scroll_id']\n",
    "total_hits = cleanr['total']\n",
    "print(total_hits)"
   ]
  },
  {
   "cell_type": "code",
   "execution_count": null,
   "id": "23cfeb40",
   "metadata": {},
   "outputs": [],
   "source": [
    "%%time\n",
    "## Scroll to get all the results\n",
    "\n",
    "i = 0\n",
    "#k = 3 \n",
    "k = math.ceil(total_hits/1000)\n",
    "while i < k:\n",
    "    #r2 = requests.get(f'https://api.data.niaid.nih.gov/v1/query?scroll_id={scroll_id}')\n",
    "    r2 = requests.get(f'https://api-staging.data.niaid.nih.gov/v1/query?scroll_id={scroll_id}')\n",
    "    tmp = json.loads(r2.text)\n",
    "    scroll_id = tmp['_scroll_id']\n",
    "    tmpdf = pd.DataFrame(tmp['hits'])\n",
    "    df1 = pd.concat((df1,tmpdf),ignore_index=True)\n",
    "    #print(len(df1))\n",
    "    i = i+1\n",
    "    time.sleep(0.25)"
   ]
  },
  {
   "cell_type": "code",
   "execution_count": null,
   "id": "9a0de029",
   "metadata": {},
   "outputs": [],
   "source": [
    "%%time\n",
    "\n",
    "print(querytime)\n",
    "query_type = 'species'\n",
    "api = 'staging'\n",
    "df1 = get_property_vals(query_type,api)"
   ]
  },
  {
   "cell_type": "code",
   "execution_count": null,
   "id": "43ca5fa1",
   "metadata": {},
   "outputs": [],
   "source": [
    "process_and_export(df1)"
   ]
  }
 ],
 "metadata": {
  "kernelspec": {
   "display_name": "Python 3 (ipykernel)",
   "language": "python",
   "name": "python3"
  },
  "language_info": {
   "codemirror_mode": {
    "name": "ipython",
    "version": 3
   },
   "file_extension": ".py",
   "mimetype": "text/x-python",
   "name": "python",
   "nbconvert_exporter": "python",
   "pygments_lexer": "ipython3",
   "version": "3.10.10"
  }
 },
 "nbformat": 4,
 "nbformat_minor": 5
}
