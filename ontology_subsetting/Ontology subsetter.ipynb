{
 "cells": [
  {
   "cell_type": "markdown",
   "id": "6032ce2f",
   "metadata": {},
   "source": [
    "## Ontology subsetter\n",
    "Sometimes, only a subset of an ontology has suitable values for a property. Under those circumstances, it would be more efficient to work with the subset of interest rather than the entire ontology. This script helps to subset (take all children of a specific parent)\n",
    "\n"
   ]
  },
  {
   "cell_type": "code",
   "execution_count": 2,
   "id": "0e870a9e",
   "metadata": {},
   "outputs": [
    {
     "name": "stdout",
     "output_type": "stream",
     "text": [
      "                                            Class ID  \\\n",
      "0  http://ncicb.nci.nih.gov/xml/owl/EVS/Thesaurus...   \n",
      "1  http://ncicb.nci.nih.gov/xml/owl/EVS/Thesaurus...   \n",
      "\n",
      "                                   Preferred Label  \\\n",
      "0  Child Disobeys Rules or Gets in Trouble at Home   \n",
      "1               DNA Repair Protein RAD51 Homolog 4   \n",
      "\n",
      "                                            Synonyms  \\\n",
      "0  Child Disobeys Rules or Gets in Trouble at Hom...   \n",
      "1  DNA Repair Protein RAD51 Homolog 4|RAD51-Like ...   \n",
      "\n",
      "                                         Definitions  Obsolete  \\\n",
      "0  A question about whether a child disobeys rule...     False   \n",
      "1  DNA repair protein RAD51 homolog 4 (328 aa, ~3...     False   \n",
      "\n",
      "   Semantic Types                                            Parents  \n",
      "0             NaN  http://ncicb.nci.nih.gov/xml/owl/EVS/Thesaurus...  \n",
      "1             NaN  http://ncicb.nci.nih.gov/xml/owl/EVS/Thesaurus...  \n",
      "http://ncicb.nci.nih.gov/xml/owl/EVS/Thesaurus.owl#C183258\n"
     ]
    }
   ],
   "source": [
    "import os\n",
    "import pandas as pd\n",
    "\n",
    "script_path = os.getcwd()\n",
    "data_path = 'data'\n",
    "ontology_file = 'NCIT.csv'\n",
    "ontology_path = os.path.join(script_path,data_path,ontology_file)\n",
    "\n",
    "headerlist = ['Class ID', 'Preferred Label', 'Synonyms', 'Definitions', 'Obsolete', 'Semantic Types', 'Parents']\n",
    "ontology = pd.read_csv(ontology_path, header=0, usecols=headerlist)\n",
    "print(ontology.head(n=2))\n",
    "print(ontology.iloc[0]['Class ID'])"
   ]
  },
  {
   "cell_type": "code",
   "execution_count": 10,
   "id": "cd7c690c",
   "metadata": {},
   "outputs": [],
   "source": [
    "def generate_id_df(baseurl,df):\n",
    "    for eachurl in baseurl:\n",
    "        df['Class ID'] = df['Class ID'].str.replace(eachurl,'')\n",
    "        df['Parents'] = df['Parents'].str.replace(eachurl,'')\n",
    "    return df\n",
    "\n",
    "def check_urls(df):\n",
    "    parent_urls = df.loc[df['Parents'].str.contains('http')]\n",
    "    id_urls = df.loc[df['Class ID'].str.contains('http')]\n",
    "    urls_df = parent_urls.merge(id_urls,how='outer')\n",
    "    return urls_df"
   ]
  },
  {
   "cell_type": "code",
   "execution_count": 13,
   "id": "3d404cc2",
   "metadata": {},
   "outputs": [],
   "source": [
    "baseurl = [\"http://ncicb.nci.nih.gov/xml/owl/EVS/Thesaurus.owl#\",\n",
    "           \"http://www.w3.org/2002/07/owl#\"]\n",
    "include_parent = ['C19160']\n",
    "exclude_parent = ['C25193']\n",
    "clean_ontology = generate_id_df(baseurl,ontology)\n",
    "remaining_urls = check_urls(clean_ontology)\n"
   ]
  },
  {
   "cell_type": "code",
   "execution_count": 19,
   "id": "6ebd8acd",
   "metadata": {},
   "outputs": [
    {
     "name": "stdout",
     "output_type": "stream",
     "text": [
      "0\n",
      "202\n",
      "316\n",
      "364\n",
      "368\n"
     ]
    }
   ],
   "source": [
    "## Grow the parent list\n",
    "desired_subset = []\n",
    "while len(desired_subset)<=len(clean_ontology):\n",
    "    print(len(desired_subset))\n",
    "    temp_children = ontology.loc[clean_ontology['Parents'].isin(include_parent)]\n",
    "    temp_subset = temp_children.drop_duplicates(keep='first')\n",
    "    if len(temp_subset) > 0:\n",
    "        if len(set(exclude_parent).intersection(set(temp_subset['Class ID'].unique().tolist())))>0:\n",
    "            clean_subset = temp_subset.loc[~temp_subset['Class ID'].isin(exclude_parent)]\n",
    "        else:\n",
    "            clean_subset = temp_subset\n",
    "        desired_subset.extend(clean_subset['Class ID'].unique().tolist())\n",
    "        include_parent = clean_subset['Class ID'].unique().tolist()\n",
    "    else:\n",
    "        break\n",
    "    "
   ]
  },
  {
   "cell_type": "code",
   "execution_count": 21,
   "id": "01a084d8",
   "metadata": {},
   "outputs": [
    {
     "name": "stdout",
     "output_type": "stream",
     "text": [
      "       Class ID                          Preferred Label  \\\n",
      "427      C16627                         Medical Genetics   \n",
      "429      C16628                      Population Genetics   \n",
      "431      C16626                     Biochemical Genetics   \n",
      "436      C16625                      Behavioral Genetics   \n",
      "885      C18867                     Mathematical Biology   \n",
      "...         ...                                      ...   \n",
      "181413   C16497                                Dentistry   \n",
      "183181  C201963  Developmental and Behavioral Pediatrics   \n",
      "183864   C19164                   Experimental Pathology   \n",
      "183868   C19165                         Cancer Histology   \n",
      "183962   C18700                   Clinical Endocrinology   \n",
      "\n",
      "                                                 Synonyms  \\\n",
      "427                    Medical Genetics|Genetics, Medical   \n",
      "429              Genetics, Population|Population Genetics   \n",
      "431                                  Biochemical Genetics   \n",
      "436     Genetic Determinants of Behavior|Behavioral Ge...   \n",
      "885                                  Mathematical Biology   \n",
      "...                                                   ...   \n",
      "181413                                          Dentistry   \n",
      "183181  Developmental and Behavioral Pediatrics|Develo...   \n",
      "183864                             Experimental Pathology   \n",
      "183868                                   Cancer Histology   \n",
      "183962                             Clinical Endocrinology   \n",
      "\n",
      "                                              Definitions  Obsolete  \\\n",
      "427     A medical specialty concerned with the diagnos...     False   \n",
      "429     The branch of genetics that focuses on gene di...     False   \n",
      "431     The science concerned with the chemical and ph...     False   \n",
      "436     The study of the genetic factors of behavioral...     False   \n",
      "885     Interdisciplinary field of study in which theo...     False   \n",
      "...                                                   ...       ...   \n",
      "181413  A clinical specialty responsible for the maint...     False   \n",
      "183181  A subspecialty of pediatrics concerned with th...     False   \n",
      "183864  Experimental pathology; the study of disease p...     False   \n",
      "183868                                                NaN     False   \n",
      "183962  The clinical specialty of endocrinology that f...     False   \n",
      "\n",
      "        Semantic Types Parents  \n",
      "427                NaN  C17153  \n",
      "429                NaN  C16624  \n",
      "431                NaN  C16624  \n",
      "436                NaN  C16624  \n",
      "885                NaN  C19061  \n",
      "...                ...     ...  \n",
      "181413             NaN  C17153  \n",
      "183181             NaN  C16962  \n",
      "183864             NaN  C18189  \n",
      "183868             NaN  C18666  \n",
      "183962             NaN  C16543  \n",
      "\n",
      "[368 rows x 7 columns]\n"
     ]
    }
   ],
   "source": [
    "desired_subset_df = clean_ontology.loc[clean_ontology['Class ID'].isin(desired_subset)]\n",
    "print(desired_subset_df)\n",
    "desired_subset_df.to_csv(os.path.join(script_path,data_path,'NCIT_disciplines.tsv'), sep='\\t',header=True)"
   ]
  },
  {
   "cell_type": "code",
   "execution_count": null,
   "id": "ea492a91",
   "metadata": {},
   "outputs": [],
   "source": []
  }
 ],
 "metadata": {
  "kernelspec": {
   "display_name": "Python 3 (ipykernel)",
   "language": "python",
   "name": "python3"
  },
  "language_info": {
   "codemirror_mode": {
    "name": "ipython",
    "version": 3
   },
   "file_extension": ".py",
   "mimetype": "text/x-python",
   "name": "python",
   "nbconvert_exporter": "python",
   "pygments_lexer": "ipython3",
   "version": "3.10.10"
  }
 },
 "nbformat": 4,
 "nbformat_minor": 5
}
