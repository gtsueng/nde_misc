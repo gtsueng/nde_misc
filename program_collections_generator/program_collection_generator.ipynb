{
 "cells": [
  {
   "cell_type": "markdown",
   "id": "cd81e8c1",
   "metadata": {},
   "source": [
    "# Program Collections generator\n",
    "\n",
    "This script parses a xlsx file containing metadata about Program Collections and searches the NIAID Data Ecosystem Discovery Portal for records that should be included as part of each program. It then generates the corrections files needed to add the program collection to the Discovery Portal"
   ]
  },
  {
   "cell_type": "code",
   "execution_count": 2,
   "id": "e635056c",
   "metadata": {},
   "outputs": [],
   "source": [
    "import os\n",
    "import requests\n",
    "import json\n",
    "import pandas as pd"
   ]
  },
  {
   "cell_type": "code",
   "execution_count": 3,
   "id": "72b5769e",
   "metadata": {},
   "outputs": [
    {
     "name": "stdout",
     "output_type": "stream",
     "text": [
      "C:\\Users\\gtsueng\\Anaconda3\\envs\\nde\\nde-metadata-corrections\\collections_corrections\n"
     ]
    }
   ],
   "source": [
    "script_path = os.getcwd()\n",
    "data_path = os.path.join(script_path,'data')\n",
    "file_path = os.path.join(data_path,'Program Collections.xlsx')\n",
    "p1_path = os.path.abspath(os.path.join(script_path, os.pardir))\n",
    "parent_path = os.path.abspath(os.path.join(p1_path, os.pardir))\n",
    "correction_path = os.path.join(parent_path,'nde-metadata-corrections','collections_corrections')\n",
    "print(correction_path)"
   ]
  },
  {
   "cell_type": "code",
   "execution_count": 4,
   "id": "a205e2a8",
   "metadata": {},
   "outputs": [],
   "source": [
    "def parse_array_text(arraytext):\n",
    "    if ',' in arraytext:\n",
    "        arrayinfo = arraytext.split(',')\n",
    "        cleanarray = [x.strip() for x in arrayinfo]\n",
    "    elif '|' in arraytext:\n",
    "        arrayinfo = arraytext.split('|')\n",
    "        cleanarray = [x.strip() for x in arrayinfo]\n",
    "    else:\n",
    "        cleanarray = arraytext\n",
    "    return cleanarray\n",
    "\n",
    "def generate_meta_file(correction_path, row):\n",
    "    clean_descript = f\"{row['description']} For more information, visit the NIAID program page: {row['niaidURL']}\"\n",
    "    altname = parse_array_text(row['alternateName'])\n",
    "    parentorgs = parse_array_text(row['parentOrganization']) \n",
    "    meta_dict = {\"@type\": \"ResearchProject\", \"name\":row[\"name\"],\n",
    "                 \"description\":clean_descript, \"alternateName\":altname,\n",
    "                 \"url\": row[\"url\"], \"parentOrganization\":parentorgs} \n",
    "    file_name = f'{row[\"fileName\"]}_correction.json'\n",
    "    output_dict = {\"sourceOrganization\":[meta_dict]}\n",
    "    with open(os.path.join(correction_path,file_name),'w') as outwrite:\n",
    "        outwrite.write(json.dumps(output_dict,indent=4))"
   ]
  },
  {
   "cell_type": "code",
   "execution_count": 16,
   "id": "f171e247",
   "metadata": {},
   "outputs": [
    {
     "name": "stdout",
     "output_type": "stream",
     "text": [
      "     fileName                     name  \\\n",
      "0      SysBio    NIAID Systems Biology   \n",
      "8   CRSTAL-ID  NIAID CRSTAL-ID program   \n",
      "11       GCID       NIAID GCID Network   \n",
      "16       HIPC       NIAID HIPC Network   \n",
      "\n",
      "                                          description  \\\n",
      "0   The NIAID/Division of Microbiology and Infecti...   \n",
      "8   The CRSTAL-ID program, formerly known as the S...   \n",
      "11  The NIAID Genomic Centers for Infectious Disea...   \n",
      "16  The Human Immunology Project Consortium (HIPC)...   \n",
      "\n",
      "                                        alternateName parentOrganization  \\\n",
      "0                                                 NaN              NIAID   \n",
      "8   CRSTAL-ID, Centers for Research on Structural ...              NIAID   \n",
      "11      GCID, Genomic Centers for Infectious Diseases              NIAID   \n",
      "16          HIPC, Human Immunology Project Consortium              NIAID   \n",
      "\n",
      "                                                  url  \\\n",
      "0   https://www.niaid.nih.gov/research/systems-bio...   \n",
      "8        https://www.niaid.nih.gov/research/crstal-id   \n",
      "11  https://www.niaid.nih.gov/research/gcid-resources   \n",
      "16                           https://immunespace.org/   \n",
      "\n",
      "                                        fundingIDList  \\\n",
      "0   HHSN272201200031C1*| U01AI111598**| U19AI10675...   \n",
      "8   75N93022C00036| HHSN272201700059C| HHSN2722012...   \n",
      "11   AI110818| AI110819| AI110820| AI144297| AI181767   \n",
      "16  AI089992-11| AI118626-08| AI128914-07| AI12894...   \n",
      "\n",
      "                                             niaidURL  \n",
      "0   https://www.niaid.nih.gov/research/systems-bio...  \n",
      "8        https://www.niaid.nih.gov/research/crstal-id  \n",
      "11  https://www.niaid.nih.gov/research/genomic-cen...  \n",
      "16  https://www.niaid.nih.gov/research/human-immun...  \n"
     ]
    }
   ],
   "source": [
    "base_meta = pd.read_excel(file_path, 'metadata', engine='openpyxl')\n",
    "test_meta = base_meta.loc[~base_meta['fundingIDList'].isna()]\n",
    "print(test_meta.head(n=5))"
   ]
  },
  {
   "cell_type": "code",
   "execution_count": 22,
   "id": "b9776b95",
   "metadata": {},
   "outputs": [],
   "source": [
    "test_row = test_meta.iloc[1]\n",
    "generate_meta_file(correction_path, test_row)"
   ]
  },
  {
   "cell_type": "code",
   "execution_count": 7,
   "id": "9a718533",
   "metadata": {},
   "outputs": [
    {
     "name": "stdout",
     "output_type": "stream",
     "text": [
      "  Acronym                                          Full Name  Code\n",
      "0      FIC               John E. Fogarty International Center   TW\n",
      "1    NCATS  National Center for Advancing Translational Sc...   TR\n"
     ]
    }
   ],
   "source": [
    "activity_codes_df = pd.read_csv(os.path.join(data_path,'NIH_IC_codes.tsv'),delimiter='\\t',header=0)\n",
    "print(activity_codes_df.head(n=2))"
   ]
  },
  {
   "cell_type": "code",
   "execution_count": 19,
   "id": "996ebd70",
   "metadata": {},
   "outputs": [
    {
     "name": "stdout",
     "output_type": "stream",
     "text": [
      "AI089992-11\n"
     ]
    }
   ],
   "source": [
    "def load_codes(data_path):\n",
    "    activity_codes_df = pd.read_csv(os.path.join(data_path,'NIH_activity_codes.csv'),delimiter=',',header=0)\n",
    "    tmp_codes = activity_codes_df['Activity Code'].unique().tolist()\n",
    "    act_codes = [x.strip() for x in tmp_codes]\n",
    "    ic_codes_df = pd.read_csv(os.path.join(data_path,'NIH_IC_codes.tsv'),delimiter='\\t',header=0)\n",
    "    temp_codes = ic_codes_df['Code'].unique().tolist()\n",
    "    ic_codes = [x.strip() for x in temp_codes]\n",
    "    return act_codes, ic_codes\n",
    "\n",
    "def check_grantID_start(grantID, act_codes, ic_codes):\n",
    "    first_char = grantID[0]\n",
    "    try:\n",
    "        int(first_char)\n",
    "        idstart = \"application_type\"\n",
    "    except:\n",
    "        two_char = grantID[0:2]\n",
    "        if '-' in grantID[0:3]:\n",
    "            three_char = grantID[0:4].replace('-','')\n",
    "        else:\n",
    "            three_char = grantID[0:3]\n",
    "        if two_char in ic_codes:\n",
    "            idstart = \"ic_code\"\n",
    "        elif three_char in act_codes:\n",
    "            idstart = \"activity_code\"\n",
    "        else:\n",
    "            idstart = \"unknown\"\n",
    "    return idstart\n",
    "\n",
    "def check_grantID_end(grantID):\n",
    "    if '-' in grantID[-3:-1]:\n",
    "        idend = \"FY\"\n",
    "    else:\n",
    "        idend = \"project_code\"\n",
    "    return idend\n",
    "\n",
    "def parse_apptype_start(grantID): ## Eg. 1-R01 vs 1R01\n",
    "    applTypeCode = str(grantID[0])\n",
    "    if '-' in grantID[0:2]:\n",
    "        remaining_grantID = grantID[2:]\n",
    "    else:\n",
    "        remaining_grantID = grantID[1:]\n",
    "    return applTypeCode, remaining_grantID\n",
    "\n",
    "def parse_actcode_start(grantID):\n",
    "    if '-' in grantID[0:3]: ## Eg. U-01 vs U01 vs U-01- vs U01-\n",
    "        activityCode = grantID[0:4].replace('-','')\n",
    "        if '-' in grantID[4:7]:\n",
    "            remaining_grantID = grantID[5:]\n",
    "        else:\n",
    "            remaining_grantID = grantID[4:]\n",
    "    else:\n",
    "        activityCode = grantID[0:3]\n",
    "        if '-' in grantID[3:6]:\n",
    "            remaining_grantID = grantID[4:]\n",
    "        else:\n",
    "            remaining_grantID = grantID[3:]\n",
    "    return activityCode, remaining_grantID\n",
    "\n",
    "def parse_iccode_start(grantID):\n",
    "    icCode = grantID[0:2]\n",
    "    if '-' in grantID[2:5]: ## Eg. AI089992-11, AI-089992-11\n",
    "        remaining_grantID = grantID[3:]\n",
    "    else:\n",
    "        remaining_grantID = grantID[2:]\n",
    "    return icCode, remaining_grantID\n",
    "\n",
    "def parse_serial_start(grantID):\n",
    "    if len(grantID) > 6:\n",
    "        serialNum = grantID[0:6]\n",
    "        remaining_grantID = grantID[7:]\n",
    "    else:\n",
    "        serialNum = grantID\n",
    "        remaining_grantID = ''\n",
    "    return serialNum, remaining_grantID\n",
    "\n",
    "def parse_grantID(grantID, act_codes, ic_codes):\n",
    "    idstart = check_grantID_start(grantID, act_codes, ic_codes)\n",
    "    idend = check_grantID_end(grantID)\n",
    "    if idend == \"FY\":\n",
    "        supportYear = grantID[-2:]\n",
    "    else:\n",
    "        supportYear = \"not found\"\n",
    "    if idstart == \"application_type\":\n",
    "        applTypeCode, grantID_child0 = parse_apptype_start(grantID)\n",
    "        activityCode, grantID_child1 = parse_actcode_start(grantID_child0)\n",
    "        icCode, grantID_child2 = parse_iccode_start(grantID_child1)\n",
    "        serialNum, remaining_grantID = parse_serial_start(grantID_child2)\n",
    "    elif idstart == \"activity_code\":\n",
    "        applTypeCode = \"not found\"\n",
    "        activityCode, grantID_child1 = parse_actcode_start(grantID)\n",
    "        icCode, grantID_child2 = parse_iccode_start(grantID_child1)\n",
    "        serialNum, remaining_grantID = parse_serial_start(grantID_child2)\n",
    "    elif idstart == \"ic_code\":\n",
    "        applTypeCode = \"not found\"\n",
    "        activityCode = \"not found\"\n",
    "        icCode, grantID_child2 = parse_iccode_start(grantID)\n",
    "        serialNum, remaining_grantID = parse_serial_start(grantID_child2)\n",
    "    else:\n",
    "        applTypeCode = \"not found\"\n",
    "        activityCode = \"not found\"\n",
    "        icCode = \"not found\"\n",
    "        serialNum = \"not found\"\n",
    "    grantObject = {\"grantID\":grantID,\n",
    "                   \"applTypeCode\":applTypeCode, \n",
    "                   \"activityCode\":activityCode, \n",
    "                   \"icCode\":icCode, \n",
    "                   \"serialNum\":serialNum, \n",
    "                   \"supportYear\":supportYear}\n",
    "    return grantObject\n",
    "\n",
    "grantlist = parse_array_text(test_row['fundingIDList'])\n",
    "print(grantlist[0])"
   ]
  },
  {
   "cell_type": "code",
   "execution_count": 9,
   "id": "32e9f126",
   "metadata": {},
   "outputs": [
    {
     "name": "stdout",
     "output_type": "stream",
     "text": [
      "{'grantID': '1-R01-AI073685-01', 'applTypeCode': '1', 'activityCode': 'R01', 'icCode': 'AI', 'serialNum': '073685', 'supportYear': '01'}\n",
      "{'grantID': '1R01-AI073685-01', 'applTypeCode': '1', 'activityCode': 'R01', 'icCode': 'AI', 'serialNum': '073685', 'supportYear': '01'}\n",
      "{'grantID': '1-R01AI073685-01', 'applTypeCode': '1', 'activityCode': 'R01', 'icCode': 'AI', 'serialNum': '073685', 'supportYear': '01'}\n",
      "{'grantID': '1-R-01AI073685-01', 'applTypeCode': '1', 'activityCode': 'R01', 'icCode': 'AI', 'serialNum': '073685', 'supportYear': '01'}\n",
      "{'grantID': 'R01AI073685-01', 'applTypeCode': 'not found', 'activityCode': 'R01', 'icCode': 'AI', 'serialNum': '073685', 'supportYear': '01'}\n",
      "{'grantID': 'R01AI073685-01', 'applTypeCode': 'not found', 'activityCode': 'R01', 'icCode': 'AI', 'serialNum': '073685', 'supportYear': '01'}\n",
      "{'grantID': 'R01-AI073685-01', 'applTypeCode': 'not found', 'activityCode': 'R01', 'icCode': 'AI', 'serialNum': '073685', 'supportYear': '01'}\n",
      "{'grantID': 'AI073685-01', 'applTypeCode': 'not found', 'activityCode': 'not found', 'icCode': 'AI', 'serialNum': '073685', 'supportYear': '01'}\n",
      "{'grantID': '1-R-01-AI073685-01', 'applTypeCode': '1', 'activityCode': 'R01', 'icCode': 'AI', 'serialNum': '073685', 'supportYear': '01'}\n",
      "{'grantID': 'AI073685', 'applTypeCode': 'not found', 'activityCode': 'not found', 'icCode': 'AI', 'serialNum': '073685', 'supportYear': 'not found'}\n"
     ]
    }
   ],
   "source": [
    "grantIDList = [\"1-R01-AI073685-01\",\"1R01-AI073685-01\",\"1-R01AI073685-01\",\"1-R-01AI073685-01\",\"R01AI073685-01\",\"R01AI073685-01\",\"R01-AI073685-01\",\"AI073685-01\",\"1-R-01-AI073685-01\", \"AI073685\"]\n",
    "act_codes, ic_codes = load_codes(data_path)\n",
    "for eachgrant in grantIDList:\n",
    "    grantObject = parse_grantID(eachgrant, act_codes, ic_codes)\n",
    "    print(grantObject)\n",
    "    "
   ]
  },
  {
   "cell_type": "markdown",
   "id": "61a77c24",
   "metadata": {},
   "source": [
    "### Searching for records related to grant IDs:\n",
    "\n",
    "To do:\n",
    "- Pull the datasets associated with the differently formatted grantIDs\n",
    "- Compare the results to identify the best approach for pulling records based on grantIDs\n",
    "  - It looks like the combined icCode+project number may yield the most results"
   ]
  },
  {
   "cell_type": "code",
   "execution_count": 10,
   "id": "d0a41eaa",
   "metadata": {},
   "outputs": [],
   "source": [
    "def search_for_records(grantlist):\n",
    "    resultlist = []\n",
    "    faillist = []\n",
    "    for eachgrant in grantlist:\n",
    "        r = requests.get(f\"https://api-staging.data.niaid.nih.gov/v1/query?&q=funding.identifier:*{eachgrant}*&fields=_id,funding.identifier&size=500\")\n",
    "        s = requests.get(f\"https://api-staging.data.niaid.nih.gov/v1/query?&q=funding.identifier:{eachgrant}&fields=_id,funding.identifier&size=500\")\n",
    "        temp = json.loads(r.text)\n",
    "        temp2 = json.loads(s.text)\n",
    "        if len(temp['hits'])>0:\n",
    "            if len(temp2['hits'])>0:\n",
    "                alltemp = temp['hits']+temp2['hits']\n",
    "            else:\n",
    "                alltemp = temp['hits']\n",
    "        elif len(temp2['hits'])>0:\n",
    "                alltemp = temp2['hits']\n",
    "        else:\n",
    "            faillist.append(eachgrant)\n",
    "            alltemp = []\n",
    "        if len(alltemp)>0:\n",
    "            for eachhit in alltemp:\n",
    "                tmpid = eachhit['_id']\n",
    "                for eachfunding in eachhit['funding']:\n",
    "                    if eachgrant in eachfunding['identifier']:\n",
    "                        resultlist.append({\"query\":eachgrant,\"_id\":tmpid,\"fundID\":eachfunding['identifier']})\n",
    "    resultdf = pd.DataFrame(resultlist)\n",
    "    clean_result = resultdf.drop_duplicates(keep=\"first\")\n",
    "    return clean_result"
   ]
  },
  {
   "cell_type": "code",
   "execution_count": 11,
   "id": "7bab5076",
   "metadata": {},
   "outputs": [],
   "source": [
    "grantIDList = [\"1-R01-AI073685-01\",\"1R01-AI073685-01\",\"1-R01AI073685-01\",\"1-R-01AI073685-01\",\"R01AI073685\",\"R01AI073685-01\",\"R01 AI073685-01\", \"R01 AI07368501\",\"R01-AI073685-01\",\"AI073685-01\",\"1-R-01-AI073685-01\", \"AI073685\"]\n",
    "clean_result = search_for_records(grantIDList)"
   ]
  },
  {
   "cell_type": "code",
   "execution_count": 12,
   "id": "0bfe697e",
   "metadata": {},
   "outputs": [
    {
     "name": "stdout",
     "output_type": "stream",
     "text": [
      "             query            _id           fundID\n",
      "0      R01AI073685  ds_61fc1af3a0  1R01AI073685-01\n",
      "2      R01AI073685  ds_69b30c3f3f  1R01AI073685-01\n",
      "3      R01AI073685  ds_e639f19429  1R01AI073685-01\n",
      "5      R01AI073685  ds_5dc6e26d66  1R01AI073685-01\n",
      "7      R01AI073685  ds_7fb8ffda8b  1R01AI073685-01\n",
      "9      R01AI073685  ds_e3b3b46a00  1R01AI073685-01\n",
      "10  R01AI073685-01  ds_61fc1af3a0  1R01AI073685-01\n",
      "12  R01AI073685-01  ds_69b30c3f3f  1R01AI073685-01\n",
      "13  R01AI073685-01  ds_e639f19429  1R01AI073685-01\n",
      "15  R01AI073685-01  ds_5dc6e26d66  1R01AI073685-01\n",
      "17  R01AI073685-01  ds_7fb8ffda8b  1R01AI073685-01\n",
      "19  R01AI073685-01  ds_e3b3b46a00  1R01AI073685-01\n",
      "20     AI073685-01  ds_61fc1af3a0  1R01AI073685-01\n",
      "22     AI073685-01  ds_69b30c3f3f  1R01AI073685-01\n",
      "23     AI073685-01  ds_e639f19429  1R01AI073685-01\n",
      "25     AI073685-01  ds_5dc6e26d66  1R01AI073685-01\n",
      "27     AI073685-01  ds_7fb8ffda8b  1R01AI073685-01\n",
      "29     AI073685-01  ds_e3b3b46a00  1R01AI073685-01\n",
      "30        AI073685  ds_61fc1af3a0  1R01AI073685-01\n",
      "32        AI073685  ds_69b30c3f3f  1R01AI073685-01\n",
      "33        AI073685  ds_e639f19429  1R01AI073685-01\n",
      "35        AI073685  ds_5dc6e26d66  1R01AI073685-01\n",
      "37        AI073685  ds_7fb8ffda8b  1R01AI073685-01\n",
      "39        AI073685  ds_e3b3b46a00  1R01AI073685-01\n"
     ]
    }
   ],
   "source": [
    "print(clean_result)"
   ]
  },
  {
   "cell_type": "code",
   "execution_count": 13,
   "id": "91a1cc70",
   "metadata": {},
   "outputs": [],
   "source": [
    "## parse the funder ids from the spreadsheet and format into icCode+project number\n",
    "def parse_program_funding(fundingInfo):\n",
    "    grantlist = []\n",
    "    temp = fundingInfo.split(\"|\")\n",
    "    temp2 = [x.strip() for x in temp]\n",
    "    temp3 = [x.replace(\"*\",\"\") for x in temp2]\n",
    "    for eachgrant in temp3:\n",
    "        try:\n",
    "            grantObject = parse_grantID(eachgrant, act_codes, ic_codes)\n",
    "            grantlist.append(grantObject['icCode']+grantObject['serialNum'])\n",
    "        except:\n",
    "            grantlist.append(eachgrant)\n",
    "    return grantlist"
   ]
  },
  {
   "cell_type": "code",
   "execution_count": 14,
   "id": "509a3a28",
   "metadata": {},
   "outputs": [],
   "source": [
    "def generate_inclusion_list(row):\n",
    "    filename = f\"{row['fileName']}_records.txt\"\n",
    "    fundingInfo = row['fundingIDList']\n",
    "    grantlist = parse_program_funding(fundingInfo)\n",
    "    clean_result = search_for_records(grantlist)\n",
    "    print(clean_result)\n",
    "    with open(os.path.join(correction_path,filename),'w') as outwrite:\n",
    "        for eachrecord in clean_result['_id'].unique().tolist():\n",
    "            outwrite.write(f'https://data.niaid.nih.gov/resources?id={eachrecord}\\n')"
   ]
  },
  {
   "cell_type": "code",
   "execution_count": 24,
   "id": "bab2f189",
   "metadata": {},
   "outputs": [
    {
     "name": "stdout",
     "output_type": "stream",
     "text": [
      "        query            _id           fundID\n",
      "0    AI110818      gse118400  1U19AI110818-01\n",
      "1    AI110818      gse114842  1U19AI110818-01\n",
      "2    AI110818      gse129833  1U19AI110818-01\n",
      "3    AI110818  ds_74a7480ae4  1U19AI110818-01\n",
      "4    AI110818  ds_76ede52023  1U19AI110818-01\n",
      "..        ...            ...              ...\n",
      "182  AI144297      gse150918  1U19AI144297-01\n",
      "183  AI144297  ds_3901f3433e  1U19AI144297-01\n",
      "184  AI144297      gse196385  1U19AI144297-01\n",
      "185  AI144297      phs002258  1U19AI144297-01\n",
      "186  AI144297      gse227205  1U19AI144297-01\n",
      "\n",
      "[165 rows x 3 columns]\n"
     ]
    }
   ],
   "source": [
    "#print(test_meta.iloc[1]['fundingIDList'])\n",
    "generate_inclusion_list(test_meta.iloc[2])\n",
    "#print(test_meta.head(n=2))\n",
    "#test_meta.apply(lambda row: generate_inclusion_list(row), axis=1)"
   ]
  },
  {
   "cell_type": "code",
   "execution_count": 66,
   "id": "cb7db1a3",
   "metadata": {},
   "outputs": [
    {
     "name": "stdout",
     "output_type": "stream",
     "text": [
      "{'took': 42, 'total': 6, 'max_score': 2.0, 'hits': [{'_id': 'ds_61fc1af3a0', '_score': 2.0, 'funding': [{'identifier': '1R01AI080799-01A1'}, {'identifier': '1R01AI073685-01'}, {'identifier': '1R01AI078183-01A2'}, {'identifier': 'AI77680'}, {'identifier': '2R37AI029746-18'}, {'identifier': '1R01AI073745-01A2'}, {'identifier': '1R01AI095842-01'}, {'identifier': '1R01AI042361-01A1'}, {'identifier': '1R21AI099528-01A1'}, {'identifier': '1R01AI077680-01A2'}, {'identifier': '1R01AI080799-01A1'}, {'identifier': '1R21AI094289-01'}, {'identifier': '1R01AI073685-01'}, {'identifier': '1R01AI078183-01A2'}, {'identifier': '1R21AI094289-01'}, {'identifier': '1R56AI077680-01A1'}, {'identifier': '1R01AI095842-01'}, {'identifier': '1R21AI105575-01'}, {'identifier': '1R21AI105575-01'}, {'identifier': '1R21AI099528-01A1'}, {'identifier': '1R01AI073745-01A2'}, {'identifier': 'AI29746'}, {'identifier': '1R01AI042361-01A1'}, {'identifier': '1R01AI029746-01'}]}, {'_id': 'ds_69b30c3f3f', '_ignored': ['all.keyword'], '_score': 2.0, 'funding': [{'identifier': '1R01AI073685-01'}]}, {'_id': 'ds_e639f19429', '_score': 2.0, 'funding': [{'identifier': '1R01AI080799-01A1'}, {'identifier': '1R01AI073685-01'}, {'identifier': '1R01AI078183-01A2'}, {'identifier': 'AI77680'}, {'identifier': '2R37AI029746-18'}, {'identifier': '1R01AI073745-01A2'}, {'identifier': '1R01AI095842-01'}, {'identifier': '1R01AI042361-01A1'}, {'identifier': '1R21AI099528-01A1'}, {'identifier': '1R01AI077680-01A2'}, {'identifier': '1R01AI080799-01A1'}, {'identifier': '1R21AI094289-01'}, {'identifier': '1R01AI073685-01'}, {'identifier': '1R01AI078183-01A2'}, {'identifier': '1R21AI094289-01'}, {'identifier': '1R56AI077680-01A1'}, {'identifier': '1R01AI095842-01'}, {'identifier': '1R21AI105575-01'}, {'identifier': '1R21AI105575-01'}, {'identifier': '1R21AI099528-01A1'}, {'identifier': '1R01AI073745-01A2'}, {'identifier': 'AI29746'}, {'identifier': '1R01AI042361-01A1'}, {'identifier': '1R01AI029746-01'}]}, {'_id': 'ds_5dc6e26d66', '_score': 2.0, 'funding': [{'identifier': '1R01AI080799-01A1'}, {'identifier': '1R01AI073685-01'}, {'identifier': '1R01AI078183-01A2'}, {'identifier': 'AI77680'}, {'identifier': '2R37AI029746-18'}, {'identifier': '1R01AI073745-01A2'}, {'identifier': '1R01AI095842-01'}, {'identifier': '1R01AI042361-01A1'}, {'identifier': '1R21AI099528-01A1'}, {'identifier': '1R01AI077680-01A2'}, {'identifier': '1R01AI080799-01A1'}, {'identifier': '1R21AI094289-01'}, {'identifier': '1R01AI073685-01'}, {'identifier': '1R01AI078183-01A2'}, {'identifier': '1R21AI094289-01'}, {'identifier': '1R56AI077680-01A1'}, {'identifier': '1R01AI095842-01'}, {'identifier': '1R21AI105575-01'}, {'identifier': '1R21AI105575-01'}, {'identifier': '1R21AI099528-01A1'}, {'identifier': '1R01AI073745-01A2'}, {'identifier': 'AI29746'}, {'identifier': '1R01AI042361-01A1'}, {'identifier': '1R01AI029746-01'}]}, {'_id': 'ds_7fb8ffda8b', '_score': 2.0, 'funding': [{'identifier': '1R01AI080799-01A1'}, {'identifier': '1R01AI073685-01'}, {'identifier': '1R01AI078183-01A2'}, {'identifier': 'AI77680'}, {'identifier': '2R37AI029746-18'}, {'identifier': '1R01AI073745-01A2'}, {'identifier': '1R01AI095842-01'}, {'identifier': '1R01AI042361-01A1'}, {'identifier': '1R21AI099528-01A1'}, {'identifier': '1R01AI077680-01A2'}, {'identifier': '1R01AI080799-01A1'}, {'identifier': '1R21AI094289-01'}, {'identifier': '1R01AI073685-01'}, {'identifier': '1R01AI078183-01A2'}, {'identifier': '1R21AI094289-01'}, {'identifier': '1R56AI077680-01A1'}, {'identifier': '1R01AI095842-01'}, {'identifier': '1R21AI105575-01'}, {'identifier': '1R21AI105575-01'}, {'identifier': '1R21AI099528-01A1'}, {'identifier': '1R01AI073745-01A2'}, {'identifier': 'AI29746'}, {'identifier': '1R01AI042361-01A1'}, {'identifier': '1R01AI029746-01'}]}, {'_id': 'ds_e3b3b46a00', '_ignored': ['all.keyword'], '_score': 2.0, 'funding': [{'identifier': '1R01AI073685-01'}]}]}\n"
     ]
    }
   ],
   "source": [
    "eachgrant=grantIDList[-1]\n",
    "r = requests.get(f\"https://api-staging.data.niaid.nih.gov/v1/query?&q=funding.identifier:*{eachgrant}*&fields=_id,funding.identifier&size=500\")\n",
    "temp = json.loads(r.text)\n",
    "print(temp)"
   ]
  },
  {
   "cell_type": "code",
   "execution_count": null,
   "id": "82e348d1",
   "metadata": {},
   "outputs": [],
   "source": []
  }
 ],
 "metadata": {
  "kernelspec": {
   "display_name": "Python 3 (ipykernel)",
   "language": "python",
   "name": "python3"
  },
  "language_info": {
   "codemirror_mode": {
    "name": "ipython",
    "version": 3
   },
   "file_extension": ".py",
   "mimetype": "text/x-python",
   "name": "python",
   "nbconvert_exporter": "python",
   "pygments_lexer": "ipython3",
   "version": "3.10.10"
  }
 },
 "nbformat": 4,
 "nbformat_minor": 5
}
