{
 "cells": [
  {
   "cell_type": "markdown",
   "id": "13436729",
   "metadata": {},
   "source": [
    "## Analysis of ChatGPT length limitations\n",
    "\n",
    "ChatGPT can hallucinate measurement techniques when the length of the name+description provided to it are not long enough. These hallucinations can be very high quality and difficult to distinguish from reasonable predictions (They will even map to measurementTechnique ontology terms with high scores). While ChatGPT's performance is more likely to be word-dependent, it is hard to develop heuristics based on the terms themselves, so we'll just use a length-based heuristic to limit the hallucinations"
   ]
  },
  {
   "cell_type": "code",
   "execution_count": 1,
   "id": "56597916",
   "metadata": {},
   "outputs": [],
   "source": [
    "import os\n",
    "import pandas as pd\n",
    "import seaborn as sns"
   ]
  },
  {
   "cell_type": "code",
   "execution_count": 2,
   "id": "a8e42cdb",
   "metadata": {},
   "outputs": [
    {
     "name": "stdout",
     "output_type": "stream",
     "text": [
      "                            _id         Repository Word Count Range  \\\n",
      "0  Dataverse_10.7910_DVN_UMKWCI  Harvard Dataverse       0-10 words   \n",
      "1  Dataverse_10.7910_DVN_CJDNIE  Harvard Dataverse       0-10 words   \n",
      "\n",
      "                                                Name  \\\n",
      "0  Konzeptstudie über die Kompatibilität von Regi...   \n",
      "1                                      A13_24998.jpg   \n",
      "\n",
      "                                         Description          Model  \\\n",
      "0                                                  I  gpt-3.5-turbo   \n",
      "1  Link to OCHRE database: http://pi.lib.uchicago...  gpt-3.5-turbo   \n",
      "\n",
      "                                         Predictions  # correct  \n",
      "0  ['Conceptual study', 'Compatibility analysis',...          2  \n",
      "1              ['Image capture', 'Database linking']          0  \n"
     ]
    }
   ],
   "source": [
    "script_path = os.getcwd()\n",
    "data_path = os.path.join(script_path,'data')\n",
    "data_file = os.path.join(data_path,'GPT Measurement Techniques Word Count Samples.tsv')\n",
    "data_file2 = os.path.join(data_path,'GPT measurementTechnique - Harvard_Mendeley_Zenodo.tsv')\n",
    "data = pd.read_csv(data_file2,delimiter='\\t',header=0)\n",
    "print(data.head(n=2))\n",
    "\n",
    "result_path = os.path.join(script_path,'result')"
   ]
  },
  {
   "cell_type": "code",
   "execution_count": 3,
   "id": "5336ddfe",
   "metadata": {},
   "outputs": [],
   "source": [
    "def count_predictions(a_prediction):\n",
    "    if \"', '\" in a_prediction:\n",
    "        tmp = a_prediction.replace(\"', '\",\"|\")\n",
    "        splitlist = tmp.split(\"|\")\n",
    "        counts = len(splitlist)\n",
    "    else:\n",
    "        counts = 1\n",
    "    return counts \n",
    "\n",
    "def get_word_count(row):\n",
    "    if row['Name']==None:\n",
    "        namelist = []\n",
    "    elif isinstance(row['Name'],float):\n",
    "        namelist = []\n",
    "    elif \" \" in row['Name']:\n",
    "        namelist = row['Name'].split(\" \")\n",
    "    else:\n",
    "        namelist = [row['Name']]\n",
    "    if row['Description']==None:\n",
    "        desclist = []\n",
    "    elif isinstance(row['Description'],float):\n",
    "        desclist = []\n",
    "    elif \" \" in row['Description']:\n",
    "        desclist = row['Description'].split(\" \")\n",
    "    else:\n",
    "        desclist = [row['Description']]\n",
    "    wordcount = len(namelist)+len(desclist)\n",
    "    return wordcount\n",
    "\n",
    "def get_char_count(row):\n",
    "    namechars = len(str(row['Name']))\n",
    "    descchars = len(str(row['Description']))\n",
    "    char_count = namechars+descchars\n",
    "    return char_count"
   ]
  },
  {
   "cell_type": "code",
   "execution_count": 4,
   "id": "f44ff151",
   "metadata": {},
   "outputs": [
    {
     "name": "stdout",
     "output_type": "stream",
     "text": [
      "                            _id         Repository Word Count Range  \\\n",
      "0  Dataverse_10.7910_DVN_UMKWCI  Harvard Dataverse       0-10 words   \n",
      "1  Dataverse_10.7910_DVN_CJDNIE  Harvard Dataverse       0-10 words   \n",
      "\n",
      "                                                Name  \\\n",
      "0  Konzeptstudie über die Kompatibilität von Regi...   \n",
      "1                                      A13_24998.jpg   \n",
      "\n",
      "                                         Description          Model  \\\n",
      "0                                                  I  gpt-3.5-turbo   \n",
      "1  Link to OCHRE database: http://pi.lib.uchicago...  gpt-3.5-turbo   \n",
      "\n",
      "                                         Predictions  # correct  \\\n",
      "0  ['Conceptual study', 'Compatibility analysis',...          2   \n",
      "1              ['Image capture', 'Database linking']          0   \n",
      "\n",
      "   # of predictions  words  chars  \n",
      "0                 4     10     86  \n",
      "1                 2      6    115  \n"
     ]
    }
   ],
   "source": [
    "data['# of predictions'] = data.apply(lambda row: count_predictions(row['Predictions']), axis=1)\n",
    "data['words'] = data.apply(lambda row: get_word_count(row), axis=1)\n",
    "data['chars'] = data.apply(lambda row: get_char_count(row), axis=1)\n",
    "\n",
    "print(data.head(n=2))\n",
    "data.to_csv(os.path.join(data_path,'length_check_to_review_HarMenZen.tsv'),sep='\\t',header=True)"
   ]
  },
  {
   "cell_type": "markdown",
   "id": "b8ce254f",
   "metadata": {},
   "source": [
    "## Analyze the reviewed data"
   ]
  },
  {
   "cell_type": "code",
   "execution_count": 24,
   "id": "d2914e41",
   "metadata": {},
   "outputs": [
    {
     "name": "stdout",
     "output_type": "stream",
     "text": [
      "                            _id                                       Name  \\\n",
      "0  Dataverse_10.7910_DVN_BA39BT                             hou02665c01004   \n",
      "1                   PRJNA428424  Lactiplantibacillus plantarum strain:IRG1   \n",
      "\n",
      "                                         Description          Model  \\\n",
      "0                                                  L  gpt-3.5-turbo   \n",
      "1  Lactobacillus plantarum IRG1 Genome sequencing...  gpt-3.5-turbo   \n",
      "\n",
      "                        Repository Number of Words  \\\n",
      "0                Harvard Dataverse            0-10   \n",
      "1  Omics Discovery Index (OmicsDI)            0-10   \n",
      "\n",
      "                                         Predictions  # of predictions  words  \\\n",
      "0  {'Laser-induced breakdown spectroscopy (LIBS)'...                 3      2   \n",
      "1                  {'Genome sequencing', 'Assembly'}                 2     10   \n",
      "\n",
      "   chars  # correct  \n",
      "0     15          0  \n",
      "1    100          2  \n"
     ]
    }
   ],
   "source": [
    "evaluation_file = os.path.join(data_path,'measTech count evaluations.tsv')\n",
    "evaluation_file2 = os.path.join(data_path,'length_check_to_review_HarMenZen.tsv')\n",
    "evaluations = pd.read_csv(evaluation_file,delimiter='\\t',header=0)\n",
    "evaluations2 = pd.read_csv(evaluation_file2,delimiter='\\t',header=0)\n",
    "evaluations2.rename(columns={'Word Count Range':'Number of Words'},inplace=True)\n",
    "\n",
    "all_evals = pd.concat((evaluations,evaluations2),ignore_index=True)\n",
    "all_evals['Number of Words'] = all_evals['Number of Words'].astype(str).str.replace(\"20-Nov\",\"11-20\")\n",
    "all_evals['Number of Words'] = all_evals['Number of Words'].astype(str).str.replace(\"10 or less\",\"0-10\")\n",
    "all_evals['Number of Words'] = all_evals['Number of Words'].astype(str).str.replace(\"0-10 words\",\"0-10\")\n",
    "all_evals['Number of Words'] = all_evals['Number of Words'].astype(str).str.replace(\"11-20 words\",\"11-20\")\n",
    "all_evals['Number of Words'] = all_evals['Number of Words'].astype(str).str.replace(\"21-30 words\",\"21-30\")\n",
    "all_evals['Number of Words'] = all_evals['Number of Words'].astype(str).str.replace(\"31-40 words\",\"31-40\")\n",
    "all_evals.drop(['% Hallucinations','Unnamed: 0'],axis=1,inplace=True)\n",
    "print(all_evals.head(n=2))"
   ]
  },
  {
   "cell_type": "code",
   "execution_count": 16,
   "id": "893e7cbc",
   "metadata": {},
   "outputs": [],
   "source": [
    "def add_calcs(df):\n",
    "    df['% true'] = df['# correct']/df['# of predictions']\n",
    "    df['% Hallucinations'] = 1-df['% true']\n",
    "    return df\n",
    "\n",
    "def add_bins(binlist,df,bintype):\n",
    "    df['bin'] = pd.cut(df[bintype], binlist)\n",
    "    return df\n",
    "\n",
    "def generate_stats(df,factorlist):\n",
    "    dfA = df.groupby(factorlist)['% Hallucinations'].mean().reset_index(name='avg hallucinations')\n",
    "    dfB = df.groupby(factorlist)['words'].mean().reset_index(name='avg words')\n",
    "    dfC = df.groupby(factorlist)['chars'].mean().reset_index(name='avg chars')\n",
    "    dfD = df.groupby(factorlist)['% true'].mean().reset_index(name='avg true')\n",
    "    dfE = df.groupby(factorlist).size().reset_index(name='counts')\n",
    "    alldf = dfA.merge(dfB.merge(dfC.merge(dfD.merge(dfE,on=factorlist,how='outer'),on=factorlist,how='outer'),on=factorlist,how='outer'),on=factorlist,how='outer')\n",
    "    return alldf"
   ]
  },
  {
   "cell_type": "code",
   "execution_count": 25,
   "id": "eba60e28",
   "metadata": {},
   "outputs": [
    {
     "name": "stdout",
     "output_type": "stream",
     "text": [
      "chars\n",
      "15     1.000000\n",
      "23     0.666667\n",
      "29     1.000000\n",
      "30     0.666667\n",
      "31     0.000000\n",
      "         ...   \n",
      "314    0.000000\n",
      "342    1.000000\n",
      "343    0.333333\n",
      "345    0.333333\n",
      "351    0.333333\n",
      "Name: % Hallucinations, Length: 118, dtype: float64\n"
     ]
    }
   ],
   "source": [
    "all_evals = add_calcs(all_evals)\n",
    "by_word_count = all_evals.groupby('words')['% Hallucinations'].mean()\n",
    "by_char_count = all_evals.groupby('chars')['% Hallucinations'].mean()\n",
    "print(by_char_count)"
   ]
  },
  {
   "cell_type": "code",
   "execution_count": 26,
   "id": "0872a2ff",
   "metadata": {},
   "outputs": [
    {
     "name": "stdout",
     "output_type": "stream",
     "text": [
      "                            _id                                       Name  \\\n",
      "0  Dataverse_10.7910_DVN_BA39BT                             hou02665c01004   \n",
      "1                   PRJNA428424  Lactiplantibacillus plantarum strain:IRG1   \n",
      "\n",
      "                                         Description          Model  \\\n",
      "0                                                  L  gpt-3.5-turbo   \n",
      "1  Lactobacillus plantarum IRG1 Genome sequencing...  gpt-3.5-turbo   \n",
      "\n",
      "                        Repository Number of Words  \\\n",
      "0                Harvard Dataverse            0-10   \n",
      "1  Omics Discovery Index (OmicsDI)            0-10   \n",
      "\n",
      "                                         Predictions  # of predictions  words  \\\n",
      "0  {'Laser-induced breakdown spectroscopy (LIBS)'...                 3      2   \n",
      "1                  {'Genome sequencing', 'Assembly'}                 2     10   \n",
      "\n",
      "   chars  # correct  % true  % Hallucinations        bin  \n",
      "0     15          0     0.0               1.0    (0, 50]  \n",
      "1    100          2     1.0               0.0  (50, 100]  \n"
     ]
    }
   ],
   "source": [
    "char_bins = [0,50,100,150,200,250,300]\n",
    "dfbinned = add_bins(char_bins,all_evals,'chars')\n",
    "print(dfbinned.head(n=2))"
   ]
  },
  {
   "cell_type": "code",
   "execution_count": 27,
   "id": "738333bc",
   "metadata": {},
   "outputs": [
    {
     "name": "stdout",
     "output_type": "stream",
     "text": [
      "                         Repository Number of Words  avg hallucinations  \\\n",
      "0                 Harvard Dataverse            0-10            0.928571   \n",
      "1                 Harvard Dataverse           11-20            0.750000   \n",
      "2                 Harvard Dataverse           21-30            1.000000   \n",
      "3                 Harvard Dataverse           31-40            0.694444   \n",
      "4                          Mendeley            0-10            0.800000   \n",
      "5                          Mendeley           11-20            0.920635   \n",
      "6                          Mendeley           21-30            0.633333   \n",
      "7                          Mendeley           31-40            0.629630   \n",
      "8                          NCBI GEO           31-40            0.583333   \n",
      "9                          NCBI SRA            0-10            0.616667   \n",
      "10                         NCBI SRA           11-20            0.375000   \n",
      "11                         NCBI SRA           21-30            0.383333   \n",
      "12                         NCBI SRA           31-40            0.433333   \n",
      "13  Omics Discovery Index (OmicsDI)            0-10            0.294444   \n",
      "14  Omics Discovery Index (OmicsDI)           11-20            0.140000   \n",
      "15  Omics Discovery Index (OmicsDI)           21-30            0.444444   \n",
      "16  Omics Discovery Index (OmicsDI)           31-40            0.714286   \n",
      "17                            Vivli           31-40            0.200000   \n",
      "18                           Zenodo            0-10            0.833333   \n",
      "19                           Zenodo           11-20            0.597222   \n",
      "20                           Zenodo           21-30            0.504762   \n",
      "21                           Zenodo           31-40            0.648148   \n",
      "\n",
      "    avg words   avg chars  avg true  counts  \n",
      "0    5.142857   74.000000  0.071429       7  \n",
      "1   13.142857  102.285714  0.250000       7  \n",
      "2   26.600000  193.600000  0.000000       5  \n",
      "3   35.333333  250.000000  0.305556       6  \n",
      "4    7.800000   63.200000  0.200000       5  \n",
      "5   15.333333  112.000000  0.079365       6  \n",
      "6   25.166667  172.500000  0.366667       6  \n",
      "7   35.222222  238.444444  0.370370       9  \n",
      "8   39.000000  287.666667  0.416667       3  \n",
      "9    3.500000   64.250000  0.383333       4  \n",
      "10  17.000000  135.666667  0.625000       6  \n",
      "11  26.307692  195.000000  0.616667      13  \n",
      "12  36.600000  273.800000  0.566667       5  \n",
      "13   8.388889   72.888889  0.705556      18  \n",
      "14  15.133333  120.866667  0.860000      15  \n",
      "15  23.777778  179.555556  0.555556       9  \n",
      "16  35.142857  261.571429  0.285714       7  \n",
      "17  37.000000  278.000000  0.800000       1  \n",
      "18   5.833333   48.333333  0.166667       6  \n",
      "19  14.666667  108.333333  0.402778       6  \n",
      "20  23.285714  161.142857  0.495238       7  \n",
      "21  36.888889  295.777778  0.351852       9  \n"
     ]
    }
   ],
   "source": [
    "factorlist = ['Repository','Number of Words']\n",
    "#factorlist = ['Repository','bin']\n",
    "#factorlist = ['bin']\n",
    "#factorlist = ['Repository']\n",
    "alldf = generate_stats(all_evals,factorlist)\n",
    "print(alldf)\n",
    "\n",
    "alldf.to_csv(os.path.join(result_path,f\"length_stats_by_{_.join(factorlist)}.tsv\"),sep='\\t',header=True)"
   ]
  },
  {
   "cell_type": "code",
   "execution_count": null,
   "id": "cc506bcc",
   "metadata": {},
   "outputs": [],
   "source": []
  },
  {
   "cell_type": "code",
   "execution_count": null,
   "id": "1fe9ba04",
   "metadata": {},
   "outputs": [],
   "source": []
  },
  {
   "cell_type": "code",
   "execution_count": 19,
   "id": "204311c9",
   "metadata": {},
   "outputs": [
    {
     "name": "stdout",
     "output_type": "stream",
     "text": [
      "                         Repository Number of Words  avg hallucinations  \\\n",
      "0                 Harvard Dataverse      10 or less            1.000000   \n",
      "1                 Harvard Dataverse           11-20            1.000000   \n",
      "2                 Harvard Dataverse           31-40            0.750000   \n",
      "3                          Mendeley           11-20            0.857143   \n",
      "4                          Mendeley           21-30            0.000000   \n",
      "5                          Mendeley           31-40            0.500000   \n",
      "6                          NCBI GEO           31-40            0.583333   \n",
      "7                          NCBI SRA      10 or less            0.616667   \n",
      "8                          NCBI SRA           11-20            0.375000   \n",
      "9                          NCBI SRA           21-30            0.383333   \n",
      "10                         NCBI SRA           31-40            0.433333   \n",
      "11  Omics Discovery Index (OmicsDI)      10 or less            0.294444   \n",
      "12  Omics Discovery Index (OmicsDI)           11-20            0.140000   \n",
      "13  Omics Discovery Index (OmicsDI)           21-30            0.444444   \n",
      "14  Omics Discovery Index (OmicsDI)           31-40            0.714286   \n",
      "15                            Vivli           31-40            0.200000   \n",
      "16                           Zenodo      10 or less            0.000000   \n",
      "17                           Zenodo           11-20            0.000000   \n",
      "18                           Zenodo           21-30            0.500000   \n",
      "19                           Zenodo           31-40            0.708333   \n",
      "\n",
      "    avg words   avg chars  avg true  counts  \n",
      "0    4.000000   65.000000  0.000000       2  \n",
      "1   15.500000  123.500000  0.000000       2  \n",
      "2   38.000000  255.000000  0.250000       1  \n",
      "3   21.000000  121.000000  0.142857       1  \n",
      "4   24.000000  182.000000  1.000000       1  \n",
      "5   36.250000  248.000000  0.500000       4  \n",
      "6   39.000000  287.666667  0.416667       3  \n",
      "7    3.500000   64.250000  0.383333       4  \n",
      "8   17.000000  135.666667  0.625000       6  \n",
      "9   26.307692  195.000000  0.616667      13  \n",
      "10  36.600000  273.800000  0.566667       5  \n",
      "11   8.388889   72.888889  0.705556      18  \n",
      "12  15.133333  120.866667  0.860000      15  \n",
      "13  23.777778  179.555556  0.555556       9  \n",
      "14  35.142857  261.571429  0.285714       7  \n",
      "15  37.000000  278.000000  0.800000       1  \n",
      "16  10.000000   81.000000  1.000000       1  \n",
      "17  20.000000  132.000000  1.000000       1  \n",
      "18  25.500000  169.000000  0.500000       2  \n",
      "19  36.250000  278.250000  0.291667       4  \n"
     ]
    }
   ],
   "source": [
    "#by_repositoryA = evaluations.groupby('Repository')['% Hallucinations'].mean().reset_index(name='avg hallucinations')\n",
    "#by_repositoryB = evaluations.groupby('Repository')['words'].mean().reset_index(name='avg words')\n",
    "#by_repositoryC = evaluations.groupby('Repository')['chars'].mean().reset_index(name='avg chars')\n",
    "#by_repositoryD = evaluations.groupby('Repository')['% true'].mean().reset_index(name='avg true')\n",
    "#by_repositoryE = evaluations.groupby('Repository').size().reset_index(name='counts')\n",
    "\n",
    "by_repositoryA = evaluations.groupby(['Repository','Number of Words'])['% Hallucinations'].mean().reset_index(name='avg hallucinations')\n",
    "by_repositoryB = evaluations.groupby(['Repository','Number of Words'])['words'].mean().reset_index(name='avg words')\n",
    "by_repositoryC = evaluations.groupby(['Repository','Number of Words'])['chars'].mean().reset_index(name='avg chars')\n",
    "by_repositoryD = evaluations.groupby(['Repository','Number of Words'])['% true'].mean().reset_index(name='avg true')\n",
    "by_repositoryE = evaluations.groupby(['Repository','Number of Words']).size().reset_index(name='counts')\n",
    "\n",
    "#all_info = by_repositoryA.merge(by_repositoryB.merge(by_repositoryC.merge(by_repositoryD.merge(by_repositoryE,on=['Repository'],how='outer'),on=['Repository'],how='outer'),on=['Repository'],how='outer'),on=['Repository'],how='outer')\n",
    "all_info = by_repositoryA.merge(by_repositoryB.merge(by_repositoryC.merge(by_repositoryD.merge(by_repositoryE,on=['Repository','Number of Words'],how='outer'),on=['Repository','Number of Words'],how='outer'),on=['Repository','Number of Words'],how='outer'),on=['Repository','Number of Words'],how='outer')\n",
    "\n",
    "print(all_info)"
   ]
  },
  {
   "cell_type": "code",
   "execution_count": 20,
   "id": "b3b514b5",
   "metadata": {},
   "outputs": [
    {
     "data": {
      "text/plain": [
       "<seaborn.axisgrid.FacetGrid at 0x22f2a1207c0>"
      ]
     },
     "execution_count": 20,
     "metadata": {},
     "output_type": "execute_result"
    },
    {
     "data": {
      "image/png": "[encoded data removed]",
      "text/plain": [
       "<Figure size 884x600 with 1 Axes>"
      ]
     },
     "metadata": {},
     "output_type": "display_data"
    }
   ],
   "source": [
    "sns.set_theme(style=\"white\")\n",
    "\n",
    "# Load the example mpg dataset\n",
    "mpg = sns.load_dataset(\"mpg\")\n",
    "\n",
    "# Plot miles per gallon against horsepower with other semantics\n",
    "sns.relplot(x=\"avg chars\", y=\"avg true\", hue=\"Repository\", size=\"counts\",\n",
    "            sizes=(40, 400), alpha=.5, palette=\"muted\",\n",
    "            height=6, data=all_info)"
   ]
  },
  {
   "cell_type": "code",
   "execution_count": null,
   "id": "c5d5c00a",
   "metadata": {},
   "outputs": [],
   "source": []
  }
 ],
 "metadata": {
  "kernelspec": {
   "display_name": "Python 3 (ipykernel)",
   "language": "python",
   "name": "python3"
  },
  "language_info": {
   "codemirror_mode": {
    "name": "ipython",
    "version": 3
   },
   "file_extension": ".py",
   "mimetype": "text/x-python",
   "name": "python",
   "nbconvert_exporter": "python",
   "pygments_lexer": "ipython3",
   "version": "3.10.10"
  }
 },
 "nbformat": 4,
 "nbformat_minor": 5
}
