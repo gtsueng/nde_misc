{
 "cells": [
  {
   "cell_type": "markdown",
   "metadata": {},
   "source": [
    "## Schema checker for DDE-compatibility\n",
    "\n",
    "The Data Discovery Engine's Schema Playground is very strict when ingesting and displaying schemas, but more flexible when creating them. As a result, it is possible to use the Schema Playground to create a schema that would not be viewable in the playground's schema viewer.\n",
    "\n",
    "This script uses github actions to automatically fix a known source of \"internal error\" in schemas so that they can be viewed with the schema viewer. This error is caused by the creation of properties dependent on non-schema.org classes. It creates a dummy class so that that the DDE schema playground viewer can bypass this issue.\n",
    "\n",
    "This script does NOT address other issues with json schema validation"
   ]
  },
  {
   "cell_type": "code",
   "execution_count": 1,
   "metadata": {},
   "outputs": [],
   "source": [
    "import json\n",
    "import pathlib\n",
    "import os\n",
    "from jsonschema import validate\n",
    "from biothings_schema import Schema\n",
    "\n",
    "#script_path = pathlib.Path(__file__).parent.absolute()\n",
    "script_path = ''"
   ]
  },
  {
   "cell_type": "code",
   "execution_count": 2,
   "metadata": {},
   "outputs": [],
   "source": [
    "def check_files(script_path):\n",
    "    draft_folder = os.path.join(script_path,'drafts/')\n",
    "    edited_folder = os.path.join(script_path,'edited/')\n",
    "    draftlist = os.listdir(draft_folder)\n",
    "    editlist = os.listdir(edited_folder)\n",
    "    newfiles = [x for x in draftlist if x not in editlist]\n",
    "    return(draft_folder,edited_folder,newfiles)"
   ]
  },
  {
   "cell_type": "code",
   "execution_count": 3,
   "metadata": {},
   "outputs": [],
   "source": [
    "def create_dummy_class(eachclass):\n",
    "    eachclass_info = eachclass.split(\":\")\n",
    "    namespace = eachclass_info[0]\n",
    "    classname = eachclass_info[1]\n",
    "    dummy_dict = {\n",
    "      \"@id\": eachclass,\n",
    "      \"@type\": \"rdfs:Class\",\n",
    "      \"rdfs:comment\": \"A dummy class to enable avoid referencing issues\",\n",
    "      \"rdfs:label\": classname,\n",
    "      \"rdfs:subClassOf\": {\n",
    "        \"@id\": \"schema:CreativeWork\"\n",
    "      }\n",
    "    }\n",
    "    return(dummy_dict)"
   ]
  },
  {
   "cell_type": "code",
   "execution_count": 3,
   "metadata": {},
   "outputs": [],
   "source": [
    "def check_draft_schema(script_path):\n",
    "    draft_folder,edited_folder,newfiles = check_files(script_path)\n",
    "    for eachfile in newfiles:\n",
    "        with open(os.path.join(draft_folder,eachfile),'r') as tempinfile:\n",
    "            tmpjson = json.load(tempinfile)\n",
    "        cleanjson = {}\n",
    "        cleanjson['@context']=tmpjson['@context']\n",
    "        graphlist = []\n",
    "        rangelist = []\n",
    "        for x in tmpjson['@graph']:\n",
    "            graphlist.append(x)\n",
    "            if x[\"@type\"]==\"rdf:Property\":\n",
    "                tmprangelist = x[\"schema:rangeIncludes\"]\n",
    "                for eachhit in tmprangelist:\n",
    "                    if (eachhit['@id'] not in rangelist) and (\"schema:\" not in eachhit['@id']):\n",
    "                        rangelist.append(eachhit['@id'])\n",
    "        for eachclass in rangelist:\n",
    "            dummy_dict = create_dummy_class(eachclass)\n",
    "            graphlist.append(dummy_dict)\n",
    "        cleanjson['@graph']=graphlist\n",
    "        with open(os.path.join(edited_folder,eachfile),'w+') as tmpoutfile:\n",
    "            tmpoutfile.write(json.dumps(cleanjson))\n"
   ]
  },
  {
   "cell_type": "code",
   "execution_count": 4,
   "metadata": {},
   "outputs": [
    {
     "ename": "SchemaValidationError",
     "evalue": "field \"anatomicalSystem\" in \"$validation\" is not defined in this class or any of its parent classes",
     "output_type": "error",
     "traceback": [
      "\u001b[1;31m---------------------------------------------------------------------------\u001b[0m",
      "\u001b[1;31mSchemaValidationError\u001b[0m                     Traceback (most recent call last)",
      "Cell \u001b[1;32mIn[4], line 11\u001b[0m\n\u001b[0;32m      5\u001b[0m     chemdict \u001b[38;5;241m=\u001b[39m json\u001b[38;5;241m.\u001b[39mload(infile)\n\u001b[0;32m      7\u001b[0m \u001b[38;5;66;03m#testdata = {\"name\": \"Biology\"}\u001b[39;00m\n\u001b[0;32m      8\u001b[0m \u001b[38;5;66;03m#testdata2 = {}\u001b[39;00m\n\u001b[0;32m      9\u001b[0m \u001b[38;5;66;03m#validate(testdata2, schema = chemdict)\u001b[39;00m\n\u001b[1;32m---> 11\u001b[0m sc \u001b[38;5;241m=\u001b[39m \u001b[43mSchema\u001b[49m\u001b[43m(\u001b[49m\u001b[43mchemdict\u001b[49m\u001b[43m)\u001b[49m\n\u001b[0;32m     12\u001b[0m sc\u001b[38;5;241m.\u001b[39mvalidation\n",
      "File \u001b[1;32m~\\Anaconda3\\envs\\nde\\lib\\site-packages\\biothings_schema\\schema.py:189\u001b[0m, in \u001b[0;36mSchema.__init__\u001b[1;34m(self, schema, context, base_schema, validator_options, base_schema_loader)\u001b[0m\n\u001b[0;32m    187\u001b[0m base_schema \u001b[38;5;241m=\u001b[39m base_schema \u001b[38;5;129;01mor\u001b[39;00m \u001b[38;5;28mself\u001b[39m\u001b[38;5;241m.\u001b[39mget_base_schema_list(_schema)\n\u001b[0;32m    188\u001b[0m \u001b[38;5;66;03m# print(self.namespace, base_schema)\u001b[39;00m\n\u001b[1;32m--> 189\u001b[0m \u001b[38;5;28;43mself\u001b[39;49m\u001b[38;5;241;43m.\u001b[39;49m\u001b[43mload_schema\u001b[49m\u001b[43m(\u001b[49m\u001b[43mschema\u001b[49m\u001b[38;5;241;43m=\u001b[39;49m\u001b[43m_schema\u001b[49m\u001b[43m,\u001b[49m\u001b[43m \u001b[49m\u001b[43mbase_schema\u001b[49m\u001b[38;5;241;43m=\u001b[39;49m\u001b[43mbase_schema\u001b[49m\u001b[43m)\u001b[49m\n",
      "File \u001b[1;32m~\\Anaconda3\\envs\\nde\\lib\\site-packages\\biothings_schema\\schema.py:253\u001b[0m, in \u001b[0;36mSchema.load_schema\u001b[1;34m(self, schema, base_schema)\u001b[0m\n\u001b[0;32m    249\u001b[0m \u001b[38;5;28mself\u001b[39m\u001b[38;5;241m.\u001b[39mfull_schema_nx \u001b[38;5;241m=\u001b[39m merge_schema_networkx(\u001b[38;5;28mself\u001b[39m\u001b[38;5;241m.\u001b[39mbase_schema_nx, \u001b[38;5;28mself\u001b[39m\u001b[38;5;241m.\u001b[39mschema_nx)\n\u001b[0;32m    250\u001b[0m \u001b[38;5;28mself\u001b[39m\u001b[38;5;241m.\u001b[39mvalidator \u001b[38;5;241m=\u001b[39m SchemaValidator(\n\u001b[0;32m    251\u001b[0m     \u001b[38;5;28mself\u001b[39m\u001b[38;5;241m.\u001b[39mschema, \u001b[38;5;28mself\u001b[39m\u001b[38;5;241m.\u001b[39mfull_schema_nx, \u001b[38;5;28mself\u001b[39m\u001b[38;5;241m.\u001b[39mbase_schema, \u001b[38;5;241m*\u001b[39m\u001b[38;5;241m*\u001b[39m\u001b[38;5;28mself\u001b[39m\u001b[38;5;241m.\u001b[39mvalidator_options\n\u001b[0;32m    252\u001b[0m )\n\u001b[1;32m--> 253\u001b[0m \u001b[38;5;28;43mself\u001b[39;49m\u001b[38;5;241;43m.\u001b[39;49m\u001b[43mvalidator\u001b[49m\u001b[38;5;241;43m.\u001b[39;49m\u001b[43mvalidate_full_schema\u001b[49m\u001b[43m(\u001b[49m\u001b[43m)\u001b[49m\n\u001b[0;32m    255\u001b[0m \u001b[38;5;66;03m# split the schema networkx into individual ones\u001b[39;00m\n\u001b[0;32m    256\u001b[0m isolates \u001b[38;5;241m=\u001b[39m \u001b[38;5;28mlist\u001b[39m(nx\u001b[38;5;241m.\u001b[39misolates(\u001b[38;5;28mself\u001b[39m\u001b[38;5;241m.\u001b[39mfull_schema_nx))\n",
      "File \u001b[1;32m~\\Anaconda3\\envs\\nde\\lib\\site-packages\\biothings_schema\\validator.py:464\u001b[0m, in \u001b[0;36mSchemaValidator.validate_full_schema\u001b[1;34m(self)\u001b[0m\n\u001b[0;32m    462\u001b[0m     \u001b[38;5;28mself\u001b[39m\u001b[38;5;241m.\u001b[39mvalidate_class_schema(record)\n\u001b[0;32m    463\u001b[0m     \u001b[38;5;28mself\u001b[39m\u001b[38;5;241m.\u001b[39mvalidate_class_label(record[\u001b[38;5;124m\"\u001b[39m\u001b[38;5;124m@id\u001b[39m\u001b[38;5;124m\"\u001b[39m])\n\u001b[1;32m--> 464\u001b[0m     \u001b[38;5;28;43mself\u001b[39;49m\u001b[38;5;241;43m.\u001b[39;49m\u001b[43mvalidate_validation_field\u001b[49m\u001b[43m(\u001b[49m\u001b[43mrecord\u001b[49m\u001b[43m)\u001b[49m\n\u001b[0;32m    465\u001b[0m \u001b[38;5;28;01melif\u001b[39;00m record[\u001b[38;5;124m\"\u001b[39m\u001b[38;5;124m@type\u001b[39m\u001b[38;5;124m\"\u001b[39m] \u001b[38;5;241m==\u001b[39m \u001b[38;5;124m\"\u001b[39m\u001b[38;5;124mrdf:Property\u001b[39m\u001b[38;5;124m\"\u001b[39m:\n\u001b[0;32m    466\u001b[0m     \u001b[38;5;28mself\u001b[39m\u001b[38;5;241m.\u001b[39mvalidate_property_schema(record)\n",
      "File \u001b[1;32m~\\Anaconda3\\envs\\nde\\lib\\site-packages\\biothings_schema\\validator.py:332\u001b[0m, in \u001b[0;36mSchemaValidator.validate_validation_field\u001b[1;34m(self, record)\u001b[0m\n\u001b[0;32m    329\u001b[0m                             matched \u001b[38;5;241m=\u001b[39m \u001b[38;5;28;01mTrue\u001b[39;00m\n\u001b[0;32m    330\u001b[0m             \u001b[38;5;28;01mif\u001b[39;00m \u001b[38;5;129;01mnot\u001b[39;00m matched:\n\u001b[0;32m    331\u001b[0m                 \u001b[38;5;66;03m# raise ValueError(f'field \"{_property}\" in \"{VALIDATION_FIELD}\" is not defined in this class or any of its parent classes')\u001b[39;00m\n\u001b[1;32m--> 332\u001b[0m                 \u001b[38;5;28;43mself\u001b[39;49m\u001b[38;5;241;43m.\u001b[39;49m\u001b[43mreport_validation_error\u001b[49m\u001b[43m(\u001b[49m\n\u001b[0;32m    333\u001b[0m \u001b[43m                    \u001b[49m\u001b[38;5;124;43mf\u001b[39;49m\u001b[38;5;124;43m'\u001b[39;49m\u001b[38;5;124;43mfield \u001b[39;49m\u001b[38;5;124;43m\"\u001b[39;49m\u001b[38;5;132;43;01m{\u001b[39;49;00m\u001b[43m_property\u001b[49m\u001b[38;5;132;43;01m}\u001b[39;49;00m\u001b[38;5;124;43m\"\u001b[39;49m\u001b[38;5;124;43m in \u001b[39;49m\u001b[38;5;124;43m\"\u001b[39;49m\u001b[38;5;132;43;01m{\u001b[39;49;00m\u001b[43mVALIDATION_FIELD\u001b[49m\u001b[38;5;132;43;01m}\u001b[39;49;00m\u001b[38;5;124;43m\"\u001b[39;49m\u001b[38;5;124;43m is not defined in this class or any of its parent classes\u001b[39;49m\u001b[38;5;124;43m'\u001b[39;49m\u001b[43m,\u001b[49m\n\u001b[0;32m    334\u001b[0m \u001b[43m                    \u001b[49m\u001b[43merror_type\u001b[49m\u001b[38;5;241;43m=\u001b[39;49m\u001b[38;5;124;43m\"\u001b[39;49m\u001b[38;5;124;43minvalid_validation_schema\u001b[39;49m\u001b[38;5;124;43m\"\u001b[39;49m\u001b[43m,\u001b[49m\n\u001b[0;32m    335\u001b[0m \u001b[43m                    \u001b[49m\u001b[43mfield\u001b[49m\u001b[38;5;241;43m=\u001b[39;49m\u001b[43m_property\u001b[49m\u001b[43m,\u001b[49m\n\u001b[0;32m    336\u001b[0m \u001b[43m                    \u001b[49m\u001b[43mrecord_id\u001b[49m\u001b[38;5;241;43m=\u001b[39;49m\u001b[43m_id\u001b[49m\u001b[43m,\u001b[49m\n\u001b[0;32m    337\u001b[0m \u001b[43m                \u001b[49m\u001b[43m)\u001b[49m\n\u001b[0;32m    338\u001b[0m \u001b[38;5;28;01melse\u001b[39;00m:\n\u001b[0;32m    339\u001b[0m     \u001b[38;5;28;01mpass\u001b[39;00m\n",
      "File \u001b[1;32m~\\Anaconda3\\envs\\nde\\lib\\site-packages\\biothings_schema\\validator.py:134\u001b[0m, in \u001b[0;36mSchemaValidator.report_validation_error\u001b[1;34m(self, err_msg, **kwargs)\u001b[0m\n\u001b[0;32m    128\u001b[0m err \u001b[38;5;241m=\u001b[39m (\n\u001b[0;32m    129\u001b[0m     SchemaValidationWarning(err_msg, \u001b[38;5;241m*\u001b[39m\u001b[38;5;241m*\u001b[39mkwargs)\n\u001b[0;32m    130\u001b[0m     \u001b[38;5;28;01mif\u001b[39;00m kwargs\u001b[38;5;241m.\u001b[39mget(\u001b[38;5;124m\"\u001b[39m\u001b[38;5;124mwarning\u001b[39m\u001b[38;5;124m\"\u001b[39m, \u001b[38;5;28;01mFalse\u001b[39;00m)\n\u001b[0;32m    131\u001b[0m     \u001b[38;5;28;01melse\u001b[39;00m SchemaValidationError(err_msg, \u001b[38;5;241m*\u001b[39m\u001b[38;5;241m*\u001b[39mkwargs)\n\u001b[0;32m    132\u001b[0m )\n\u001b[0;32m    133\u001b[0m \u001b[38;5;28;01mif\u001b[39;00m \u001b[38;5;129;01mnot\u001b[39;00m err\u001b[38;5;241m.\u001b[39mwarning \u001b[38;5;129;01mand\u001b[39;00m \u001b[38;5;28mself\u001b[39m\u001b[38;5;241m.\u001b[39mraise_on_validation_error:\n\u001b[1;32m--> 134\u001b[0m     \u001b[38;5;28;01mraise\u001b[39;00m err\n\u001b[0;32m    135\u001b[0m \u001b[38;5;28;01melse\u001b[39;00m:\n\u001b[0;32m    136\u001b[0m     \u001b[38;5;28mself\u001b[39m\u001b[38;5;241m.\u001b[39mvalidation_errors\u001b[38;5;241m.\u001b[39mappend(err)\n",
      "\u001b[1;31mSchemaValidationError\u001b[0m: field \"anatomicalSystem\" in \"$validation\" is not defined in this class or any of its parent classes"
     ]
    }
   ],
   "source": [
    "## Check for json schema validation errors\n",
    "course_draft = \"NDE_schema.json\"\n",
    "draft_to_check = os.path.join(course_draft)\n",
    "with open(draft_to_check,'r') as infile:\n",
    "    chemdict = json.load(infile)\n",
    "\n",
    "#testdata = {\"name\": \"Biology\"}\n",
    "#testdata2 = {}\n",
    "#validate(testdata2, schema = chemdict)\n",
    "\n",
    "sc = Schema(chemdict)\n",
    "sc.validation"
   ]
  },
  {
   "cell_type": "code",
   "execution_count": null,
   "metadata": {},
   "outputs": [],
   "source": [
    "\n",
    "#### Main\n",
    "\n",
    "check_draft_schema(script_path)\n",
    "print(cleanjson)"
   ]
  },
  {
   "cell_type": "code",
   "execution_count": 21,
   "metadata": {},
   "outputs": [],
   "source": [
    "draft_folder,edited_folder,newfiles = check_files(script_path)\n",
    "for eachfile in newfiles:\n",
    "    with open(os.path.join(draft_folder,eachfile),'r') as tempinfile:\n",
    "        tmpjson = json.load(tempinfile)\n",
    "    cleanjson = {}\n",
    "    cleanjson['@context']=tmpjson['@context']\n",
    "    graphlist = []\n",
    "    rangelist = []\n",
    "    for x in tmpjson['@graph']:\n",
    "        graphlist.append(x)\n",
    "        if x[\"@type\"]==\"rdf:Property\":\n",
    "            tmprangelist = x[\"schema:rangeIncludes\"]\n",
    "            for eachhit in tmprangelist:\n",
    "                if (eachhit['@id'] not in rangelist) and (\"schema:\" not in eachhit['@id']):\n",
    "                    rangelist.append(eachhit['@id'])\n",
    "    for eachclass in rangelist:\n",
    "        dummy_dict = create_dummy_class(eachclass)\n",
    "        graphlist.append(dummy_dict)\n",
    "    cleanjson['@graph']=graphlist\n",
    "    with open(os.path.join(edited_folder,eachfile),'w+') as tmpoutfile:\n",
    "        tmpoutfile.write(json.dumps(cleanjson))\n",
    "        "
   ]
  },
  {
   "cell_type": "code",
   "execution_count": 6,
   "metadata": {},
   "outputs": [
    {
     "ename": "SchemaValidationError",
     "evalue": "field \"sampleAvailability\" in \"$validation\" is not defined in this class or any of its parent classes",
     "output_type": "error",
     "traceback": [
      "\u001b[1;31m---------------------------------------------------------------------------\u001b[0m",
      "\u001b[1;31mSchemaValidationError\u001b[0m                     Traceback (most recent call last)",
      "Cell \u001b[1;32mIn[6], line 6\u001b[0m\n\u001b[0;32m      3\u001b[0m     definedterm \u001b[38;5;241m=\u001b[39m json\u001b[38;5;241m.\u001b[39mload(infile)\n\u001b[0;32m      5\u001b[0m \u001b[38;5;66;03m#print(definedterm)\u001b[39;00m\n\u001b[1;32m----> 6\u001b[0m sc \u001b[38;5;241m=\u001b[39m \u001b[43mSchema\u001b[49m\u001b[43m(\u001b[49m\u001b[43mdefinedterm\u001b[49m\u001b[43m)\u001b[49m\n\u001b[0;32m      7\u001b[0m sc\u001b[38;5;241m.\u001b[39mvalidation\n",
      "File \u001b[1;32m~\\Anaconda3\\envs\\nde\\lib\\site-packages\\biothings_schema\\schema.py:189\u001b[0m, in \u001b[0;36mSchema.__init__\u001b[1;34m(self, schema, context, base_schema, validator_options, base_schema_loader)\u001b[0m\n\u001b[0;32m    187\u001b[0m base_schema \u001b[38;5;241m=\u001b[39m base_schema \u001b[38;5;129;01mor\u001b[39;00m \u001b[38;5;28mself\u001b[39m\u001b[38;5;241m.\u001b[39mget_base_schema_list(_schema)\n\u001b[0;32m    188\u001b[0m \u001b[38;5;66;03m# print(self.namespace, base_schema)\u001b[39;00m\n\u001b[1;32m--> 189\u001b[0m \u001b[38;5;28;43mself\u001b[39;49m\u001b[38;5;241;43m.\u001b[39;49m\u001b[43mload_schema\u001b[49m\u001b[43m(\u001b[49m\u001b[43mschema\u001b[49m\u001b[38;5;241;43m=\u001b[39;49m\u001b[43m_schema\u001b[49m\u001b[43m,\u001b[49m\u001b[43m \u001b[49m\u001b[43mbase_schema\u001b[49m\u001b[38;5;241;43m=\u001b[39;49m\u001b[43mbase_schema\u001b[49m\u001b[43m)\u001b[49m\n",
      "File \u001b[1;32m~\\Anaconda3\\envs\\nde\\lib\\site-packages\\biothings_schema\\schema.py:253\u001b[0m, in \u001b[0;36mSchema.load_schema\u001b[1;34m(self, schema, base_schema)\u001b[0m\n\u001b[0;32m    249\u001b[0m \u001b[38;5;28mself\u001b[39m\u001b[38;5;241m.\u001b[39mfull_schema_nx \u001b[38;5;241m=\u001b[39m merge_schema_networkx(\u001b[38;5;28mself\u001b[39m\u001b[38;5;241m.\u001b[39mbase_schema_nx, \u001b[38;5;28mself\u001b[39m\u001b[38;5;241m.\u001b[39mschema_nx)\n\u001b[0;32m    250\u001b[0m \u001b[38;5;28mself\u001b[39m\u001b[38;5;241m.\u001b[39mvalidator \u001b[38;5;241m=\u001b[39m SchemaValidator(\n\u001b[0;32m    251\u001b[0m     \u001b[38;5;28mself\u001b[39m\u001b[38;5;241m.\u001b[39mschema, \u001b[38;5;28mself\u001b[39m\u001b[38;5;241m.\u001b[39mfull_schema_nx, \u001b[38;5;28mself\u001b[39m\u001b[38;5;241m.\u001b[39mbase_schema, \u001b[38;5;241m*\u001b[39m\u001b[38;5;241m*\u001b[39m\u001b[38;5;28mself\u001b[39m\u001b[38;5;241m.\u001b[39mvalidator_options\n\u001b[0;32m    252\u001b[0m )\n\u001b[1;32m--> 253\u001b[0m \u001b[38;5;28;43mself\u001b[39;49m\u001b[38;5;241;43m.\u001b[39;49m\u001b[43mvalidator\u001b[49m\u001b[38;5;241;43m.\u001b[39;49m\u001b[43mvalidate_full_schema\u001b[49m\u001b[43m(\u001b[49m\u001b[43m)\u001b[49m\n\u001b[0;32m    255\u001b[0m \u001b[38;5;66;03m# split the schema networkx into individual ones\u001b[39;00m\n\u001b[0;32m    256\u001b[0m isolates \u001b[38;5;241m=\u001b[39m \u001b[38;5;28mlist\u001b[39m(nx\u001b[38;5;241m.\u001b[39misolates(\u001b[38;5;28mself\u001b[39m\u001b[38;5;241m.\u001b[39mfull_schema_nx))\n",
      "File \u001b[1;32m~\\Anaconda3\\envs\\nde\\lib\\site-packages\\biothings_schema\\validator.py:464\u001b[0m, in \u001b[0;36mSchemaValidator.validate_full_schema\u001b[1;34m(self)\u001b[0m\n\u001b[0;32m    462\u001b[0m     \u001b[38;5;28mself\u001b[39m\u001b[38;5;241m.\u001b[39mvalidate_class_schema(record)\n\u001b[0;32m    463\u001b[0m     \u001b[38;5;28mself\u001b[39m\u001b[38;5;241m.\u001b[39mvalidate_class_label(record[\u001b[38;5;124m\"\u001b[39m\u001b[38;5;124m@id\u001b[39m\u001b[38;5;124m\"\u001b[39m])\n\u001b[1;32m--> 464\u001b[0m     \u001b[38;5;28;43mself\u001b[39;49m\u001b[38;5;241;43m.\u001b[39;49m\u001b[43mvalidate_validation_field\u001b[49m\u001b[43m(\u001b[49m\u001b[43mrecord\u001b[49m\u001b[43m)\u001b[49m\n\u001b[0;32m    465\u001b[0m \u001b[38;5;28;01melif\u001b[39;00m record[\u001b[38;5;124m\"\u001b[39m\u001b[38;5;124m@type\u001b[39m\u001b[38;5;124m\"\u001b[39m] \u001b[38;5;241m==\u001b[39m \u001b[38;5;124m\"\u001b[39m\u001b[38;5;124mrdf:Property\u001b[39m\u001b[38;5;124m\"\u001b[39m:\n\u001b[0;32m    466\u001b[0m     \u001b[38;5;28mself\u001b[39m\u001b[38;5;241m.\u001b[39mvalidate_property_schema(record)\n",
      "File \u001b[1;32m~\\Anaconda3\\envs\\nde\\lib\\site-packages\\biothings_schema\\validator.py:332\u001b[0m, in \u001b[0;36mSchemaValidator.validate_validation_field\u001b[1;34m(self, record)\u001b[0m\n\u001b[0;32m    329\u001b[0m                             matched \u001b[38;5;241m=\u001b[39m \u001b[38;5;28;01mTrue\u001b[39;00m\n\u001b[0;32m    330\u001b[0m             \u001b[38;5;28;01mif\u001b[39;00m \u001b[38;5;129;01mnot\u001b[39;00m matched:\n\u001b[0;32m    331\u001b[0m                 \u001b[38;5;66;03m# raise ValueError(f'field \"{_property}\" in \"{VALIDATION_FIELD}\" is not defined in this class or any of its parent classes')\u001b[39;00m\n\u001b[1;32m--> 332\u001b[0m                 \u001b[38;5;28;43mself\u001b[39;49m\u001b[38;5;241;43m.\u001b[39;49m\u001b[43mreport_validation_error\u001b[49m\u001b[43m(\u001b[49m\n\u001b[0;32m    333\u001b[0m \u001b[43m                    \u001b[49m\u001b[38;5;124;43mf\u001b[39;49m\u001b[38;5;124;43m'\u001b[39;49m\u001b[38;5;124;43mfield \u001b[39;49m\u001b[38;5;124;43m\"\u001b[39;49m\u001b[38;5;132;43;01m{\u001b[39;49;00m\u001b[43m_property\u001b[49m\u001b[38;5;132;43;01m}\u001b[39;49;00m\u001b[38;5;124;43m\"\u001b[39;49m\u001b[38;5;124;43m in \u001b[39;49m\u001b[38;5;124;43m\"\u001b[39;49m\u001b[38;5;132;43;01m{\u001b[39;49;00m\u001b[43mVALIDATION_FIELD\u001b[49m\u001b[38;5;132;43;01m}\u001b[39;49;00m\u001b[38;5;124;43m\"\u001b[39;49m\u001b[38;5;124;43m is not defined in this class or any of its parent classes\u001b[39;49m\u001b[38;5;124;43m'\u001b[39;49m\u001b[43m,\u001b[49m\n\u001b[0;32m    334\u001b[0m \u001b[43m                    \u001b[49m\u001b[43merror_type\u001b[49m\u001b[38;5;241;43m=\u001b[39;49m\u001b[38;5;124;43m\"\u001b[39;49m\u001b[38;5;124;43minvalid_validation_schema\u001b[39;49m\u001b[38;5;124;43m\"\u001b[39;49m\u001b[43m,\u001b[49m\n\u001b[0;32m    335\u001b[0m \u001b[43m                    \u001b[49m\u001b[43mfield\u001b[49m\u001b[38;5;241;43m=\u001b[39;49m\u001b[43m_property\u001b[49m\u001b[43m,\u001b[49m\n\u001b[0;32m    336\u001b[0m \u001b[43m                    \u001b[49m\u001b[43mrecord_id\u001b[49m\u001b[38;5;241;43m=\u001b[39;49m\u001b[43m_id\u001b[49m\u001b[43m,\u001b[49m\n\u001b[0;32m    337\u001b[0m \u001b[43m                \u001b[49m\u001b[43m)\u001b[49m\n\u001b[0;32m    338\u001b[0m \u001b[38;5;28;01melse\u001b[39;00m:\n\u001b[0;32m    339\u001b[0m     \u001b[38;5;28;01mpass\u001b[39;00m\n",
      "File \u001b[1;32m~\\Anaconda3\\envs\\nde\\lib\\site-packages\\biothings_schema\\validator.py:134\u001b[0m, in \u001b[0;36mSchemaValidator.report_validation_error\u001b[1;34m(self, err_msg, **kwargs)\u001b[0m\n\u001b[0;32m    128\u001b[0m err \u001b[38;5;241m=\u001b[39m (\n\u001b[0;32m    129\u001b[0m     SchemaValidationWarning(err_msg, \u001b[38;5;241m*\u001b[39m\u001b[38;5;241m*\u001b[39mkwargs)\n\u001b[0;32m    130\u001b[0m     \u001b[38;5;28;01mif\u001b[39;00m kwargs\u001b[38;5;241m.\u001b[39mget(\u001b[38;5;124m\"\u001b[39m\u001b[38;5;124mwarning\u001b[39m\u001b[38;5;124m\"\u001b[39m, \u001b[38;5;28;01mFalse\u001b[39;00m)\n\u001b[0;32m    131\u001b[0m     \u001b[38;5;28;01melse\u001b[39;00m SchemaValidationError(err_msg, \u001b[38;5;241m*\u001b[39m\u001b[38;5;241m*\u001b[39mkwargs)\n\u001b[0;32m    132\u001b[0m )\n\u001b[0;32m    133\u001b[0m \u001b[38;5;28;01mif\u001b[39;00m \u001b[38;5;129;01mnot\u001b[39;00m err\u001b[38;5;241m.\u001b[39mwarning \u001b[38;5;129;01mand\u001b[39;00m \u001b[38;5;28mself\u001b[39m\u001b[38;5;241m.\u001b[39mraise_on_validation_error:\n\u001b[1;32m--> 134\u001b[0m     \u001b[38;5;28;01mraise\u001b[39;00m err\n\u001b[0;32m    135\u001b[0m \u001b[38;5;28;01melse\u001b[39;00m:\n\u001b[0;32m    136\u001b[0m     \u001b[38;5;28mself\u001b[39m\u001b[38;5;241m.\u001b[39mvalidation_errors\u001b[38;5;241m.\u001b[39mappend(err)\n",
      "\u001b[1;31mSchemaValidationError\u001b[0m: field \"sampleAvailability\" in \"$validation\" is not defined in this class or any of its parent classes"
     ]
    }
   ],
   "source": [
    "inputfile = os.path.join(script_path,'NDE_Sample2.json')\n",
    "with open(inputfile,'rb') as infile:\n",
    "    definedterm = json.load(infile)\n",
    "\n",
    "#print(definedterm)\n",
    "sc = Schema(definedterm)\n",
    "sc.validation"
   ]
  },
  {
   "cell_type": "code",
   "execution_count": null,
   "metadata": {},
   "outputs": [],
   "source": []
  }
 ],
 "metadata": {
  "kernelspec": {
   "display_name": "Python 3 (ipykernel)",
   "language": "python",
   "name": "python3"
  },
  "language_info": {
   "codemirror_mode": {
    "name": "ipython",
    "version": 3
   },
   "file_extension": ".py",
   "mimetype": "text/x-python",
   "name": "python",
   "nbconvert_exporter": "python",
   "pygments_lexer": "ipython3",
   "version": "3.10.10"
  }
 },
 "nbformat": 4,
 "nbformat_minor": 4
}
