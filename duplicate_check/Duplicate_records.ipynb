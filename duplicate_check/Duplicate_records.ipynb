{
 "cells": [
  {
   "cell_type": "markdown",
   "id": "0c6e749b",
   "metadata": {},
   "source": [
    "## Duplicate record check\n",
    "\n",
    "Determining the extent of the duplicate records issue\n",
    "\n",
    "Zenodo versioning duplicates\n",
    "1. Pull name and id fields for 50,000 zenodo records\n",
    "2. Check for duplicate names on unique ids\n",
    "3. Calculate rate of duplication\n",
    "\n",
    "OmicsDI/GEO duplicates\n",
    "1. Pull name and id fields 1000 GEO records\n",
    "2. Search OMICS DI for matching names\n",
    "\n",
    "Zenodo/Dryad duplicates\n",
    "See OmicsDI/GEO duplicates\n",
    "\n"
   ]
  },
  {
   "cell_type": "code",
   "execution_count": 10,
   "id": "9f76575d",
   "metadata": {},
   "outputs": [],
   "source": [
    "import json\n",
    "import requests\n",
    "import pandas as pd\n",
    "import time\n",
    "from datetime import datetime"
   ]
  },
  {
   "cell_type": "code",
   "execution_count": null,
   "id": "234f06ac",
   "metadata": {},
   "outputs": [],
   "source": [
    "%%time\n",
    "r = requests.get('https://api.data.niaid.nih.gov/v1/query?q=includedInDataCatalog.name:\"Zenodo\"&fields=name&fetch_all=true')\n",
    "cleanr = json.loads(r.text)\n",
    "hits = cleanr['hits']\n",
    "#print(len(cleanr['hits']))\n",
    "df1 = pd.DataFrame(cleanr['hits'])\n",
    "scroll_id = cleanr['_scroll_id']"
   ]
  },
  {
   "cell_type": "code",
   "execution_count": null,
   "id": "7f80736e",
   "metadata": {},
   "outputs": [],
   "source": [
    "%%time\n",
    "i = 0\n",
    "while i < 10:\n",
    "    r2 = requests.get(f'https://api.data.niaid.nih.gov/v1/query?scroll_id={scroll_id}')\n",
    "    tmp = json.loads(r2.text)\n",
    "    scroll_id = tmp['_scroll_id']\n",
    "    tmpdf = pd.DataFrame(tmp['hits'])\n",
    "    df1 = pd.concat((df1,tmpdf),ignore_index=True)\n",
    "    print(len(df1))\n",
    "    i = i+1\n",
    "    time.sleep(0.5)"
   ]
  },
  {
   "cell_type": "code",
   "execution_count": null,
   "id": "3b76ea61",
   "metadata": {},
   "outputs": [],
   "source": [
    "## Check for replicated records (id and name)\n",
    "\n",
    "check_for_reps = df1.groupby(['_id','name']).size().reset_index(name='counts')\n",
    "replicates = check_for_reps.loc[check_for_reps['counts']>1]\n",
    "nonreps = check_for_reps.loc[check_for_reps['counts']==1]\n",
    "print(\"original length: \",len(df1),\" replicates: \",len(replicates))\n",
    "\n",
    "## Check for duplicate/version records (name only)\n",
    "check_for_dups = nonreps.groupby(['name']).size().reset_index(name='dup_counts')\n",
    "duplicates = check_for_dups.loc[check_for_dups['dup_counts']>1]\n",
    "nondups = check_for_dups.loc[check_for_dups['dup_counts']==1]\n",
    "\n",
    "## Stats\n",
    "{\"run\":n,\"samples\":len(df1),\"replicates\":len(replicates),\"duplicates\":len(duplicates),\"% dups\":len(duplicates)/len(replicates)*100}\n"
   ]
  },
  {
   "cell_type": "code",
   "execution_count": 11,
   "id": "98652deb",
   "metadata": {},
   "outputs": [],
   "source": [
    "def fetch_zenodo_records(record_limit):\n",
    "    r = requests.get('https://api.data.niaid.nih.gov/v1/query?q=includedInDataCatalog.name:\"Zenodo\"&fields=name&fetch_all=true')\n",
    "    cleanr = json.loads(r.text)\n",
    "    hits = cleanr['hits']\n",
    "    #print(len(cleanr['hits']))\n",
    "    df1 = pd.DataFrame(cleanr['hits'])\n",
    "    scroll_id = cleanr['_scroll_id'] \n",
    "    i = 0\n",
    "    while i < record_limit:\n",
    "        r2 = requests.get(f'https://api.data.niaid.nih.gov/v1/query?scroll_id={scroll_id}')\n",
    "        tmp = json.loads(r2.text)\n",
    "        scroll_id = tmp['_scroll_id']\n",
    "        tmpdf = pd.DataFrame(tmp['hits'])\n",
    "        df1 = pd.concat((df1,tmpdf),ignore_index=True)\n",
    "        #print(len(df1))\n",
    "        i = i+1\n",
    "        time.sleep(0.5)  \n",
    "    return df1\n",
    "\n",
    "def check_dups(df1):\n",
    "    check_for_reps = df1.groupby(['_id','name']).size().reset_index(name='counts')\n",
    "    replicates = check_for_reps.loc[check_for_reps['counts']>1]\n",
    "    nonreps = check_for_reps.loc[check_for_reps['counts']==1]\n",
    "    check_for_dups = nonreps.groupby(['name']).size().reset_index(name='dup_counts')\n",
    "    duplicates = check_for_dups.loc[check_for_dups['dup_counts']>1]\n",
    "    nondups = check_for_dups.loc[check_for_dups['dup_counts']==1]\n",
    "    timecheck = datetime.now()\n",
    "    run_info = timecheck.strftime(\"%Y-%m-%d\")\n",
    "    tmpdict = {\"samples\":len(df1),\"replicates\":len(replicates),\n",
    "               \"duplicates\":len(duplicates),\"unique records\":len(nondups),\n",
    "               \"% dups\":len(duplicates)/len(nonreps)*100,\"run date\":run_info}\n",
    "    duplicates.to_csv(f\"duplicates_{run_info}.tsv\",sep='\\t',header=True)\n",
    "    return tmpdict\n",
    "\n",
    "def get_zenodo_dup_stats(repetitions, record_limit):\n",
    "    n = 0\n",
    "    statlist = []\n",
    "    while n < repetitions:\n",
    "        print(\"now performing run #\",n)\n",
    "        df1 = fetch_zenodo_records(record_limit)\n",
    "        tmpdict = check_dups(df1)\n",
    "        tmpdict['run number'] = n\n",
    "        statlist.append(tmpdict)\n",
    "        time.sleep(300)\n",
    "        n=n+1\n",
    "    return statlist"
   ]
  },
  {
   "cell_type": "code",
   "execution_count": 12,
   "id": "27f99fbd",
   "metadata": {},
   "outputs": [
    {
     "name": "stdout",
     "output_type": "stream",
     "text": [
      "now performing run # 0\n",
      "   samples  replicates  duplicates  unique records  % dups    run date  \\\n",
      "0    50000           0        2345           43819    4.69  2023-08-10   \n",
      "\n",
      "   run number  \n",
      "0           0  \n",
      "CPU times: total: 3.77 s\n",
      "Wall time: 6min 7s\n"
     ]
    }
   ],
   "source": [
    "%%time\n",
    "repetitions = 1\n",
    "record_limit = 49\n",
    "statlist = get_zenodo_dup_stats(repetitions, record_limit)\n",
    "statdf = pd.DataFrame(statlist)\n",
    "statdf.to_csv('dup_stats.tsv')\n",
    "print(statdf)"
   ]
  },
  {
   "cell_type": "markdown",
   "id": "27d329bf",
   "metadata": {},
   "source": [
    "## Checking Metadata differences between OMICS-DI and GEO\n",
    "\n",
    "1. Compare lengths of names and descriptions\n",
    "2. For duplicate records in this sample, pull 'species', 'measurementTechnique', and 'infectiousAgent' fields to compare the data from the two repos"
   ]
  },
  {
   "cell_type": "code",
   "execution_count": 4,
   "id": "71300c29",
   "metadata": {},
   "outputs": [],
   "source": [
    "import pandas as pd\n",
    "from pandas import read_csv\n",
    "import requests\n",
    "import json\n",
    "import time\n",
    "import math\n",
    "import os"
   ]
  },
  {
   "cell_type": "code",
   "execution_count": 13,
   "id": "94d97572",
   "metadata": {},
   "outputs": [
    {
     "name": "stdout",
     "output_type": "stream",
     "text": [
      "C:\\Users\\gtsueng\\Anaconda3\\envs\\nde\\nde_misc\n"
     ]
    }
   ],
   "source": [
    "parent_path = os.path.dirname(os.getcwd())\n",
    "print(parent_path)\n",
    "data_path = os.path.join(parent_path,'Pubtator_Check','data')"
   ]
  },
  {
   "cell_type": "code",
   "execution_count": 14,
   "id": "a60222f0",
   "metadata": {},
   "outputs": [
    {
     "name": "stderr",
     "output_type": "stream",
     "text": [
      "C:\\Users\\gtsueng\\AppData\\Local\\Temp\\ipykernel_16020\\2561801662.py:1: DtypeWarning: Columns (4) have mixed types. Specify dtype option on import or set low_memory=False.\n",
      "  df3 = read_csv(os.path.join(data_path,'citation_df_clean.tsv'),delimiter='\\t',header=0,index_col=0)\n"
     ]
    }
   ],
   "source": [
    "df3 = read_csv(os.path.join(data_path,'citation_df_clean.tsv'),delimiter='\\t',header=0,index_col=0)"
   ]
  },
  {
   "cell_type": "code",
   "execution_count": 15,
   "id": "708b2cfc",
   "metadata": {},
   "outputs": [
    {
     "name": "stdout",
     "output_type": "stream",
     "text": [
      "                   _id                                        description  \\\n",
      "0  OMICSDI_PRJNA775608  Alveolar epithelial glycocalyx degradation med...   \n",
      "1   OMICSDI_PRJNA74531  Streptococcus agalactiae STIR-CD-17 Genome seq...   \n",
      "\n",
      "                                                name      pmid  \n",
      "0  Alveolar epithelial glycocalyx degradation med...  34874923  \n",
      "1                Streptococcus agalactiae STIR-CD-17  23105075  \n"
     ]
    }
   ],
   "source": [
    "print(df3.head(n=2))"
   ]
  },
  {
   "cell_type": "code",
   "execution_count": 16,
   "id": "fbb0aef0",
   "metadata": {},
   "outputs": [
    {
     "name": "stdout",
     "output_type": "stream",
     "text": [
      "57686\n"
     ]
    }
   ],
   "source": [
    "#### Find duplicate records\n",
    "## Since each record has a unique id, if we group by the name and citation pmid, we'll find duplicate records\n",
    "df3['pmid'] = df3['pmid'].astype(str)\n",
    "df3_counts = df3.groupby(['name','pmid']).size().reset_index(name='counts')\n",
    "rep_subset = df3_counts.loc[df3_counts['counts']>1]\n",
    "print(len(rep_subset))"
   ]
  },
  {
   "cell_type": "code",
   "execution_count": 17,
   "id": "e6b96f3e",
   "metadata": {},
   "outputs": [
    {
     "name": "stdout",
     "output_type": "stream",
     "text": [
      "55654 44000\n"
     ]
    }
   ],
   "source": [
    "#### Check to see if the number of unique names matches that of the number of unique citation records\n",
    "## Note, it does not. There are more unique names than pmids, therefore, some datasets cite the same pmid\n",
    "unique_names = rep_subset['name'].unique().tolist()\n",
    "unique_pmids = rep_subset['pmid'].unique().tolist()\n",
    "print(len(unique_names),len(unique_pmids))"
   ]
  },
  {
   "cell_type": "code",
   "execution_count": 18,
   "id": "7b2271d6",
   "metadata": {},
   "outputs": [
    {
     "name": "stdout",
     "output_type": "stream",
     "text": [
      "                                                     name      pmid  counts\n",
      "136334                                       Mus musculus  34830319      48\n",
      "186788  The relationship betweem bacterial community s...  28018299      43\n",
      "14441                                Arabidopsis thaliana  15656970      38\n",
      "101028                                       Homo sapiens  28888135      26\n",
      "93001                                        Homo sapiens  12704389      25\n"
     ]
    }
   ],
   "source": [
    "#### Check to see if there are replicates (multiples of more than 2) \n",
    "print(df3_counts.sort_values('counts',ascending=False).head(n=5))"
   ]
  },
  {
   "cell_type": "code",
   "execution_count": 19,
   "id": "2e476277",
   "metadata": {},
   "outputs": [
    {
     "name": "stdout",
     "output_type": "stream",
     "text": [
      "                                                name      pmid  counts  \\\n",
      "0  'Bois noir' phytoplasma induces significant re...  19799775       2   \n",
      "1  'Bois noir' phytoplasma induces significant re...  19799775       2   \n",
      "2  (1) Murine CD4 T cells: naïve vs peptide treat...  21490154       2   \n",
      "3  (1) Murine CD4 T cells: naïve vs peptide treat...  21490154       2   \n",
      "4  (2-Benzimidazolyl)acetonitrile derivative for ...  30466066       2   \n",
      "5  (2-Benzimidazolyl)acetonitrile derivative for ...  30466066       2   \n",
      "\n",
      "                    _id                                        description  \n",
      "0  OMICSDI_E-GEOD-10906  Transcriptional profiling of Vitis vinifera cv...  \n",
      "1          GEO_GSE10906  Transcriptional profiling of Vitis vinifera cv...  \n",
      "2      OMICSDI_GSE26908  (1) Transcriptional profiling of mouse CD4 T c...  \n",
      "3          GEO_GSE26908  (1) Transcriptional profiling of mouse CD4 T c...  \n",
      "4     OMICSDI_GSE115918  Natural chemical modifications to 5-formylurac...  \n",
      "5         GEO_GSE115918  Natural chemical modifications to 5-formylurac...  \n"
     ]
    }
   ],
   "source": [
    "#### Using only name and pmid can result in multiple replicates. These may need special handling\n",
    "#### The issue of replicates may be due to both OMICS-DI ingestion of GEO and versioning\n",
    "#### First address the duplicates only as these will likely be due to OMICS-DI ingestion of GEO\n",
    "\n",
    "\n",
    "dup_freq_subset = rep_subset.loc[rep_subset['counts']<3]\n",
    "dup_subset = dup_freq_subset.merge(df3,on=['name','pmid'],how='left')\n",
    "print(dup_subset.head(n=6))"
   ]
  },
  {
   "cell_type": "code",
   "execution_count": 20,
   "id": "7b65fb17",
   "metadata": {},
   "outputs": [
    {
     "name": "stdout",
     "output_type": "stream",
     "text": [
      "                                              name      pmid  counts  \\\n",
      "49476                        Human Leukocytes SAGE  10419873       2   \n",
      "49856   Human mammary epithelium and breast cancer  10430922       2   \n",
      "22197                Diffuse large B-cell lymphoma  10676951       2   \n",
      "65516      NCI cDNA microarray-human 60 cell lines  10700174       2   \n",
      "104861           snf/swi mutants of S. cerevisiae.  10725359       2   \n",
      "\n",
      "             GEO_id                                           GEO_desc  \n",
      "49476   GEO_GSE5833  This series represents the human leukocyte SAG...  \n",
      "49856     GEO_GSE53  Distinctive gene expression patterns in human ...  \n",
      "22197     GEO_GSE60  Diffuse large B-cell lymphoma (DLBCL), the mos...  \n",
      "65516   GEO_GSE2003  We used cDNA microarrays to explore the variat...  \n",
      "104861    GEO_GSE21  The Saccharomyces cerevisiae Snf/Swi complex h...  \n",
      "===================\n",
      "                                              name      pmid  counts  \\\n",
      "49477                        Human Leukocytes SAGE  10419873       2   \n",
      "49857   Human mammary epithelium and breast cancer  10430922       2   \n",
      "22196                Diffuse large B-cell lymphoma  10676951       2   \n",
      "49641                      Human cancer cell lines  10700174       2   \n",
      "104860           snf/swi mutants of S. cerevisiae.  10725359       2   \n",
      "\n",
      "                 OMICS_id                                         OMICS_desc  \n",
      "49477     OMICSDI_GSE5833  This series represents the human leukocyte SAG...  \n",
      "49857   OMICSDI_E-GEOD-53  Distinctive gene expression patterns in human ...  \n",
      "22196   OMICSDI_E-GEOD-60  Diffuse large B-cell lymphoma (DLBCL), the mos...  \n",
      "49641       OMICSDI_GSE59  We used cDNA microarrays to explore the variat...  \n",
      "104860      OMICSDI_GSE21  The Saccharomyces cerevisiae Snf/Swi complex h...  \n",
      "===================\n",
      "                                         name      pmid  counts       GEO_id  \\\n",
      "0                       Human Leukocytes SAGE  10419873       2  GEO_GSE5833   \n",
      "1  Human mammary epithelium and breast cancer  10430922       2    GEO_GSE53   \n",
      "\n",
      "                                            GEO_desc           OMICS_id  \\\n",
      "0  This series represents the human leukocyte SAG...    OMICSDI_GSE5833   \n",
      "1  Distinctive gene expression patterns in human ...  OMICSDI_E-GEOD-53   \n",
      "\n",
      "                                          OMICS_desc  \n",
      "0  This series represents the human leukocyte SAG...  \n",
      "1  Distinctive gene expression patterns in human ...  \n"
     ]
    }
   ],
   "source": [
    "#### Get pairs of ids\n",
    "## Sort the data frame by pmid (to get pairs), then by _id (to ensure orderting)\n",
    "## Generate one dataframe by dropping duplicates (subset pmid, keeping first)\n",
    "## Generate second dataframe by dropping duplicates (subset pmid, keeping list)\n",
    "## Merge the two to get pairs of data\n",
    "\n",
    "dup_subset.sort_values(by=['pmid','_id'], inplace=True)\n",
    "keep_first = dup_subset.drop_duplicates(subset='pmid',keep='first').copy()\n",
    "keep_last = dup_subset.drop_duplicates(subset='pmid',keep='last').copy()\n",
    "keep_first.rename(columns={'_id':'GEO_id','description':'GEO_desc'},inplace=True)\n",
    "keep_last.rename(columns={'_id':'OMICS_id','description':'OMICS_desc'},inplace=True)\n",
    "print(keep_first.head(n=5))\n",
    "print(\"===================\")\n",
    "print(keep_last.head(n=5))\n",
    "print(\"===================\")\n",
    "clean_dup_df = keep_first.merge(keep_last,on=['name','pmid','counts'],how='inner')\n",
    "print(clean_dup_df.head(n=2))"
   ]
  },
  {
   "cell_type": "code",
   "execution_count": 21,
   "id": "5642377f",
   "metadata": {},
   "outputs": [],
   "source": [
    "def compare_desc_length(row):\n",
    "    if row['GEO_desc_len'] > row['OMICS_desc_len']:\n",
    "        compare_result = 'GEO longer'\n",
    "    elif row['GEO_desc_len'] < row['OMICS_desc_len']:\n",
    "        compare_result = 'OMICS longer'\n",
    "    elif row['GEO_desc_len'] == row['OMICS_desc_len']:\n",
    "        compare_result = 'same length'\n",
    "    return compare_result"
   ]
  },
  {
   "cell_type": "code",
   "execution_count": 22,
   "id": "6d937352",
   "metadata": {},
   "outputs": [
    {
     "name": "stdout",
     "output_type": "stream",
     "text": [
      "                                         name      pmid  counts       GEO_id  \\\n",
      "0                       Human Leukocytes SAGE  10419873       2  GEO_GSE5833   \n",
      "1  Human mammary epithelium and breast cancer  10430922       2    GEO_GSE53   \n",
      "\n",
      "                                            GEO_desc           OMICS_id  \\\n",
      "0  This series represents the human leukocyte SAG...    OMICSDI_GSE5833   \n",
      "1  Distinctive gene expression patterns in human ...  OMICSDI_E-GEOD-53   \n",
      "\n",
      "                                          OMICS_desc  GEO_desc_len  \\\n",
      "0  This series represents the human leukocyte SAG...           107   \n",
      "1  Distinctive gene expression patterns in human ...          1496   \n",
      "\n",
      "   OMICS_desc_len       compare  \n",
      "0             502  OMICS longer  \n",
      "1            1482    GEO longer  \n"
     ]
    }
   ],
   "source": [
    "## compare lengths of descriptions\n",
    "clean_dup_df['GEO_desc_len'] = clean_dup_df['GEO_desc'].str.len()\n",
    "clean_dup_df['OMICS_desc_len'] = clean_dup_df['OMICS_desc'].str.len()\n",
    "clean_dup_df['compare'] = clean_dup_df.apply(lambda row : compare_desc_length(row), axis = 1)\n",
    "print(clean_dup_df.head(n=2))"
   ]
  },
  {
   "cell_type": "code",
   "execution_count": 23,
   "id": "0a6a78f6",
   "metadata": {},
   "outputs": [
    {
     "name": "stdout",
     "output_type": "stream",
     "text": [
      "GEO_GSE5833 This series represents the human leukocyte SAGE library collection. Keywords: Human Leukocytes, Blood, SAGE\n",
      "================================\n",
      "OMICSDI_GSE5833 This series represents the human leukocyte SAGE library collection. Keywords: Human Leukocytes, Blood, SAGE Overall design: Leukocytes are classified as myelocytic or lymphocytic, and each class of leukocytes consists of several types of cells that have different phenotypes and different roles. To define the gene expression in these cells, we have performed SAGE using human leukocytes and have provided the gene database for these cells not only at the resting stage but also at the activated stage.\n"
     ]
    }
   ],
   "source": [
    "print(clean_dup_df.iloc[0]['GEO_id'],clean_dup_df.iloc[0]['GEO_desc'])\n",
    "print('================================')\n",
    "print(clean_dup_df.iloc[0]['OMICS_id'],clean_dup_df.iloc[0]['OMICS_desc'])"
   ]
  },
  {
   "cell_type": "markdown",
   "id": "76623098",
   "metadata": {},
   "source": [
    "### Summary of comparison of duplicate descriptions"
   ]
  },
  {
   "cell_type": "code",
   "execution_count": 24,
   "id": "ed753a69",
   "metadata": {},
   "outputs": [
    {
     "name": "stdout",
     "output_type": "stream",
     "text": [
      "compare\n",
      "GEO longer      11858\n",
      "OMICS longer    22661\n",
      "same length       520\n",
      "dtype: int64\n",
      "replicates (>3):  378\n",
      "triplicates (=3):  4757\n",
      "duplicates (=2):  52551\n"
     ]
    }
   ],
   "source": [
    "summarydf = clean_dup_df.groupby('compare').size()\n",
    "print(summarydf)\n",
    "\n",
    "rep_freq_subset = rep_subset.loc[rep_subset['counts']>3].copy()\n",
    "trip_freq_subset = rep_subset.loc[rep_subset['counts']==3].copy()\n",
    "\n",
    "print(\"replicates (>3): \", len(rep_freq_subset))\n",
    "print(\"triplicates (=3): \",len(trip_freq_subset))\n",
    "print(\"duplicates (=2): \", len(dup_freq_subset))"
   ]
  },
  {
   "cell_type": "markdown",
   "id": "203109aa",
   "metadata": {},
   "source": [
    "Issue of replicates and triplicates seems to primarily be due to the use of a species name as the name of the dataset. These types of datasets are likely to cite the same PMID paper describing the species and may consist of wholly different datasets based on the descriptions"
   ]
  },
  {
   "cell_type": "markdown",
   "id": "3fc294ed",
   "metadata": {},
   "source": [
    "### Investigate source of triplicate records"
   ]
  },
  {
   "cell_type": "code",
   "execution_count": 26,
   "id": "0ac284a6",
   "metadata": {},
   "outputs": [
    {
     "name": "stdout",
     "output_type": "stream",
     "text": [
      "                                                    name      pmid  counts  \\\n",
      "10458                                  Rattus norvegicus  11158336       3   \n",
      "10459                                  Rattus norvegicus  11158336       3   \n",
      "10460                                  Rattus norvegicus  11158336       3   \n",
      "10905                           Saccharomyces cerevisiae  12524544       3   \n",
      "10906                           Saccharomyces cerevisiae  12524544       3   \n",
      "10907                           Saccharomyces cerevisiae  12524544       3   \n",
      "1245                              Bacillus_anthracis_CGH  12721629       3   \n",
      "1246                              Bacillus_anthracis_CGH  12721629       3   \n",
      "1247                              Bacillus_anthracis_CGH  12721629       3   \n",
      "8391                                        Mus musculus  12819134       3   \n",
      "8392                                        Mus musculus  12819134       3   \n",
      "8393                                        Mus musculus  12819134       3   \n",
      "6147                                        Homo sapiens  14695408       3   \n",
      "6148                                        Homo sapiens  14695408       3   \n",
      "6149                                        Homo sapiens  14695408       3   \n",
      "13719                                    Vibrio cholerae  14983042       3   \n",
      "13720                                    Vibrio cholerae  14983042       3   \n",
      "13721                                    Vibrio cholerae  14983042       3   \n",
      "2478   Cross-species Detection in Barley1 GeneChip Array  15020760       3   \n",
      "2479   Cross-species Detection in Barley1 GeneChip Array  15020760       3   \n",
      "2480   Cross-species Detection in Barley1 GeneChip Array  15020760       3   \n",
      "\n",
      "                        _id                                        description  \n",
      "10458    OMICSDI_PRJNA87763                             GH inj old liver (1-7)  \n",
      "10459    OMICSDI_PRJNA87771                   GH inj old male rat muscle (1-3)  \n",
      "10460    OMICSDI_PRJNA87759                                effect of age liver  \n",
      "10905    OMICSDI_PRJNA84471  zzYra1 co-IPed RNA vs. zzMex67 co-IPed RNA (zz...  \n",
      "10906    OMICSDI_PRJNA85491  zzMex67 co-IPed RNA vs. zz co-IPed RNA (zzMex6...  \n",
      "10907    OMICSDI_PRJNA85493  zzYra1 co-IPed RNA vs. zz co-IPed RNA (zzYra1I...  \n",
      "1245     OMICSDI_E-GEOD-341  Analysis of genomic content of closely related...  \n",
      "1246             GEO_GSE341  Analysis of genomic content of closely related...  \n",
      "1247     OMICSDI_PRJNA84823                             Bacillus_anthracis_CGH  \n",
      "8391    OMICSDI_PRJNA104925                           BMM_BalbC_LPS_timecourse  \n",
      "8392    OMICSDI_PRJNA104927                         BMM_C3H/HeJ_LPS_timecourse  \n",
      "8393    OMICSDI_PRJNA104923                         BMM_C3H/ARC_LPS_timecourse  \n",
      "6147     OMICSDI_PRJNA87699                                MRI-no-lytic-lesion  \n",
      "6148     OMICSDI_PRJNA87701                                   MRI-lytic-lesion  \n",
      "6149     OMICSDI_PRJNA87703                     MRI lytic and no lytic lesions  \n",
      "13719   OMICSDI_PRJNA104793                                      Chitin sensor  \n",
      "13720   OMICSDI_PRJNA104787                              Crab shell attachment  \n",
      "13721   OMICSDI_PRJNA104785                   Chitin oligosaccharide induction  \n",
      "2478   OMICSDI_E-GEOD-33391  This study was conducted to evaluate the effic...  \n",
      "2479    OMICSDI_PRJNA149123  Cross-species Detection in Barley1 GeneChip Array  \n",
      "2480           GEO_GSE33391  This study was conducted to evaluate the effic...  \n"
     ]
    }
   ],
   "source": [
    "\n",
    "trip_subset = trip_freq_subset.merge(df3,on=['name','pmid'],how='left')\n",
    "trip_subset.sort_values(by=['pmid','name'],inplace=True)\n",
    "#trip_subset.to_csv(os.path.join(data_path,'triplicates_by_name_and_pmid.tsv'), sep='\\t',header=True)\n",
    "print(trip_subset.head(n=21))"
   ]
  },
  {
   "cell_type": "markdown",
   "id": "ffb8350e",
   "metadata": {},
   "source": [
    "### Identify a heuristic for ommitting replicates based on name length or match to a species name"
   ]
  },
  {
   "cell_type": "code",
   "execution_count": 27,
   "id": "654bc82b",
   "metadata": {},
   "outputs": [
    {
     "name": "stdout",
     "output_type": "stream",
     "text": [
      "replicates:  min:  12 max:  176 mean:  74.33068783068784\n",
      "triplicates:  min:  5 max:  249 mean:  92.59701492537313\n",
      "duplicates:  min:  2 max:  255 mean:  91.43451123670339\n"
     ]
    },
    {
     "name": "stderr",
     "output_type": "stream",
     "text": [
      "C:\\Users\\gtsueng\\AppData\\Local\\Temp\\ipykernel_16020\\2291798142.py:16: SettingWithCopyWarning: \n",
      "A value is trying to be set on a copy of a slice from a DataFrame.\n",
      "Try using .loc[row_indexer,col_indexer] = value instead\n",
      "\n",
      "See the caveats in the documentation: https://pandas.pydata.org/pandas-docs/stable/user_guide/indexing.html#returning-a-view-versus-a-copy\n",
      "  dup_freq_subset['name_length'] = dup_freq_subset['name'].str.len()\n",
      "C:\\Users\\gtsueng\\AppData\\Local\\Temp\\ipykernel_16020\\2291798142.py:17: SettingWithCopyWarning: \n",
      "A value is trying to be set on a copy of a slice from a DataFrame\n",
      "\n",
      "See the caveats in the documentation: https://pandas.pydata.org/pandas-docs/stable/user_guide/indexing.html#returning-a-view-versus-a-copy\n",
      "  dup_freq_subset.sort_values(by='name_length',ascending=True,inplace=True)\n"
     ]
    }
   ],
   "source": [
    "### Inspecting name lengths\n",
    "rep_freq_subset['name_length'] = rep_freq_subset['name'].str.len()\n",
    "rep_freq_subset.sort_values(by='name_length',ascending=True,inplace=True)\n",
    "rep_name_mean = rep_freq_subset['name_length'].mean()\n",
    "rep_name_min = rep_freq_subset['name_length'].min() \n",
    "rep_name_max = rep_freq_subset['name_length'].max()\n",
    "print(\"replicates: \", \"min: \", rep_name_min, \"max: \", rep_name_max, \"mean: \", rep_name_mean)\n",
    "\n",
    "trip_freq_subset['name_length'] = trip_freq_subset['name'].str.len()\n",
    "trip_freq_subset.sort_values(by='name_length',ascending=True,inplace=True)\n",
    "trip_name_mean = trip_freq_subset['name_length'].mean()\n",
    "trip_name_min = trip_freq_subset['name_length'].min() \n",
    "trip_name_max = trip_freq_subset['name_length'].max()\n",
    "print(\"triplicates: \", \"min: \", trip_name_min, \"max: \", trip_name_max, \"mean: \", trip_name_mean)\n",
    "\n",
    "dup_freq_subset['name_length'] = dup_freq_subset['name'].str.len()\n",
    "dup_freq_subset.sort_values(by='name_length',ascending=True,inplace=True)\n",
    "dup_name_mean = dup_freq_subset['name_length'].mean()\n",
    "dup_name_min = dup_freq_subset['name_length'].min() \n",
    "dup_name_max = dup_freq_subset['name_length'].max()\n",
    "print(\"duplicates: \", \"min: \", dup_name_min, \"max: \", dup_name_max, \"mean: \", dup_name_mean)"
   ]
  },
  {
   "cell_type": "code",
   "execution_count": 28,
   "id": "68e063c5",
   "metadata": {},
   "outputs": [
    {
     "name": "stdout",
     "output_type": "stream",
     "text": [
      "                name      pmid  counts  name_length\n",
      "135193  Mus musculus  28385888      14           12\n",
      "99065   Homo sapiens  26385698       4           12\n",
      "99099   Homo sapiens  26416749       4           12\n",
      "          name      pmid  counts  name_length\n",
      "180591   Tbx-2  34819350       3            5\n",
      "16988   BCL11B  28232744       3            6\n",
      "113934  Jmjd1c  26878175       3            6\n",
      "       name      pmid  counts  name_length\n",
      "119628   MP  12704389       2            2\n",
      "636     58C  25159868       2            3\n",
      "137522  NBS  25159868       2            3\n"
     ]
    }
   ],
   "source": [
    "print(rep_freq_subset.head(n=3))\n",
    "\n",
    "print(trip_freq_subset.head(n=3))\n",
    "\n",
    "print(dup_freq_subset.head(n=3))"
   ]
  },
  {
   "cell_type": "code",
   "execution_count": 29,
   "id": "68888217",
   "metadata": {},
   "outputs": [
    {
     "name": "stdout",
     "output_type": "stream",
     "text": [
      "reps at 25 :                                  name      pmid  counts  name_length\n",
      "176656    Synechocystis sp. PCC 6803  17910763       5           26\n",
      "142794   Oryza sativa Japonica Group  23180784       7           27\n",
      "39666   Corynebacterium glutamicum R  29148103       4           28\n",
      "trips at 25 :                                name      pmid  counts  name_length\n",
      "169229  Simplified ChIP-exo assays  30030442       3           26\n",
      "212890  marine sediment metagenome  25916483       3           26\n",
      "17088   BET bromodomain inhibition  28515341       3           26\n",
      "trips at 25 :                                name      pmid  counts  name_length\n",
      "10423   Alpha-factor block-release   9843569       2           26\n",
      "136868  Mycobacterium tuberculosis  23222129       2           26\n",
      "188602  Time-ChIP in ESCs and NSCs  27304074       2           26\n",
      "reps at 50 :                                                       name      pmid  counts  \\\n",
      "197187  Transcriptional responses to macrophage phagoc...  34903044       6   \n",
      "48589   Direct induction of retinal ganglion cell-like...  33096050       4   \n",
      "144096  PML is a ROS sensor activating p53 upon oxidat...  28931625       4   \n",
      "\n",
      "        name_length  \n",
      "197187           52  \n",
      "48589            54  \n",
      "144096           56  \n",
      "trips at 50 :                                                       name      pmid  counts  \\\n",
      "75405   Gene expression pattern of primed human neutro...  35443164       3   \n",
      "189876  Transcript profiling in WT and CRTC3 KO A375 c...  34010639       3   \n",
      "118865  M. tuberculosis-M. bovis transcriptional compa...  17433778       3   \n",
      "\n",
      "        name_length  \n",
      "75405            51  \n",
      "189876           51  \n",
      "118865           51  \n",
      "trips at 50 :                                                       name      pmid  counts  \\\n",
      "213055  miR-200c induction in Met-1 mammary carcionma ...  34045467       2   \n",
      "62696   Expression data from LSK WT, GMP WT and GMP Nc...  21562564       2   \n",
      "126672  Mnase-Seq study of Arabidopsis thaliana mutant...  29048607       2   \n",
      "\n",
      "        name_length  \n",
      "213055           51  \n",
      "62696            51  \n",
      "126672           51  \n",
      "reps at 75 :                                                       name      pmid  counts  \\\n",
      "205219  Urinary exosomal small non-coding RNA expressi...  32191585       4   \n",
      "120834  Mapping the Degradable Kinome: A Resource for ...  33275901      12   \n",
      "116850  Linking chromatin acylation mark-defined prote...  36868209       5   \n",
      "\n",
      "        name_length  \n",
      "205219           76  \n",
      "120834           76  \n",
      "116850           76  \n",
      "trips at 75 :                                                       name      pmid  counts  \\\n",
      "9645    Age and Sex Influence the Hippocampal Response...  31278440       3   \n",
      "152876  R-loops and PRC1 repress Polycomb-target genes...  30709709       3   \n",
      "21568   CHRAC/ACF Contribute to the Repressive Ground ...  30456345       3   \n",
      "\n",
      "        name_length  \n",
      "9645             76  \n",
      "152876           76  \n",
      "21568            76  \n",
      "trips at 75 :                                                       name      pmid  counts  \\\n",
      "45734   Detection of cryptic unstable transcripts asso...  31740578       2   \n",
      "114807  Knockout mice reveal key roles for claudin-18 ...  24588076       2   \n",
      "55854   Effects of the antibacterial compund Allicin f...  27008862       2   \n",
      "\n",
      "        name_length  \n",
      "45734            76  \n",
      "114807           76  \n",
      "55854            76  \n",
      "reps at 90 :                                                       name      pmid  counts  \\\n",
      "173472  Spatiotemporal single-cell analysis of gene ex...  32066983       5   \n",
      "148911  Primary human lung fibroblast cells transcript...  34051754       4   \n",
      "205600  Vaccine-elicited CD4 T cells prevent the delet...  34772811       4   \n",
      "\n",
      "        name_length  \n",
      "173472           91  \n",
      "148911           91  \n",
      "205600           91  \n",
      "trips at 90 :                                                      name      pmid  counts  \\\n",
      "53291  Early-life exposure to genistein alters glucoc...  29624291       3   \n",
      "34481  Comparative analysis of gene expression of SLC...  30670494       3   \n",
      "36307  Comparison of methods for the characterization...  31367240       3   \n",
      "\n",
      "       name_length  \n",
      "53291           91  \n",
      "34481           91  \n",
      "36307           91  \n",
      "trips at 90 :                                                       name      pmid  counts  \\\n",
      "1564    A Chinese hamster transcription start site atl...  34268494       2   \n",
      "189600  Tracing pluripotency of human early embryos an...  23934149       2   \n",
      "139055  Neutrophils oppose uterine epithelial carcinog...  26678340       2   \n",
      "\n",
      "        name_length  \n",
      "1564             91  \n",
      "189600           91  \n",
      "139055           91  \n"
     ]
    },
    {
     "name": "stderr",
     "output_type": "stream",
     "text": [
      "C:\\Users\\gtsueng\\AppData\\Local\\Temp\\ipykernel_16020\\2259630521.py:5: SettingWithCopyWarning: \n",
      "A value is trying to be set on a copy of a slice from a DataFrame\n",
      "\n",
      "See the caveats in the documentation: https://pandas.pydata.org/pandas-docs/stable/user_guide/indexing.html#returning-a-view-versus-a-copy\n",
      "  tmprepdf.sort_values('name_length',ascending=True,inplace=True)\n",
      "C:\\Users\\gtsueng\\AppData\\Local\\Temp\\ipykernel_16020\\2259630521.py:8: SettingWithCopyWarning: \n",
      "A value is trying to be set on a copy of a slice from a DataFrame\n",
      "\n",
      "See the caveats in the documentation: https://pandas.pydata.org/pandas-docs/stable/user_guide/indexing.html#returning-a-view-versus-a-copy\n",
      "  tmptripdf.sort_values('name_length',ascending=True,inplace=True)\n",
      "C:\\Users\\gtsueng\\AppData\\Local\\Temp\\ipykernel_16020\\2259630521.py:11: SettingWithCopyWarning: \n",
      "A value is trying to be set on a copy of a slice from a DataFrame\n",
      "\n",
      "See the caveats in the documentation: https://pandas.pydata.org/pandas-docs/stable/user_guide/indexing.html#returning-a-view-versus-a-copy\n",
      "  tmpdupdf.sort_values('name_length',ascending=True,inplace=True)\n",
      "C:\\Users\\gtsueng\\AppData\\Local\\Temp\\ipykernel_16020\\2259630521.py:5: SettingWithCopyWarning: \n",
      "A value is trying to be set on a copy of a slice from a DataFrame\n",
      "\n",
      "See the caveats in the documentation: https://pandas.pydata.org/pandas-docs/stable/user_guide/indexing.html#returning-a-view-versus-a-copy\n",
      "  tmprepdf.sort_values('name_length',ascending=True,inplace=True)\n",
      "C:\\Users\\gtsueng\\AppData\\Local\\Temp\\ipykernel_16020\\2259630521.py:8: SettingWithCopyWarning: \n",
      "A value is trying to be set on a copy of a slice from a DataFrame\n",
      "\n",
      "See the caveats in the documentation: https://pandas.pydata.org/pandas-docs/stable/user_guide/indexing.html#returning-a-view-versus-a-copy\n",
      "  tmptripdf.sort_values('name_length',ascending=True,inplace=True)\n",
      "C:\\Users\\gtsueng\\AppData\\Local\\Temp\\ipykernel_16020\\2259630521.py:11: SettingWithCopyWarning: \n",
      "A value is trying to be set on a copy of a slice from a DataFrame\n",
      "\n",
      "See the caveats in the documentation: https://pandas.pydata.org/pandas-docs/stable/user_guide/indexing.html#returning-a-view-versus-a-copy\n",
      "  tmpdupdf.sort_values('name_length',ascending=True,inplace=True)\n",
      "C:\\Users\\gtsueng\\AppData\\Local\\Temp\\ipykernel_16020\\2259630521.py:5: SettingWithCopyWarning: \n",
      "A value is trying to be set on a copy of a slice from a DataFrame\n",
      "\n",
      "See the caveats in the documentation: https://pandas.pydata.org/pandas-docs/stable/user_guide/indexing.html#returning-a-view-versus-a-copy\n",
      "  tmprepdf.sort_values('name_length',ascending=True,inplace=True)\n",
      "C:\\Users\\gtsueng\\AppData\\Local\\Temp\\ipykernel_16020\\2259630521.py:8: SettingWithCopyWarning: \n",
      "A value is trying to be set on a copy of a slice from a DataFrame\n",
      "\n",
      "See the caveats in the documentation: https://pandas.pydata.org/pandas-docs/stable/user_guide/indexing.html#returning-a-view-versus-a-copy\n",
      "  tmptripdf.sort_values('name_length',ascending=True,inplace=True)\n",
      "C:\\Users\\gtsueng\\AppData\\Local\\Temp\\ipykernel_16020\\2259630521.py:11: SettingWithCopyWarning: \n",
      "A value is trying to be set on a copy of a slice from a DataFrame\n",
      "\n",
      "See the caveats in the documentation: https://pandas.pydata.org/pandas-docs/stable/user_guide/indexing.html#returning-a-view-versus-a-copy\n",
      "  tmpdupdf.sort_values('name_length',ascending=True,inplace=True)\n",
      "C:\\Users\\gtsueng\\AppData\\Local\\Temp\\ipykernel_16020\\2259630521.py:5: SettingWithCopyWarning: \n",
      "A value is trying to be set on a copy of a slice from a DataFrame\n",
      "\n",
      "See the caveats in the documentation: https://pandas.pydata.org/pandas-docs/stable/user_guide/indexing.html#returning-a-view-versus-a-copy\n",
      "  tmprepdf.sort_values('name_length',ascending=True,inplace=True)\n",
      "C:\\Users\\gtsueng\\AppData\\Local\\Temp\\ipykernel_16020\\2259630521.py:8: SettingWithCopyWarning: \n",
      "A value is trying to be set on a copy of a slice from a DataFrame\n",
      "\n",
      "See the caveats in the documentation: https://pandas.pydata.org/pandas-docs/stable/user_guide/indexing.html#returning-a-view-versus-a-copy\n",
      "  tmptripdf.sort_values('name_length',ascending=True,inplace=True)\n",
      "C:\\Users\\gtsueng\\AppData\\Local\\Temp\\ipykernel_16020\\2259630521.py:11: SettingWithCopyWarning: \n",
      "A value is trying to be set on a copy of a slice from a DataFrame\n",
      "\n",
      "See the caveats in the documentation: https://pandas.pydata.org/pandas-docs/stable/user_guide/indexing.html#returning-a-view-versus-a-copy\n",
      "  tmpdupdf.sort_values('name_length',ascending=True,inplace=True)\n"
     ]
    }
   ],
   "source": [
    "cutoff_test = [25, 50, 75, 90]\n",
    "\n",
    "for eachcutoff in cutoff_test:\n",
    "    tmprepdf = rep_freq_subset.loc[rep_freq_subset['name_length']>eachcutoff]\n",
    "    tmprepdf.sort_values('name_length',ascending=True,inplace=True)\n",
    "    print(\"reps at \"+str(eachcutoff),\": \",tmprepdf.head(n=3))\n",
    "    tmptripdf = trip_freq_subset.loc[trip_freq_subset['name_length']>eachcutoff]\n",
    "    tmptripdf.sort_values('name_length',ascending=True,inplace=True)\n",
    "    print(\"trips at \"+str(eachcutoff),\": \",tmptripdf.head(n=3))\n",
    "    tmpdupdf = dup_freq_subset.loc[dup_freq_subset['name_length']>eachcutoff]\n",
    "    tmpdupdf.sort_values('name_length',ascending=True,inplace=True)\n",
    "    print(\"trips at \"+str(eachcutoff),\": \",tmpdupdf.head(n=3))"
   ]
  },
  {
   "cell_type": "code",
   "execution_count": 30,
   "id": "97a54940",
   "metadata": {},
   "outputs": [
    {
     "name": "stdout",
     "output_type": "stream",
     "text": [
      "                   _id                                        description  \\\n",
      "0  OMICSDI_PRJNA775608  Alveolar epithelial glycocalyx degradation med...   \n",
      "1   OMICSDI_PRJNA74531  Streptococcus agalactiae STIR-CD-17 Genome seq...   \n",
      "\n",
      "                                                name      pmid  \n",
      "0  Alveolar epithelial glycocalyx degradation med...  34874923  \n",
      "1                Streptococcus agalactiae STIR-CD-17  23105075  \n",
      "813\n"
     ]
    }
   ],
   "source": [
    "print(df3.head(n=2))\n",
    "replicatesdf = df3.merge(tmprepdf, on=['name','pmid'], how='inner')\n",
    "print(len(replicatesdf))"
   ]
  },
  {
   "cell_type": "code",
   "execution_count": null,
   "id": "59dc1ec4",
   "metadata": {},
   "outputs": [],
   "source": []
  }
 ],
 "metadata": {
  "kernelspec": {
   "display_name": "Python 3 (ipykernel)",
   "language": "python",
   "name": "python3"
  },
  "language_info": {
   "codemirror_mode": {
    "name": "ipython",
    "version": 3
   },
   "file_extension": ".py",
   "mimetype": "text/x-python",
   "name": "python",
   "nbconvert_exporter": "python",
   "pygments_lexer": "ipython3",
   "version": "3.10.10"
  }
 },
 "nbformat": 4,
 "nbformat_minor": 5
}
