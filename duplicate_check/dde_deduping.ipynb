{
 "cells": [
  {
   "cell_type": "markdown",
   "id": "22c13f2d",
   "metadata": {},
   "source": [
    "# Investigation duplication issues in DDE for De-duplication\n",
    "\n",
    "Many records submitted via various portals in the DDE have data submitted via some other repository, which means that there may be duplication between DDE and other repositories. This notebook is to get an idea of how much overlap there actually which will help us determine the best path forward\n",
    "\n"
   ]
  },
  {
   "cell_type": "code",
   "execution_count": 1,
   "id": "a0af869d",
   "metadata": {},
   "outputs": [],
   "source": [
    "import os\n",
    "import requests\n",
    "import json\n",
    "import pandas as pd"
   ]
  },
  {
   "cell_type": "code",
   "execution_count": 23,
   "id": "b32d05ae",
   "metadata": {},
   "outputs": [
    {
     "name": "stdout",
     "output_type": "stream",
     "text": [
      "dict_keys(['took', 'total', 'max_score', 'hits'])\n"
     ]
    }
   ],
   "source": [
    "sysbioAPI= \"https://api-staging.data.niaid.nih.gov/v1/query?&q=_exists_%3AsdPublisher.name+AND+includedInDataCatalog.name%3A%22Data+Discovery+Engine%2C+NIAID+Systems+Biology%22&fields=sdPublisher,identifier&size=500\"\n",
    "r = requests.get(sysbioAPI)\n",
    "jr = json.loads(r.text)\n",
    "print(jr.keys())"
   ]
  },
  {
   "cell_type": "code",
   "execution_count": 24,
   "id": "e5537d30",
   "metadata": {},
   "outputs": [
    {
     "name": "stdout",
     "output_type": "stream",
     "text": [
      "                    _id   identifier sdPublisher.name\n",
      "0  dde_66c0ab81b12cff8c  PRJNA521559              SRA\n",
      "1  dde_046fd968814fd76f  PRJNA423123              SRA\n"
     ]
    }
   ],
   "source": [
    "results = pd.DataFrame(jr['hits'])\n",
    "results['sdPublisher.name'] = [str(x).replace(\"{'name': '\",\"\").replace(\"'}\",\"\") for x in results['sdPublisher']]\n",
    "clean_results = results.drop(['_ignored','_score','sdPublisher'],axis=1)\n",
    "print(clean_results.head(n=2))"
   ]
  },
  {
   "cell_type": "code",
   "execution_count": 28,
   "id": "c1dd6998",
   "metadata": {},
   "outputs": [
    {
     "name": "stdout",
     "output_type": "stream",
     "text": [
      "                                     sdPublisher.name  counts\n",
      "10                                            MassIVE     110\n",
      "2                                                 GEO      89\n",
      "17                                                SRA      63\n",
      "14                                               NCBI      26\n",
      "3                                            GEO/NCBI      10\n",
      "23  {'@type': 'Organization', 'name': 'CViSB Data ...       9\n",
      "18                                            Synapse       6\n",
      "5                                             GenBank       4\n",
      "15                                              PRIDE       3\n",
      "20  [{'@type': 'Organization', 'name': 'CViSB Data...       2\n",
      "1                                            Figshare       2\n",
      "0                               EMBL-EBI and Mendeley       2\n",
      "7                              MTB Network Portal/GEO       2\n",
      "25        {'@type': 'Organization', 'name': 'Figshare       2\n",
      "21  [{'@type': 'Organization', 'name': 'GenBank, {...       1\n",
      "24        {'@type': 'Organization', 'name': 'FigShare       1\n",
      "19  [{'@type': 'Organization', 'name': 'CViSB Data...       1\n",
      "22                                              dbGaP       1\n",
      "13                                             Mothur       1\n",
      "16                                           PlasmoDB       1\n",
      "12                             Metabolomics Workbench       1\n",
      "11                                       Metabolights       1\n",
      "9                       Macrophage Network Portal/GEO       1\n",
      "8                   MTB Network Portal/GEO (pprivate)       1\n",
      "6                                             ImmPort       1\n",
      "4                                              GISAID       1\n",
      "26          {'@type': 'Organization', 'name': 'GISAID       1\n"
     ]
    }
   ],
   "source": [
    "sdPubFreq = clean_results.groupby('sdPublisher.name').size().reset_index(name=\"counts\")\n",
    "sdPubFreq.sort_values(by=\"counts\",ascending=False,inplace=True)\n",
    "print(sdPubFreq)"
   ]
  },
  {
   "cell_type": "code",
   "execution_count": 31,
   "id": "c7efc6ed",
   "metadata": {},
   "outputs": [],
   "source": [
    "sdPubFreq.to_csv('sysbio_sdPublisher_frequency.tsv',sep='\\t',header=True)\n",
    "clean_results.to_csv('sysbio_sdPublisher_id.tsv',sep='\\t', header=True)"
   ]
  },
  {
   "cell_type": "code",
   "execution_count": 38,
   "id": "c45ae2d6",
   "metadata": {},
   "outputs": [
    {
     "name": "stdout",
     "output_type": "stream",
     "text": [
      "prjna521559\n",
      "214 6\n"
     ]
    }
   ],
   "source": [
    "identifierlist = [x.lower() for x in clean_results['identifier']]\n",
    "\n",
    "id2check = identifierlist[0]\n",
    "print(id2check)\n",
    "\n",
    "found = []\n",
    "not_found = []\n",
    "\n",
    "for eachid in identifierlist:\n",
    "    raw = requests.get(f\"https://api.data.niaid.nih.gov/v1/query?q={eachid}&fields=_id\")\n",
    "    temp = json.loads(raw.text)\n",
    "    try:\n",
    "        hitlist = temp['hits']\n",
    "        for eachhit in hitlist:\n",
    "            if eachhit['_id'] == eachid:\n",
    "                found.append(eachid)\n",
    "    except:\n",
    "        not_found.append(eachid)\n",
    "\n",
    "all_missing = list(set(not_found).union(set([x for x in identifierlist if x not in found])))\n",
    "\n",
    "print(len(found), len(not_found))"
   ]
  },
  {
   "cell_type": "code",
   "execution_count": 39,
   "id": "5f59c410",
   "metadata": {},
   "outputs": [
    {
     "name": "stdout",
     "output_type": "stream",
     "text": [
      "['prjna307992_michigan', 'msv000081916', 'msv000079164', 'msv000081047', 'prjna638887', 'prjeb23261', 'msv000081921', 'srp148607', 'prjna238042', 'srp157243', '10.7303/syn6115677', 'gse122960\\xa0', 'prjna422941', 'srp156489', 'dengue', 'msv000081920', 'jabetn00000000', 'cvisb-ebola-virus-seq', 'srp156948', 'msv000080896', 'msv000081845', 'srx2039176', 'prjna430883', 'prjna415307', 'msv000082344', 'prjna527265', 'sarscov2-virus-seq', 'msv000081918', 'msv000081894', '10.7303/syn6114189', 'growth & fitness data for prjna750080', 'gse104154\\xa0', '10.25739/40y5-ce29', 'cvisb_30788396', 'rtpcr-vhf', 'gse89931', '\\xa0prjna418452', 'prjeb24929', 'msv000081783', 'blood-chemistry-vhf', 'genbank_mf782679', 'msv000081889', 'msv000081892', 'msv000081930', 'phs002245.v1.p1', 'niaid natural history studies metadata', 'erp012810', 'msv000083221', 'gen bank cp022524', '10.7303/syn4935562', 'blood-counts-vhf', 'pxd026302', 'msv000080902', 'syn12179188', 'rapid-diagnostics-vhf', 'prjna384621', 'srp157856', 'genbank_mf782680', 'cvisb-systems-serology-32783920', '10.7303/syn4935580', 'pmid33186810', 'msv000081893', 'msv000081558', 'msv000083220', 'msv000082349', 'srp158923', 'mtbls517', 'prjna255984', 'vitals-vhf', 'prjna398796', 'cvisb_hla', 'rtpcr-32783920', 'msv000081844', 'prjna407467\\xa0', 'prjna307992_bcm', 'srx2039177', 'srp156493', 'msv000081915', 'msv000080027', 'prjna750080', 'prjna368739', 'gca_002239415.1, gca_002239425.1, gca_002239445.1, gca_002239465.1, gca_002239485.1, gca_002239505.1, gca_002239535.1, gca_002239545.1, gca_002239565.1', 'pxd007774', 'bcm_cdi_microbiomemodeling', 'gse71760, gse72365', 'prjna485124', 'msv000081784', 'cvisb-lassa-virus-seq', '10.7303/syn6115679', 'msv000081929', 'prjna483505', 'srp158412', 'msv000081919', 'msv000079327', 'msv000081847', 'srp158100', 'msv000081842', 'pr001166', 'msv000081570', 'msv000081917', 'dengue fever', 'msv000081928', 'msv000081044', 'cvisb-systems-serology', 'gse71759, gse72008', 'msv000082603', 'srp158017', 'bv-brc', 'prjna48333', 'prjna495614', 'msv000082347', 'qauy00000000, qbbz00000000, qbca00000000, qbcb00000000, qbcc00000000, qbcd00000000, qbce00000000, qbcf00000000.', 'https://doi.org/10.55876/gis8.240603xh', 'msv000080028', 'prjna383577', 'msv000081786', 'msv000081931', 'prjna174594', 'msv000083219', 'genome-wide crispr ko screens-2', 'prjna281060', 'srp156792', '4117ac39b1d21b56f5e6', 'genome-wide crispr ko screens-1', 'gse33267 ', 'prjna636211', 'prjna221789', 'sdy1015', 'msv000081843']\n"
     ]
    }
   ],
   "source": [
    "print(all_missing)"
   ]
  },
  {
   "cell_type": "markdown",
   "id": "84bb9aef",
   "metadata": {},
   "source": [
    "### Observations\n",
    "1. There are one-to-many mapping issues as 1 DDE entry may have multiple associated ids from other sources.\n",
    "  * Example: https://data.niaid.nih.gov/resources?id=dde_5a3ffacf5c48e713 maps to both:\n",
    "    * https://data.niaid.nih.gov/resources?id=gse72008 and\n",
    "    * https://data.niaid.nih.gov/resources?id=gse71759\n",
    "\n",
    "2. There are identifiers for records that simply have not been ingested into the system yet.\n",
    "  * Examples:\n",
    "    * https://data.niaid.nih.gov/resources?id=dde_f8b7126fb0a4d01d has id=msv000081916 which is a MassIVE id (in Staging, not in Production)\n",
    "    * https://data.niaid.nih.gov/resources?id=dde_897dc290b8b6574a has id=10.7303/syn6115677 which resolves to Synapse.org\n",
    "    * https://data.niaid.nih.gov/resources?id=dde_145239e4ad606459 has id=genbank_mf782680 which belongs to genbank\n",
    "    * id=qbca00000000 is an identifier from NCBI Nucleotide\n",
    "    * id=pxd007774 is a identifier that can resolve via identifiers.org to the PRoteomics IDEntifier (PRIDE) database\n",
    "\n",
    "3. Potential approaches for de-duplication:\n",
    "  * use sameAs to link the related records -- they will continue to exist separately, but will link to one another\n",
    "    * Pros:\n",
    "      * straightforward to do\n",
    "      * easy to implement, in spite of one-to-many mappings\n",
    "      * no issues with messy merging\n",
    "      * no issues with conflicting identifiers between repo and dde\n",
    "    * Cons:\n",
    "      * Duplicate records\n",
    "      * Source filter for NIAID SysBio in NDE won't show breakdown of where the records are additionally stored\n",
    "  * change the `_id` for the dde record so that the metadata can be merged with the appropriate record\n",
    "    * Pros:\n",
    "      * Single record with slightly more complete metadata (NIAID SysBio is a minimal schema, so improvement won't necessarily be drastic)\n",
    "      * Source filter for NIAID SysBio in NDE can show breakdown of where the records are additionally stored\n",
    "    * Cons:\n",
    "      * Issues with one-to-many mappings\n",
    "      * Issues with metadata merging/resolution (which source to prioritize? how to reduce duplication between sources?)\n",
    "      * Issues with conflicting identifiers between repo and dde\n"
   ]
  },
  {
   "cell_type": "code",
   "execution_count": null,
   "id": "0febce61",
   "metadata": {},
   "outputs": [],
   "source": []
  }
 ],
 "metadata": {
  "kernelspec": {
   "display_name": "Python 3 (ipykernel)",
   "language": "python",
   "name": "python3"
  },
  "language_info": {
   "codemirror_mode": {
    "name": "ipython",
    "version": 3
   },
   "file_extension": ".py",
   "mimetype": "text/x-python",
   "name": "python",
   "nbconvert_exporter": "python",
   "pygments_lexer": "ipython3",
   "version": "3.10.10"
  }
 },
 "nbformat": 4,
 "nbformat_minor": 5
}
