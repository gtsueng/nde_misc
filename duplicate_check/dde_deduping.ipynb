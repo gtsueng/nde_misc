{
 "cells": [
  {
   "cell_type": "markdown",
   "id": "22c13f2d",
   "metadata": {},
   "source": [
    "# Investigation duplication issues in DDE for De-duplication\n",
    "\n",
    "Many records submitted via various portals in the DDE have data submitted via some other repository, which means that there may be duplication between DDE and other repositories. This notebook is to get an idea of how much overlap there actually which will help us determine the best path forward\n",
    "\n"
   ]
  },
  {
   "cell_type": "code",
   "execution_count": 1,
   "id": "a0af869d",
   "metadata": {},
   "outputs": [],
   "source": [
    "import os\n",
    "import requests\n",
    "import json\n",
    "import pandas as pd"
   ]
  },
  {
   "cell_type": "code",
   "execution_count": 48,
   "id": "86beafed",
   "metadata": {},
   "outputs": [
    {
     "name": "stdout",
     "output_type": "stream",
     "text": [
      "C:\\Users\\gtsueng\\Anaconda3\\envs\\nde\\nde-metadata-corrections\\correction_lists\n"
     ]
    }
   ],
   "source": [
    "script_path = os.getcwd()\n",
    "result_path = os.path.join(script_path,'results')\n",
    "p1_path = os.path.abspath(os.path.join(script_path, os.pardir))\n",
    "parent_path = os.path.abspath(os.path.join(p1_path, os.pardir))\n",
    "correction_path = os.path.join(parent_path,'nde-metadata-corrections','correction_lists')\n",
    "print(correction_path)"
   ]
  },
  {
   "cell_type": "code",
   "execution_count": 6,
   "id": "b32d05ae",
   "metadata": {},
   "outputs": [
    {
     "name": "stdout",
     "output_type": "stream",
     "text": [
      "dict_keys(['took', 'total', 'max_score', 'hits'])\n"
     ]
    }
   ],
   "source": [
    "sysbioAPI= \"https://api-staging.data.niaid.nih.gov/v1/query?&q=_exists_%3AsourceOrganization.name+AND+includedInDataCatalog.name%3A%22Data+Discovery+Engine%22&fields=sourceOrganization,identifier&size=500\"\n",
    "r = requests.get(sysbioAPI)\n",
    "jr = json.loads(r.text)\n",
    "print(jr.keys())"
   ]
  },
  {
   "cell_type": "code",
   "execution_count": 17,
   "id": "e5537d30",
   "metadata": {},
   "outputs": [
    {
     "name": "stdout",
     "output_type": "stream",
     "text": [
      "                    _id   identifier sourceOrganization.name\n",
      "0  dde_026a2652e9c13d8f    GSE168215   NIAID Systems Biology\n",
      "1  dde_046fd968814fd76f  PRJNA423123   NIAID Systems Biology\n"
     ]
    }
   ],
   "source": [
    "results = pd.DataFrame(jr['hits'])\n",
    "results['sourceOrganization.name'] = [x[0]['name'] for x in results['sourceOrganization']]\n",
    "clean_results = results.drop(['_ignored','_score','sourceOrganization'],axis=1)\n",
    "print(clean_results.head(n=2))"
   ]
  },
  {
   "cell_type": "code",
   "execution_count": 19,
   "id": "c1dd6998",
   "metadata": {},
   "outputs": [
    {
     "name": "stdout",
     "output_type": "stream",
     "text": [
      "  sourceOrganization.name  counts\n",
      "1   NIAID Systems Biology     368\n",
      "0     NIAID CREID Network      12\n"
     ]
    }
   ],
   "source": [
    "sdPubFreq = clean_results.groupby('sourceOrganization.name').size().reset_index(name=\"counts\")\n",
    "sdPubFreq.sort_values(by=\"counts\",ascending=False,inplace=True)\n",
    "print(sdPubFreq)"
   ]
  },
  {
   "cell_type": "code",
   "execution_count": 20,
   "id": "c7efc6ed",
   "metadata": {},
   "outputs": [],
   "source": [
    "sdPubFreq.to_csv(os.path.join(result_path,'program_frequency.tsv'),sep='\\t',header=True)\n",
    "clean_results.to_csv(os.path.join(result_path,'program_id.tsv'),sep='\\t', header=True)"
   ]
  },
  {
   "cell_type": "code",
   "execution_count": 26,
   "id": "c45ae2d6",
   "metadata": {},
   "outputs": [
    {
     "name": "stdout",
     "output_type": "stream",
     "text": [
      "gse168215\n",
      "220 8\n"
     ]
    }
   ],
   "source": [
    "identifierlist = [x.lower() for x in clean_results['identifier']]\n",
    "\n",
    "id2check = identifierlist[0]\n",
    "print(id2check)\n",
    "\n",
    "found = []\n",
    "not_found = []\n",
    "\n",
    "for eachid in identifierlist:\n",
    "    raw = requests.get(f\"https://api.data.niaid.nih.gov/v1/query?q={eachid}&fields=_id\")\n",
    "    temp = json.loads(raw.text)\n",
    "    try:\n",
    "        hitlist = temp['hits']\n",
    "        for eachhit in hitlist:\n",
    "            if eachhit['_id'] == eachid:\n",
    "                found.append(eachhit['_id'])\n",
    "    except:\n",
    "        not_found.append(eachid)\n",
    "\n",
    "all_missing = list(set(not_found).union(set([x for x in identifierlist if x not in found])))\n",
    "\n",
    "print(len(found), len(not_found))"
   ]
  },
  {
   "cell_type": "code",
   "execution_count": 34,
   "id": "1803e459",
   "metadata": {},
   "outputs": [
    {
     "name": "stdout",
     "output_type": "stream",
     "text": [
      "      lower_id                                                url\n",
      "0    gse168215  https://data.niaid.nih.gov/resources?id=gse168215\n",
      "1  prjna423123  https://data.niaid.nih.gov/resources?id=prjna4...\n"
     ]
    }
   ],
   "source": [
    "found_records = pd.DataFrame(found)\n",
    "found_records.rename(columns={0:'lower_id'}, inplace=True)\n",
    "found_records['url'] = found_records.apply(lambda row: 'https://data.niaid.nih.gov/resources?id='+str(row['lower_id']), axis=1)\n",
    "print(found_records.head(n=2))"
   ]
  },
  {
   "cell_type": "code",
   "execution_count": 37,
   "id": "f33415e9",
   "metadata": {},
   "outputs": [
    {
     "name": "stdout",
     "output_type": "stream",
     "text": [
      "                    _id   identifier sourceOrganization.name     lower_id  \\\n",
      "0  dde_026a2652e9c13d8f    GSE168215   NIAID Systems Biology    gse168215   \n",
      "1  dde_046fd968814fd76f  PRJNA423123   NIAID Systems Biology  prjna423123   \n",
      "\n",
      "                                             dde_url  \n",
      "0  https://data.niaid.nih.gov/resources?id=dde_02...  \n",
      "1  https://data.niaid.nih.gov/resources?id=dde_04...  \n"
     ]
    }
   ],
   "source": [
    "clean_results['lower_id'] = [x.lower() for x in clean_results['identifier']]\n",
    "clean_results['dde_url'] = clean_results.apply(lambda row: 'https://data.niaid.nih.gov/resources?id='+str(row['_id']), axis=1)\n",
    "print(clean_results.head(n=2))"
   ]
  },
  {
   "cell_type": "code",
   "execution_count": 41,
   "id": "cfc723c5",
   "metadata": {},
   "outputs": [],
   "source": [
    "matched = clean_results.merge(found_records,on='lower_id',how='left').fillna('not found')\n"
   ]
  },
  {
   "cell_type": "code",
   "execution_count": 50,
   "id": "5f59c410",
   "metadata": {},
   "outputs": [],
   "source": [
    "clean_matches = matched.loc[matched['url']!='not found']\n",
    "clean_matches.to_csv(os.path.join(result_path,'dde_dups_found.tsv'),sep='\\t',header=True)\n",
    "id_url_1 = clean_matches[['_id','url']].copy()\n",
    "id_url_2 = clean_matches[['lower_id','dde_url']].copy()\n",
    "id_url_1.rename(columns={'url':'sameAs'},inplace=True)\n",
    "id_url_2.rename(columns={'lower_id':'_id','dde_url':'sameAs'}, inplace=True)\n",
    "ready_to_use = pd.concat((id_url_1,id_url_2),ignore_index=True)\n",
    "ready_to_use.to_csv(os.path.join(correction_path,'auto_dde_dedup_list.tsv'),sep='\\t',header=True)\n",
    "\n",
    "missing = matched.loc[matched['url']=='not found']\n",
    "missing.to_csv(os.path.join(result_path,'dde_not_found.tsv'),sep='\\t',header=True)"
   ]
  },
  {
   "cell_type": "markdown",
   "id": "84bb9aef",
   "metadata": {},
   "source": [
    "### Observations\n",
    "1. There are one-to-many mapping issues as 1 DDE entry may have multiple associated ids from other sources.\n",
    "  * Example: https://data.niaid.nih.gov/resources?id=dde_5a3ffacf5c48e713 maps to both:\n",
    "    * https://data.niaid.nih.gov/resources?id=gse72008 and\n",
    "    * https://data.niaid.nih.gov/resources?id=gse71759\n",
    "\n",
    "2. There are identifiers for records that simply have not been ingested into the system yet.\n",
    "  * Examples:\n",
    "    * https://data.niaid.nih.gov/resources?id=dde_f8b7126fb0a4d01d has id=msv000081916 which is a MassIVE id (in Staging, not in Production)\n",
    "    * https://data.niaid.nih.gov/resources?id=dde_897dc290b8b6574a has id=10.7303/syn6115677 which resolves to Synapse.org\n",
    "    * https://data.niaid.nih.gov/resources?id=dde_145239e4ad606459 has id=genbank_mf782680 which belongs to genbank\n",
    "    * id=qbca00000000 is an identifier from NCBI Nucleotide\n",
    "    * id=pxd007774 is a identifier that can resolve via identifiers.org to the PRoteomics IDEntifier (PRIDE) database\n",
    "\n",
    "3. Potential approaches for de-duplication:\n",
    "  * use sameAs to link the related records -- they will continue to exist separately, but will link to one another\n",
    "    * Pros:\n",
    "      * straightforward to do\n",
    "      * easy to implement, in spite of one-to-many mappings\n",
    "      * no issues with messy merging\n",
    "      * no issues with conflicting identifiers between repo and dde\n",
    "    * Cons:\n",
    "      * Duplicate records\n",
    "      * Source filter for NIAID SysBio in NDE won't show breakdown of where the records are additionally stored\n",
    "  * change the `_id` for the dde record so that the metadata can be merged with the appropriate record\n",
    "    * Pros:\n",
    "      * Single record with slightly more complete metadata (NIAID SysBio is a minimal schema, so improvement won't necessarily be drastic)\n",
    "      * Source filter for NIAID SysBio in NDE can show breakdown of where the records are additionally stored\n",
    "    * Cons:\n",
    "      * Issues with one-to-many mappings\n",
    "      * Issues with metadata merging/resolution (which source to prioritize? how to reduce duplication between sources?)\n",
    "      * Issues with conflicting identifiers between repo and dde\n"
   ]
  },
  {
   "cell_type": "code",
   "execution_count": null,
   "id": "0febce61",
   "metadata": {},
   "outputs": [],
   "source": []
  }
 ],
 "metadata": {
  "kernelspec": {
   "display_name": "Python 3 (ipykernel)",
   "language": "python",
   "name": "python3"
  },
  "language_info": {
   "codemirror_mode": {
    "name": "ipython",
    "version": 3
   },
   "file_extension": ".py",
   "mimetype": "text/x-python",
   "name": "python",
   "nbconvert_exporter": "python",
   "pygments_lexer": "ipython3",
   "version": "3.10.10"
  }
 },
 "nbformat": 4,
 "nbformat_minor": 5
}
