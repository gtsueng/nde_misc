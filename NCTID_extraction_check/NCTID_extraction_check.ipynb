{
 "cells": [
  {
   "cell_type": "markdown",
   "id": "8697acc3",
   "metadata": {},
   "source": [
    "## NCT ID extraction check\n",
    "\n",
    "This script checks the use of Regex to extract an NCT-ID\n",
    "\n",
    "The regex for extracting an NCT ID is: r\"NCT\\d\\d\\d\\d\\d\\d\\d\\d\""
   ]
  },
  {
   "cell_type": "code",
   "execution_count": 26,
   "id": "92a8308b",
   "metadata": {},
   "outputs": [],
   "source": [
    "import os\n",
    "import json\n",
    "import pandas as pd\n",
    "import requests\n",
    "import math"
   ]
  },
  {
   "cell_type": "code",
   "execution_count": 23,
   "id": "7558d053",
   "metadata": {},
   "outputs": [],
   "source": [
    "sources = [\"Harvard+Dataverse\",\"Qiita\",\"Mendeley\",\"Zenodo\",\"MassIVE\",\"Mendeley\"]\n",
    "#sources = [\"Harvard+Dataverse\",\"Qiita\",\"Mendeley\"]"
   ]
  },
  {
   "cell_type": "code",
   "execution_count": 29,
   "id": "e71af7af",
   "metadata": {},
   "outputs": [],
   "source": [
    "allresults = pd.DataFrame([\"_id\",\"name\",\"description\"])\n",
    "for eachsource in sources:\n",
    "    r = requests.get(f'https://api-staging.data.niaid.nih.gov/v1/query?=&q=*NCT* AND includedInDataCatalog.name:\"{eachsource}\"&fields=_id,name,description&fetch_all=true')\n",
    "    results = json.loads(r.text)\n",
    "    tmpdf = pd.DataFrame(results['hits'])\n",
    "    allresults = pd.concat((allresults,tmpdf),ignore_index=True)\n",
    "    if results['total']>=500:\n",
    "        i=0\n",
    "        maxscrolls = math.ceil(results['total']/500)\n",
    "        while i < maxscrolls:\n",
    "            try:\n",
    "                scroll_id = results['_scroll_id']\n",
    "                r2 = requests.get(f'https://api.data.niaid.nih.gov/v1/query?scroll_id={scroll_id}')\n",
    "                tmp = json.loads(r2.text)\n",
    "                tmpdf = pd.DataFrame(tmp['hits'])\n",
    "                allresults = pd.concat((allresults,tmpdf),ignore_index=True)\n",
    "                i=i+1\n",
    "            except:\n",
    "                break"
   ]
  },
  {
   "cell_type": "code",
   "execution_count": 32,
   "id": "d3ad8292",
   "metadata": {},
   "outputs": [],
   "source": [
    "testdf = allresults[['_id','name','description']].copy()\n",
    "testdf['text'] = testdf['name']+'\\n'+testdf['description']\n",
    "testdf['nctid'] = testdf['text'].str.extract(r'(NCT\\d\\d\\d\\d\\d\\d\\d\\d)')\n",
    "clean = testdf.loc[~testdf['nctid'].isna()]"
   ]
  },
  {
   "cell_type": "code",
   "execution_count": 34,
   "id": "5797a72a",
   "metadata": {},
   "outputs": [
    {
     "name": "stdout",
     "output_type": "stream",
     "text": [
      "                             _id  \\\n",
      "22  dataverse_10.7910_dvn_yl5usk   \n",
      "40  dataverse_10.7910_dvn_pvuytd   \n",
      "\n",
      "                                                 name  \\\n",
      "22  A Randomized, Placebo-Controlled Double-Blind ...   \n",
      "40  Supplemental materials for study NCT02612389: ...   \n",
      "\n",
      "                                          description  \\\n",
      "22  Supplemental files concerning NCT03255629 are ...   \n",
      "40  This shows the Survey Monkey form used to get ...   \n",
      "\n",
      "                                                 text        nctid  \n",
      "22  A Randomized, Placebo-Controlled Double-Blind ...  NCT03255629  \n",
      "40  Supplemental materials for study NCT02612389: ...  NCT02612389  \n"
     ]
    }
   ],
   "source": [
    "print(clean.head(n=2))\n",
    "recordlist = clean[['_id','nctid']]\n",
    "recordlist.to_csv(os.path.join('data','nctid_list.tsv'),sep='\\t',header=True)"
   ]
  },
  {
   "cell_type": "code",
   "execution_count": null,
   "id": "0cf1b7e6",
   "metadata": {},
   "outputs": [],
   "source": []
  }
 ],
 "metadata": {
  "kernelspec": {
   "display_name": "Python 3 (ipykernel)",
   "language": "python",
   "name": "python3"
  },
  "language_info": {
   "codemirror_mode": {
    "name": "ipython",
    "version": 3
   },
   "file_extension": ".py",
   "mimetype": "text/x-python",
   "name": "python",
   "nbconvert_exporter": "python",
   "pygments_lexer": "ipython3",
   "version": "3.10.10"
  }
 },
 "nbformat": 4,
 "nbformat_minor": 5
}
