{
 "cells": [
  {
   "cell_type": "markdown",
   "id": "8697acc3",
   "metadata": {},
   "source": [
    "## NCT ID extraction check\n",
    "\n",
    "This script checks the use of Regex to extract an NCT-ID\n",
    "\n",
    "The regex for extracting an NCT ID is: r\"NCT\\d\\d\\d\\d\\d\\d\\d\\d\""
   ]
  },
  {
   "cell_type": "code",
   "execution_count": 2,
   "id": "92a8308b",
   "metadata": {},
   "outputs": [],
   "source": [
    "import os\n",
    "import json\n",
    "import pandas as pd\n",
    "import requests\n",
    "import math\n",
    "import time"
   ]
  },
  {
   "cell_type": "code",
   "execution_count": null,
   "id": "7558d053",
   "metadata": {},
   "outputs": [],
   "source": [
    "sources = [\"Harvard+Dataverse\",\"Qiita\",\"Mendeley\",\"Zenodo\",\"MassIVE\",\"VEuPathDB\",\"ClinEpiDB\",\"NCBI+SRA\",\n",
    "           \"Omics+Discovery+Index+(OmicsDI)\",\"NCBI+GEO\",\"The+Database+of+Genotypes+and+Phenotypes\",\n",
    "           \"Human+Cell+Atlas\"]\n",
    "#sources = [\"Harvard+Dataverse\",\"Qiita\",\"Mendeley\"]\n",
    "#sources = [\"Zenodo\"]"
   ]
  },
  {
   "cell_type": "code",
   "execution_count": null,
   "id": "e71af7af",
   "metadata": {},
   "outputs": [],
   "source": [
    "allresults = pd.DataFrame([\"_id\",\"name\",\"description\"])\n",
    "for eachsource in sources:\n",
    "    r = requests.get(f'https://api-staging.data.niaid.nih.gov/v1/query?=&q=*NCT* AND includedInDataCatalog.name:\"{eachsource}\"&fields=_id,name,description&fetch_all=true')\n",
    "    results = json.loads(r.text)\n",
    "    tmpdf = pd.DataFrame(results['hits'])\n",
    "    allresults = pd.concat((allresults,tmpdf),ignore_index=True)\n",
    "    if results['total']>=500:\n",
    "        i=0\n",
    "        maxscrolls = math.ceil(results['total']/500)\n",
    "        scroll_id = results['_scroll_id']\n",
    "        while i < maxscrolls:\n",
    "            try:\n",
    "                r2 = requests.get(f'https://api-staging.data.niaid.nih.gov/v1/query?scroll_id={scroll_id}')\n",
    "                tmp = json.loads(r2.text)\n",
    "                scroll_id = tmp['_scroll_id']\n",
    "                tmpdf = pd.DataFrame(tmp['hits'])\n",
    "                allresults = pd.concat((allresults,tmpdf),ignore_index=True)\n",
    "                i=i+1\n",
    "            except:\n",
    "                break"
   ]
  },
  {
   "cell_type": "code",
   "execution_count": null,
   "id": "d3ad8292",
   "metadata": {},
   "outputs": [],
   "source": [
    "testdf = allresults[['_id','name','description']].copy()\n",
    "testdf['text'] = testdf['name']+'\\n'+testdf['description']\n",
    "testdf['nctid'] = testdf['text'].str.extract(r'(NCT\\d\\d\\d\\d\\d\\d\\d\\d)')\n",
    "clean = testdf.loc[~testdf['nctid'].isna()]"
   ]
  },
  {
   "cell_type": "code",
   "execution_count": null,
   "id": "5797a72a",
   "metadata": {},
   "outputs": [],
   "source": [
    "print(clean.head(n=2))\n",
    "recordlist = clean[['_id','nctid']]\n",
    "recordlist.to_csv(os.path.join('data','nctid_list.tsv'),sep='\\t',header=True)"
   ]
  },
  {
   "cell_type": "code",
   "execution_count": null,
   "id": "0cf1b7e6",
   "metadata": {},
   "outputs": [],
   "source": []
  },
  {
   "cell_type": "markdown",
   "id": "0c8c59a2",
   "metadata": {},
   "source": [
    "## Compare GPT Zenodo results with NCT extraction results"
   ]
  },
  {
   "cell_type": "code",
   "execution_count": 20,
   "id": "2432ce54",
   "metadata": {
    "scrolled": true
   },
   "outputs": [
    {
     "name": "stdout",
     "output_type": "stream",
     "text": [
      "               id\n",
      "0  zenodo_3686539\n",
      "1  zenodo_1138009\n",
      "155719\n"
     ]
    }
   ],
   "source": [
    "clinical_ids = pd.read_csv(os.path.join('data','zenodo_clinical_preds_ids.csv'))\n",
    "print(clinical_ids.head(n=2))\n",
    "print(len(clinical_ids))"
   ]
  },
  {
   "cell_type": "code",
   "execution_count": 21,
   "id": "7c5be528",
   "metadata": {},
   "outputs": [
    {
     "name": "stdout",
     "output_type": "stream",
     "text": [
      "              id                                               name  \\\n",
      "0  zenodo_573982                     California Synthetic Ecosystem   \n",
      "1  zenodo_902790  Supplementary material 1 from: Schmidt BC (201...   \n",
      "\n",
      "                                         description  medical_relevance_score  \\\n",
      "0  California synthetic population dataset consis...                 0.486943   \n",
      "1  Table S1. Specimen data for mtDNA barcode vouc...                 0.006291   \n",
      "\n",
      "   non_medical_score  \n",
      "0           0.513057  \n",
      "1           0.993708  \n",
      "425094\n"
     ]
    }
   ],
   "source": [
    "gpt_data = pd.read_csv(os.path.join('data','zenodo_biobert_outputs.csv'))\n",
    "print(gpt_data.head(n=2))\n",
    "print(len(gpt_data))"
   ]
  },
  {
   "cell_type": "code",
   "execution_count": 22,
   "id": "dc666057",
   "metadata": {},
   "outputs": [
    {
     "name": "stdout",
     "output_type": "stream",
     "text": [
      "581\n",
      "Not clinical present\n",
      "['zenodo_56248', 'zenodo_4560431', 'zenodo_5035745', 'zenodo_5784074', 'zenodo_5796053', 'zenodo_4980488', 'zenodo_5012813', 'zenodo_4088859', 'zenodo_5012782', 'zenodo_4956158', 'zenodo_4961743', 'zenodo_5002582', 'zenodo_5024104', 'zenodo_4947709', 'zenodo_6370554', 'zenodo_5009776', 'zenodo_5025284', 'zenodo_4404285', 'zenodo_5259372', 'zenodo_4934655']\n"
     ]
    }
   ],
   "source": [
    "medically_relevant = gpt_data.loc[gpt_data['medical_relevance_score']>0.9957]\n",
    "print(len(medically_relevant))\n",
    "med_ids = medically_relevant['id'].unique().tolist()\n",
    "\n",
    "not_clinical = ['zenodo_3686539','zenodo_1138009','zenodo_1153738','zenodo_3578408','zenodo_3383144',\n",
    "                'zenodo_1137168','zenodo_45128','zenodo_495244','zenodo_60899','zenodo_50007',\n",
    "                'zenodo_159222','zenodo_159986','zenodo_55054','zenodo_3866488','zenodo_4560431']\n",
    "clinical = ['zenodo_161544','zenodo_3441790','zenodo_56248','zenodo_5035745']\n",
    "for each_id in not_clinical:\n",
    "    if each_id in med_ids:\n",
    "        print(\"Not clinical present\")\n",
    "\n",
    "\n",
    "print(med_ids[0:20])"
   ]
  },
  {
   "cell_type": "code",
   "execution_count": null,
   "id": "513de9b5",
   "metadata": {},
   "outputs": [],
   "source": [
    "search_results = pd.read_csv(os.path.join('data','nde-results-clinical.csv'),usecols=['_id', 'name','description'])\n",
    "print(search_results.head(n=2))"
   ]
  },
  {
   "cell_type": "markdown",
   "id": "2ba5b947",
   "metadata": {},
   "source": [
    "Non-bert classification approach:\n",
    "The above results indicate that once again, GPT fails when the name/description is too short. Additionally, the clinical vs non-clinical classification results are very poor in general. Even at a threshold of 0.999, the results were just records with the shortest name+description\n",
    "\n",
    "We can achieve a more relevant result than GPT by simply searching for 'clinical' in the NDE portal and filtering for Zenodo results. At least those results generally appear to be more relevant.\n",
    "\n",
    "bert-based classification approach:\n",
    "The results appear to be much better than the non-bert based approach. At a threshold of 0.9957, the known non-clinical datasets are filtered out.\n",
    "\n",
    "It would be interesting to see how the bert-based classification approach compares with search results for terms such as:\n",
    "* \"randomized controlled trial\"\n",
    "* \"randomized trial\"\n",
    "* \"retrospective cohort\"\n",
    "* \"prospective cohort\"\n",
    "* \"interventional trial\"\n",
    "* \"double blind study\"\n",
    "* \"observational study\"\n",
    "* \"cross-sectional study\"\n",
    "* \"case-controlled study\"\n",
    "\n",
    "Filter out terms like \"review\" and save \"species\" to further filter out records with non-human species"
   ]
  },
  {
   "cell_type": "code",
   "execution_count": 6,
   "id": "16c6a1fc",
   "metadata": {},
   "outputs": [],
   "source": [
    "#test = allresults[['_id','includedInDataCatalog','species']].head(n=5).copy()\n",
    "def get_nested_name(row):\n",
    "    if isinstance(row,str):\n",
    "        chunks = row.split(',')\n",
    "        nname = []\n",
    "        for eachchunk in chunks:\n",
    "            if 'name' in eachchunk:\n",
    "                kv = eachchunk.split(':')\n",
    "                nname.append(kv[1].strip().strip(\"'\"))\n",
    "    else:\n",
    "        nname = -1\n",
    "    return nname\n",
    "\n",
    "    \n",
    "#test['sources'] = test.apply(lambda row: get_nested_name(row['includedInDataCatalog']),axis=1)\n",
    "#test['speciesname'] = test.apply(lambda row: get_nested_name(row['species']),axis=1)\n",
    "#print(test)"
   ]
  },
  {
   "cell_type": "code",
   "execution_count": null,
   "id": "d9bcecb8",
   "metadata": {},
   "outputs": [],
   "source": [
    "clin_terms = [\"randomized controlled trial\",\"randomized trial\",\"interventional trial\",\n",
    "              \"prospective cohort\",\"double blind study\", \"observational study\", \n",
    "              \"clinical study\",\"cross-sectional study\",\"retrospective cohort\",\"case-control study\"]\n",
    "#clin_terms = [\"randomized+controlled+trial\"]\n"
   ]
  },
  {
   "cell_type": "code",
   "execution_count": null,
   "id": "42d4ff69",
   "metadata": {},
   "outputs": [],
   "source": [
    "allresults = pd.DataFrame(columns = [\"_id\",\"name\",\"description\",\"includedInDataCatalog\",\"species\",\"_score\",\"_ignored\",\"searchphrase\"])\n",
    "\n",
    "for eachterm in clin_terms:\n",
    "    r = requests.get(f'https://api.data.niaid.nih.gov/v1/query?=&q=\"{eachterm}\"&fields=_id,name,description,includedInDataCatalog,species&fetch_all=true')\n",
    "    results = json.loads(r.text)\n",
    "    tmpdf = pd.DataFrame(results['hits'])\n",
    "    print(eachterm, results['total'])\n",
    "    tmpdf['searchphrase'] = eachterm\n",
    "    allresults = pd.concat((allresults,tmpdf),ignore_index=True)\n",
    "    if results['total']>=500:\n",
    "        i=0\n",
    "        scroll_id = results['_scroll_id']\n",
    "        maxscrolls = math.ceil(results['total']/500)\n",
    "        while i < maxscrolls:\n",
    "            try:\n",
    "                r2 = requests.get(f'https://api.data.niaid.nih.gov/v1/query?scroll_id={scroll_id}')\n",
    "                tmp = json.loads(r2.text)\n",
    "                scroll_id = tmp['_scroll_id']\n",
    "                tmpdf = pd.DataFrame(tmp['hits'])\n",
    "                tmpdf['searchphrase'] = eachterm\n",
    "                allresults = pd.concat((allresults,tmpdf),ignore_index=True)\n",
    "                i=i+1\n",
    "            except:\n",
    "                break\n",
    "\n",
    "allresults.sort_values(by='_score', ascending=False, inplace=True)\n",
    "allresults.drop_duplicates(subset='_id',keep='first',inplace=True)\n",
    "clean_results = allresults[['_id','name',\"description\",\"includedInDataCatalog\",\"_score\",\"species\",\"searchphrase\"]].copy()\n",
    "clean_results.to_csv(os.path.join('data','unfiltered_raw_search_results.tsv'),sep='\\t',header=True)"
   ]
  },
  {
   "cell_type": "code",
   "execution_count": 2,
   "id": "1092f4d0",
   "metadata": {},
   "outputs": [
    {
     "name": "stdout",
     "output_type": "stream",
     "text": [
      "100039\n",
      "                    _id                                               name  \\\n",
      "91693         phs000185                  Genetic Studies in the Hutterites   \n",
      "27278  phs000209.v10.p2  Multi-Ethnic Study of Atherosclerosis (MESA) C...   \n",
      "\n",
      "                                             description  \\\n",
      "91693  We conducted genetic studies of disease-associ...   \n",
      "27278  MESA The Multi-Ethnic Study of Atherosclerosis...   \n",
      "\n",
      "                                   includedInDataCatalog    _score  \\\n",
      "91693  {'@type': 'DataCatalog', 'archivedAt': 'https:...  2.021154   \n",
      "27278  {'@type': 'DataCatalog', 'archivedAt': 'https:...  1.985125   \n",
      "\n",
      "                                                 species  \\\n",
      "91693  [{'alternateName': ['Human', 'Homo sapiens Lin...   \n",
      "27278  [{'alternateName': ['Human', 'Homo sapian', 'H...   \n",
      "\n",
      "                searchphrase  \n",
      "91693  cross-sectional study  \n",
      "27278     prospective cohort  \n"
     ]
    }
   ],
   "source": [
    "allrawresults = pd.read_csv(os.path.join('data','unfiltered_raw_search_results.tsv'),delimiter='\\t',header=0,index_col=0)\n",
    "print(len(allrawresults))\n",
    "print(allrawresults.tail(n=2))"
   ]
  },
  {
   "cell_type": "code",
   "execution_count": 3,
   "id": "988ecb22",
   "metadata": {},
   "outputs": [],
   "source": [
    "exempt_terms = [\"review\",\"literature\",\"ecology\",\"soil\",\"biodiversity\",\"forest\",\"taxonomy\",\n",
    "                \"ocean\", \"ice shelf\", \"space\", \"glacier\", \"marine\", \"conservation\", \"predation\"]"
   ]
  },
  {
   "cell_type": "code",
   "execution_count": 13,
   "id": "48289ead",
   "metadata": {},
   "outputs": [
    {
     "name": "stdout",
     "output_type": "stream",
     "text": [
      "review 12032\n",
      "literature 14099\n",
      "ecology 14291\n",
      "soil 14430\n",
      "biodiversity 14469\n",
      "forest 14864\n",
      "taxonomy 14917\n",
      "ocean 14957\n",
      "ice shelf 14957\n",
      "space 15549\n",
      "glacier 15552\n",
      "marine 15594\n",
      "conservation 15687\n",
      "predation 15695\n",
      "84344\n"
     ]
    }
   ],
   "source": [
    "reject_ids = set()\n",
    "allrawresults['lowername'] = allrawresults['name'].astype(str).str.lower()\n",
    "allrawresults['lowerdesc'] = allrawresults['description'].astype(str).str.lower()\n",
    "\n",
    "for eachterm in exempt_terms:\n",
    "    tmp_reject = allrawresults['_id'].loc[allrawresults['lowername'].astype(str).str.contains(eachterm)].unique().tolist()\n",
    "    reject_ids = reject_ids.union(set(tmp_reject))\n",
    "    tmp2_reject = allrawresults['_id'].loc[allrawresults['lowerdesc'].astype(str).str.contains(eachterm)].unique().tolist()\n",
    "    reject_ids = reject_ids.union(set(tmp2_reject))\n",
    "    print(eachterm, len(reject_ids))\n",
    "reject_list = list(reject_ids)\n",
    "\n",
    "filtered_results = allrawresults.loc[~allrawresults['_id'].isin(reject_list)]\n",
    "print(len(filtered_results))"
   ]
  },
  {
   "cell_type": "code",
   "execution_count": 14,
   "id": "70c2eb1c",
   "metadata": {},
   "outputs": [
    {
     "name": "stderr",
     "output_type": "stream",
     "text": [
      "C:\\Users\\gtsueng\\AppData\\Local\\Temp\\ipykernel_5848\\3619841576.py:1: SettingWithCopyWarning: \n",
      "A value is trying to be set on a copy of a slice from a DataFrame.\n",
      "Try using .loc[row_indexer,col_indexer] = value instead\n",
      "\n",
      "See the caveats in the documentation: https://pandas.pydata.org/pandas-docs/stable/user_guide/indexing.html#returning-a-view-versus-a-copy\n",
      "  filtered_results['source'] = filtered_results.apply(lambda row: get_nested_name(row['includedInDataCatalog']),axis=1)\n",
      "C:\\Users\\gtsueng\\AppData\\Local\\Temp\\ipykernel_5848\\3619841576.py:2: SettingWithCopyWarning: \n",
      "A value is trying to be set on a copy of a slice from a DataFrame.\n",
      "Try using .loc[row_indexer,col_indexer] = value instead\n",
      "\n",
      "See the caveats in the documentation: https://pandas.pydata.org/pandas-docs/stable/user_guide/indexing.html#returning-a-view-versus-a-copy\n",
      "  filtered_results['speciesname'] = filtered_results.apply(lambda row: get_nested_name(row['species']),axis=1)\n"
     ]
    },
    {
     "name": "stdout",
     "output_type": "stream",
     "text": [
      "                        _id  \\\n",
      "41375  dde_39de363a93dfc491   \n",
      "41376  dde_94c560d2fe14b1b1   \n",
      "\n",
      "                                                    name  \\\n",
      "41375  Immune Tolerance Network TrialShare Clinical T...   \n",
      "41376                         AIDS Clinical Trials Group   \n",
      "\n",
      "                                             description  \\\n",
      "41375  ITN TrialShare shares information about ITN's ...   \n",
      "41376  ACTG is a global clinical trials network that ...   \n",
      "\n",
      "                        source     _score  \\\n",
      "41375  [Data Discovery Engine]  996.93054   \n",
      "41376  [Data Discovery Engine]  994.64970   \n",
      "\n",
      "                                 speciesname    searchphrase  \n",
      "41375  [Data Discovery Engine, Homo sapiens]  clinical study  \n",
      "41376  [Data Discovery Engine, Homo sapiens]  clinical study  \n"
     ]
    }
   ],
   "source": [
    "filtered_results['source'] = filtered_results.apply(lambda row: get_nested_name(row['includedInDataCatalog']),axis=1)\n",
    "filtered_results['speciesname'] = filtered_results.apply(lambda row: get_nested_name(row['species']),axis=1)\n",
    "cleanresults = filtered_results[['_id','name',\"description\",\"source\",\"_score\",\"speciesname\",\"searchphrase\"]].copy()\n",
    "cleanresults.to_csv(os.path.join('data','filtered_search_results.tsv'),sep='\\t',header=True)\n",
    "print(cleanresults.head(n=2))"
   ]
  },
  {
   "cell_type": "code",
   "execution_count": 15,
   "id": "a4a1f9f3",
   "metadata": {},
   "outputs": [
    {
     "name": "stdout",
     "output_type": "stream",
     "text": [
      "84344\n",
      "             _id                                            name  \\\n",
      "76983  phs003210  The Nephrotic Syndrome Study Network (NEPTUNE)   \n",
      "91693  phs000185               Genetic Studies in the Hutterites   \n",
      "\n",
      "                                             description  \\\n",
      "76983  The Nephrotic Syndrome Study Network (NEPTUNE)...   \n",
      "91693  We conducted genetic studies of disease-associ...   \n",
      "\n",
      "                                             source    _score  \\\n",
      "76983  ['The Database of Genotypes and Phenotypes']  2.048550   \n",
      "91693  ['The Database of Genotypes and Phenotypes']  2.021154   \n",
      "\n",
      "                                             speciesname  \\\n",
      "76983  ['Homo sapiens', 'Rattus norvegicus', 'Molva m...   \n",
      "91693              ['Homo sapiens', 'Rattus norvegicus']   \n",
      "\n",
      "                searchphrase  \n",
      "76983         clinical study  \n",
      "91693  cross-sectional study  \n"
     ]
    }
   ],
   "source": [
    "filteredresults = pd.read_csv(os.path.join('data','filtered_search_results.tsv'),delimiter='\\t',header=0,index_col=0)\n",
    "print(len(filteredresults))\n",
    "print(filteredresults.tail(n=2))"
   ]
  },
  {
   "cell_type": "code",
   "execution_count": 16,
   "id": "096085ce",
   "metadata": {},
   "outputs": [
    {
     "name": "stdout",
     "output_type": "stream",
     "text": [
      "72570\n",
      "                    _id                                               name  \\\n",
      "106630        mtbls9087  Gut microbiota-derived butyric acid protected ...   \n",
      "27267   model2307180001  Zerrouk2023 - Large scale computational modeli...   \n",
      "\n",
      "                                              description  \\\n",
      "106630  BACKGROUND: Subarachnoid hemorrhage (SAH) is a...   \n",
      "27267                                      No description   \n",
      "\n",
      "                                     source    _score  \\\n",
      "106630  ['Omics Discovery Index (OmicsDI)']  2.496785   \n",
      "27267   ['Omics Discovery Index (OmicsDI)']  2.217721   \n",
      "\n",
      "                         speciesname        searchphrase  \n",
      "106630  ['PubTator', 'Homo sapiens']  case-control study  \n",
      "27267                             -1  prospective cohort  \n"
     ]
    }
   ],
   "source": [
    "nonclinrepos = filteredresults.loc[~((filteredresults['_id'].astype(str).str.contains('phs'))|\n",
    "                                (filteredresults['_id'].astype(str).str.contains('vivli'))|\n",
    "                                (filteredresults['_id'].astype(str).str.contains('clinepidb'))|\n",
    "                                (filteredresults['_id'].astype(str).str.contains('dde'))|\n",
    "                                (filteredresults['_id'].astype(str).str.contains('nichd'))|\n",
    "                                (filteredresults['_id'].astype(str).str.contains('biotools'))|\n",
    "                                (filteredresults['_id'].astype(str).str.contains('radx')))]\n",
    "print(len(nonclinrepos))\n",
    "print(nonclinrepos.tail(n=2))\n",
    "\n",
    "nonclinrepos.to_csv(os.path.join('data','clin_in_nonclin_repos.tsv'),sep='\\t',header=True)"
   ]
  },
  {
   "cell_type": "code",
   "execution_count": 17,
   "id": "1cc82c9b",
   "metadata": {},
   "outputs": [
    {
     "name": "stdout",
     "output_type": "stream",
     "text": [
      "11774\n",
      "             _id                                            name  \\\n",
      "76983  phs003210  The Nephrotic Syndrome Study Network (NEPTUNE)   \n",
      "91693  phs000185               Genetic Studies in the Hutterites   \n",
      "\n",
      "                                             description  \\\n",
      "76983  The Nephrotic Syndrome Study Network (NEPTUNE)...   \n",
      "91693  We conducted genetic studies of disease-associ...   \n",
      "\n",
      "                                             source    _score  \\\n",
      "76983  ['The Database of Genotypes and Phenotypes']  2.048550   \n",
      "91693  ['The Database of Genotypes and Phenotypes']  2.021154   \n",
      "\n",
      "                                             speciesname  \\\n",
      "76983  ['Homo sapiens', 'Rattus norvegicus', 'Molva m...   \n",
      "91693              ['Homo sapiens', 'Rattus norvegicus']   \n",
      "\n",
      "                searchphrase  \n",
      "76983         clinical study  \n",
      "91693  cross-sectional study  \n"
     ]
    }
   ],
   "source": [
    "clinrepos = filteredresults.loc[((filteredresults['_id'].astype(str).str.contains('phs'))|\n",
    "                                (filteredresults['_id'].astype(str).str.contains('vivli'))|\n",
    "                                (filteredresults['_id'].astype(str).str.contains('clinepidb'))|\n",
    "                                (filteredresults['_id'].astype(str).str.contains('dde'))|\n",
    "                                (filteredresults['_id'].astype(str).str.contains('nichd'))|\n",
    "                                (filteredresults['_id'].astype(str).str.contains('biotools'))|\n",
    "                                (filteredresults['_id'].astype(str).str.contains('radx')))]\n",
    "print(len(clinrepos))\n",
    "print(clinrepos.tail(n=2))\n",
    "\n",
    "clinrepos.to_csv(os.path.join('data','clin_in_clin_repos.tsv'),sep='\\t',header=True)"
   ]
  },
  {
   "cell_type": "code",
   "execution_count": 3,
   "id": "143ed54c",
   "metadata": {},
   "outputs": [],
   "source": [
    "nonclinrepos = pd.read_csv(os.path.join('data','clin_in_nonclin_repos.tsv'),delimiter='\\t',header=0,index_col=0)\n",
    "clinrepos = pd.read_csv(os.path.join('data','clin_in_clin_repos.tsv'),delimiter='\\t',header=0,index_col=0)\n",
    "nonclinrepoids = nonclinrepos['_id'].unique()\n",
    "with open(os.path.join('data','clin_ids_in_nonclin_repos.txt'),'w') as outwrite:\n",
    "    for eachid in nonclinrepoids:\n",
    "        outwrite.write(str(eachid)+\"\\n\")\n",
    "clinrepoids = clinrepos['_id'].unique()\n",
    "with open(os.path.join('data','clin_ids_in_clin_repos.txt'),'w') as outwrite:\n",
    "    for eachid in clinrepoids:\n",
    "        outwrite.write(str(eachid)+\"\\n\")"
   ]
  },
  {
   "cell_type": "code",
   "execution_count": 19,
   "id": "4720f657",
   "metadata": {},
   "outputs": [
    {
     "name": "stdout",
     "output_type": "stream",
     "text": [
      "                   _id                                               name  \\\n",
      "39468   zenodo_3712941  Dataset related to article \"Oocyte Cryopreserv...   \n",
      "39919  zenodo_13284412  CLINICAL PROFILE OF PATIENTS WITH HEMOPTYSIS A...   \n",
      "40208   zenodo_3860012  Effectiveness of prone positioning in non-intu...   \n",
      "40209   zenodo_3799739  Epidemiology, risk factors and clinical course...   \n",
      "40214   zenodo_6198802  Multi-center observational study on occurrence...   \n",
      "40443   zenodo_7778290  CONCEPT-DIABETES DATA MODEL TO ANALYSE HEALTHC...   \n",
      "40451   zenodo_5140893  Chest x-ray in the COVID-19 pandemic: Radiolog...   \n",
      "40454  zenodo_13352917  EXPLORING THE INFLUENCE OF ECO-FRIENDLY INITIA...   \n",
      "40552  zenodo_14801683  Morbidity and mortality in adults with a Fonta...   \n",
      "40642   zenodo_4524729  Data set from Moons P, Apers S, Kovacs AH, Tho...   \n",
      "\n",
      "                                             description      source  \\\n",
      "39468  Objective: The aim of the present study is to ...  ['Zenodo']   \n",
      "39919  Background: Hemoptysis, the expectoration of b...  ['Zenodo']   \n",
      "40208  Data and R code from the paper\\n\\n\\nEffectiven...  ['Zenodo']   \n",
      "40209  This is the dataset of the study called \"Epide...  ['Zenodo']   \n",
      "40214  Aims: to assess occurrence and clinical correl...  ['Zenodo']   \n",
      "40443  Technical notes and documentation on the commo...  ['Zenodo']   \n",
      "40451  Dataset from the article Cozzi A, Schiaffino S...  ['Zenodo']   \n",
      "40454  Background: This study delves into the influen...  ['Zenodo']   \n",
      "40552  Abstract\\n\\n\\n\\nAims: To evaluate the late out...  ['Zenodo']   \n",
      "40642  Data set from the article Moons P, Apers S, Ko...  ['Zenodo']   \n",
      "\n",
      "         _score speciesname         searchphrase  \n",
      "39468  4.987197          -1  observational study  \n",
      "39919  4.862721          -1  observational study  \n",
      "40208  4.762608          -1  observational study  \n",
      "40209  4.762608          -1  observational study  \n",
      "40214  4.759522          -1  observational study  \n",
      "40443  4.567303          -1  observational study  \n",
      "40451  4.565303          -1  observational study  \n",
      "40454  4.561592          -1  observational study  \n",
      "40552  4.397222          -1  observational study  \n",
      "40642  3.995388          -1  observational study  \n"
     ]
    }
   ],
   "source": [
    "zenodo_subset = filteredresults.loc[filteredresults['_id'].astype(str).str.contains('zenodo')]\n",
    "#print(zenodo_subset.tail(n=5))\n",
    "print(zenodo_subset.loc[zenodo_subset['searchphrase']=='observational study'].tail(n=10))"
   ]
  },
  {
   "cell_type": "code",
   "execution_count": 23,
   "id": "ff92fe61",
   "metadata": {},
   "outputs": [
    {
     "name": "stdout",
     "output_type": "stream",
     "text": [
      "78\n"
     ]
    }
   ],
   "source": [
    "zenodo_overlap = zenodo_subset.loc[zenodo_subset['_id'].isin(med_ids)]\n",
    "print(len(zenodo_overlap))"
   ]
  },
  {
   "cell_type": "code",
   "execution_count": 24,
   "id": "6c8d3f1b",
   "metadata": {},
   "outputs": [
    {
     "name": "stdout",
     "output_type": "stream",
     "text": [
      "                        _id  \\\n",
      "1445    mendeley_dm2y8ztgvm   \n",
      "91813   mendeley_wzcsrcvswz   \n",
      "2826    mendeley_hnx44vxv5k   \n",
      "92102   mendeley_7yy955mh7r   \n",
      "3282    mendeley_srfrr9vf8f   \n",
      "...                     ...   \n",
      "40722       dryad_f4qrfj6zd   \n",
      "40726             gse171645   \n",
      "75573              gse30552   \n",
      "75576             gse185748   \n",
      "106605            mtbls9100   \n",
      "\n",
      "                                                     name  \\\n",
      "1445    Supplemental Material - A Randomized Controlle...   \n",
      "91813   Data for: Configuration of short- and long-thr...   \n",
      "2826    Distribution of vaginal sensors per cows per w...   \n",
      "92102   Supplemental Material - Treatment of pityriasi...   \n",
      "3282    Effects of manual perineal protection and push...   \n",
      "...                                                   ...   \n",
      "40722   Subtyping of common complex diseases and disor...   \n",
      "40726   Integrated molecular landscape perturbations u...   \n",
      "75573   Expression data from mice lacking SIRT3 under ...   \n",
      "75576   Combinatorial Gli activity directs immune infi...   \n",
      "106605  Gut microbiota-derived butyric acid protected ...   \n",
      "\n",
      "                                              description  \\\n",
      "1445    Supplemental manuscript materials for JAAD man...   \n",
      "91813   Original data for the study entitled \"Configur...   \n",
      "2826    Supplemental Table ST1. Distribution of vagina...   \n",
      "92102   The set of supplemental materials support the ...   \n",
      "3282    Objective: To evaluate the combined impact of ...   \n",
      "...                                                   ...   \n",
      "40722   We present a methodology for subtyping of pers...   \n",
      "40726   This SuperSeries is composed of the SubSeries ...   \n",
      "75573   SIRT3 is a mitochondrial NAD(+)-dependent prot...   \n",
      "75576   Proper Hedgehog (HH) signaling is essential fo...   \n",
      "106605  BACKGROUND: Subarachnoid hemorrhage (SAH) is a...   \n",
      "\n",
      "                                        source     _score  \\\n",
      "1445                              ['Mendeley']  18.467674   \n",
      "91813                             ['Mendeley']  17.824877   \n",
      "2826                              ['Mendeley']  16.850775   \n",
      "92102                             ['Mendeley']  16.535864   \n",
      "3282                              ['Mendeley']  16.223100   \n",
      "...                                        ...        ...   \n",
      "40722   ['Dryad Digital Repository', 'Zenodo']   3.575036   \n",
      "40726                             ['NCBI GEO']   3.564995   \n",
      "75573                             ['NCBI GEO']   3.468761   \n",
      "75576                             ['NCBI GEO']   3.467404   \n",
      "106605     ['Omics Discovery Index (OmicsDI)']   2.836654   \n",
      "\n",
      "                                              speciesname  \\\n",
      "1445                                          ['Verruca']   \n",
      "91813                                           ['Varus']   \n",
      "2826                                           ['Corvus']   \n",
      "92102                                      ['Pityriasis']   \n",
      "3282                                         ['Perineus']   \n",
      "...                                                   ...   \n",
      "40722                                          ['Trivia']   \n",
      "40726                               ['Rattus norvegicus']   \n",
      "75573                        ['PubTator', 'Mus musculus']   \n",
      "75576   ['PubTator', 'Mus musculus', 'Rattus norvegicus']   \n",
      "106605                       ['PubTator', 'Mus musculus']   \n",
      "\n",
      "                       searchphrase  \n",
      "1445    randomized controlled trial  \n",
      "91813          retrospective cohort  \n",
      "2826    randomized controlled trial  \n",
      "92102          retrospective cohort  \n",
      "3282    randomized controlled trial  \n",
      "...                             ...  \n",
      "40722           observational study  \n",
      "40726           observational study  \n",
      "75573                clinical study  \n",
      "75576                clinical study  \n",
      "106605           case-control study  \n",
      "\n",
      "[499 rows x 7 columns]\n"
     ]
    }
   ],
   "source": [
    "species_results = nonclinrepos.loc[~nonclinrepos['speciesname'].astype(str).str.contains('-1')]\n",
    "nonhuman_results = species_results.loc[~species_results['speciesname'].astype(str).str.contains('Homo')]\n",
    "print(nonhuman_results)"
   ]
  },
  {
   "cell_type": "markdown",
   "id": "b2cb7d10",
   "metadata": {},
   "source": [
    "### Further filter down the clinical subsets by removing ones that have non-human species annotations\n",
    "\n",
    "This strategy will not work well due as a percentage of records have non-human species annotations due to false positives from the EXTRACT pipeline. None-the-less, it would be good to get some stats.\n",
    "\n",
    "To do:\n",
    "- get counts of records with no species info and subset by source"
   ]
  },
  {
   "cell_type": "code",
   "execution_count": null,
   "id": "f1bfd431",
   "metadata": {},
   "outputs": [],
   "source": [
    "counts = allresults.groupby(['source','speciesname']).size().reset_index(name=\"counts\")\n",
    "counts.sort_values(by=['source','counts'], ascending=[True,False], inplace=True)\n",
    "print(counts.head(n=2))\n",
    "counts.to_csv(os.path.join('data','source_species_frequency.tsv'),sep='\\t',header=True)"
   ]
  },
  {
   "cell_type": "code",
   "execution_count": null,
   "id": "fbb4c967",
   "metadata": {},
   "outputs": [],
   "source": []
  },
  {
   "cell_type": "markdown",
   "id": "909b92cb",
   "metadata": {},
   "source": [
    "### Check for ecology, environmental studies for exclusion"
   ]
  },
  {
   "cell_type": "code",
   "execution_count": null,
   "id": "2b1f8d93",
   "metadata": {},
   "outputs": [],
   "source": [
    "nonclinrepos = pd.read_csv(os.path.join('data','clin_in_nonclin_repos.tsv'),delimiter='\\t',header=0, index_col=0)\n"
   ]
  },
  {
   "cell_type": "code",
   "execution_count": null,
   "id": "2b5dcbb0",
   "metadata": {},
   "outputs": [],
   "source": []
  }
 ],
 "metadata": {
  "kernelspec": {
   "display_name": "Python 3 (ipykernel)",
   "language": "python",
   "name": "python3"
  },
  "language_info": {
   "codemirror_mode": {
    "name": "ipython",
    "version": 3
   },
   "file_extension": ".py",
   "mimetype": "text/x-python",
   "name": "python",
   "nbconvert_exporter": "python",
   "pygments_lexer": "ipython3",
   "version": "3.10.10"
  }
 },
 "nbformat": 4,
 "nbformat_minor": 5
}
