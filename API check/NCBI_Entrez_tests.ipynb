{
 "cells": [
  {
   "cell_type": "code",
   "execution_count": 1,
   "id": "f6d7131c",
   "metadata": {},
   "outputs": [],
   "source": [
    "import os\n",
    "import pandas as pd\n",
    "import json\n",
    "from datetime import datetime\n",
    "from Bio import Entrez\n",
    "import requests\n",
    "from math import isnan\n",
    "import time\n",
    "import xmltodict"
   ]
  },
  {
   "cell_type": "code",
   "execution_count": 2,
   "id": "dbc49b4f",
   "metadata": {},
   "outputs": [],
   "source": [
    "Entrez.email = \"your email here\""
   ]
  },
  {
   "cell_type": "code",
   "execution_count": 3,
   "id": "36002f10",
   "metadata": {},
   "outputs": [],
   "source": [
    "script_path = os.getcwd()\n",
    "parent_path = os.path.abspath(os.path.join(script_path, os.pardir))\n",
    "data_path = os.path.join(script_path,'data')"
   ]
  },
  {
   "cell_type": "code",
   "execution_count": 4,
   "id": "b1038a54",
   "metadata": {},
   "outputs": [
    {
     "data": {
      "text/plain": [
       "['pubmed', 'protein', 'nuccore', 'ipg', 'nucleotide', 'structure', 'genome', 'annotinfo', 'assembly', 'bioproject', 'biosample', 'blastdbinfo', 'books', 'cdd', 'clinvar', 'gap', 'gapplus', 'grasp', 'dbvar', 'gene', 'gds', 'geoprofiles', 'medgen', 'mesh', 'nlmcatalog', 'omim', 'orgtrack', 'pmc', 'proteinclusters', 'pcassay', 'protfam', 'pccompound', 'pcsubstance', 'seqannot', 'snp', 'sra', 'taxonomy', 'biocollections', 'gtr']"
      ]
     },
     "execution_count": 4,
     "metadata": {},
     "output_type": "execute_result"
    }
   ],
   "source": [
    "stream = Entrez.einfo()\n",
    "record = Entrez.read(stream)\n",
    "record[\"DbList\"]"
   ]
  },
  {
   "cell_type": "code",
   "execution_count": 12,
   "id": "ed1d95e3",
   "metadata": {},
   "outputs": [],
   "source": [
    "#stream = Entrez.einfo(db=\"bioproject\")\n",
    "#record = Entrez.read(stream)\n",
    "#record[\"DbInfo\"].keys()\n",
    "fields = record[\"DbInfo\"][\"FieldList\"]\n",
    "fieldsdf = pd.DataFrame(fields)\n",
    "fieldsdf.to_csv(os.path.join(data_path,'bioproject_fields.tsv'),sep='\\t',header=True)"
   ]
  },
  {
   "cell_type": "code",
   "execution_count": 5,
   "id": "6d368d73",
   "metadata": {},
   "outputs": [],
   "source": [
    "#accid = \"PRJNA28331\" ##example of middle umbrella project\n",
    "#accid = \"PRJNA197024\" ##example of primary submission project\n",
    "#accid = \"PRJNA43021\" ##example of top umbrella project\n",
    "#accid = \"PRJNA1251569\" ##example of primary submission project\n",
    "#accid = \"PRJNA1169887\" ##example with funding\n",
    "accid = \"PRJNA1251034\"\n",
    "handle = Entrez.efetch(db=\"bioproject\", id=accid)\n",
    "data = handle.read()\n",
    "#with open(os.path.join(data_path,f'{accid}.xml'),'wb') as outwrite:\n",
    "#    outwrite.write(data)\n",
    "\n",
    "datadict = xmltodict.parse(data)\n",
    "with open(os.path.join(data_path,f'{accid}.json'),'w') as outwrite:\n",
    "    outwrite.write(json.dumps(datadict,indent=4))"
   ]
  },
  {
   "cell_type": "code",
   "execution_count": null,
   "id": "4b16d6c4",
   "metadata": {},
   "outputs": [],
   "source": []
  }
 ],
 "metadata": {
  "kernelspec": {
   "display_name": "Python 3 (ipykernel)",
   "language": "python",
   "name": "python3"
  },
  "language_info": {
   "codemirror_mode": {
    "name": "ipython",
    "version": 3
   },
   "file_extension": ".py",
   "mimetype": "text/x-python",
   "name": "python",
   "nbconvert_exporter": "python",
   "pygments_lexer": "ipython3",
   "version": "3.10.10"
  }
 },
 "nbformat": 4,
 "nbformat_minor": 5
}
