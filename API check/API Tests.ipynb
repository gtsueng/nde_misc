{
 "cells": [
  {
   "cell_type": "markdown",
   "id": "538494f2",
   "metadata": {},
   "source": [
    "## Check for limit (Praetorian issue 2023)"
   ]
  },
  {
   "cell_type": "code",
   "execution_count": 1,
   "id": "474c35bc",
   "metadata": {},
   "outputs": [],
   "source": [
    "import json\n",
    "import requests\n",
    "import pandas as pd"
   ]
  },
  {
   "cell_type": "code",
   "execution_count": 2,
   "id": "0902df38",
   "metadata": {},
   "outputs": [
    {
     "name": "stdout",
     "output_type": "stream",
     "text": [
      "CPU times: total: 93.8 ms\n",
      "Wall time: 1.51 s\n"
     ]
    }
   ],
   "source": [
    "%%time\n",
    "r = requests.get('https://api.data.niaid.nih.gov/v1/query?q=__all__&fetch_all=true')"
   ]
  },
  {
   "cell_type": "code",
   "execution_count": 3,
   "id": "ebe18936",
   "metadata": {},
   "outputs": [
    {
     "name": "stdout",
     "output_type": "stream",
     "text": [
      "dict_keys(['_scroll_id', 'took', 'total', 'max_score', 'hits'])\n"
     ]
    }
   ],
   "source": [
    "cleanr = json.loads(r.text)\n",
    "print(cleanr.keys())"
   ]
  },
  {
   "cell_type": "code",
   "execution_count": 4,
   "id": "da411432",
   "metadata": {},
   "outputs": [
    {
     "name": "stdout",
     "output_type": "stream",
     "text": [
      "1000\n"
     ]
    }
   ],
   "source": [
    "print(len(cleanr['hits']))"
   ]
  },
  {
   "cell_type": "code",
   "execution_count": 4,
   "id": "f7dccc8e",
   "metadata": {},
   "outputs": [],
   "source": [
    "with open('testdump.json','w') as outwrite:\n",
    "    outwrite.write(json.dumps(cleanr))"
   ]
  },
  {
   "cell_type": "markdown",
   "id": "ade1d504",
   "metadata": {},
   "source": [
    "## Checking for unicode parsing errors \n",
    "As seen in: https://github.com/NIAID-Data-Ecosystem/nde-portal/issues/192\n"
   ]
  },
  {
   "cell_type": "code",
   "execution_count": 3,
   "id": "6fd69f69",
   "metadata": {},
   "outputs": [
    {
     "name": "stdout",
     "output_type": "stream",
     "text": [
      "430\n",
      "CPU times: total: 234 ms\n",
      "Wall time: 2.15 s\n"
     ]
    }
   ],
   "source": [
    "%%time\n",
    "#r = requests.get('https://api.data.niaid.nih.gov/v1/query?q=\"-?\"&fetch_all=true')\n",
    "r = requests.get('https://api.data.niaid.nih.gov/v1/query?q=\"Δ\"&fetch_all=true')\n",
    "cleanr = json.loads(r.text)\n",
    "hits = cleanr['hits']\n",
    "print(len(cleanr['hits']))"
   ]
  },
  {
   "cell_type": "code",
   "execution_count": 6,
   "id": "7c2b9a65",
   "metadata": {},
   "outputs": [],
   "source": [
    "test_table = []\n",
    "\n",
    "for hit in hits:\n",
    "    test_table.append({'url':hit['url'],'id':hit['_id'],'checked':'no'})\n",
    "\n",
    "testdf = pd.DataFrame(test_table)\n",
    "testdf.to_csv('test2.tsv',sep='\\t',header=True)"
   ]
  },
  {
   "cell_type": "markdown",
   "id": "2b71ec47",
   "metadata": {},
   "source": [
    "## Checking for comma issues in author name for BD2K-LINCS\n",
    "See [GH Issue](https://github.com/NIAID-Data-Ecosystem/nde-crawlers/issues/107) for more details.\n"
   ]
  },
  {
   "cell_type": "code",
   "execution_count": 2,
   "id": "f9107bfe",
   "metadata": {},
   "outputs": [
    {
     "name": "stdout",
     "output_type": "stream",
     "text": [
      "424\n",
      "{'_id': 'LINCS_EDS-1001', '_ignored': ['all.keyword'], '_score': 10.600381, 'author': {'name': 'Cyril Benes'}}\n"
     ]
    }
   ],
   "source": [
    "requesturl = \"https://api-staging.data.niaid.nih.gov/v1/query?&q=_exists_:author.name&extra_filter=(includedInDataCatalog.name:%22LINCS%22)&limit=1000&fields=author.name\"\n",
    "r = requests.get(requesturl)\n",
    "cleanr = json.loads(r.text)\n",
    "hits = cleanr['hits']\n",
    "print(len(cleanr['hits']))\n",
    "print(cleanr['hits'][0])"
   ]
  },
  {
   "cell_type": "code",
   "execution_count": 4,
   "id": "e9507558",
   "metadata": {},
   "outputs": [
    {
     "name": "stdout",
     "output_type": "stream",
     "text": [
      "               _id       _ignored     _score                   author\n",
      "68  LINCS_LDS-1404  [all.keyword]  10.600381  {'name': 'Jia-Ren Lin'}\n"
     ]
    }
   ],
   "source": [
    "tmpdf = pd.DataFrame(cleanr['hits'])\n",
    "print(tmpdf.loc[tmpdf['_id']==\"LINCS_LDS-1404\"])"
   ]
  },
  {
   "cell_type": "code",
   "execution_count": 14,
   "id": "698e7ffb",
   "metadata": {},
   "outputs": [
    {
     "name": "stdout",
     "output_type": "stream",
     "text": [
      "               _id       _ignored     _score  \\\n",
      "0   LINCS_LDS-1398            NaN  10.600381   \n",
      "1   LINCS_LDS-1431  [all.keyword]  10.600381   \n",
      "2   LINCS_LDS-1463  [all.keyword]  10.600381   \n",
      "3   LINCS_LDS-1473  [all.keyword]  10.600381   \n",
      "4   LINCS_LDS-1508  [all.keyword]  10.600381   \n",
      "..             ...            ...        ...   \n",
      "59  LINCS_LDS-1531  [all.keyword]  10.454861   \n",
      "60  LINCS_LDS-1546  [all.keyword]  10.454861   \n",
      "61  LINCS_LDS-1222  [all.keyword]  10.433613   \n",
      "62  LINCS_LDS-1547  [all.keyword]  10.433613   \n",
      "63  LINCS_LDS-1580  [all.keyword]  10.433613   \n",
      "\n",
      "                                               author  \n",
      "0   {'name': 'Jie Wu, Malcolm Casale, Ryan Lim, Je...  \n",
      "1   {'name': 'Joe Gray, Gordon Mills, Laura Heiser...  \n",
      "2   {'name': 'Joe Gray, Gordon Mills, Laura Heiser...  \n",
      "3   {'name': 'Joe Gray, Gordon Mills, Laura Heiser...  \n",
      "4   {'name': 'Birtwistle, M.; Iyengar, R.; Sobie, ...  \n",
      "..                                                ...  \n",
      "59     {'name': 'Huan (Sharon) Wang, Robert Everley'}  \n",
      "60        {'name': 'Marc Hafner, Kartik Subramanian'}  \n",
      "61            {'name': 'Marc Hafner, Samuel Bandara'}  \n",
      "62        {'name': 'Marc Hafner, Kartik Subramanian'}  \n",
      "63  {'name': 'Caitlin E. Mills, Maulik Nariya, Mar...  \n",
      "\n",
      "[64 rows x 4 columns]\n",
      "               _id       _ignored     _score  \\\n",
      "4   LINCS_LDS-1508  [all.keyword]  10.600381   \n",
      "24  LINCS_LDS-1523  [all.keyword]  10.454861   \n",
      "40  LINCS_LDS-1512  [all.keyword]  10.433613   \n",
      "\n",
      "                                               author  \n",
      "4   {'name': 'Birtwistle, M.; Iyengar, R.; Sobie, ...  \n",
      "24  {'name': 'Birtwistle, M.; Iyengar, R.; Sobie, ...  \n",
      "40  {'name': 'Birtwistle, M.; Iyengar, R.; Sobie, ...  \n"
     ]
    }
   ],
   "source": [
    "nonlists = tmpdf.loc[~tmpdf['author'].astype(str).str.contains(']')]\n",
    "lsdf = tmpdf.loc[tmpdf['author'].astype(str).str.contains(']')]\n",
    "#print(len(nonlists))\n",
    "#print(len(lsdf))\n",
    "\n",
    "#nonlists['name'] = pd.json_normalize(nonlists['author']).fillna('blank')\n",
    "#print(nonlists.head(n=2))\n",
    "boomdf = lsdf.explode('author')\n",
    "#boomdf['name'] = pd.json_normalize(boomdf['author'])\n",
    "#print(boomdf.head(n=2))\n",
    "commanonlistsdf = nonlists.loc[nonlists['author'].astype(str).str.contains(\",\")]\n",
    "commaboomdf = boomdf.loc[boomdf['author'].astype(str).str.contains(\",\")]\n",
    "alldf = pd.concat((commanonlistsdf,commaboomdf),ignore_index=True)\n",
    "#print(len(commadf))\n",
    "#print(commanonlistsdf)\n",
    "print(alldf)\n",
    "alldf.to_csv('BD2K-LINCS_author_comma.tsv', sep='\\t',header=True)\n",
    "semidf = alldf.loc[alldf['author'].astype(str).str.contains(\";\")]\n",
    "print(semidf)"
   ]
  },
  {
   "cell_type": "code",
   "execution_count": null,
   "id": "2cbc5ec4",
   "metadata": {},
   "outputs": [],
   "source": []
  },
  {
   "cell_type": "markdown",
   "id": "2d55eb79",
   "metadata": {},
   "source": [
    "## Looking for duplicate records"
   ]
  },
  {
   "cell_type": "code",
   "execution_count": null,
   "id": "3b04c601",
   "metadata": {},
   "outputs": [],
   "source": [
    "import json\n",
    "import requests\n",
    "import pandas as pd"
   ]
  },
  {
   "cell_type": "code",
   "execution_count": null,
   "id": "de05333d",
   "metadata": {},
   "outputs": [],
   "source": [
    "r = requests.get('https://api.data.niaid.nih.gov/v1/query?q=__all__&fetch_all=true')"
   ]
  }
 ],
 "metadata": {
  "kernelspec": {
   "display_name": "Python 3 (ipykernel)",
   "language": "python",
   "name": "python3"
  },
  "language_info": {
   "codemirror_mode": {
    "name": "ipython",
    "version": 3
   },
   "file_extension": ".py",
   "mimetype": "text/x-python",
   "name": "python",
   "nbconvert_exporter": "python",
   "pygments_lexer": "ipython3",
   "version": "3.10.10"
  }
 },
 "nbformat": 4,
 "nbformat_minor": 5
}
