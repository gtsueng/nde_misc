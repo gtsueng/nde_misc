{
 "cells": [
  {
   "cell_type": "markdown",
   "id": "37c368f2",
   "metadata": {},
   "source": [
    "## VEuPath Collections check\n",
    "\n",
    "This script checks for the availability of datasets in various \"VEuPath Collection DBs\" that are NOT available in VEuPathDB"
   ]
  },
  {
   "cell_type": "code",
   "execution_count": 10,
   "id": "4d47125e",
   "metadata": {},
   "outputs": [],
   "source": [
    "import os\n",
    "import pandas as pd\n",
    "\n",
    "script_path = os.getcwd()\n",
    "data_path = os.path.join(script_path,'data')"
   ]
  },
  {
   "cell_type": "code",
   "execution_count": 3,
   "id": "16eba511",
   "metadata": {},
   "outputs": [],
   "source": [
    "def get_base_meta(data_path):\n",
    "    filelist = os.listdir(data_path)\n",
    "    base_meta_list = []\n",
    "    for eachfile in filelist:\n",
    "        #print(eachfile)\n",
    "        base_meta_dict = {}\n",
    "        tmpdf = pd.read_csv(os.path.join(data_path,eachfile),delimiter=',',header=0)\n",
    "        base_meta_dict['filename'] = eachfile\n",
    "        base_meta_dict['dataset_count'] = len(tmpdf)\n",
    "        base_meta_dict['dataset_list'] = tmpdf['dataset_id'].unique().tolist()\n",
    "        base_meta_list.append(base_meta_dict)\n",
    "    base_meta_df = pd.DataFrame(base_meta_list)\n",
    "    return base_meta_df\n",
    "    "
   ]
  },
  {
   "cell_type": "code",
   "execution_count": 4,
   "id": "19a24ec0",
   "metadata": {},
   "outputs": [
    {
     "name": "stdout",
     "output_type": "stream",
     "text": [
      "       filename  dataset_count  \\\n",
      "0  amoebadb.csv            100   \n",
      "1  cryptodb.csv             90   \n",
      "\n",
      "                                        dataset_list  \n",
      "0  [DS_043fe19169, DS_0891b4c971, DS_0990b51933, ...  \n",
      "1  [DS_0bf2c58ee5, DS_0e6a419642, DS_1211e45c5b, ...  \n"
     ]
    }
   ],
   "source": [
    "base_meta_df = get_base_meta(data_path)\n",
    "print(base_meta_df.head(n=2))"
   ]
  },
  {
   "cell_type": "code",
   "execution_count": 5,
   "id": "e5d224b8",
   "metadata": {},
   "outputs": [],
   "source": [
    "def get_intersect(list1,veupathlist):\n",
    "    incommon = set(list1).intersection(set(veupathlist))\n",
    "    notinveupath = set(list1)-incommon\n",
    "    return(notinveupath)"
   ]
  },
  {
   "cell_type": "code",
   "execution_count": 6,
   "id": "92c62031",
   "metadata": {},
   "outputs": [],
   "source": [
    "def check_for_presence(list1,veupathlist):\n",
    "    notinveupath = [x for x in list1 if x not in veupathlist]\n",
    "    return notinveupath"
   ]
  },
  {
   "cell_type": "code",
   "execution_count": 7,
   "id": "a32a110f-57ee-45f2-afbe-236caabcfad5",
   "metadata": {},
   "outputs": [],
   "source": [
    "def count_in_common(list1,veupathlist):\n",
    "    incommon = set(list1).intersection(set(veupathlist))\n",
    "    incommoncount = len(incommon)\n",
    "    return incommoncount"
   ]
  },
  {
   "cell_type": "code",
   "execution_count": 8,
   "id": "a2819442",
   "metadata": {},
   "outputs": [
    {
     "name": "stdout",
     "output_type": "stream",
     "text": [
      "veupathdb.csv\n",
      "['DS_033b09f437', 'DS_4900730c76']\n"
     ]
    }
   ],
   "source": [
    "print(base_meta_df.iloc[12]['filename'])\n",
    "veupathlist = base_meta_df.iloc[12]['dataset_list']\n",
    "print(veupathlist[0:2])"
   ]
  },
  {
   "cell_type": "code",
   "execution_count": 9,
   "id": "34156d46",
   "metadata": {},
   "outputs": [
    {
     "name": "stdout",
     "output_type": "stream",
     "text": [
      "               filename  dataset_count  \\\n",
      "0          amoebadb.csv            100   \n",
      "1          cryptodb.csv             90   \n",
      "2           fungidb.csv            705   \n",
      "3         giardiadb.csv             67   \n",
      "4            hostdb.csv             86   \n",
      "5   microsporidiadb.csv             76   \n",
      "6      piroplasmadb.csv             58   \n",
      "7          plasmodb.csv            324   \n",
      "8            toxodb.csv            180   \n",
      "9           trichdb.csv             38   \n",
      "10        tritrypdb.csv            281   \n",
      "11       vectorbase.csv           1372   \n",
      "12        veupathdb.csv           3221   \n",
      "\n",
      "                                         dataset_list not_in_veupath by_list  \\\n",
      "0   [DS_043fe19169, DS_0891b4c971, DS_0990b51933, ...             {}      []   \n",
      "1   [DS_0bf2c58ee5, DS_0e6a419642, DS_1211e45c5b, ...             {}      []   \n",
      "2   [DS_0011425ac1, DS_0024327063, DS_012298da2c, ...             {}      []   \n",
      "3   [DS_0bcfe5e81b, DS_0ca33c7939, DS_0d06f3af80, ...             {}      []   \n",
      "4   [DS_033cf9c74d, DS_03824cf332, DS_08fe07cd15, ...             {}      []   \n",
      "5   [DS_02354d7d63, DS_06a6bb7fc7, DS_0d94160c3d, ...             {}      []   \n",
      "6   [DS_0fb36452a4, DS_11e7170fbb, DS_19a7ddd8f2, ...             {}      []   \n",
      "7   [DS_022384d18a, DS_00f985857c, DS_079607ca4d, ...             {}      []   \n",
      "8   [DS_01c6cee55d, DS_011c12b8d3, DS_04df8ee8b5, ...             {}      []   \n",
      "9   [DS_06133b1950, DS_079223ec4c, DS_19a7ddd8f2, ...             {}      []   \n",
      "10  [DS_317f0d802c, DS_0241addc8e, DS_033caaf714, ...             {}      []   \n",
      "11  [DS_07e4de9743, DS_001a5cd706, DS_0043abe4fc, ...             {}      []   \n",
      "12  [DS_033b09f437, DS_4900730c76, DS_0011425ac1, ...             {}      []   \n",
      "\n",
      "    datasets_in_veupath  \n",
      "0                   100  \n",
      "1                    90  \n",
      "2                   705  \n",
      "3                    67  \n",
      "4                    86  \n",
      "5                    76  \n",
      "6                    58  \n",
      "7                   324  \n",
      "8                   180  \n",
      "9                    38  \n",
      "10                  281  \n",
      "11                 1372  \n",
      "12                 3220  \n"
     ]
    }
   ],
   "source": [
    "base_meta_df['not_in_veupath'] = base_meta_df.apply(lambda row: get_intersect(row['dataset_list'],veupathlist),axis=1)\n",
    "base_meta_df['by_list'] = base_meta_df.apply(lambda row: check_for_presence(row['dataset_list'],veupathlist),axis=1)\n",
    "base_meta_df['datasets_in_veupath'] = base_meta_df.apply(lambda row: count_in_common(row['dataset_list'],veupathlist),axis=1)\n",
    "print(base_meta_df)"
   ]
  }
 ],
 "metadata": {
  "kernelspec": {
   "display_name": "Python 3 (ipykernel)",
   "language": "python",
   "name": "python3"
  },
  "language_info": {
   "codemirror_mode": {
    "name": "ipython",
    "version": 3
   },
   "file_extension": ".py",
   "mimetype": "text/x-python",
   "name": "python",
   "nbconvert_exporter": "python",
   "pygments_lexer": "ipython3",
   "version": "3.10.10"
  }
 },
 "nbformat": 4,
 "nbformat_minor": 5
}
