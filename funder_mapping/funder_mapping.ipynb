{
 "cells": [
  {
   "cell_type": "markdown",
   "id": "e36071c5",
   "metadata": {},
   "source": [
    "## Funder mapping\n",
    "\n",
    "1. Fetch all funders with a name but no id\n",
    "2. Perform initial query to ROR to get a potential map\n",
    "3. Identify ones with format `XXXX NIH HHS` for near-automatic confirmation"
   ]
  },
  {
   "cell_type": "code",
   "execution_count": 1,
   "id": "5ba7d744",
   "metadata": {},
   "outputs": [],
   "source": [
    "import os\n",
    "import requests\n",
    "import pandas as pd\n",
    "import json"
   ]
  },
  {
   "cell_type": "code",
   "execution_count": 2,
   "id": "38ffe43d",
   "metadata": {},
   "outputs": [
    {
     "name": "stdout",
     "output_type": "stream",
     "text": [
      "C:\\Users\\gtsueng\\Anaconda3\\envs\\nde\\nde_misc\\funder_mapping\n"
     ]
    }
   ],
   "source": [
    "script_path = os.getcwd()\n",
    "data_path = os.path.join(script_path,'data')\n",
    "print(script_path)"
   ]
  },
  {
   "cell_type": "code",
   "execution_count": 2,
   "id": "388a1573",
   "metadata": {},
   "outputs": [
    {
     "name": "stdout",
     "output_type": "stream",
     "text": [
      "dict_keys(['took', 'total', 'max_score', 'facets'])\n"
     ]
    }
   ],
   "source": [
    "r = requests.get('https://api-staging.data.niaid.nih.gov/v1/query?=&q=_exists_:funding.funder.name AND -_exists_:funding.funder.identifier&extra_filter=_exists_:funding.funder.name.raw&facets=funding.funder.name.raw&filters=&size=0&facet_size=1000')\n",
    "\n",
    "results = json.loads(r.text)\n",
    "print(results.keys())"
   ]
  },
  {
   "cell_type": "code",
   "execution_count": 54,
   "id": "fbc8f10f",
   "metadata": {},
   "outputs": [
    {
     "name": "stdout",
     "output_type": "stream",
     "text": [
      "   count           term\n",
      "0  47287  NIGMS NIH HHS\n",
      "1  32199    NCI NIH HHS\n"
     ]
    }
   ],
   "source": [
    "funder_freq_dict = results['facets']['funding.funder.name.raw']['terms']\n",
    "no_id_funder_df = pd.DataFrame(funder_freq_dict)\n",
    "print(no_id_funder_df.head(n=2))"
   ]
  },
  {
   "cell_type": "code",
   "execution_count": 25,
   "id": "4d0ed541",
   "metadata": {},
   "outputs": [
    {
     "name": "stdout",
     "output_type": "stream",
     "text": [
      "dict_keys(['number_of_results', 'time_taken', 'items', 'meta'])\n"
     ]
    }
   ],
   "source": [
    "ror = requests.get(f'https://api.ror.org/v2/organizations?query={no_id_funder_df.iloc[998][\"term\"]}')\n",
    "ror_res = json.loads(ror.text)\n",
    "print(ror_res.keys())"
   ]
  },
  {
   "cell_type": "code",
   "execution_count": 57,
   "id": "02c9095a",
   "metadata": {},
   "outputs": [
    {
     "name": "stdout",
     "output_type": "stream",
     "text": [
      "https://ror.org/05svhj534\n",
      "[{'lang': None, 'types': ['acronym'], 'value': 'DFF'}, {'lang': 'en', 'types': ['alias'], 'value': 'Danish Council for Independent Research'}, {'lang': 'da', 'types': ['ror_display', 'label'], 'value': 'Danmarks Frie Forskningsfond'}, {'lang': 'en', 'types': ['label'], 'value': 'Independent Research Fund Denmark'}]\n"
     ]
    }
   ],
   "source": [
    "first_res = ror_res['items'][0]\n",
    "print(first_res['id'])\n",
    "print(first_res['names'])\n",
    "\n",
    "def get_label(ror_names, funder_term):\n",
    "    for eachobject in ror_names:\n",
    "        if eachobject['value'] == funder_term:\n",
    "            ror_label = eachobject['value']\n",
    "            return ror_label\n",
    "        if 'label' in ' '.join(eachobject['types']):\n",
    "            if 'lang' in eachobject.keys():\n",
    "                if eachobject['lang'] == 'en':\n",
    "                    ror_label = eachobject['value']\n",
    "                    return ror_label\n",
    "            else:\n",
    "                ror_label = eachobject['value'] \n",
    "                return ror_label\n",
    "\n",
    "def get_ror_match(funder_term):\n",
    "    ror = requests.get(f'https://api.ror.org/v2/organizations?query={funder_term}')\n",
    "    try:\n",
    "        ror_res = json.loads(ror.text)\n",
    "        try:\n",
    "            first_res = ror_res['items'][0]\n",
    "            try:\n",
    "                ror_id = first_res['id']\n",
    "                ror_label = get_label(first_res['names'],funder_term)\n",
    "            except:\n",
    "                ror_id = \"Error\"\n",
    "                ror_label = \"No id or name\"\n",
    "        except:\n",
    "            ror_id = \"Error\"\n",
    "            ror_label = \"No items\"\n",
    "    except:\n",
    "            ror_id = \"Error\"\n",
    "            ror_label = \"request parse issue\"        \n",
    "    return ror_id, ror_label"
   ]
  },
  {
   "cell_type": "code",
   "execution_count": 32,
   "id": "853568f2",
   "metadata": {},
   "outputs": [
    {
     "name": "stdout",
     "output_type": "stream",
     "text": [
      "     count                                     term\n",
      "998      4  Danish Council for Independent Research\n",
      "999      4               Department of Conservation\n"
     ]
    }
   ],
   "source": [
    "print(no_id_funder_df.tail(n=2))"
   ]
  },
  {
   "cell_type": "code",
   "execution_count": 39,
   "id": "390ea51b",
   "metadata": {},
   "outputs": [
    {
     "name": "stdout",
     "output_type": "stream",
     "text": [
      "https://ror.org/05svhj534 Danish Council for Independent Research\n"
     ]
    }
   ],
   "source": [
    "ror_id, ror_label = get_ror_match(no_id_funder_df.iloc[998]['term'])\n",
    "print(ror_id, ror_label)"
   ]
  },
  {
   "cell_type": "code",
   "execution_count": 48,
   "id": "9b173a91",
   "metadata": {},
   "outputs": [
    {
     "name": "stdout",
     "output_type": "stream",
     "text": [
      "   count                      term                     ror_id  \\\n",
      "0  32280             NIGMS NIH HHS  https://ror.org/04q48ey07   \n",
      "1  28118  The Leon Levy Foundation  https://ror.org/033hnyq61   \n",
      "\n",
      "                                        ror_label  \n",
      "0  National Institute of General Medical Sciences  \n",
      "1                            Leon Levy Foundation  \n",
      "CPU times: total: 672 ms\n",
      "Wall time: 9.62 s\n"
     ]
    }
   ],
   "source": [
    "%%time\n",
    "\n",
    "testdf = no_id_funder_df.head(n=10).copy()\n",
    "\n",
    "testdf[['ror_id','ror_label']] = testdf.apply(lambda x: get_ror_match(x['term']),result_type='expand', axis=1)\n",
    "print(testdf.head(n=2))"
   ]
  },
  {
   "cell_type": "code",
   "execution_count": 58,
   "id": "5b05d44d",
   "metadata": {},
   "outputs": [
    {
     "name": "stdout",
     "output_type": "stream",
     "text": [
      "   count           term                     ror_id  \\\n",
      "0  47287  NIGMS NIH HHS  https://ror.org/04q48ey07   \n",
      "1  32199    NCI NIH HHS  https://ror.org/02z7csx58   \n",
      "\n",
      "                                        ror_label  \n",
      "0  National Institute of General Medical Sciences  \n",
      "1                     Hawaiian Historical Society  \n",
      "CPU times: total: 1min 3s\n",
      "Wall time: 15min 36s\n"
     ]
    }
   ],
   "source": [
    "%%time\n",
    "no_id_funder_df[['ror_id','ror_label']] = no_id_funder_df.apply(lambda x: get_ror_match(x['term']),result_type='expand', axis=1)\n",
    "print(no_id_funder_df.head(n=2))"
   ]
  },
  {
   "cell_type": "code",
   "execution_count": 62,
   "id": "2e8b493b",
   "metadata": {},
   "outputs": [],
   "source": [
    "no_id_funder_df.to_csv(os.path.join(data_path,'to_review.tsv'),sep='\\t',header=True)"
   ]
  },
  {
   "cell_type": "code",
   "execution_count": 9,
   "id": "8fa65bb1",
   "metadata": {},
   "outputs": [
    {
     "name": "stdout",
     "output_type": "stream",
     "text": [
      "   count           term                     ror_id  \\\n",
      "0  47287  NIGMS NIH HHS  https://ror.org/04q48ey07   \n",
      "1  32199    NCI NIH HHS  https://ror.org/02z7csx58   \n",
      "\n",
      "                                        ror_label  \n",
      "0  National Institute of General Medical Sciences  \n",
      "1                     Hawaiian Historical Society  \n"
     ]
    }
   ],
   "source": [
    "## Precompute likely correct matches\n",
    "guess_id_funder_df = pd.read_csv(os.path.join(data_path,'to_review.tsv'),delimiter='\\t',header=0,index_col=0)\n",
    "print(guess_id_funder_df.head(n=2))"
   ]
  },
  {
   "cell_type": "code",
   "execution_count": 5,
   "id": "49042e54",
   "metadata": {},
   "outputs": [],
   "source": [
    "def prioritize_funder(row):\n",
    "    if 'NIH' in str(row['term']):\n",
    "        priority = 1\n",
    "    elif 'HHS' in str(row['term']):\n",
    "        priority = 2\n",
    "    else:\n",
    "        priority = 3\n",
    "    return priority\n",
    "\n",
    "\n",
    "def check_exact_match(row):\n",
    "    if row['term'] == row['ror_label']:\n",
    "        exact_match = True\n",
    "    else:\n",
    "        exact_match = False\n",
    "    return exact_match\n"
   ]
  },
  {
   "cell_type": "code",
   "execution_count": 10,
   "id": "0cb78d14",
   "metadata": {},
   "outputs": [
    {
     "name": "stdout",
     "output_type": "stream",
     "text": [
      "   count           term                     ror_id  \\\n",
      "0  47287  NIGMS NIH HHS  https://ror.org/04q48ey07   \n",
      "1  32199    NCI NIH HHS  https://ror.org/02z7csx58   \n",
      "\n",
      "                                        ror_label  priority  \n",
      "0  National Institute of General Medical Sciences         1  \n",
      "1                     Hawaiian Historical Society         1  \n"
     ]
    }
   ],
   "source": [
    "guess_id_funder_df['priority'] = guess_id_funder_df.apply(lambda x: prioritize_funder(x), axis=1)\n",
    "print(guess_id_funder_df.head(n=2))"
   ]
  },
  {
   "cell_type": "code",
   "execution_count": 11,
   "id": "80f43328",
   "metadata": {},
   "outputs": [
    {
     "name": "stdout",
     "output_type": "stream",
     "text": [
      "   count           term                     ror_id  \\\n",
      "0  47287  NIGMS NIH HHS  https://ror.org/04q48ey07   \n",
      "1  32199    NCI NIH HHS  https://ror.org/02z7csx58   \n",
      "\n",
      "                                        ror_label  priority  exact_match?  \n",
      "0  National Institute of General Medical Sciences         1         False  \n",
      "1                     Hawaiian Historical Society         1         False  \n"
     ]
    }
   ],
   "source": [
    "guess_id_funder_df['exact_match?'] = guess_id_funder_df.apply(lambda x: check_exact_match(x), axis=1)\n",
    "print(guess_id_funder_df.head(n=2))"
   ]
  },
  {
   "cell_type": "code",
   "execution_count": 12,
   "id": "14a626e4",
   "metadata": {},
   "outputs": [],
   "source": [
    "guess_id_funder_df.to_csv(os.path.join(data_path,'to_review.tsv'),sep='\\t',header=True)"
   ]
  },
  {
   "cell_type": "code",
   "execution_count": null,
   "id": "b95443c9",
   "metadata": {},
   "outputs": [],
   "source": []
  }
 ],
 "metadata": {
  "kernelspec": {
   "display_name": "Python 3 (ipykernel)",
   "language": "python",
   "name": "python3"
  },
  "language_info": {
   "codemirror_mode": {
    "name": "ipython",
    "version": 3
   },
   "file_extension": ".py",
   "mimetype": "text/x-python",
   "name": "python",
   "nbconvert_exporter": "python",
   "pygments_lexer": "ipython3",
   "version": "3.10.10"
  }
 },
 "nbformat": 4,
 "nbformat_minor": 5
}
