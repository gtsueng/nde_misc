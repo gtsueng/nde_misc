{
 "cells": [
  {
   "cell_type": "code",
   "execution_count": 1,
   "id": "229adc6d",
   "metadata": {},
   "outputs": [],
   "source": [
    "import pandas as pd\n",
    "from pandas import read_csv\n",
    "import requests\n",
    "import json\n",
    "import time\n",
    "import math\n",
    "import pickle\n",
    "import os\n",
    "import ast ## Only needed to convert string to dict where json.loads fails"
   ]
  },
  {
   "cell_type": "code",
   "execution_count": 8,
   "id": "e54016a4",
   "metadata": {},
   "outputs": [
    {
     "name": "stdout",
     "output_type": "stream",
     "text": [
      "6094\n",
      "CPU times: total: 312 ms\n",
      "Wall time: 2.21 s\n"
     ]
    }
   ],
   "source": [
    "%%time\n",
    "\n",
    "## Perform the initial query\n",
    "\n",
    "query_type = 'infectiousAgent'\n",
    "#query_url = 'https://api.data.niaid.nih.gov/v1/query?q=_exists_:species&fields=_id,name,species&fetch_all=true'\n",
    "query_url = f'https://api-staging.data.niaid.nih.gov/v1/query?q=_exists_:{query_type}&fields=_id,name,{query_type}&fetch_all=true'\n",
    "r = requests.get(query_url)\n",
    "cleanr = json.loads(r.text)\n",
    "hits = cleanr['hits']\n",
    "#print(len(cleanr['hits']))\n",
    "df1 = pd.DataFrame(cleanr['hits'])\n",
    "scroll_id = cleanr['_scroll_id']\n",
    "total_hits = cleanr['total']\n",
    "print(total_hits)"
   ]
  },
  {
   "cell_type": "code",
   "execution_count": 9,
   "id": "23cfeb40",
   "metadata": {},
   "outputs": [
    {
     "ename": "KeyError",
     "evalue": "'_scroll_id'",
     "output_type": "error",
     "traceback": [
      "\u001b[1;31m---------------------------------------------------------------------------\u001b[0m",
      "\u001b[1;31mKeyError\u001b[0m                                  Traceback (most recent call last)",
      "File \u001b[1;32m<timed exec>:10\u001b[0m\n",
      "\u001b[1;31mKeyError\u001b[0m: '_scroll_id'"
     ]
    }
   ],
   "source": [
    "%%time\n",
    "## Scroll to get all the results\n",
    "\n",
    "i = 0\n",
    "#k = 3 \n",
    "k = math.ceil(total_hits/1000)\n",
    "while i < k:\n",
    "    #r2 = requests.get(f'https://api.data.niaid.nih.gov/v1/query?scroll_id={scroll_id}')\n",
    "    r2 = requests.get(f'https://api-staging.data.niaid.nih.gov/v1/query?scroll_id={scroll_id}')\n",
    "    tmp = json.loads(r2.text)\n",
    "    scroll_id = tmp['_scroll_id']\n",
    "    tmpdf = pd.DataFrame(tmp['hits'])\n",
    "    df1 = pd.concat((df1,tmpdf),ignore_index=True)\n",
    "    #print(len(df1))\n",
    "    i = i+1\n",
    "    time.sleep(0.25)"
   ]
  },
  {
   "cell_type": "code",
   "execution_count": 10,
   "id": "b42250ab",
   "metadata": {},
   "outputs": [
    {
     "name": "stdout",
     "output_type": "stream",
     "text": [
      "6094\n",
      "                    _id  _score  \\\n",
      "0  DDE_0565c31a11705723     1.0   \n",
      "1  DDE_080de1604f9f92e0     1.0   \n",
      "2  DDE_095ecd25213286dd     1.0   \n",
      "\n",
      "                                     infectiousAgent  \\\n",
      "0  [{'alternateName': ['MERS-CoV', 'MERS coronavi...   \n",
      "1  [{'alternateName': ['Micrococcus aureus', 'Mic...   \n",
      "2  [{'alternateName': ['2019-nCoV', 'Wuhan corona...   \n",
      "\n",
      "                                                name _ignored  \n",
      "0  Primary human microvascular endothelial cells ...      NaN  \n",
      "1  Defined Minimal Medium for Staphylococcus aure...      NaN  \n",
      "2     Protein-protein interaction map for SARS-CoV-2      NaN  \n"
     ]
    }
   ],
   "source": [
    "## Inspect and save the results of the search\n",
    "\n",
    "print(len(df1))\n",
    "print(df1.head(n=3))\n",
    "with open(os.path.join('data',f'processed_{query_type}_results.pickle'),'wb') as dumpfile:\n",
    "    pickle.dump(df1,dumpfile)"
   ]
  },
  {
   "cell_type": "markdown",
   "id": "a0750d06",
   "metadata": {},
   "source": [
    "## To Do\n",
    "* Perform the same search using the staging data api (which should have the PubTator normalized results\n",
    "* Run the Text2term tool on the data set to see how it overlaps with PubTator and whether or not it can be used in lieu of PubTator\n",
    "* Also try using the Biothings Taxonomy API to compare\n",
    "\n",
    "### Potential options\n",
    "* Generate a training dataset for TaggerOne\n",
    "* Process raw text files using TaggerOne"
   ]
  },
  {
   "cell_type": "code",
   "execution_count": 2,
   "id": "3f2d553f",
   "metadata": {},
   "outputs": [
    {
     "name": "stdout",
     "output_type": "stream",
     "text": [
      "                    _id  _score  \\\n",
      "0  DDE_0565c31a11705723     1.0   \n",
      "1  DDE_080de1604f9f92e0     1.0   \n",
      "\n",
      "                                     infectiousAgent  \\\n",
      "0  [{'alternateName': ['MERS-CoV', 'MERS coronavi...   \n",
      "1  [{'alternateName': ['Micrococcus aureus', 'Mic...   \n",
      "\n",
      "                                                name _ignored  \n",
      "0  Primary human microvascular endothelial cells ...      NaN  \n",
      "1  Defined Minimal Medium for Staphylococcus aure...      NaN  \n"
     ]
    }
   ],
   "source": [
    "query_type = 'infectiousAgent'\n",
    "with open(os.path.join('data',f'processed_{query_type}_results.pickle'),'rb') as readfile:\n",
    "    processdf = pickle.load(readfile)\n",
    "\n",
    "print(processdf.head(n=2))"
   ]
  },
  {
   "cell_type": "code",
   "execution_count": 3,
   "id": "3bcf74dd",
   "metadata": {},
   "outputs": [
    {
     "name": "stdout",
     "output_type": "stream",
     "text": [
      "6747\n",
      "                    _id  _score  \\\n",
      "0  DDE_0565c31a11705723     1.0   \n",
      "1  DDE_080de1604f9f92e0     1.0   \n",
      "\n",
      "                                     infectiousAgent  \\\n",
      "0  {'alternateName': ['MERS-CoV', 'MERS coronavir...   \n",
      "1  {'alternateName': ['Micrococcus aureus', 'Micr...   \n",
      "\n",
      "                                                name _ignored  \n",
      "0  Primary human microvascular endothelial cells ...      NaN  \n",
      "1  Defined Minimal Medium for Staphylococcus aure...      NaN  \n"
     ]
    }
   ],
   "source": [
    "processboom = processdf.explode(query_type)\n",
    "print(len(processboom))\n",
    "print(processboom.head(n=2))"
   ]
  },
  {
   "cell_type": "code",
   "execution_count": 4,
   "id": "b1ebefb2",
   "metadata": {},
   "outputs": [
    {
     "name": "stdout",
     "output_type": "stream",
     "text": [
      "{'alternateName': ['MERS-CoV', 'MERS coronavirus', 'MERS virus', 'Middle East Respiratory Syndrome Coronavirus (MERS-CoV)', 'Middle East respiratory syndrome coronavirus'], 'classification': 'infectiousAgent', 'commonName': 'MERS-CoV', 'curatedBy': {'dateModified': '2023-10-05', 'name': 'PubTator', 'url': 'https://www.ncbi.nlm.nih.gov/research/pubtator/api.html'}, 'displayName': 'MERS-CoV | Middle East respiratory syndrome-related coronavirus', 'identifier': '1335626', 'inDefinedTermSet': 'UniProt', 'isCurated': True, 'name': 'Middle East respiratory syndrome-related coronavirus', 'originalName': 'mers-cov', 'url': 'https://www.uniprot.org/taxonomy/1335626'}\n"
     ]
    }
   ],
   "source": [
    "print(processboom.iloc[0][query_type])"
   ]
  },
  {
   "cell_type": "code",
   "execution_count": 5,
   "id": "46a727d6",
   "metadata": {},
   "outputs": [
    {
     "name": "stdout",
     "output_type": "stream",
     "text": [
      "                    _id  _score  \\\n",
      "0  DDE_0565c31a11705723     1.0   \n",
      "1  DDE_080de1604f9f92e0     1.0   \n",
      "\n",
      "                                     infectiousAgent  \\\n",
      "0  {'alternateName': ['MERS-CoV', 'MERS coronavir...   \n",
      "1  {'alternateName': ['Micrococcus aureus', 'Micr...   \n",
      "\n",
      "                                                name _ignored  \\\n",
      "0  Primary human microvascular endothelial cells ...      NaN   \n",
      "1  Defined Minimal Medium for Staphylococcus aure...      NaN   \n",
      "\n",
      "               CURIE  \n",
      "0  NCBITAXON:1335626  \n",
      "1     NCBITAXON:1280  \n"
     ]
    }
   ],
   "source": [
    "def parse_id(speciesdict):\n",
    "    if isinstance(speciesdict,dict):\n",
    "        tmpdict = speciesdict\n",
    "    elif isinstance(speciesdict,str):\n",
    "        try:\n",
    "            tmpdict = json.loads(speciesdict)\n",
    "        except:\n",
    "            tmpdict = {'failed':speciesdict}\n",
    "    if 'identifier' in tmpdict.keys():\n",
    "        speciesid = tmpdict['identifier']\n",
    "        curie = 'NCBITAXON:'+str(speciesid)\n",
    "    else:\n",
    "        curie = -1\n",
    "    return curie\n",
    "\n",
    "processboom['CURIE'] = processboom.apply(lambda row: parse_id(row[query_type]),axis=1)\n",
    "print(processboom.head(n=2))"
   ]
  },
  {
   "cell_type": "code",
   "execution_count": 6,
   "id": "e155cd4c",
   "metadata": {},
   "outputs": [
    {
     "name": "stdout",
     "output_type": "stream",
     "text": [
      "46\n",
      "                       _id  _score  \\\n",
      "4254  DDE_6cbc404ca1290cb3     1.0   \n",
      "4255  DDE_7c44c911ed001298     1.0   \n",
      "\n",
      "                                        infectiousAgent  \\\n",
      "4254  {'name': 'Microbiota', 'url': 'https://www.ont...   \n",
      "4255  {'name': 'Microbiota', 'url': 'https://www.ont...   \n",
      "\n",
      "                                                   name       _ignored CURIE  \n",
      "4254  Studies of intestinal microbiome and infection...            NaN    -1  \n",
      "4255  Fecal Microbiome, Metabolites, and Stem Cell T...  [all.keyword]    -1  \n"
     ]
    }
   ],
   "source": [
    "flagged = processboom.loc[processboom['CURIE']==-1]\n",
    "clean_processed = processboom.loc[processboom['CURIE']!=-1].copy()\n",
    "print(len(flagged))\n",
    "print(flagged.tail(n=2))"
   ]
  },
  {
   "cell_type": "code",
   "execution_count": 7,
   "id": "5f4f92fc",
   "metadata": {},
   "outputs": [],
   "source": [
    "clean_processed.to_csv(os.path.join('data',f'{query_type}_clean_pubtator_results_from_nde.tsv'),sep='\\t',header=True)"
   ]
  },
  {
   "cell_type": "markdown",
   "id": "4b13dfad",
   "metadata": {},
   "source": [
    "## Comparison with Text2Term"
   ]
  },
  {
   "cell_type": "code",
   "execution_count": 8,
   "id": "fdd44783",
   "metadata": {},
   "outputs": [
    {
     "name": "stdout",
     "output_type": "stream",
     "text": [
      "             _id                                               name  \\\n",
      "0  GEO_GSE110840  Sequencing of Caenorhabditis elegans deletion ...   \n",
      "1  GEO_GSE110842  Sequencing of Caenorhabditis elegans overexpre...   \n",
      "\n",
      "             species_name  flag_raised                   Label  \\\n",
      "0  Caenorhabditis elegans        False  Caenorhabditis elegans   \n",
      "1  Caenorhabditis elegans        False  Caenorhabditis elegans   \n",
      "\n",
      "            CURIE  Mapping Score  \n",
      "0  NCBITAXON:6239          0.995  \n",
      "1  NCBITAXON:6239          0.995  \n"
     ]
    }
   ],
   "source": [
    "## load Text2Term results\n",
    "t2t_results = pd.read_csv(os.path.join('data',f'{query_type}_t2t_mapped_no_flags.tsv'), delimiter='\\t', header=0, index_col=0)\n",
    "print(t2t_results.head(n=2))"
   ]
  },
  {
   "cell_type": "code",
   "execution_count": 9,
   "id": "667d253b",
   "metadata": {},
   "outputs": [
    {
     "name": "stdout",
     "output_type": "stream",
     "text": [
      "Empty DataFrame\n",
      "Columns: [_id, name, species_name, flag_raised, Label, CURIE, Mapping Score]\n",
      "Index: []\n"
     ]
    }
   ],
   "source": [
    "omicsdf = t2t_results.loc[t2t_results['_id'].astype(str).str.contains('OMICSDI')]\n",
    "print(omicsdf.head(n=2))"
   ]
  },
  {
   "cell_type": "code",
   "execution_count": 10,
   "id": "73b6d131",
   "metadata": {},
   "outputs": [
    {
     "name": "stdout",
     "output_type": "stream",
     "text": [
      "          old_id                                               name  \\\n",
      "0  GEO_GSE110840  Sequencing of Caenorhabditis elegans deletion ...   \n",
      "1  GEO_GSE110842  Sequencing of Caenorhabditis elegans overexpre...   \n",
      "\n",
      "             species_name  flag_raised               t2t_label  \\\n",
      "0  Caenorhabditis elegans        False  Caenorhabditis elegans   \n",
      "1  Caenorhabditis elegans        False  Caenorhabditis elegans   \n",
      "\n",
      "            CURIE  Mapping Score        _id  \n",
      "0  NCBITAXON:6239          0.995  GSE110840  \n",
      "1  NCBITAXON:6239          0.995  GSE110842  \n"
     ]
    }
   ],
   "source": [
    "def fix_id(identifier):\n",
    "    if 'GEO_GSE' in identifier:\n",
    "        newid = identifier.replace('GEO_GSE','GSE')\n",
    "    else:\n",
    "        newid = identifier\n",
    "    return newid\n",
    "\n",
    "t2t_results['new_id'] = t2t_results.apply(lambda row: fix_id(row['_id']),axis=1)\n",
    "t2t_results.rename(columns={'_id':'old_id','Label':'t2t_label'},inplace=True)\n",
    "t2t_results.rename(columns={'new_id':'_id'},inplace=True)\n",
    "print(t2t_results.head(n=2))"
   ]
  },
  {
   "cell_type": "code",
   "execution_count": 25,
   "id": "5bff32a4",
   "metadata": {},
   "outputs": [
    {
     "name": "stdout",
     "output_type": "stream",
     "text": [
      "167014\n"
     ]
    }
   ],
   "source": [
    "matched_merged = t2t_results.merge(clean_processed,on=['_id','name','CURIE'],how='inner')\n",
    "print(len(matched_merged))\n",
    "matched_merged.to_csv(os.path.join('data',f'{query_type}_matched_merged.tsv',sep='\\t',header=True))"
   ]
  },
  {
   "cell_type": "code",
   "execution_count": 26,
   "id": "7d821691",
   "metadata": {},
   "outputs": [
    {
     "name": "stdout",
     "output_type": "stream",
     "text": [
      "29547\n"
     ]
    }
   ],
   "source": [
    "unmatched = t2t_results.loc[~t2t_results['_id'].isin(matched_merged['_id'].unique().tolist())]\n",
    "print(len(unmatched))"
   ]
  },
  {
   "cell_type": "code",
   "execution_count": 28,
   "id": "3eff49b6",
   "metadata": {},
   "outputs": [
    {
     "name": "stdout",
     "output_type": "stream",
     "text": [
      "64\n",
      "29157\n"
     ]
    }
   ],
   "source": [
    "corresponding_unmatched = clean_processed.loc[clean_processed['_id'].isin(unmatched['_id'].unique().tolist())]\n",
    "print(len(corresponding_unmatched))\n",
    "flagged_unmatched = flagged.loc[flagged['_id'].isin(unmatched['_id'].unique().tolist())]\n",
    "print(len(flagged_unmatched))"
   ]
  },
  {
   "cell_type": "code",
   "execution_count": 38,
   "id": "9824eb77",
   "metadata": {},
   "outputs": [
    {
     "name": "stdout",
     "output_type": "stream",
     "text": [
      "0\n"
     ]
    }
   ],
   "source": [
    "accounted_ids = list(set(corresponding_unmatched['_id'].unique().tolist()).union(set(flagged_unmatched['_id'].unique().tolist())))\n",
    "not_found = unmatched.loc[~unmatched['_id'].isin(accounted_ids)]\n",
    "print(len(not_found))                                                 "
   ]
  },
  {
   "cell_type": "code",
   "execution_count": 40,
   "id": "c4fb8d8b",
   "metadata": {},
   "outputs": [
    {
     "name": "stdout",
     "output_type": "stream",
     "text": [
      "         _id  _score                                               name  \\\n",
      "0  GSE123173     1.0  Switching from Random to Imprinted X-inactivat...   \n",
      "1   GSE28539     1.0                   RNA-seq of Taxus chinensis cells   \n",
      "\n",
      "                                             species       _ignored  \\\n",
      "0  {'alternateName': ['Mus musculus domesticus x ...  [all.keyword]   \n",
      "1  {'alternateName': ['Chinese yew', 'Taxus chine...  [all.keyword]   \n",
      "\n",
      "             CURIE_x         old_id  \\\n",
      "0  NCBITAXON:1266728  GEO_GSE123173   \n",
      "1    NCBITAXON:29808   GEO_GSE28539   \n",
      "\n",
      "                                 species_name  flag_raised  \\\n",
      "0  Mus musculus domesticus x M. m. molossinus        False   \n",
      "1            Taxus wallichiana var. chinensis        False   \n",
      "\n",
      "                     Label           CURIE_y  Mapping Score  \n",
      "0  Mus musculus molossinus   NCBITAXON:57486          0.762  \n",
      "1        Taxus wallichiana  NCBITAXON:147273          0.827  \n",
      "        _id  _score                                               name  \\\n",
      "0  GSE25823     1.0  The Ecoresponsive Genome of Daphnia pulex: Emp...   \n",
      "1  GSE47942     1.0  Dispersal, flight metabolism and gene expressi...   \n",
      "\n",
      "                       species       _ignored CURIE_x        old_id  \\\n",
      "0    {'name': 'Daphnia pulex'}  [all.keyword]      -1  GEO_GSE25823   \n",
      "1  {'name': 'Melitaea cinxia'}  [all.keyword]      -1  GEO_GSE47942   \n",
      "\n",
      "      species_name  flag_raised            Label           CURIE_y  \\\n",
      "0    Daphnia pulex        False    Daphnia pulex    NCBITAXON:6669   \n",
      "1  Melitaea cinxia        False  Melitaea cinxia  NCBITAXON:113334   \n",
      "\n",
      "   Mapping Score  \n",
      "0          0.998  \n",
      "1          0.999  \n"
     ]
    }
   ],
   "source": [
    "mismatch = corresponding_unmatched.merge(unmatched,on=['_id','name'],how='inner')\n",
    "print(mismatch.head(n=2))\n",
    "\n",
    "t2t_no_id = flagged_unmatched.merge(unmatched,on=['_id','name'],how='inner')\n",
    "print(t2t_no_id.head(n=2))"
   ]
  },
  {
   "cell_type": "code",
   "execution_count": 44,
   "id": "cb43b140",
   "metadata": {},
   "outputs": [],
   "source": [
    "failed_to_parse = pd.read_csv(os.path.join('data',f'{query_type}_t2t_mapped_flagged.tsv'), delimiter='\\t', header=0, index_col=0)\n",
    "results = {\n",
    "    \"Successful Text2Term mappings\": len(t2t_results),\n",
    "    \"Issues parsing species field for mapping\": len(failed_to_parse),\n",
    "    \"species with no identifiers from staging\": len(flagged),\n",
    "    \"Species with identifiers from staging\": len(clean_processed),\n",
    "    \"Text2Term mapping matched Pubtator\": len(matched_merged),\n",
    "    \"Text2Term mapping did NOT match Pubtator\": len(corresponding_unmatched),\n",
    "    \"Text2Term mapping matched to species with no id from staging\": len(flagged_unmatched),\n",
    "    \"Number of ids with T2T mappings that are unaccounted for\": len(not_found)\n",
    "}\n",
    "\n",
    "with open(os.path.join('data',f'{query_type}_t2t_pubtator_compare.json'),'w') as outwrite:\n",
    "    outwrite.write(json.dumps(results))\n",
    "\n",
    "mismatch.to_csv(os.path.join('data',f'{query_type}_t2t_disagree_pubtator.tsv'),sep='\\t', header=True)\n",
    "t2t_no_id.to_csv(os.path.join('data',f'{query_type}_t2t_no_id.tsv'),sep='\\t', header=True)"
   ]
  },
  {
   "cell_type": "code",
   "execution_count": null,
   "id": "67adddae",
   "metadata": {},
   "outputs": [],
   "source": []
  }
 ],
 "metadata": {
  "kernelspec": {
   "display_name": "Python 3 (ipykernel)",
   "language": "python",
   "name": "python3"
  },
  "language_info": {
   "codemirror_mode": {
    "name": "ipython",
    "version": 3
   },
   "file_extension": ".py",
   "mimetype": "text/x-python",
   "name": "python",
   "nbconvert_exporter": "python",
   "pygments_lexer": "ipython3",
   "version": "3.10.10"
  }
 },
 "nbformat": 4,
 "nbformat_minor": 5
}
