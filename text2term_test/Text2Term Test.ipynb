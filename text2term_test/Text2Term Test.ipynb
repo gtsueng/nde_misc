{
 "cells": [
  {
   "cell_type": "code",
   "execution_count": 17,
   "id": "79a03664",
   "metadata": {},
   "outputs": [],
   "source": [
    "import text2term\n",
    "import pandas\n",
    "import pickle\n",
    "import os\n",
    "import pandas as pd\n",
    "import json"
   ]
  },
  {
   "cell_type": "code",
   "execution_count": 2,
   "id": "5b495586",
   "metadata": {},
   "outputs": [
    {
     "name": "stdout",
     "output_type": "stream",
     "text": [
      "2023-11-11 08:07:54 INFO [text2term.term_collector]: Loading ontology https://purl.obolibrary.org/obo/ncbitaxon.owl...\n",
      "2023-11-11 08:21:48 INFO [text2term.term_collector]: ...done (ontology loading time: 589.27s)\n",
      "2023-11-11 08:21:48 INFO [text2term.term_collector]: Collecting ontology term details...\n",
      "2023-11-11 08:28:29 INFO [text2term.term_collector]: ...done: collected 2523789 ontology terms (collection time: 401.07s)\n",
      "2023-11-11 08:33:36 INFO [text2term.t2t]: Filtered ontology terms to those of type: any\n",
      "2023-11-11 08:33:37 INFO [text2term.t2t]: Caching ontology https://purl.obolibrary.org/obo/ncbitaxon.owl to: cache\\ncbitaxon\n"
     ]
    },
    {
     "data": {
      "text/plain": [
       "<text2term.onto_cache.OntologyCache at 0x275720ebfd0>"
      ]
     },
     "execution_count": 2,
     "metadata": {},
     "output_type": "execute_result"
    }
   ],
   "source": [
    "text2term.cache_ontology(\"https://purl.obolibrary.org/obo/ncbitaxon.owl\", \"ncbitaxon\")"
   ]
  },
  {
   "cell_type": "code",
   "execution_count": 8,
   "id": "d0ed2843",
   "metadata": {},
   "outputs": [
    {
     "name": "stdout",
     "output_type": "stream",
     "text": [
      "             _id       _ignored  _score  \\\n",
      "0  GEO_GSE110840  [all.keyword]     1.0   \n",
      "1  GEO_GSE110842  [all.keyword]     1.0   \n",
      "\n",
      "                                                name  \\\n",
      "0  Sequencing of Caenorhabditis elegans deletion ...   \n",
      "1  Sequencing of Caenorhabditis elegans overexpre...   \n",
      "\n",
      "                                species  \n",
      "0  [{'name': 'Caenorhabditis elegans'}]  \n",
      "1  [{'name': 'Caenorhabditis elegans'}]  \n"
     ]
    }
   ],
   "source": [
    "with open(os.path.join('data','raw_species_results.pickle'),'rb') as infile:\n",
    "    raw_species = pickle.load(infile)\n",
    "\n",
    "print(raw_species.head(n=2))"
   ]
  },
  {
   "cell_type": "code",
   "execution_count": 15,
   "id": "26afc933",
   "metadata": {},
   "outputs": [
    {
     "name": "stdout",
     "output_type": "stream",
     "text": [
      "200837\n",
      "202257\n",
      "             _id       _ignored  _score  \\\n",
      "0  GEO_GSE110840  [all.keyword]     1.0   \n",
      "1  GEO_GSE110842  [all.keyword]     1.0   \n",
      "\n",
      "                                                name  \\\n",
      "0  Sequencing of Caenorhabditis elegans deletion ...   \n",
      "1  Sequencing of Caenorhabditis elegans overexpre...   \n",
      "\n",
      "                              species  \n",
      "0  {'name': 'Caenorhabditis elegans'}  \n",
      "1  {'name': 'Caenorhabditis elegans'}  \n"
     ]
    }
   ],
   "source": [
    "print(len(raw_species))\n",
    "\n",
    "raw_boom = raw_species.explode('species')\n",
    "print(len(raw_boom))\n",
    "print(raw_boom.head(n=2))"
   ]
  },
  {
   "cell_type": "code",
   "execution_count": 24,
   "id": "2d3154fc",
   "metadata": {},
   "outputs": [
    {
     "name": "stdout",
     "output_type": "stream",
     "text": [
      "             _id       _ignored  _score  \\\n",
      "0  GEO_GSE110840  [all.keyword]     1.0   \n",
      "1  GEO_GSE110842  [all.keyword]     1.0   \n",
      "\n",
      "                                                name  \\\n",
      "0  Sequencing of Caenorhabditis elegans deletion ...   \n",
      "1  Sequencing of Caenorhabditis elegans overexpre...   \n",
      "\n",
      "                              species            species_name  flag_raised  \n",
      "0  {'name': 'Caenorhabditis elegans'}  Caenorhabditis elegans        False  \n",
      "1  {'name': 'Caenorhabditis elegans'}  Caenorhabditis elegans        False  \n"
     ]
    }
   ],
   "source": [
    "def pop_species(species_dict):\n",
    "    if isinstance(species_dict,dict):\n",
    "        x = species_dict['name']\n",
    "    elif isinstance(species_dict,str):\n",
    "        x = species_dict\n",
    "    return x\n",
    "\n",
    "## Raise a flag if the species was not formatted as a dictionary\n",
    "def flag_species(species_dict):\n",
    "    if isinstance(species_dict,dict):\n",
    "        x = False\n",
    "    elif isinstance(species_dict,str):\n",
    "        x = True\n",
    "    return x    \n",
    "\n",
    "raw_boom['species_name'] = raw_boom.apply(lambda row: pop_species(row['species']),axis=1)\n",
    "raw_boom['flag_raised'] = raw_boom.apply(lambda row: flag_species(row['species']),axis=1)\n",
    "print(raw_boom.head(n=2))\n",
    "clean_dict = raw_boom[['_id','name','species_name','flag_raised']].copy()"
   ]
  },
  {
   "cell_type": "code",
   "execution_count": 25,
   "id": "97115ca0",
   "metadata": {},
   "outputs": [
    {
     "name": "stdout",
     "output_type": "stream",
     "text": [
      "             _id                                               name  \\\n",
      "0  GEO_GSE110840  Sequencing of Caenorhabditis elegans deletion ...   \n",
      "1  GEO_GSE110842  Sequencing of Caenorhabditis elegans overexpre...   \n",
      "\n",
      "             species_name  flag_raised  \n",
      "0  Caenorhabditis elegans        False  \n",
      "1  Caenorhabditis elegans        False  \n"
     ]
    }
   ],
   "source": [
    "print(clean_dict.head(n=2))"
   ]
  },
  {
   "cell_type": "code",
   "execution_count": 27,
   "id": "8ae479db",
   "metadata": {},
   "outputs": [
    {
     "name": "stdout",
     "output_type": "stream",
     "text": [
      "2565\n"
     ]
    }
   ],
   "source": [
    "no_dups = clean_dict['species_name'].unique().tolist()\n",
    "print(len(no_dups))"
   ]
  },
  {
   "cell_type": "code",
   "execution_count": 28,
   "id": "8b41a35b",
   "metadata": {},
   "outputs": [
    {
     "name": "stdout",
     "output_type": "stream",
     "text": [
      "2023-11-13 10:38:58 INFO [text2term.t2t]: Loading cached ontology from: cache\\ncbitaxon\\ncbitaxon-term-details.pickle\n",
      "2023-11-13 10:41:30 INFO [text2term.t2t]: Filtered ontology terms to those of type: class\n",
      "2023-11-13 10:41:30 INFO [text2term.t2t]: Mapping 2565 source terms to ncbitaxon\n",
      "2023-11-13 10:46:52 INFO [text2term.t2t]: ...done (mapping time: 321.58s seconds)\n",
      "CPU times: total: 7min 57s\n",
      "Wall time: 8min 33s\n"
     ]
    }
   ],
   "source": [
    "%%time\n",
    "t2t_result = text2term.map_terms(no_dups, \"ncbitaxon\", use_cache=True)"
   ]
  },
  {
   "cell_type": "code",
   "execution_count": 31,
   "id": "d2d7b63e",
   "metadata": {},
   "outputs": [
    {
     "name": "stdout",
     "output_type": "stream",
     "text": [
      "                                  Source Term ID    Source Term  \\\n",
      "3180  http://ccb.hms.harvard.edu/t2t/R3Go4L6RwRz  Abies pinsapo   \n",
      "3181  http://ccb.hms.harvard.edu/t2t/R3Go4L6RwRz  Abies pinsapo   \n",
      "\n",
      "               Mapped Term Label Mapped Term CURIE  \\\n",
      "3180               Abies pinsapo   NCBITAXON:56046   \n",
      "3181  Abies pinsapo var. pinsapo  NCBITAXON:928732   \n",
      "\n",
      "                                      Mapped Term IRI  Mapping Score  Tags  \n",
      "3180   http://purl.obolibrary.org/obo/NCBITaxon_56046          0.997  None  \n",
      "3181  http://purl.obolibrary.org/obo/NCBITaxon_928732          0.923  None  \n"
     ]
    }
   ],
   "source": [
    "t2t_result.sort_values(['Source Term','Mapping Score'], ascending = [True,False], inplace=True)\n",
    "print(t2t_result.head(n=2))"
   ]
  },
  {
   "cell_type": "code",
   "execution_count": 32,
   "id": "f529b3a2",
   "metadata": {},
   "outputs": [
    {
     "name": "stdout",
     "output_type": "stream",
     "text": [
      "2564\n"
     ]
    }
   ],
   "source": [
    "top_score = t2t_result.drop_duplicates('Source Term',keep='first')\n",
    "print(len(top_score))"
   ]
  },
  {
   "cell_type": "code",
   "execution_count": 34,
   "id": "a08e5610",
   "metadata": {},
   "outputs": [],
   "source": [
    "t2t_dictdf = top_score[['Source Term','Mapped Term Label','Mapped Term CURIE', 'Mapping Score']].copy()\n",
    "t2t_dictdf.rename(columns={'Source Term':'species_name', 'Mapped Term CURIE':'CURIE','Mapped Term Label':'Label'}, inplace=True)"
   ]
  },
  {
   "cell_type": "code",
   "execution_count": 36,
   "id": "5b25ce05",
   "metadata": {},
   "outputs": [
    {
     "name": "stdout",
     "output_type": "stream",
     "text": [
      "202256\n",
      "202182\n"
     ]
    }
   ],
   "source": [
    "mapped_dict = clean_dict.merge(t2t_dictdf, on='species_name', how='inner')\n",
    "print(len(mapped_dict))\n",
    "mapped_dict.drop_duplicates(keep='first', inplace=True)\n",
    "print(len(mapped_dict))"
   ]
  },
  {
   "cell_type": "code",
   "execution_count": 41,
   "id": "610b5581",
   "metadata": {},
   "outputs": [
    {
     "name": "stdout",
     "output_type": "stream",
     "text": [
      "197509\n"
     ]
    }
   ],
   "source": [
    "no_flags = mapped_dict.loc[mapped_dict['flag_raised']==False]\n",
    "flagged = mapped_dict.loc[mapped_dict['flag_raised']==True]\n",
    "print(len(no_flags))"
   ]
  },
  {
   "cell_type": "code",
   "execution_count": 43,
   "id": "6e173a2a",
   "metadata": {},
   "outputs": [],
   "source": [
    "no_flags.to_csv(os.path.join('data','t2t_mapped_no_flags.tsv'), sep='\\t', header=True)\n",
    "flagged.to_csv(os.path.join('data','t2t_mapped_flagged.tsv'), sep='\\t', header=True)"
   ]
  },
  {
   "cell_type": "code",
   "execution_count": null,
   "id": "60e3ed34",
   "metadata": {},
   "outputs": [],
   "source": []
  }
 ],
 "metadata": {
  "kernelspec": {
   "display_name": "Python 3 (ipykernel)",
   "language": "python",
   "name": "python3"
  },
  "language_info": {
   "codemirror_mode": {
    "name": "ipython",
    "version": 3
   },
   "file_extension": ".py",
   "mimetype": "text/x-python",
   "name": "python",
   "nbconvert_exporter": "python",
   "pygments_lexer": "ipython3",
   "version": "3.10.10"
  }
 },
 "nbformat": 4,
 "nbformat_minor": 5
}
