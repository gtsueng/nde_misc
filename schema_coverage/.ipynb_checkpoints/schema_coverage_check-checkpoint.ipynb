{
 "cells": [
  {
   "cell_type": "markdown",
   "id": "88eb9d5f",
   "metadata": {},
   "source": [
    "## Check Coverage of Schema properties by repository"
   ]
  },
  {
   "cell_type": "code",
   "execution_count": 1,
   "id": "c0e9b224",
   "metadata": {},
   "outputs": [],
   "source": [
    "import pandas as pd\n",
    "import json\n",
    "import requests\n",
    "from datetime import datetime\n",
    "import os"
   ]
  },
  {
   "cell_type": "code",
   "execution_count": 2,
   "id": "1b3571f8",
   "metadata": {},
   "outputs": [],
   "source": [
    "def generate_coverage_table(sourcelist,propertylist):\n",
    "    ## classify the propertylist:\n",
    "    if 'name' in propertylist:\n",
    "        listtype = \"MR\"\n",
    "        if 'version' in propertylist:\n",
    "            listtype = 'MRO'\n",
    "    else:\n",
    "        listtype = \"O\"\n",
    "    ## Generate base df\n",
    "    print('Generating base df')\n",
    "    allist = []\n",
    "    for eachproperty in propertylist:\n",
    "        api_base_call = f'https://api.data.niaid.nih.gov/v1/query?q=_exists_:{eachproperty}'\n",
    "        r = requests.get(api_base_call)\n",
    "        tmpdict = json.loads(r.text)\n",
    "        totals = tmpdict['total']\n",
    "        allist.append({'property':eachproperty,'All':totals})\n",
    "    alldf = pd.DataFrame(allist)\n",
    "    ## Append all other coverage data\n",
    "    totaldf = alldf.copy()\n",
    "    print('now fetching source coverage')\n",
    "    for eachsource in sourcelist:\n",
    "        sourcetotallist = []\n",
    "        for eachproperty in propertylist:\n",
    "            api_base_call = f'https://api.data.niaid.nih.gov/v1/query?q=_exists_:{eachproperty} AND includedInDataCatalog.name:\"{eachsource}\"'\n",
    "            r = requests.get(api_base_call)\n",
    "            tmpdict = json.loads(r.text)\n",
    "            totals = tmpdict['total']\n",
    "            sourcetotallist.append({'property':eachproperty,f'{eachsource}':totals})\n",
    "        sourcedf = pd.DataFrame(sourcetotallist)\n",
    "        print(len(sourcedf),' properties obtained for ',eachsource)\n",
    "        totaldf = totaldf.merge(sourcedf,on='property',how='left')\n",
    "        print(totaldf.head(n=1))\n",
    "    ## Export the dataframe\n",
    "    now = datetime.now() # current date and time\n",
    "    date_info = now.strftime(\"%Y-%m-%d\")\n",
    "    totaldf.to_csv(os.path.join('coverage',f\"{date_info}_schema_coverage({listtype}).tsv\"),sep='\\t',header=True)"
   ]
  },
  {
   "cell_type": "code",
   "execution_count": 3,
   "id": "29e33a03",
   "metadata": {},
   "outputs": [
    {
     "name": "stdout",
     "output_type": "stream",
     "text": [
      "['name', 'description', 'author', 'author.name', 'author.givenName', 'author.familyName', 'url', 'measurementTechnique', 'measurementTechnique.name', 'includedInDataCatalog', 'includedInDataCatalog.name', 'distribution', 'distribution.contentUrl', 'distribution.dateModified', 'funding', 'funding.funder.name', 'funding.identifier', 'date', 'dateCreated', 'dateModified', 'datePublished', 'citedBy', 'doi', 'infectiousAgent', 'healthCondition', 'species', 'variableMeasured', 'citation', 'citation.pmid', 'conditionsOfAccess', 'isBasedOn', 'keywords', 'license', 'sdPublisher', 'spatialCoverage', 'temporalCoverage', 'topicCategory', 'identifier', 'usageInfo', 'interactionStatistic']\n"
     ]
    }
   ],
   "source": [
    "propertylistfile = os.path.join('data','propertylist.txt')\n",
    "propertylist = []\n",
    "with open(propertylistfile,'r') as inputfile:\n",
    "    for line in inputfile:\n",
    "        propertylist.append(line.strip())\n",
    "print(propertylist)\n",
    "\n",
    "sourcelistfile = os.path.join('data','sourcelist.txt')\n",
    "sourcelist = []\n",
    "with open(sourcelistfile,'r') as srcfile:\n",
    "    for line in srcfile:\n",
    "        sourcelist.append(line.strip())\n",
    "\n",
    "optionalpropsfile = os.path.join('data','optionallist.txt')\n",
    "optionallist = []\n",
    "with open(optionalpropsfile,'r') as optfile:\n",
    "    for line in optfile:\n",
    "        optionallist.append(line.strip())"
   ]
  },
  {
   "cell_type": "code",
   "execution_count": 4,
   "id": "822475ec",
   "metadata": {},
   "outputs": [
    {
     "name": "stdout",
     "output_type": "stream",
     "text": [
      "['isRelatedTo', 'isSimilarTo', 'isBasisFor', 'nctid', 'abstract', 'aggregateRating', 'creator', 'hasPart', 'inLanguage', 'isAccessibleForFree', 'isPartOf', 'version', 'alternateName', 'mainEntityOfPage', 'sameAs', 'relationship']\n",
      "16\n"
     ]
    }
   ],
   "source": [
    "print(optionallist)\n",
    "print(len(optionallist))"
   ]
  },
  {
   "cell_type": "code",
   "execution_count": null,
   "id": "48aa89c4",
   "metadata": {},
   "outputs": [],
   "source": [
    "%%time\n",
    "generate_coverage_table(sourcelist,optionallist)"
   ]
  },
  {
   "cell_type": "markdown",
   "id": "c9142b3b",
   "metadata": {},
   "source": [
    "## Test function parts"
   ]
  },
  {
   "cell_type": "code",
   "execution_count": null,
   "id": "bf9f7a58",
   "metadata": {},
   "outputs": [],
   "source": [
    "example_call = 'https://api.data.niaid.nih.gov/v1/query?q=_exists_:isRelatedTo'\n",
    "#example_call = 'https://api.data.niaid.nih.gov/v1/query?q=_exists_:isRelatedTo AND includedInDataCatalog.name:\"Zenodo\"'\n",
    "\n",
    "r = requests.get(example_call)\n",
    "tmpdict = json.loads(r.text)\n",
    "print(tmpdict['total'])"
   ]
  },
  {
   "cell_type": "code",
   "execution_count": null,
   "id": "4ec951fb",
   "metadata": {},
   "outputs": [],
   "source": [
    "allist = []\n",
    "for eachproperty in optionallist:\n",
    "    api_base_call = f'https://api.data.niaid.nih.gov/v1/query?q=_exists_:{eachproperty}'\n",
    "    r = requests.get(api_base_call)\n",
    "    tmpdict = json.loads(r.text)\n",
    "    totals = tmpdict['total']\n",
    "    allist.append({'property':eachproperty,'All':totals})\n",
    "print(allist)"
   ]
  },
  {
   "cell_type": "code",
   "execution_count": null,
   "id": "c6ba9311",
   "metadata": {},
   "outputs": [],
   "source": [
    "## Generate the zenodo table as default\n",
    "\n",
    "zenodolist = []\n",
    "for eachproperty in propertylist:\n",
    "    api_base_call = f'https://api.data.niaid.nih.gov/v1/query?q=_exists_:{eachproperty} AND includedInDataCatalog.name:\"Zenodo\"'\n",
    "    r = requests.get(api_base_call)\n",
    "    tmpdict = json.loads(r.text)\n",
    "    totals = tmpdict['total']\n",
    "    zenodolist.append({'property':eachproperty,'Zenodo':totals})\n",
    "\n",
    "zenododf = pd.DataFrame(zenodolist)"
   ]
  },
  {
   "cell_type": "code",
   "execution_count": null,
   "id": "411836a9",
   "metadata": {},
   "outputs": [],
   "source": [
    "print(zenododf)"
   ]
  },
  {
   "cell_type": "code",
   "execution_count": null,
   "id": "cb9d31a9",
   "metadata": {},
   "outputs": [],
   "source": [
    "%%time\n",
    "totaldf = zenododf.copy()\n",
    "for eachsource in sourcelist:\n",
    "    sourcetotallist = []\n",
    "    print(eachsource)\n",
    "    for eachproperty in propertylist:\n",
    "        api_base_call = f'https://api.data.niaid.nih.gov/v1/query?q=_exists_:{eachproperty} AND includedInDataCatalog.name:\"{eachsource}\"'\n",
    "        r = requests.get(api_base_call)\n",
    "        tmpdict = json.loads(r.text)\n",
    "        totals = tmpdict['total']\n",
    "        sourcetotallist.append({'property':eachproperty,f'{eachsource}':totals})\n",
    "    sourcedf = pd.DataFrame(sourcetotallist)\n",
    "    totaldf = totaldf.merge(sourcedf,on='property',how='left')\n",
    "    print(totaldf.head(n=2))"
   ]
  },
  {
   "cell_type": "code",
   "execution_count": null,
   "id": "373f6ca9",
   "metadata": {},
   "outputs": [],
   "source": [
    "print(totaldf.head(n=2))"
   ]
  },
  {
   "cell_type": "code",
   "execution_count": null,
   "id": "7c3829b4",
   "metadata": {},
   "outputs": [],
   "source": [
    "totaldf.to_csv('schema_coverage_2023.10.11.txt',sep='\\t',header=True)"
   ]
  },
  {
   "cell_type": "code",
   "execution_count": null,
   "id": "91106f37",
   "metadata": {},
   "outputs": [],
   "source": [
    "%%time\n",
    "mendeleylist = []\n",
    "for eachproperty in propertylist:\n",
    "    api_base_call = f'https://api.data.niaid.nih.gov/v1/query?q=_exists_:{eachproperty} AND includedInDataCatalog.name:\"Mendeley\"'\n",
    "    r = requests.get(api_base_call)\n",
    "    tmpdict = json.loads(r.text)\n",
    "    totals = tmpdict['total']\n",
    "    mendeleylist.append({'property':eachproperty,'Zenodo':totals})\n",
    "\n",
    "mendeleydf = pd.DataFrame(mendeleylist)"
   ]
  },
  {
   "cell_type": "code",
   "execution_count": null,
   "id": "1a2b7475",
   "metadata": {},
   "outputs": [],
   "source": [
    "print(mendeleydf)"
   ]
  },
  {
   "cell_type": "code",
   "execution_count": null,
   "id": "7c77f77b",
   "metadata": {},
   "outputs": [],
   "source": []
  }
 ],
 "metadata": {
  "kernelspec": {
   "display_name": "Python 3 (ipykernel)",
   "language": "python",
   "name": "python3"
  },
  "language_info": {
   "codemirror_mode": {
    "name": "ipython",
    "version": 3
   },
   "file_extension": ".py",
   "mimetype": "text/x-python",
   "name": "python",
   "nbconvert_exporter": "python",
   "pygments_lexer": "ipython3",
   "version": "3.10.10"
  }
 },
 "nbformat": 4,
 "nbformat_minor": 5
}
