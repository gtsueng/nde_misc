{
 "cells": [
  {
   "cell_type": "markdown",
   "id": "c987fd53",
   "metadata": {},
   "source": [
    "## Descriptive length coverage\n",
    "\n",
    "This notebook checks the length of descriptive text (length of name + description fields). In evaluating measurementTechnique extraction and Clinical / non-clinical study sorting by LLMs, hallucinations were generally much higher when there was less descriptive information available.\n",
    "\n",
    "For example, measTech extraction had different minimum lengths (depending on repository) in order to succeed:\n",
    "* For technique-based repositories\n",
    "  * the minimum length of name+description was 50 characters\n",
    "* For GREIs, the minimum length was much higher\n",
    "  * Harvard Dataverse: 300 characters\n",
    "  * Mendeley: 250 characters\n",
    "  * Zenodo: 200 characters\n"
   ]
  },
  {
   "cell_type": "code",
   "execution_count": 1,
   "id": "a913cad8",
   "metadata": {},
   "outputs": [],
   "source": [
    "import os\n",
    "import json\n",
    "import pandas as pd\n",
    "import requests\n",
    "import math\n",
    "import time"
   ]
  },
  {
   "cell_type": "code",
   "execution_count": 2,
   "id": "07eec0b3",
   "metadata": {},
   "outputs": [],
   "source": [
    "sources = [\"Figshare\",\"Mendeley\",\"Harvard+Dataverse\",\"Zenodo\"]"
   ]
  },
  {
   "cell_type": "code",
   "execution_count": 3,
   "id": "553ba86a",
   "metadata": {},
   "outputs": [
    {
     "name": "stdout",
     "output_type": "stream",
     "text": [
      "now fetching:  Figshare\n",
      "now fetching:  Mendeley\n",
      "now fetching:  Harvard+Dataverse\n",
      "now fetching:  Zenodo\n"
     ]
    }
   ],
   "source": [
    "allresults = pd.DataFrame([\"_id\",\"name\",\"description\"])\n",
    "for eachsource in sources:\n",
    "    print(\"now fetching: \",eachsource)\n",
    "    r = requests.get(f'https://api-staging.data.niaid.nih.gov/v1/query?=&q=includedInDataCatalog.name:\"{eachsource}\"&fields=_id,name,description&fetch_all=true')\n",
    "    results = json.loads(r.text)\n",
    "    tmpdf = pd.DataFrame(results['hits'])\n",
    "    allresults = pd.concat((allresults,tmpdf),ignore_index=True)\n",
    "    if results['total']>=500:\n",
    "        i=0\n",
    "        maxscrolls = math.ceil(results['total']/500)\n",
    "        scroll_id = results['_scroll_id']\n",
    "        while i < maxscrolls:\n",
    "            try:\n",
    "                r2 = requests.get(f'https://api-staging.data.niaid.nih.gov/v1/query?scroll_id={scroll_id}')\n",
    "                tmp = json.loads(r2.text)\n",
    "                scroll_id = tmp['_scroll_id']\n",
    "                tmpdf = pd.DataFrame(tmp['hits'])\n",
    "                allresults = pd.concat((allresults,tmpdf),ignore_index=True)\n",
    "                i=i+1\n",
    "            except:\n",
    "                break"
   ]
  },
  {
   "cell_type": "code",
   "execution_count": 12,
   "id": "a9f963de",
   "metadata": {},
   "outputs": [],
   "source": [
    "rawdf = allresults[['_id','name','description']].copy().fillna(\"N/A\")\n",
    "testdf = rawdf.loc[rawdf['_id']!=\"N/A\"].copy()\n",
    "testdf['text'] = testdf['name']+'\\n'+testdf['description']\n",
    "testdf['redundant descript?'] = testdf['name'] == testdf['description']\n",
    "testdf['length'] = testdf['text'].astype(str).str.len()"
   ]
  },
  {
   "cell_type": "code",
   "execution_count": 14,
   "id": "96cf61b5",
   "metadata": {},
   "outputs": [],
   "source": [
    "def assume_src(x):\n",
    "    tmp = x.split('_')\n",
    "    source = tmp[0]\n",
    "    return source"
   ]
  },
  {
   "cell_type": "code",
   "execution_count": 15,
   "id": "dea029c8",
   "metadata": {},
   "outputs": [
    {
     "name": "stdout",
     "output_type": "stream",
     "text": [
      "                 _id                                               name  \\\n",
      "3  figshare_17034748        Properties of study participants (N = 214).   \n",
      "4  figshare_17034754  Pearson correlation coefficient between CSE, L...   \n",
      "\n",
      "                                         description  \\\n",
      "3        Properties of study participants (N = 214).   \n",
      "4  Pearson correlation coefficient between CSE, L...   \n",
      "\n",
      "                                                text  redundant descript?  \\\n",
      "3  Properties of study participants (N = 214).\\nP...                 True   \n",
      "4  Pearson correlation coefficient between CSE, L...                 True   \n",
      "\n",
      "   length    source  \n",
      "3      87  figshare  \n",
      "4     181  figshare  \n"
     ]
    }
   ],
   "source": [
    "testdf['source'] = testdf.apply(lambda row: assume_src(row['_id']), axis=1)\n",
    "print(testdf.head(n=2))"
   ]
  },
  {
   "cell_type": "code",
   "execution_count": 17,
   "id": "90e2d3e7",
   "metadata": {},
   "outputs": [],
   "source": [
    "minlengths = [50,100,200,300,400,500]"
   ]
  },
  {
   "cell_type": "code",
   "execution_count": 18,
   "id": "135702a8",
   "metadata": {},
   "outputs": [
    {
     "name": "stdout",
     "output_type": "stream",
     "text": [
      "       source  counts redundant descript? minlength\n",
      "0   dataverse    3523               False        50\n",
      "1   dataverse     121                True        50\n",
      "2       dryad      16               False        50\n",
      "3       dryad       1                True        50\n",
      "4    figshare   32836               False        50\n",
      "5    figshare   18330                True        50\n",
      "6    mendeley    1979               False        50\n",
      "7    mendeley     345                True        50\n",
      "8      zenodo   21113               False        50\n",
      "9      zenodo     860                True        50\n",
      "10  dataverse    4610               False       100\n",
      "11  dataverse     222                True       100\n",
      "12      dryad     125               False       100\n",
      "13      dryad       3                True       100\n",
      "14   figshare   80143               False       100\n",
      "15   figshare  100328                True       100\n",
      "16   mendeley   13829               False       100\n",
      "17   mendeley     768                True       100\n",
      "18     zenodo   47209               False       100\n",
      "19     zenodo    1949                True       100\n",
      "20  dataverse    8457               False       200\n",
      "21  dataverse     406                True       200\n",
      "22      dryad     257               False       200\n",
      "23      dryad       3                True       200\n",
      "24   figshare  258888               False       200\n",
      "25   figshare  331059                True       200\n",
      "26   mendeley   34394               False       200\n",
      "27   mendeley    1426                True       200\n",
      "28     zenodo   94650               False       200\n",
      "29     zenodo    3389                True       200\n",
      "30  dataverse   10936               False       300\n",
      "31  dataverse     540                True       300\n",
      "32      dryad     348               False       300\n",
      "33      dryad       3                True       300\n",
      "34   figshare  431477               False       300\n",
      "35   figshare  427219                True       300\n",
      "36   mendeley   51994               False       300\n",
      "37   mendeley    2006                True       300\n",
      "38     zenodo  129730               False       300\n",
      "39     zenodo    3990                True       300\n",
      "40  dataverse   12493               False       400\n",
      "41  dataverse     588                True       400\n",
      "42      dryad     451               False       400\n",
      "43      dryad       3                True       400\n",
      "44   figshare  523562               False       400\n",
      "45   figshare  458494                True       400\n",
      "46   mendeley   62590               False       400\n",
      "47   mendeley    2216                True       400\n",
      "48     zenodo  169528               False       400\n",
      "49     zenodo    4186                True       400\n",
      "50  dataverse   13400               False       500\n",
      "51  dataverse     589                True       500\n",
      "52      dryad     589               False       500\n",
      "53      dryad       3                True       500\n",
      "54   figshare  583612               False       500\n",
      "55   figshare  467235                True       500\n",
      "56   mendeley   69670               False       500\n",
      "57   mendeley    2257                True       500\n",
      "58     zenodo  194808               False       500\n",
      "59     zenodo    4340                True       500\n"
     ]
    }
   ],
   "source": [
    "frequencydf = pd.DataFrame(columns=[\"source\",\"counts\",\"redundant descript?\",\"minlength\"])\n",
    "for eachlen in minlengths:\n",
    "    tmpdf = testdf.loc[testdf['length']<eachlen]\n",
    "    freqdf = tmpdf.groupby([\"source\",\"redundant descript?\"]).size().reset_index(name=\"counts\")\n",
    "    freqdf['minlength']=eachlen\n",
    "    frequencydf = pd.concat((frequencydf,freqdf),ignore_index=True)\n",
    "\n",
    "print(frequencydf)"
   ]
  },
  {
   "cell_type": "code",
   "execution_count": 19,
   "id": "c618382c",
   "metadata": {},
   "outputs": [],
   "source": [
    "import pickle\n",
    "\n",
    "with open(os.path.join('data','length_check','name_descript_check.pkl'),'wb') as outfile:\n",
    "    pickle.dump(testdf, outfile)"
   ]
  },
  {
   "cell_type": "code",
   "execution_count": 20,
   "id": "e7ad9bb4",
   "metadata": {},
   "outputs": [],
   "source": [
    "frequencydf.to_csv(os.path.join('data','length_check','length_frequencies.tsv'),sep='\\t',header=True)"
   ]
  },
  {
   "cell_type": "code",
   "execution_count": 4,
   "id": "bb43426c",
   "metadata": {},
   "outputs": [
    {
     "name": "stdout",
     "output_type": "stream",
     "text": [
      "                 _id                                               name  \\\n",
      "3  figshare_17034748        Properties of study participants (N = 214).   \n",
      "4  figshare_17034754  Pearson correlation coefficient between CSE, L...   \n",
      "\n",
      "                                         description  \\\n",
      "3        Properties of study participants (N = 214).   \n",
      "4  Pearson correlation coefficient between CSE, L...   \n",
      "\n",
      "                                                text  redundant descript?  \\\n",
      "3  Properties of study participants (N = 214).\\nP...                 True   \n",
      "4  Pearson correlation coefficient between CSE, L...                 True   \n",
      "\n",
      "   length    source  \n",
      "3      87  figshare  \n",
      "4     181  figshare  \n"
     ]
    }
   ],
   "source": [
    "import pickle\n",
    "\n",
    "with open(os.path.join('data','length_check','name_descript_check.pkl'),'rb') as infile:\n",
    "    data = pickle.load(infile)\n",
    "\n",
    "print(data.head(n=2))"
   ]
  },
  {
   "cell_type": "code",
   "execution_count": 7,
   "id": "2cacdd96",
   "metadata": {},
   "outputs": [
    {
     "name": "stdout",
     "output_type": "stream",
     "text": [
      "471555\n",
      "471555\n"
     ]
    }
   ],
   "source": [
    "figset = data.loc[data['source']==\"figshare\"]\n",
    "redundant_figs = figset.loc[figset['redundant descript?']==True]\n",
    "print(len(redundant_figs))\n",
    "redundant_fig_ids = redundant_figs['_id'].unique().tolist()\n",
    "print(len(redundant_fig_ids))"
   ]
  },
  {
   "cell_type": "code",
   "execution_count": 8,
   "id": "2426c31d",
   "metadata": {},
   "outputs": [],
   "source": [
    "with open(os.path.join('data','length_check','redundant_text_in_fig.txt'),'w') as outfile:\n",
    "    for figid in redundant_fig_ids:\n",
    "        outfile.write(figid+'\\n')"
   ]
  },
  {
   "cell_type": "code",
   "execution_count": 10,
   "id": "2a0fd858",
   "metadata": {},
   "outputs": [
    {
     "name": "stdout",
     "output_type": "stream",
     "text": [
      "['figshare_17034748', 'figshare_17034754', 'figshare_23694168', 'figshare_17034781', 'figshare_26108144', 'figshare_26108146', 'figshare_26108150', 'figshare_26108153', 'figshare_26108159', 'figshare_26108171']\n"
     ]
    }
   ],
   "source": [
    "print(redundant_fig_ids[0:10])"
   ]
  },
  {
   "cell_type": "code",
   "execution_count": null,
   "id": "457e95ec",
   "metadata": {},
   "outputs": [],
   "source": []
  }
 ],
 "metadata": {
  "kernelspec": {
   "display_name": "Python 3 (ipykernel)",
   "language": "python",
   "name": "python3"
  },
  "language_info": {
   "codemirror_mode": {
    "name": "ipython",
    "version": 3
   },
   "file_extension": ".py",
   "mimetype": "text/x-python",
   "name": "python",
   "nbconvert_exporter": "python",
   "pygments_lexer": "ipython3",
   "version": "3.10.10"
  }
 },
 "nbformat": 4,
 "nbformat_minor": 5
}
