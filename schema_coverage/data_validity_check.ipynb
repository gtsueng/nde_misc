{
 "cells": [
  {
   "cell_type": "markdown",
   "id": "4ec6ab43",
   "metadata": {},
   "source": [
    "## Data Validity check\n",
    "\n",
    "This notebook gets sample json records for metadata validity-checking as a schema.org-compliant JSON-LD object\n",
    "\n",
    "1. Pull the records by source and ensure decent coverage (by using _exists_ filter)\n",
    "2. Validate the json file against json-ld dump of schema.org using the jsonschema library\n",
    "  * Note, the library is very loose with the schema.org jsonld file, so everything validates fine. In comparison, the same files will give errors when checked against https://validator.schema.org/\n",
    "  * there does not appear to be an API for https://validator.schema.org/, so we can't automate that way\n",
    "  * There does not appear to be a decent path forward for validating the JSON-ld exports from the NDE against Schema.org JSON-LD in an automated fashion\n",
    "  * Instead, pull json files programmatically/systematically and manual check against: https://validator.schema.org/ \n",
    "    * Pull sample json files\n",
    "    * Validate manually\n",
    "    * Copy/paste table for downstream processing\n",
    "3. organize the validation errors into a table"
   ]
  },
  {
   "cell_type": "code",
   "execution_count": 1,
   "id": "d47b1d86",
   "metadata": {},
   "outputs": [],
   "source": [
    "import os\n",
    "import json\n",
    "import requests\n",
    "import pandas as pd\n",
    "import jsonschema"
   ]
  },
  {
   "cell_type": "code",
   "execution_count": 8,
   "id": "2f6ac578",
   "metadata": {},
   "outputs": [
    {
     "name": "stdout",
     "output_type": "stream",
     "text": [
      "['Zenodo', 'AccessClinicalData@NIAID', 'NCBI+SRA', 'ClinEpiDB', 'ImmPort', 'VEuPathDB', 'LINCS', 'Data+Discovery+Engine', 'Dryad+Digital+Repository', 'Vivli', 'Harvard+Dataverse', 'HuBMAP', 'NCBI+GEO', 'Omics+Discovery+Index+(OmicsDI)', 'Mendeley', 'MicrobiomeDB', 'NICHD+DASH', 'Qiita', 'ReframeDB', 'VDJServer', 'MassIVE', 'MalariaGEN', 'Human+Cell+Atlas', 'Figshare', 'biotools']\n"
     ]
    }
   ],
   "source": [
    "script_path = os.getcwd()\n",
    "sourcelistfile = os.path.join(script_path,'data','sourcelist.txt')\n",
    "sample_path = os.path.join(script_path,'data','sample_data')\n",
    "sourcelist = []\n",
    "with open(sourcelistfile,'r') as srcfile:\n",
    "    for line in srcfile:\n",
    "        sourcelist.append(line.strip())\n",
    "\n",
    "print(sourcelist)"
   ]
  },
  {
   "cell_type": "code",
   "execution_count": 17,
   "id": "e7c7c874",
   "metadata": {},
   "outputs": [
    {
     "name": "stdout",
     "output_type": "stream",
     "text": [
      "dict_keys(['@context', '@graph'])\n"
     ]
    }
   ],
   "source": [
    "r = requests.get('https://schema.org/version/latest/schemaorg-current-https.jsonld')\n",
    "latest_schema = json.loads(r.text)\n",
    "print(latest_schema.keys())"
   ]
  },
  {
   "cell_type": "code",
   "execution_count": 5,
   "id": "8abbf04f",
   "metadata": {},
   "outputs": [
    {
     "name": "stdout",
     "output_type": "stream",
     "text": [
      "200\n"
     ]
    },
    {
     "ename": "IndexError",
     "evalue": "list index out of range",
     "output_type": "error",
     "traceback": [
      "\u001b[1;31m---------------------------------------------------------------------------\u001b[0m",
      "\u001b[1;31mIndexError\u001b[0m                                Traceback (most recent call last)",
      "Cell \u001b[1;32mIn[5], line 5\u001b[0m\n\u001b[0;32m      3\u001b[0m \u001b[38;5;28mprint\u001b[39m(r\u001b[38;5;241m.\u001b[39mstatus_code)\n\u001b[0;32m      4\u001b[0m rjson \u001b[38;5;241m=\u001b[39m json\u001b[38;5;241m.\u001b[39mloads(r\u001b[38;5;241m.\u001b[39mtext)\n\u001b[1;32m----> 5\u001b[0m test \u001b[38;5;241m=\u001b[39m \u001b[43mrjson\u001b[49m\u001b[43m[\u001b[49m\u001b[38;5;124;43m'\u001b[39;49m\u001b[38;5;124;43mhits\u001b[39;49m\u001b[38;5;124;43m'\u001b[39;49m\u001b[43m]\u001b[49m\u001b[43m[\u001b[49m\u001b[38;5;241;43m0\u001b[39;49m\u001b[43m]\u001b[49m\n\u001b[0;32m      6\u001b[0m \u001b[38;5;28mprint\u001b[39m(test)\n",
      "\u001b[1;31mIndexError\u001b[0m: list index out of range"
     ]
    }
   ],
   "source": [
    "r = requests.get(\"https://api-staging.data.niaid.nih.gov/v1/query?q=includedInDataCatalog.name:Zenodo\")\n",
    "#r = requests.get(\"https://api-staging.data.niaid.nih.gov/v1/query?q=includedInDataCatalog.name:Zenodo+AND+_exists_:infectiousAgent.name\")\n",
    "print(r.status_code)\n",
    "rjson = json.loads(r.text)\n",
    "test = rjson['hits'][0]\n",
    "print(test)"
   ]
  },
  {
   "cell_type": "code",
   "execution_count": 21,
   "id": "5ebea947",
   "metadata": {},
   "outputs": [
    {
     "name": "stdout",
     "output_type": "stream",
     "text": [
      "None\n"
     ]
    }
   ],
   "source": [
    "print(jsonschema.validate(latest_schema,test))"
   ]
  },
  {
   "cell_type": "code",
   "execution_count": 6,
   "id": "a82126ee",
   "metadata": {},
   "outputs": [],
   "source": [
    "features = ['infectiousAgent.name','species.name','topicCategory.name','measurementTechnique.name',\n",
    "            'citation.pmid','funding.funder.name','citedBy','isBasedOn','isBasisFor','isPartOf',\n",
    "            'hasPart','isRelatedTo','spatialCoverage','temporalCoverage']\n"
   ]
  },
  {
   "cell_type": "code",
   "execution_count": 11,
   "id": "cbdc1202",
   "metadata": {},
   "outputs": [
    {
     "name": "stdout",
     "output_type": "stream",
     "text": [
      "   source               feature  \\\n",
      "0  Zenodo  infectiousAgent.name   \n",
      "1  Zenodo          species.name   \n",
      "\n",
      "                                           query_url  \n",
      "0  https://api-staging.data.niaid.nih.gov/v1/quer...  \n",
      "1  https://api-staging.data.niaid.nih.gov/v1/quer...  \n",
      "   source              feature            _id dumped\n",
      "0  Zenodo   topicCategory.name  zenodo_163968    yes\n",
      "1  Zenodo  funding.funder.name   zenodo_12374    yes\n",
      "CPU times: total: 19.9 s\n",
      "Wall time: 1min 56s\n"
     ]
    }
   ],
   "source": [
    "%%time\n",
    "## Pull records from each source and save the JSON-LD files\n",
    "notfound = []\n",
    "found_ids = []\n",
    "redundant = []\n",
    "for eachsource in sourcelist:\n",
    "    baseurl = f'https://api-staging.data.niaid.nih.gov/v1/query?q=includedInDataCatalog.name:{eachsource}'    \n",
    "    for eachfeature in features:\n",
    "        queryurl = f'{baseurl}+AND+_exists_:{eachfeature}'\n",
    "        filename = f'{eachsource}_{eachfeature}_example.json'\n",
    "        r = requests.get(queryurl)\n",
    "        rjson = json.loads(r.text)\n",
    "        if len(rjson['hits']) > 0:\n",
    "            temp = rjson['hits'][0]\n",
    "            if temp['_id'] in found_ids:\n",
    "                redundant.append({\"source\":eachsource,\"feature\":eachfeature,\"_id\":temp['_id'],\"dumped\":\"no\"})\n",
    "            else:\n",
    "                found_ids.append(temp['_id'])\n",
    "                redundant.append({\"source\":eachsource,\"feature\":eachfeature,\"_id\":temp['_id'],\"dumped\":\"yes\"})\n",
    "                with open(os.path.join(sample_path,filename),'w') as outwrite:\n",
    "                    outwrite.write(json.dumps(temp, indent=4))\n",
    "        else:\n",
    "            notfound.append({\"source\":eachsource,\"feature\":eachfeature,\"query_url\":queryurl})\n",
    "faildf = pd.DataFrame(notfound)\n",
    "redundantdf = pd.DataFrame(redundant)\n",
    "print(faildf.head(n=2))\n",
    "print(redundantdf.head(n=2))"
   ]
  },
  {
   "cell_type": "code",
   "execution_count": 17,
   "id": "16c7b9bf",
   "metadata": {},
   "outputs": [],
   "source": [
    "faildf.to_csv(os.path.join(script_path,'data','sampling_results','no_examples.tsv'),sep='\\t',header=True)\n",
    "redundantdf.to_csv(os.path.join(script_path,'data','sampling_results','sample_info.tsv'),sep='\\t',header=True)"
   ]
  },
  {
   "cell_type": "code",
   "execution_count": null,
   "id": "b8ba4dbe",
   "metadata": {},
   "outputs": [],
   "source": []
  }
 ],
 "metadata": {
  "kernelspec": {
   "display_name": "Python 3 (ipykernel)",
   "language": "python",
   "name": "python3"
  },
  "language_info": {
   "codemirror_mode": {
    "name": "ipython",
    "version": 3
   },
   "file_extension": ".py",
   "mimetype": "text/x-python",
   "name": "python",
   "nbconvert_exporter": "python",
   "pygments_lexer": "ipython3",
   "version": "3.10.10"
  }
 },
 "nbformat": 4,
 "nbformat_minor": 5
}
